{
 "cells": [
  {
   "cell_type": "markdown",
   "metadata": {},
   "source": [
    "# Tasks Assessment\n",
    "\n",
    "This notebook will hold my solutions to the Tasks Assessment for Machine Learning and Statistics 2020.\n",
    "\n",
    "\n",
    "The author is Angela Carpenter\n",
    "\n",
    "# Table of Contents\n",
    "\n",
    "- [Task 1: Calculate the square root of two to 100 decimal places without using any imported module](#task-1)\n",
    "\n",
    "\n",
    "- [Task 2: Chi-squared test for Independence](#task-2)\n",
    "\n",
    "- [Task 3 - not yet released](#task-3)\n",
    "\n",
    "- [Task 4 - not yet released](#task-4)\n",
    "\n",
    "- [References](#references)\n",
    "***"
   ]
  },
  {
   "cell_type": "markdown",
   "metadata": {},
   "source": [
    "### Plan\n",
    "- Some information on the square root of 2 and why this number in particular would be of interest\n",
    "    * irrational numbers cannot be stored\n",
    "    * Tidy up all the theory into one section.\n",
    "- How this would fit in with the machine learning and statistics module and computing\n",
    "    * Binary representation of floats\n",
    "    * Not all numbers can be precisely stored using a computer. Irrational numbers such as the square root of 2 falls into this category\n",
    "- Methods for calculating square roots in general\n",
    "    * method by hand from school days involving making a guess to begin\n",
    "    * Newtons method used for the programming and scripting problem of semester 1\n",
    "- How to print out the 100 decimal places when the usual number printed is 15.\n",
    "    * Using a large multiple of 2 which will print a larger whole number and then extracting the digits from this.\n",
    "   \n",
    "    \n"
   ]
  },
  {
   "cell_type": "markdown",
   "metadata": {},
   "source": [
    "## Task 1\n",
    "Write a Python function called sqrt2 that calculates and prints to the screen the square root of 2 to 100 decimal places. Your code should not depend on any module from the standard library or otherwise. You should research the task first and include references and a description of your algorithm."
   ]
  },
  {
   "cell_type": "markdown",
   "metadata": {},
   "source": [
    "## The square root of two $\\sqrt{2}$\n",
    "In mathematics, a square root of a number $x$ is a number $y$ such that $y2 = x$; in other words, a number $y$ whose square (the result of multiplying the number by itself, or $y⋅y$) is $x$. [1][Wikipedia](https://en.wikipedia.org/wiki/Square_root).\n",
    "The principal square root function $f(x) = \\sqrt{x}$ is a function that maps the set of nonnegative real numbers onto itself. In geometrical terms, the square root function maps the area of a square to its side length.\n",
    "\n",
    "The square root of $x$ is rational if and only if $x$ is a rational number that can be represented as a ratio of two perfect squares.\n",
    "A positive number has two square roots, one positive and one negative which are opposite each other but when talking of the square root of a positive integer it is usually just the positive square root that is meant.\n",
    "The square root of a positive integer is the product of the roots of its prime factors, because the square root of a product is the product of the square roots of the factors.\n",
    "\n",
    "The square roots of perfect squares such as 1, 4, 9 and 16 are integers. In all other cases, the square roots of positive integers are irrational numbers, and therefore have non-repeating digits in any standard positional notation system.\n",
    "\n",
    "The square root of two is the number that when multiplied by itself gives the number two. The length of the diagonal of a square where each side of the square is of length 1 is the square root of the number 2 (Pythagoras theorem).\n",
    "\n",
    "According to [2][Wikipedia](https://en.wikipedia.org/wiki/Square_root_of_2)., the square root of two was probably the first number known to be irrational.\n",
    ">*The square root of 2, or the one-half power of 2, written in mathematics as \n",
    "$2{\\sqrt {2}}$ or $2^{{1/2}}$ is the positive algebraic number that, when multiplied by itself, equals the number 2.*\n",
    ">Technically, it must be called the principal square root of 2, to distinguish it from the negative number with the same property.\n",
    "[2][Wikipedia](https://en.wikipedia.org/wiki/Square_root_of_2).\n",
    "\n",
    "\n",
    "An irrational number is one which cannot be expressed as a ratio of two numbers, i.e. a fraction.\n",
    "Any number that can be expressed as a ratio of two integers, a decimal that either ends or repeats in a recurring manner or a percentage is said to be a rational number. All whole numbers are rational as they can be represented as fractions divided by 1. \n",
    "\n",
    "Greek mathematicians such as Pythagoras had believed that all numbers could be shown to be fractions, believing that the number line was made up entirely of fractions, because for any two fractions we can always find another fraction in between them. Because this process has no end there are infinitely many such points. \n",
    "Hippasus [4][The Maths Book: Big Ideas Simply explained](published by Dorling Kindersley Limited), a Greek scholar is believed to have first identified irrational numbers in the 5th century BCE as he worked on geometrical problems. He applied Pythagoras's theorem which states that the square of the hypothenuse in a triangle is equal to the sum of the squares of the other two sides, to a right-angled triangle with both shorter sides equal to one. Hippasus realised that the length of the hypothesus of such as triangle was equal to the square root of two but that the square root of two could not be expressed as a ratio of two whole numbers, as a fraction. There is no rational number which can be multiplied by itself to give precisely two which means that the square root of two an irrational number. The number two is termed non-square or square free. The numbers 3, 5 and 7 and many others are also non-square with irrational square roots. Numbers such as 4, 9 and 16 are square numbers and do have square roots that are also whole numbers and therefore rational.\n",
    "\n",
    "Another rational number can always be found in between two rational numbers. The average of the two numbers will also be rational. The average of the number and either of the two original numbers will be rational. Irrational numbers can also be found in between any two rational numbers. There are infinite numbers of rational numbers and infinite numbers of irrational numbers but the \n",
    "\n",
    "A real number gives a positive result when squared. The square root of two gives a positive result when squared of 2. An irrational number has an inifinite number of decimals with no recurring pattern. This is the case for the square root of two.  The square root of 2 truncuated to 50 decimal places is 1.41421356237309504880168872420969807856967187537694\n",
    "See (https://en.wikipedia.org/wiki/Square_root).The square root of 2 is a real number that is not rational.\n",
    "\n",
    "The value of the square root of two cannot be determined accurately because it cannot be represented as a fraction in the form a/b where a and b are whole numbers and has an infinite number of decimals.[3][geeksforgeeks](https://www.geeksforgeeks.org/square-root-of-2/)\n",
    "\n",
    "In mathematics, the natural numbers are those used for counting and ordering. Some definitions begin the natural numbers at 0 corresponding to non-negative integers 0,1,2,3... collectively denoted by $\\mathbb{N_0}$  while others start with 1, corresponding to the positive integers 1,2,3,... collectively denoted by $\\mathbb{N_1}$. The natural numbers are the basis from which other number sets are built by extension. Natural numbers are often known as the counting numbers (excluding negative integers and zero) and are discrete numbers in contrast to measuring numbers or real numbers where the values are continuous and represent a distance along a line. Real numbers can be represented as an inifinite decimal expansion.\n",
    "\n",
    "####  Binary representation of integers and floats.\n",
    "In terms of computing, computer programs are made up of binary strings of 1's and 0's. Binary strings can be converted into integers. Every computer program can be converted into one of the counting numbers from the set of $\\mathbb{N}$ . According to Turing, all computer programs are countable which means they can be put into one-to-one correspondance with the natural numbers but Turing also realised that not all numbers can be calculated or computed.[Lectures notes by Ian Mc Loughlin]. The set of $\\mathbb{N}$ Natural numbers are an infinite set but it is the smallest infinite set there is and is known as countable infinite. The set of measuring numbers are all the numbers on the number line that are used for quantifying and measuring things and there is an infinite amount of such numbers between any two discrete points on the number line.\n",
    "\n",
    "A rational number can be expressed as the ratio of 2 whole numbers. It can be stored as an array of two numbers. (A number is rational only if it's decimal expansion becomes periodic).\n",
    "Real numbers such as $\\sqrt{2}$ have an infinite number of places after the decimal point. Computers cannot really store such real numbers as there is only a finite number of bits available to store the number.\n",
    "\n",
    "Floating point numbers are stored on a computer with a finite number of digits so there is a finite limit on how many decimal places they can actually store. Floating point numbers are actually stored using integers in two parts, for the whole number part before the decimal point (the characteristics) and the part of the whole after the decimal point (the mantissa). \n",
    "\n",
    "The square root of two is an irrational number and therefore cannot be expressed in the ratio of two numbers in their most simplified form. Therefore the implications of this for computing is that the square root of two can never be stored.\n",
    "An approximation of its value can be stored though in the same way for the irrational number $pi$. Irrational numbers are often stored as procedures which are used to calculate but not store the number.\n",
    "\n",
    "Caution is always required when calculation statistics or performing analytics on irrational numbers. It is possible to work theoretically or to use approximations but rounding errors could interfere will the calculations.\n",
    "\n",
    "[Chapter 5 of the Python Tutorial](https://docs.python.org/3/tutorial/floatingpoint.html) looks at the issues and limitations associated with floating point arithmetic. It illustrates how the decimal fraction 0.125 and the binary fraction 0.001 have identical values:\n",
    "\n",
    "- Floating-point numbers are represented in computer hardware as base 2 (binary) fractions\n",
    "- The decimal fraction 0.125 has value $\\frac{1}{10}$ + $\\frac{2}{100}$ + $\\frac{5}{1000}$\n",
    "- The binary fraction 0.001 has value $\\frac{0}{2}$ + $\\frac{0}{4}$ + $\\frac{1}{8}$\n",
    "The only real difference here is that the decimal fraction 0.125 is written in base 10 fractional notation while the binary fraction 0.001 above is written in base 2 notation.\n",
    "\n",
    ">Unfortunately, most decimal fractions cannot be represented exactly as binary fractions. A consequence is that, in general, the decimal floating-point numbers you enter are only approximated by the binary floating-point numbers actually stored in the machine.\n",
    "\n",
    "(It demonstrates how the fraction 1/3 can be approximated as a base 10 fraction as  0.3 or 0.33 or 0.333. No matter how many 3's you use the result will never actually be $\\frac[1}{3}$ but it will be increasingly a better approximation of $\\frac[1}{3}$)\n",
    "\n",
    "The decimal value 0.1 cannot be represented exactly as a base 2 fraction because in base 2, $\\frac{1}{10}$ is the infinitely repeating fraction\n",
    "0.0001100110011001100110011001100110011001100110011...\n",
    "If you stop at any  finite number of bits you get an approximation. \n",
    "On most machines today floats are approximated using a binary fraction. \n",
    "- The numerator uses the first 53 bits starting with the most significant bit\n",
    "- The denominator as a power of 2\n",
    "The binary fraction for the decimal 0.1 is `3602879701896397 / 2 ** 55` which is close to the true value of 1/10 but is not exactly equal to the true value of 0.1.\n",
    "We don't notice that this is not the true value and only an approximation because of the way values are displayed. Python (and other languages) only prints *a decimal approximation to the to the true decimal value of the binary approximation stored by the machine* \n",
    "\n",
    "- The true decimal value of the binary approximation stored for 0.1 is actually `0.1000000000000000055511151231257827021181583404541015625`. It is printed as 0.1 though.\n",
    "- Python displays a rounded value instead of all the digits as in most situations this is enough.\n",
    "- The important point is that even though what we see printed (0.01) looks like the exact value of $\\frac{1}{10}$, the actual value that is stored is the nearest representable binary fraction.\n",
    "\n",
    "- The tutorial here also illustrates how there are many different decimal numbers which actually share the same nearest approximate binary fraction. The numbers `0.1`  and `0.10000000000000001` and `0.1000000000000000055511151231257827021181583404541015625` are all approximated by `3602879701896397 / 2 ** 55` . These decimal values all have the same approximation.\n",
    "\n",
    "- String formatting can be used to produce a limited number of significant digits.\n",
    "For example `format(math.pi, '.12g')` gives 12 significant digits while `format(math.pi, '.2f')` gives 2  digits after the point.\n",
    "However this is simply rounding the **display** of the true machine value.\n",
    "\n",
    "See [The Perils of Floating Point](http://www.lahey.com/float.htm)\n",
    "See [str.format](https://docs.python.org/3/library/stdtypes.html#str.format)\n",
    "\n",
    "The errors in Python float operations come from the floating-point hardware. \n",
    ">The errors in Python float operations are inherited from the floating-point hardware, and on most machines are on the order of no more than 1 part in `2**53` per operation. That’s more than adequate for most tasks, but you do need to keep in mind that it’s not decimal arithmetic and that every float operation can suffer a new rounding error. (Chapter 5)\n",
    "\n",
    "**Representation error** refers to the fact that most decimal fractions cannot be represented exactly as binary (base 2) fractions in Python and other languages and therefore won’t display the exact decimal number you expect.\n",
    "- Most machines use IEEE-754 floating point arithmetic.\n",
    "- Almost all platforms map Python floats to IEEE-754 “double precision”.\n",
    "- 754 doubles contain 53 bits of precision. \n",
    "The computer strives to convert 0.1 to the closest fraction that it can of the form $J/2**N$ where J is an integer containing exactly 53 bits.\n",
    "\n",
    "- See [IEEE 754](https://en.wikipedia.org/wiki/IEEE_754) and [IEEE Standard 754 Floating Point Numbers](https://www.geeksforgeeks.org/ieee-standard-754-floating-point-numbers/) article on <geeksforgeeks.com>.\n",
    "- IEEE 754 has 3 basic components:\n",
    "    * The sign of the mantissa where `0` represents a positive number while `1` represents a negative number.\n",
    "    * The biased exponent\n",
    "    * The Normalised Mantissa\n",
    "\n",
    "- The [decimal module](https://docs.python.org/3/library/decimal.html#module-decimal) implements decimal arithmetic suitable for accounting applications and high-precision applications (but not for this task!).\n",
    "- The [fractions module](https://docs.python.org/3/library/fractions.html#module-fractions)  implements arithmetic based on rational numbers (so the numbers like 1/3 can be represented exactly).\n",
    "- NumPy and [scipy](https://scipy.org) packages are recommended for mathematical and statistical operations.\n",
    "- Python also has a [float.as_integer_ratio()](https://docs.python.org/3/library/stdtypes.html#float.as_integer_ratio) method which expresses the value of a float as a fraction. This can help when you want to know the exact value as a float. As the ratio is exact, it can be used to losslessly recreate the original value.\n",
    "\n",
    "\n",
    "\n",
    "   \n",
    "#### Using `float.as_integer_ratio()`.\n",
    "\n",
    "See [float.as_integer_ratio()](https://docs.python.org/3/library/stdtypes.html#float.as_integer_ratio) method which expresses the value of a float as a fraction. This can help when you want to know the exact value as a float. As the ratio is exact, it can be used to losslessly recreate the original value.\n",
    "\n",
    "---\n",
    "\n",
    "\n",
    "\n",
    "Both Python's `math` module and the `numpy` library have a function called `sqrt` for calulating square roots.\n",
    "This task should not use any libraries but they can be used to check the code.\n",
    "`math.sqrt(x)` calculates the square root of whatever is passed in as `x`.\n",
    "This task however is to calculate the square root of the number 2 to 100 decimal places. \n",
    "The square root of a number when multiplied by itself should give the number so here I check that by multiplying the result of `math.sqrt(2)` by `math.sqrt(2)`.\n",
    "\n",
    "The results below of squaring the square root of two returned from both the `math.sqrt` function and the `np.sqrt` function is 2.0000000000000004.  This demonstrates the problem with performing calculations on the irrational number square root of two!\n",
    "\n",
    "\n",
    "- The [decimal module](https://docs.python.org/3/library/decimal.html#module-decimal) implements decimal arithmetic suitable for accounting applications and high-precision applications (but not for this task!).\n",
    "- The [fractions module](https://docs.python.org/3/library/fractions.html#module-fractions)  implements arithmetic based on rational numbers (so the numbers like 1/3 can be represented exactly).\n",
    "- NumPy and [scipy](https://scipy.org) packages are recommended for mathematical and statistical operations.\n",
    "- Python also has a [float.as_integer_ratio()](https://docs.python.org/3/library/stdtypes.html#float.as_integer_ratio) method which expresses the value of a float as a fraction. This can help when you want to know the exact value as a float. As the ratio is exact, it can be used to losslessly recreate the original value.\n",
    "See [float.as_integer_ratio()](https://docs.python.org/3/library/stdtypes.html#float.as_integer_ratio) method which expresses the value of a float as a fraction. This can help when you want to know the exact value as a float. As the ratio is exact, it can be used to losslessly recreate the original value. \n",
    "\n",
    "- The `bin` function can be applied to any integer to get the binary representation of an integer.\n",
    "The `struct` module can be used to get the binary representation of a float.\n",
    "\n",
    "- The built-in [repr](https://docs.python.org/3/library/functions.html#repr) function returns a string containing a printable representation of the object.\n",
    "- See also the [eval](https://docs.python.org/3/library/functions.html#eval) built-in function."
   ]
  },
  {
   "cell_type": "markdown",
   "metadata": {},
   "source": [
    "References\n",
    "Task 1\n",
    "- [1][Wikipedia](https://en.wikipedia.org/wiki/Square_root)\n",
    "- [2][Wikipedia](https://en.wikipedia.org/wiki/Square_root_of_2)\n",
    "- [3][geeksforgeeks](https://www.geeksforgeeks.org/square-root-of-2/)\n",
    "- [4][mathsisfun](https://www.mathsisfun.com/numbers/square-root-2-irrational.html)\n",
    "- [5][The Maths Book: Big Ideas Simply explained](published by Dorling Kindersley Limited)\n",
    "- [6] Lecture Notes from Machine Learning and Statistics, Lecturer Dr. Ian McLoughlin\n",
    "The lecture on data types of this module looked at the binary representation of integers and floats.\n",
    "- [7][Floating Point Arithmetic: Issues and Limitations](https://docs.python.org/3/tutorial/floatingpoint.html) \n",
    "- [8][IEEE 754](https://en.wikipedia.org/wiki/IEEE_754) \n",
    "- [9][IEEE Standard 754 Floating Point Numbers](https://www.geeksforgeeks.org/ieee-standard-754-floating-point-numbers/) article on <geeksforgeeks.com>.\n",
    "- [10][The Perils of Floating Point](http://www.lahey.com/float.htm)\n",
    "- [11][str.format](https://docs.python.org/3/library/stdtypes.html#str.format)\n",
    "- [12][Python `math` module](https://docs.python.org/3/library/math.html?highlight=math#module-math)."
   ]
  },
  {
   "cell_type": "code",
   "execution_count": 233,
   "metadata": {},
   "outputs": [
    {
     "name": "stdout",
     "output_type": "stream",
     "text": [
      "1.4142135623730951\n",
      "2.0000000000000004\n",
      "1.4142135623730951\n",
      "2.0000000000000004\n"
     ]
    },
    {
     "data": {
      "text/plain": [
       "True"
      ]
     },
     "execution_count": 233,
     "metadata": {},
     "output_type": "execute_result"
    }
   ],
   "source": [
    "# import math module\n",
    "import math\n",
    "# using the sqrt function\n",
    "print(math.sqrt(2))\n",
    "print(math.sqrt(2)*math.sqrt(2))\n",
    "import numpy as np\n",
    "print(np.sqrt(2))\n",
    "print(np.sqrt(2)*np.sqrt(2))\n",
    "np.sqrt(2)*np.sqrt(2)==2\n",
    "# just seeing if the numpy and math square roots are the exact same\n",
    "math.sqrt(2) == np.sqrt(2)\n",
    "math.sqrt(2)*math.sqrt(2) == np.sqrt(2)*np.sqrt(2)\n",
    "x = np.sqrt(2)\n",
    "x.as_integer_ratio()"
   ]
  },
  {
   "cell_type": "code",
   "execution_count": 25,
   "metadata": {},
   "outputs": [
    {
     "data": {
      "text/plain": [
       "'0b111110101010101010101010101011'"
      ]
     },
     "execution_count": 25,
     "metadata": {},
     "output_type": "execute_result"
    }
   ],
   "source": [
    "import struct\n",
    "f = 1/3\n",
    "bin(struct.unpack('!i',struct.pack('!f', f))[0])"
   ]
  },
  {
   "cell_type": "code",
   "execution_count": 29,
   "metadata": {},
   "outputs": [
    {
     "data": {
      "text/plain": [
       "'0b111101110011001100110011001101'"
      ]
     },
     "execution_count": 29,
     "metadata": {},
     "output_type": "execute_result"
    }
   ],
   "source": [
    "f = 0.1\n",
    "bin(struct.unpack('!i',struct.pack('!f', f))[0])\n"
   ]
  },
  {
   "cell_type": "code",
   "execution_count": 9,
   "metadata": {},
   "outputs": [
    {
     "data": {
      "text/plain": [
       "Decimal('1.4142135623730951454746218587388284504413604736328125')"
      ]
     },
     "execution_count": 9,
     "metadata": {},
     "output_type": "execute_result"
    }
   ],
   "source": [
    "from decimal import *\n",
    "getcontext().prec = 28\n",
    "Decimal(math.sqrt(2)) "
   ]
  },
  {
   "cell_type": "code",
   "execution_count": 10,
   "metadata": {},
   "outputs": [
    {
     "data": {
      "text/plain": [
       "True"
      ]
     },
     "execution_count": 10,
     "metadata": {},
     "output_type": "execute_result"
    }
   ],
   "source": [
    "#1.4142135623730951454746218587388284504413604736328125\n",
    "num = 1.4142135623730951454746218587388284504413604736328125\n",
    "squared =num*num\n",
    "math.sqrt(squared)==num"
   ]
  },
  {
   "cell_type": "code",
   "execution_count": 4,
   "metadata": {},
   "outputs": [
    {
     "name": "stdout",
     "output_type": "stream",
     "text": [
      "True\n",
      "36028797018963968\n",
      "0.1\n",
      "True\n"
     ]
    }
   ],
   "source": [
    "x = 0.1000000000000000055511151231257827021181583404541015625\n",
    "print(eval(repr(x)) == x)\n",
    "# 2 to the power of 55\n",
    "print(2**55)\n",
    "# True\n",
    "print(3602879701896397/ (2**55))\n",
    "print((3602879701896397/ (2**55)) == 0.1)"
   ]
  },
  {
   "cell_type": "markdown",
   "metadata": {},
   "source": [
    "## Methods for Calculating square roots\n",
    "Finding the square root of a number is the inverse of finding the square of a number. The square of a number is the number times itself. The perfect squares are the squares of the whole numbers. The square root of a number is the number that when multiplied by itself gives the number.\n",
    "\n",
    ">*The square roots of the perfect squares (e.g., 0, 1, 4, 9, 16) are integers. In all other cases, the square roots of positive integers are irrational numbers, and hence have non-repeating decimals in their decimal representations.* [2]  <https://en.wikipedia.org/wiki/Square_root>\n",
    "\n",
    "\n",
    "Getting the square root of numbers that are not perfect squares is not as straightforward.\n",
    "You have to look at the square roots of perfect squares that are close to your number in question. So if you are looking at the square root of 5 you would consider the square root of 4 (which is 2) and 9 (which is 3). Therefore the square root of 5 must lie between 2 and 3. Similarly for the square root of 10, look at the square root of the perfect square 9 (which is 3) and 16 (which is 4). So the square root of 10 must lie between 3 and 4.\n",
    "Looking at the square roots of the nearest perfect squares on either side of the number in question will be the starting point for finding the square root of a non-perfect square. It involves some guesswork.\n",
    "\n",
    "- [Newton's Method](https://en.wikipedia.org/wiki/Newton%27s_method)\n",
    "- [Why does Newton's Method work?](https://math.stackexchange.com/questions/350740/why-does-newtons-method-work)\n",
    "- [Newton's Method](https://mathinsight.org/newtons_method_refresher)\n",
    "- [Roots Optimisation](https://www.math.ubc.ca/~pwalls/math-python/roots-optimization/newton/)\n",
    "\n",
    "Newtons Method can be used to get an estimate of the square root of a number. \n",
    "Using Newtons Method, regardless of the starting estimate, once the square of the estimate gets close enough to the actual number itself, then that is a good approximation for the square root. An initial estimate is used for the square root."
   ]
  },
  {
   "cell_type": "markdown",
   "metadata": {},
   "source": [
    "#### Newtons method\n",
    "Here is code using Newton's Method adapted from the example in the Tour of Go tutorial."
   ]
  },
  {
   "cell_type": "code",
   "execution_count": 204,
   "metadata": {},
   "outputs": [
    {
     "name": "stdout",
     "output_type": "stream",
     "text": [
      "1.5\n",
      "1.4166666666666667\n",
      "1.4142156862745099\n",
      "1.4142135623746899\n"
     ]
    },
    {
     "data": {
      "text/plain": [
       "1.4142135623746899"
      ]
     },
     "execution_count": 204,
     "metadata": {},
     "output_type": "execute_result"
    }
   ],
   "source": [
    "# The code here using Newtons Method is adapted from  https://tour.golang.org/flowcomtrol/8\n",
    "x= 2\n",
    "guess = 1\n",
    "# while the absolute difference between the guess squared and the number in question is greater than 0.01\n",
    "while abs((guess * guess) - x )> 0.000000001:\n",
    "        # update the guess using the formula \n",
    "    guess -=((guess * guess)-x)/(2 * guess) \n",
    "    print(guess)\n",
    "    # the approximation for the square root will be the final value of estimate from the  while loop\n",
    " # assign the final estimate to sqroot   \n",
    "sqroot = guess  \n",
    "sqroot"
   ]
  },
  {
   "cell_type": "markdown",
   "metadata": {},
   "source": [
    "### Putting Newtons code in a function. \n",
    "Here I am back looking at Newton's code but bringing the string formatting and extraction into it to get the extra digits. This is not working in the same way as the other function I used below. It also produces a different answer after the 15th decimal place. Its actually larger than the other school method I was using below rather than smaller. I could get more than 100 places with the other way. This way the computer hangs if I try using a number larger than 2 times 10 to the power of 150."
   ]
  },
  {
   "cell_type": "code",
   "execution_count": 5,
   "metadata": {},
   "outputs": [
    {
     "name": "stdout",
     "output_type": "stream",
     "text": [
      "The estimate square root is 3.0\n"
     ]
    },
    {
     "data": {
      "text/plain": [
       "'1.'"
      ]
     },
     "execution_count": 5,
     "metadata": {},
     "output_type": "execute_result"
    }
   ],
   "source": [
    "def newt_sqrt(Num):\n",
    "    # can take the first estimate to be the number itself\n",
    "    Est = Num\n",
    "    # repeat this until the difference between the Estimate Squared minus the number is small enough\n",
    "    while abs(Est*Est - Num) > 0.0000000000001:\n",
    "        # Update the new estimate to be the current estimate minus the Number\n",
    "        # Est = Est - (Est**2 - Num)/(2*Est)\n",
    "        Est -= ((Est*Est)- Num)/ (2 * Est)\n",
    "    # formatting the estimate to get the first 100 digits using fstrings and string extraction \n",
    "    result = f\"The estimate square root is {Est}\"\n",
    "    print(result)\n",
    "    format_Est =format(Est,'.100g')[1:90]  \n",
    "    return ('1'+'.'+format_Est)\n",
    "\n",
    "   \n",
    "newt_sqrt(9)"
   ]
  },
  {
   "cell_type": "code",
   "execution_count": 59,
   "metadata": {},
   "outputs": [
    {
     "name": "stdout",
     "output_type": "stream",
     "text": [
      "The estimate square root is 1.414213562373095e+75\n",
      "1.414213562373095065861871032235316220382455390571766043858573365901411745792\n",
      "77\n"
     ]
    }
   ],
   "source": [
    "#print(newt_sqrt(9))\n",
    "\n",
    "ans1 = newt_sqrt(2*10**150)\n",
    "print(ans1)\n",
    "print(len(ans1))"
   ]
  },
  {
   "cell_type": "markdown",
   "metadata": {},
   "source": [
    "#### Calculate the square root of number using Babylonian method\n",
    "There are several websites which show how to get the square roots of numbers by hand as we do in school.\n",
    "Finding the square root of a number that is not a whole number begins with some guesswork. Begin by looking at the nearest perfect squares on both sides of the number. \n",
    "\n",
    "- https://en.wikipedia.org/wiki/Square_root\n",
    "\n",
    "- https://www.homeschoolmath.net/teaching/square-root-algorithm.php\n",
    "\n",
    "- http://www.math.com/school/subject1/lessons/S1U1L9DP.html\n",
    "\n",
    "The post here at https://blogs.sas.com/content/iml/2016/05/18/newtons-method-babylonian-square-root.html explains simply how the algorithm taught in school for calculating the estimating a square root from an arbitrary guess is an iterative procedure. Given any positive number $S$ and any positive number $x_0$, apply the following formula:\n",
    "$$x_{n+1} = \\frac{(x_n + S/x_n)}{2}$$ until the iteration converges to the square root of $S$.\n",
    " \n",
    "\n",
    "The same author has a post on the [Babylonian method for finding square roots by hand](https://blogs.sas.com/content/iml/2016/05/16/babylonian-square-roots.html). (This seems to be the way I was trying to work out below.)\n",
    "Suppose you are given any positive number $S$. To find it's square root do the following:\n",
    "1. Make an initial guess. This guess can be any positive number. This is $x_0$\n",
    "2. Improve the guess by applying the formula $x_1 = \\frac{(x_0 + \\frac{S}{x_0})}{2}$.\n",
    "   The number $x_1$ is a better approximation to the square root of $S$.\n",
    "3. Iterate until convergence. \n",
    "   Apply the formula $x_{n+1}=\\frac{(x_n+\\frac{S}{x_n})}{2}$ until the process converges.\n",
    "\n",
    "    * Convergence is achieved when the  digits of $x_{n+1}$ and $x_n$ agree to as many decimal places as you desire.\n",
    "\n",
    "Make a guess of what the root of the number in question could be based on the square root of the nearest perfect squares on either side.  Add the result of this to the number and question and divide by two to get the average as the new starting guess. Keep repeating.\n",
    "\n",
    "#### Example on square root of 10\n",
    "1. Find two perfect square roots that the number in question lies between. \n",
    "    * For example if you want to find the square root of 10, you are looking at the square root of 9 which is 3 and square root of 16 which is 4.\n",
    "2. Take one of those square roots as an estimate and divide the number in question by it.\n",
    "    * S = 10\n",
    "    * The square root of 10 must lie between 3 and 4\n",
    "    * Taking 3 here as the estimate $x_0=3$\n",
    "    * Divide number in question by the starting estimate S/x0 = 10/3 = 3.3333 = X1\n",
    "    \n",
    " \n",
    "3. Take the average of the latest estimate x1 (3.3333) and S (from the previous step above) and the Number.\n",
    "    *  The average of the number 3 and the starting estimate x0 becomes the next estimate  x1\n",
    "\n",
    "    * x1 = (x0 +S/x0)/2 = (3 + 10/3)/2 = 3.16666667\n",
    "    * x2 =  (x1 + S/x1)/2 = 3.162280686800554 \n",
    "    * x3 = (x2 + S/x2)/2 = (3.162280686800554 +10/3.162280686800554)/2 = 3.1622776601698277\n",
    "    * x4 = (x3+ S/x3)/2 = (3.1622776601698277 + 10/3.1622776601698277)/2 = 3.162277660168379\n",
    "    * x5 = (x4 + S/x4)/2 = (3.162277660168379 + 10/3.162277660168379)/2 = 3.162277660168379\n",
    "    \n",
    "    `math.sqrt(10)` gives 3.1622776601683795 \n",
    "    \n",
    "#### Example of square root of 2\n",
    "\n",
    "1. Find two perfect square roots that the number in question lies between. \n",
    " \n",
    "2. Take one of those square roots as an estimate and divide the number in question by it.\n",
    "    * S = 2\n",
    "    * The square root of 2 must lie between 1 and 2\n",
    "    * Taking 1 here as the estimate $x_0=1$\n",
    "    * Divide number in question by the starting estimate S/x0 = 2/1 = 2 = X1\n",
    "    \n",
    " \n",
    "3. Take the average of the latest estimate x1 (2) and S (from the previous step above) and the Number.\n",
    "\n",
    "    * x1 = (x0 +S/x0)/2 = (2 + 2/1)/2 = 2\n",
    "    * x2 = (x1 + S/x1)/2 = (2 + 2/2)/2 =1.5\n",
    "    * x3 = (x2 + S/x2)/2 = (1.5 + 2/1.5)/2 = 1.4166666666666665\n",
    "    * x4 = (x3 + S/x3)/2 = (1.4166666666666665 + 2/1.4166666666666665)/2 = 1.4142156862745097\n",
    "    * x5 = (x4 + S/x4)/2 = (1.4142156862745097 + 2/1.4142156862745097)/2 = 1.4142135623746899\n",
    "    * x6 = (x5 + S/x5)/2 = (1.4142135623746899 + 2/1.4142135623746899)/2 = 1.414213562373095\n",
    "    * x7 = (x6 + S/x6)/2 = (1.414213562373095 + 2/1.414213562373095)/2   = 1.414213562373095\n",
    "    * x8 = (x7 + S/x7)/2 = (1.414213562373095 + 2/1.414213562373095)/2   = 1.414213562373095\n",
    "    `math.sqrt(10)` gives 3.1622776601683795 \n",
    "\n",
    "As the illustration shows here, once you get to the 5th iteration, the result is truncuated or rounded. (which?)\n",
    "- The square root of 2 truncuated to 50 decimal places is 1.41421356237309504880168872420969807856967187537694\n",
    "See (https://en.wikipedia.org/wiki/Square_root).\n"
   ]
  },
  {
   "cell_type": "code",
   "execution_count": 26,
   "metadata": {},
   "outputs": [
    {
     "name": "stdout",
     "output_type": "stream",
     "text": [
      "1.4142156862745097\n",
      "1.4142135623746899\n",
      "1.414213562373095\n",
      "1.414213562373095\n",
      "1.414213562373095\n"
     ]
    }
   ],
   "source": [
    "#print(f\"{(3.16666667 + (10/3.1666667))/2}\")\n",
    "#print(f\"{(3.162280686800554 +10/3.162280686800554)/2}\")\n",
    "#print(f\"{(3.1622776601698277 + 10/3.1622776601698277)/2}\")\n",
    "#print(f\"{(3.162277660168379 + 10/3.162277660168379)/2 }\")\n",
    "\n",
    "print(f\"{(1.4166666666666665 + 2/1.4166666666666665)/2}\")\n",
    "print(f\"{(1.4142156862745097 + 2/1.4142156862745097)/2}\")\n",
    "print(f\"{(1.4142135623746899 + 2/1.4142135623746899)/2}\")\n",
    "print(f\"{(1.414213562373095 + 2/1.414213562373095)/2}\")\n",
    "print(f\"{(1.414213562373095 + 2/1.414213562373095)/2}\")\n",
    "# and on until you get the required accuracy"
   ]
  },
  {
   "cell_type": "code",
   "execution_count": 68,
   "metadata": {},
   "outputs": [
    {
     "data": {
      "text/plain": [
       "3.1622776601683795"
      ]
     },
     "execution_count": 68,
     "metadata": {},
     "output_type": "execute_result"
    }
   ],
   "source": [
    "import math\n",
    "math.sqrt(10)"
   ]
  },
  {
   "cell_type": "markdown",
   "metadata": {},
   "source": [
    "### Applying the above to get the square root of 2.\n",
    "Here I am putting the above algorithm outlined in the [blog post] (https://blogs.sas.com/content/iml/2016/05/18/newtons-method-babylonian-square-root.html )into code using the same notation where $S$ represents the number to get the square root of and $x$ being the changing estimates.\n",
    "($x_n$, $x_0$, $x_1$, $x_{n+1}$ for the estimates at each step.)\n",
    "I use a while loop here so the value of the estimate $x$ will be updated at each iteration, representing the $X_n$ and $x_{n+1}$ estimates"
   ]
  },
  {
   "cell_type": "code",
   "execution_count": 77,
   "metadata": {},
   "outputs": [
    {
     "name": "stdout",
     "output_type": "stream",
     "text": [
      "1.414213562373095\n"
     ]
    }
   ],
   "source": [
    "# define the function\n",
    "def sqrt2(S):\n",
    "    \"\"\"\n",
    "    takes  one input which is the number to calculate the square root of\n",
    "    could also take the \n",
    "    \n",
    "    \"\"\"\n",
    "    S = 2  \n",
    "    x = 1\n",
    " \n",
    "    while abs(S -(x * x)) > 0.000000000000001:\n",
    "        x= (x + S/x)/2\n",
    "        \n",
    "    return(x)\n",
    "       \n",
    "print(sqrt2(2))   "
   ]
  },
  {
   "cell_type": "code",
   "execution_count": 65,
   "metadata": {},
   "outputs": [
    {
     "name": "stdout",
     "output_type": "stream",
     "text": [
      "200000000000000000000000000000000000000000000000000000000000000000000000000000000000000000000000000000000000000000000000000000000000000000000000000000000000000000000000000000000000000000000000000000000\n"
     ]
    },
    {
     "data": {
      "text/plain": [
       "201"
      ]
     },
     "execution_count": 65,
     "metadata": {},
     "output_type": "execute_result"
    }
   ],
   "source": [
    "print(2*(10**200))\n",
    "len(str(10**200))"
   ]
  },
  {
   "cell_type": "code",
   "execution_count": 48,
   "metadata": {},
   "outputs": [
    {
     "data": {
      "text/plain": [
       "9223372036854775807"
      ]
     },
     "execution_count": 48,
     "metadata": {},
     "output_type": "execute_result"
    }
   ],
   "source": [
    "import sys\n",
    "sys.maxsize"
   ]
  },
  {
   "cell_type": "markdown",
   "metadata": {},
   "source": [
    "### Rounding / Accuracy etc\n",
    "\n",
    "At some stage the results gets rounded and this is the main issue as outlined earlier when dealing with real numbers. Wikipedia records the square root of 2 to 50 decimal places as `1.41421356237309504880168872420969807856967187537694`\n",
    "Numpy's `sqrt` function returns the same answer as my function above to 15 decimal places. The square root of 2 using `np.sqrt` to 50 decimal places is 1.41421356237309514547462185873882845044136047363281 which differs from that recorded at Wikipedia.\n",
    "\n",
    "While the algorithm itself will calculate approximately the square root of two (accurate to 15 digits at least), it will not print out 100 decimal places so easily. The number before the decimal point cannot be rounded though so I decided to try using a large multiple of 2. In the same way that the square root of 4 is 2, square root of 400 is 20, (or square root of 9 is 3 and the square root of 900 is 30). \n",
    "- The square root of 4 times 100 (400) is the same as 100 times the sqaure root of 4.\n",
    "- The square root of 900 is the same as 100 times the square root of 9.\n",
    "\n",
    "- The[Python docs section on on floating points numbers.](https://docs.python.org/3/tutorial/floatingpoint.html) \n",
    ">Unfortunately, most decimal fractions cannot be represented exactly as binary fractions. A consequence is that, in general, the decimal floating-point numbers you enter are only approximated by the binary floating-point numbers actually stored in the machine.\n",
    "\n",
    "- According to the Python Docs section on [numeric types](https://docs.python.org/3/library/stdtypes.html#numeric-types-int-float-complex) integers have unlimited precision.\n",
    "Therefore an alternative way to solve this task would be to use a very large integer which is a multiple of 100 times 2, get the square root of that multiple and then divide the result by the multiple used. This would give the digits of the square root of two but with the decimal point in the wrong place.\n",
    "\n",
    "(The power of two is the opposite of getting the square root. The `**` operator can be used to get powers in Python). \n",
    "- Ten to the power of 100 has 100 zeros after the 1.\n",
    "- Ten to the power of 200 has 200 zeros after the 1.\n",
    "\n",
    "- 2 by 10 to the power of 200 is \"200000000000000000000000000000000000000000000000000000000000000000000000000000000000000000000000000000000000000000000000000000000000000000000000000000000000000000000000000000000000000000000000000000000\"\n",
    "\n",
    "The length function can be applied to the number after it is converted to a string. \n",
    "- Some string manipulation can be applied to the string to extract the digits excluding the `e+200` and place a `.` where needed.\n"
   ]
  },
  {
   "cell_type": "code",
   "execution_count": 78,
   "metadata": {},
   "outputs": [
    {
     "name": "stdout",
     "output_type": "stream",
     "text": [
      "1.414213562373095e-200\n"
     ]
    }
   ],
   "source": [
    "# define the function\n",
    "def sqrt2(S):\n",
    "    \"\"\"\n",
    "    takes  one input which is the number to calculate the square root of\n",
    "    could also take the \n",
    "    \n",
    "    \"\"\"\n",
    "    S = 2  #* 10**200\n",
    "    x = 1\n",
    " \n",
    "    while abs(S -(x * x)) > 0.000000000000001:\n",
    "        x= (x + S/x)/2\n",
    "        \n",
    "    return(x)\n",
    "# divide the result by 10 to power of 200        \n",
    "print(sqrt2(2)/10**200)  "
   ]
  },
  {
   "cell_type": "markdown",
   "metadata": {},
   "source": [
    "#### Modifying the function above\n",
    "When I apply my function above to this number it returns the result in scientific notation which is not what I want as I need the actual digits to print out for this task. Below I use some formatting and string manipulation. "
   ]
  },
  {
   "cell_type": "code",
   "execution_count": 121,
   "metadata": {},
   "outputs": [
    {
     "name": "stdout",
     "output_type": "stream",
     "text": [
      "\n",
      "The square root of two is: \n",
      "1.414213562373095027142412563281858698349164881791987548177900388860130684271654303022821004349852877\n"
     ]
    }
   ],
   "source": [
    "# define the function\n",
    "def sqrt2():\n",
    "    \"\"\"\n",
    "    takes  one input which is the number to calculate the square root of\n",
    "    \n",
    "    \"\"\"\n",
    "    S = 2 # This is the number we want to get the square root of\n",
    "    \n",
    "    S = S*(10**200) # 2 by 10 to power of 200\n",
    "\n",
    "    x = S\n",
    "   \n",
    "    # while the difference between the number and the square of the guess is greater than 0\n",
    "    while abs(S -(x *x)) > 0.000000000000001:\n",
    "        x= (x + S/x)/2\n",
    "        \n",
    "    #return(x)\n",
    "\n",
    "    #print(\"The square root of 2 by 10e+200 is:\\n \",x)\n",
    "    \n",
    "    \n",
    "    format_est =format(x,'.100g')\n",
    "    # extract the first 100 digits\n",
    "    \n",
    "    sqrtoftwo =format_est[0:101]\n",
    "    sqrtoftwo = sqrtoftwo[0:101]\n",
    "    print(f\"\\nThe square root of two is: \\n{sqrtoftwo}\")\n",
    "\n",
    "\n",
    "sqrt2()\n"
   ]
  },
  {
   "cell_type": "markdown",
   "metadata": {},
   "source": [
    "### Testing the output from the function\n",
    "Here I will use the Python `math.sqrt` function to test the output of my function to see if the logic would apply in the same way and produce the same result. The results do appear to be the same. However the results differ from what Wikipedia shows after the 15th decimal place. Perhaps this is to do with conversion from one type to another. \n"
   ]
  },
  {
   "cell_type": "code",
   "execution_count": 123,
   "metadata": {},
   "outputs": [
    {
     "name": "stdout",
     "output_type": "stream",
     "text": [
      " The square root of two using the math.sqrt function is \n",
      "1.41421356237309502714241256328185869834916488179198754817790038886013068427165430302282100434985287\n",
      "\n",
      "The square root of two is: \n",
      "1.414213562373095027142412563281858698349164881791987548177900388860130684271654303022821004349852877\n",
      "The square root of two using my function sqrt2() is \n",
      "None\n"
     ]
    }
   ],
   "source": [
    "import math\n",
    "math_root2 = math.sqrt(2*(10**200))\n",
    "#print(\" The square root of two using the math.sqrt function is \\n{:.100g}\".format(math_root2))\n",
    "m_sqrt2 = format(math_root2,'.100g')[0:100]\n",
    "print(f\" The square root of two using the math.sqrt function is \\n{m_sqrt2}\")\n",
    "print(f\"The square root of two using my function sqrt2() is \\n{sqrt2()}\")"
   ]
  },
  {
   "cell_type": "markdown",
   "metadata": {},
   "source": [
    "A further bit of research found this function from [geeksforgeeks.com](https://www.geeksforgeeks.org/square-root-of-an-integer/?ref=rp)\n",
    "The author notes that the value of the square root of two cannot be determined accurately because it cannot be represented as a fraction in the form ${a}{b}$ where $a$ and $b$ are whole numbers and has an infinite number of decimals.\n",
    "This code uses integer division. Integer division would not work in my function as it returns\n",
    "If I apply this function to get the square root of two it returns 1. But if I apply it to a very large multiple of two as I outlined above the digits do match those from Wikipedia.\n",
    "However while the first 50 digits returned for the square root of the very large integer 2e+200 are the same as the those from wikipedia (first 50), when I do the conversion into a string I actually get the same result as from my own function. This would indicate that my solution might actually be producing the correct answer.\n"
   ]
  },
  {
   "cell_type": "code",
   "execution_count": 5,
   "metadata": {},
   "outputs": [
    {
     "name": "stdout",
     "output_type": "stream",
     "text": [
      "The floor square root of 2 is \n",
      "1\n",
      "The floor square root of 2e200 is \n",
      "14142135623730950488016887242096980785696718753769480731766797379907324784621070388503875343276415727\n",
      "\n",
      "The square root of two after formatting is: \n",
      "1.414213562373095027142412563281858698349164881791987548177900388860130684271654303022821004349852877\n"
     ]
    }
   ],
   "source": [
    "# Python 3 program to find floor(sqrt(x) from geeksforgeeks.com     \n",
    "# This code is contributed by Nikita Tiwari. \n",
    "  \n",
    "# Returns floor of square root of x          \n",
    "def floorSqrt(x) : \n",
    "  \n",
    "    # Base cases \n",
    "    if (x == 0 or x == 1) : \n",
    "        return x \n",
    "   \n",
    "    # Do Binary Search for floor(sqrt(x)) \n",
    "    start = 1\n",
    "    end = x    \n",
    "    while (start <= end) : \n",
    "        mid = (start + end) // 2\n",
    "          \n",
    "        # If x is a perfect square \n",
    "        if (mid*mid == x) : \n",
    "            return mid \n",
    "              \n",
    "        # Since we need floor, we update  \n",
    "        # answer when mid*mid is smaller \n",
    "        # than x, and move closer to sqrt(x) \n",
    "        if (mid * mid < x) : \n",
    "            start = mid + 1\n",
    "            ans = mid \n",
    "              \n",
    "        else : \n",
    "              \n",
    "            # If mid*mid is greater than x \n",
    "            end = mid-1\n",
    "              \n",
    "    return ans \n",
    "  \n",
    "\n",
    "x = 2 * 10**200\n",
    "# applying the function to 2 will give 1 due to the integer division method\n",
    "print(f\"The floor square root of 2 is \\n{floorSqrt(2)}\")\n",
    "# applying the function to 2e200 will give the correct digits\n",
    "print(f\"The floor square root of 2e200 is \\n{floorSqrt(x)}\") \n",
    "\n",
    "# save the squareroot of 2e200 to a variable to apply formatting\n",
    "floorsqrt2e200 = floorSqrt(x)\n",
    "format_floorsqrt2e200 =format(floorsqrt2e200,'.100g')\n",
    "\n",
    "formatfloorsqrt2 = format_floorsqrt2e200[0:101]\n",
    "print(f\"\\nThe square root of two after formatting is: \\n{formatfloorsqrt2}\")\n",
    "\n",
    "# Using string formatting and manipulation to get the digits"
   ]
  },
  {
   "cell_type": "markdown",
   "metadata": {},
   "source": [
    "This post [10,000 digits of Square Root of 2](https://nerdparadise.com/math/reference/2sqrt10000) on nerdparadise.com has the digits of the square root of 2 to 10,1000 places:\n",
    "1.\n",
    "4142135623 7309504880 1688724209 6980785696 7187537694 8073176679 7379907324 7846210703 8850387534 3276415727 \n",
    "\n",
    "These are the results of the `floorSqrt` function beloq from Geeksforgeeks.com\n",
    "\n",
    "14142135623 7309504880 1688724209 6980785696 7187537694 8073176679 7379907324 7846210703 8850387534 3276415727\n",
    "\n",
    "If the string conversion that the floorSqrt function produces gives the same answer as my `sqrt2` function then who is to say it is not accurate!"
   ]
  },
  {
   "cell_type": "code",
   "execution_count": 6,
   "metadata": {},
   "outputs": [
    {
     "name": "stdout",
     "output_type": "stream",
     "text": [
      "\n",
      "The square root of two is: \n",
      "1.414213562373095027142412563281858698349164881791987548177900388860130684271654303022821004349852877\n"
     ]
    }
   ],
   "source": [
    "# define the function\n",
    "def sqrte200():\n",
    "    \"\"\"\n",
    "    takes  one input which is the number to calculate the square root of\n",
    "    \n",
    "    \"\"\"\n",
    "    S = 2 # This is the number we want to get the square root of\n",
    "    \n",
    "    S = S*(10**200) # 2 by 10 to power of 200\n",
    "\n",
    "    x = S\n",
    "   \n",
    "    # while the difference between the number and the square of the guess is greater than 0\n",
    "    while abs(S -(x *x)) > 0.000000000000001:\n",
    "        x= (x + S/x)/2\n",
    "        \n",
    "    #return(x)\n",
    "\n",
    "    #print(\"The square root of 2 by 10e+200 is:\\n \",x)\n",
    "    \n",
    "    \n",
    "    format_est =format(x,'.100g')\n",
    "    # extract the first 100 digits\n",
    "    \n",
    "    sqrtoftwo =format_est[0:101]\n",
    "    sqrtoftwo = sqrtoftwo[0:101]\n",
    "    print(f\"\\nThe square root of two is: \\n{sqrtoftwo}\")\n",
    "\n",
    "\n",
    "sqrte200()"
   ]
  },
  {
   "cell_type": "markdown",
   "metadata": {},
   "source": [
    "#### Some notes on the Square root of 2 task.\n",
    "- Instead of hardcoding in the precision amount, I could pass it as a parameter. This would help with testing it as I could change the precision to see how the results change. At the moment if I change it my system hangs.\n",
    "- Converting from one format to another, from a float to a string might not actually be returning the exact answer. \n",
    " \n",
    "- My function applied to the square root of 2 is not calculating the correct number compared to Wikipedia. It is rounding down after the first 15 digits. Then again `numpy.sqrt` and `math.sqrt` does the same and match to my result.\n",
    "- My function applied to the square root of 2e+200 should be producing an accurate result, except that when it prints in scientific notation I cannot see it. \n",
    "\n",
    "- This task illustrates the problems with accuracy to high levels of precision and how when converting between types you won't always get what you expect. The lecture on data types and numbers highlighted that there are some irrational numbers that simply cannot be stored on a computer. Procedures can be written to produce the value when needed though. The article from the Python tutorial on the problems with floating point numbers showed an example of how there are many different decimal numbers which actually share the same nearest approximate binary fraction. It demonstrated how the numbers 0.1 and 0.10000000000000001 and 0.1000000000000000055511151231257827021181583404541015625 are all approximated by 3602879701896397 / 2 ** 55.\n",
    "- I will come back to this again and try and get my function to print out the answer in non-scientific notation and avoid converting from from integers into strings. For now I leave it as next task is out!\n"
   ]
  },
  {
   "cell_type": "markdown",
   "metadata": {},
   "source": [
    "---\n",
    "# Task 2 \n",
    "The Chi-squared test for independence is a statistical hypothesis test like a t-test. It is used to analyse whether two categorical variables are independent. The Wikipedia article gives the table below as an example [4], stating the Chi-squared value based on it is approximately 24.6. Use scipy.stats to verify this value and calculate the associated p value. You should include a short note with references justifying your analysis in a markdown cell.\n",
    "\n",
    "|   | A | B | C | D | Total|\n",
    "| -- | -- | -- | -- | -- | -- |\n",
    "|White Collar|90 | 60 | 104 | 95 | 349 |\n",
    "|Blue Collar |30 |50 |51|20|151\n",
    "|No Collar |30 |40|45|35|150\n",
    "|Total|150 |150|200|150 |650|\n",
    "\n",
    "- [https://en.wikipedia.org/w/index.php?title=Chi-squaredtest&oldid=983024096](https://en.wikipedia.org/w/index.php?title=Chi-squaredtest&oldid=983024096)"
   ]
  },
  {
   "cell_type": "markdown",
   "metadata": {},
   "source": [
    "### Extract from Wikipedia Article in question:\n",
    "Here is an extract from the article in question on the [Chi-squared test](https://en.wikipedia.org/wiki/Chi-squared_test) on Wikipedia from which the above table is taken. \n",
    "\n",
    ">A chi-squared test, also written as $\\chi^2$ test, is a statistical hypothesis test that is valid to perform when the test statistic is chi-squared distributed under the null hypothesis, specifically Pearson's chi-squared test and variants thereof. Pearson's chi-squared test is used to determine whether there is a statistically significant difference between the expected frequencies and the observed frequencies in one or more categories of a contingency table.\n",
    "In the standard applications of this test, the observations are classified into mutually exclusive classes. If the null hypothesis that there are no differences between the classes in the population is true, the test statistic computed from the observations follows a $\\chi^2$ frequency distribution. The purpose of the test is to evaluate how likely the observed frequencies would be assuming the null hypothesis is true.\n",
    "Test statistics that follow a $\\chi^2$ distribution occur when the observations are independent and normally distributed, which assumptions are often justified under the central limit theorem. There are also $\\chi^2$ tests for testing the null hypothesis of independence of a pair of random variables based on observations of the pairs.\n",
    "Chi-squared tests often refers to tests for which the distribution of the test statistic approaches the $\\chi^2$ distribution asymptotically, meaning that the sampling distribution (if the null hypothesis is true) of the test statistic approximates a chi-squared distribution more and more closely as sample sizes increase.\n",
    "\n",
    "### Example chi-squared test for categorical data (extract from same Wikipedia article as above)\n",
    ">Suppose there is a city of 1,000,000 residents with four neighborhoods: A, B, C, and D. A random sample of 650 residents of the city is taken and their occupation is recorded as \"white collar\", \"blue collar\", or \"no collar\". The null hypothesis is that each person's neighborhood of residence is independent of the person's occupational classification. The data are tabulated as:\n",
    "Let us take the sample living in neighborhood A, 150, to estimate what proportion of the whole 1,000,000 live in neighborhood A. Similarly we take $\\frac{349}{650}$ to estimate what proportion of the 1,000,000 are white-collar workers. By the assumption of independence under the hypothesis we should \"expect\" the number of white-collar workers in neighborhood A to be:\n",
    "$$150 x \\frac{349}{650}\\approx80.54$$\n",
    "Then in that \"cell\" of the table, we have $\\frac{(observed-expected)^2}{expected}$ = $\\frac{(90-80.54)^2}{80.54}\\approx1.11$.\n",
    "The sum of these quantities over all of the cells is the test statistic; in this case, $\\approx24.6$. Under the null hypothesis, this sum has approximately a chi-squared distribution whose number of degrees of freedom are $\\text{number of rows}-1)({\\text{number of columns}}-1)=(3-1)(4-1)=6$\n",
    "If the test statistic is improbably large according to that chi-squared distribution, then one rejects the null hypothesis of independence.\n",
    "\n",
    ">A related issue is a test of homogeneity. Suppose that instead of giving every resident of each of the four neighborhoods an equal chance of inclusion in the sample, we decide in advance how many residents of each neighborhood to include. Then each resident has the same chance of being chosen as do all residents of the same neighborhood, but residents of different neighborhoods would have different probabilities of being chosen if the four sample sizes are not proportional to the populations of the four neighborhoods. In such a case, we would be testing \"homogeneity\" rather than \"independence\". The question is whether the proportions of blue-collar, white-collar, and no-collar workers in the four neighborhoods are the same. However, the test is done in the same way."
   ]
  },
  {
   "cell_type": "markdown",
   "metadata": {},
   "source": []
  },
  {
   "cell_type": "markdown",
   "metadata": {},
   "source": [
    "### Some notes on the Chi-Squared test\n",
    "(Here are just some notes from from the above, some previous college notes, and other sources referenced.)\n",
    "- The Chi-Squared test is used to analyse whether two categorical variables are independent\n",
    "\n",
    "- Categorical data is data where each observation belongs to one of a set of categories. There are 2 types of categorical data:\n",
    "    1. Nominal data has two or more categories but there is no ordering of the categories such as Gender - male / female\n",
    "    2. Ordinal where there is a clear ordering of the variables such as education levels (primary, secondary, tertiary)\n",
    "Categorical data is often referred to as count data because the number of observations belonging to a particular category are counted.\n",
    "- If only one categorical variable is measured on each member of the sample, then the data are considered univariate or one-dimensional. \n",
    "- If two variables are measured the data are bivariate.\n",
    "With a sample from a single population, the data are best summarised in a one-way-frequency table (frequency distribution) which lists the possible categories and the number of sample values belonging to each (frequency).\n",
    "Begin by summarising the sample data in a one-way frequency table with k cells (k is the number of categories). The frequencies are often referred to as cell counts. The hypotheses to be tested concern the probabilities p1, p2, ..., pk which are often proportions of a population falling into each category."
   ]
  },
  {
   "cell_type": "markdown",
   "metadata": {},
   "source": [
    "### Looking at the table:\n",
    "\n",
    "\n",
    "- The city has a population of 1,000,000 residents with four neighbourhoods, A, B ,C and D.\n",
    "- A random sample of 650 residents is taken. \n",
    "- The occupation of the 650 sampled residents is recorded as \"white collar\", \"blue collar\" or \"no collar\".\n",
    "\n",
    "To see if the proportions of residents living in the neighbourhoods (belonging to the categories) 'A', 'B','C' and 'D' are the same for the occupational categories of White Collar, Blue Collar and No Collar, a sample is taken and one-way frequency tables are constructed for each category. Two or more one-way frequency tables can be combined to get a two-way frequency table which is also known as a contingency table.\n",
    "\n",
    "The table here is a two-way frequency table.\n",
    "\n",
    "|   | A | B | C | D | Total|\n",
    "| -- | -- | -- | -- | -- | -- |\n",
    "|White Collar|90 | 60 | 104 | 95 | 349 |\n",
    "|Blue Collar |30 |50 |51|20|151\n",
    "|No Collar |30 |40|45|35|150\n",
    "|Total|150 |150|200|150 |650|\n",
    "\n",
    "- The cell counts are the numbers in a particular sample that belong to a particular category.\n",
    "- The column and row totals are known as the marginal totals and each set of marginal totals adds to the grand total. \n",
    "- In this case the row totals are the sizes of the samples selected from the different occuational populations (i.e. white-collar, blue-collar, no-collar).\n",
    "- The column totals are the sizes of the samples selected from the different neighbour populations A, B, C and D.\n",
    "- The null hypothesis is that each person's neighbourhood of residence is independent of the person's occupational classification.\n",
    "\n",
    "\n",
    "- 150 of the sample live in neighbourhood A. This figure can be used to estimate what proportion of the 1 million residents live in neighbourhood A. \n",
    "- 150 of the sample live in neighbourhood B. This figure can be used to estimate what proportion of the 1 million residents live in neighbourhood B.\n",
    "- 200 of the sample live in neighbourhood C. This figure can be used to estimate what proportion of the 1 million residents live in neighbourhood C.\n",
    "- 95 of the sample live in neighbourhood D. This figure can be used to estimate what proportion of the 1 million residents live in neighbourhood D.\n",
    "\n",
    "\n",
    "- In the same way, 349 of the sample are white-collar workers. This figure can be used to determine what proportion if the 1 million residents are white-collar workers.\n",
    "\n",
    "- 151 of the sample are blue-collar workers. This figure can be used to determine what proportion if the 1 million residents are blue-collar workers.\n",
    "- 150 of the sample are no-collar workers. This figure can be used to determine what proportion if the 1 million residents are no-collar workers.\n",
    "\n",
    "- Under the null hypothesis (that each person's neighbourhood of residence is independent of the person's occupational classification) we would expect the number of white collar workers in the neightbourhood *A* to be\n",
    "\n",
    "\n",
    "\n",
    "\n"
   ]
  },
  {
   "cell_type": "markdown",
   "metadata": {},
   "source": [
    "### Breaking the table apart\n",
    "\n",
    "#### White-collar workers \n",
    "Looking at the first row of the table for white collar workers in the sample.\n",
    "This would give a one-way frequency table with $k$ = 4 categories.\n",
    "\n",
    "|Observed Cell Counts| A | B | C | D | Total|\n",
    "| -- | -- | -- | -- | -- | -- |\n",
    "|White Collar|90 | 60 | 104 | 95 | 349 |\n",
    "\n",
    "A question here could be does the data indicate a preference for white collar residents to prefer a particular neighbourhood? If a white-collar worker has no preference for a particular neighbourhood then the proportion of the population in each of the four neighbourhoods would be $\\frac{1}{4}$. The hypothesis would be $H_0: p_1 = p_2 = p_3 = p_4 = \\frac{1}{4}$ vs $H_A: H_0: \\text{not true}$ (or at least one proportion is not $\\frac{1}{4}$ ).\n",
    "\n",
    "The null hypothesis is that the white collar workers have no preference for a particular neighbourhood (i.e. the proportions for each of the categories are equal) and the alternative hypothesis is that the null is not true (i.e. the proportions for each of the categories are not the same). To test the hypotheses you need to calculate the frequencies (cell counts) that would be expected if the null hypothesis was true, ie if the white-collar workers had no preference for a particular neighbourhood. These expected cell counts are $np_1$, $np_2$ etc.\n",
    "\n",
    "\n",
    "The table above shows the observed counts from the experiment.\n",
    "If the null hypothesis was true, that the white-collar workers have no neighbourhood preference, we would expect to see the following:\n",
    "\n",
    "|ExpectedCell Counts| A | B | C | D | Total|\n",
    "| -- | -- | -- | -- | -- | -- |\n",
    "|White Collar|87.25| 87.25 | 87.25 | 87.25 | 349 |\n",
    "\n",
    "    - $np_1$ = 349 * 0.25\n",
    "    - $np_2$ = 349 * 0.25\n",
    "    - $np_3$ = 349 * 0.25\n",
    "    - $np_4$ = 349 * 0.25\n",
    "\n",
    "The next step is to compare the observed and the expected cell counts. \n",
    "If the differences between them are so big that they could not be explained by sampling variation then we reject the null hypothesis in favour of the alternative hypothesis. The comparison of observed and expected cell counts is made by calculating:\n",
    "\n",
    "\n",
    "$$\\frac{(Observed Count - Expected Count)^2}{Expected Count}$$ for each cell and then adding the values for all cells to get the chi-square test statistics.\n",
    "\n",
    "$$\\chi^2=\\sum_{i=1}^{k}\\frac{(O_i-E_i)^2}{E_i}$$\n",
    "\n",
    "- Large values of $\\chi^2$ suggest rejection of the Null hypothesis in favour of the alternative hypothesis. \n",
    "- Small values of $\\chi^2$ would support the null hypothesis."
   ]
  },
  {
   "cell_type": "code",
   "execution_count": 2,
   "metadata": {},
   "outputs": [
    {
     "name": "stdout",
     "output_type": "stream",
     "text": [
      "Total: 349, Proportion A: 0.25787965616045844, Proportion B: 0.17191977077363896,Proportion C: 0.2979942693409742, Proportion D: 0.2722063037249284\n",
      "Total 349, \n",
      "Expected A: 87.25\n",
      "Expected B: 87.25\n",
      "Expected C: 87.25\n",
      "Expected D: 87.25\n",
      " \n"
     ]
    }
   ],
   "source": [
    "A, B, C, D =90, 60, 104,95\n",
    "\n",
    "Total = A+B+C+D\n",
    "# Actual observed proportions\n",
    "print(f\"Total: {Total}, Proportion A: {A/Total}, Proportion B: {B/Total},Proportion C: {C/Total}, Proportion D: {D/Total}\")\n",
    "# Expected Proportions under the null hypothesis\n",
    "print(f\"Total {Total}, \\nExpected A: {Total *0.25}\\nExpected B: {Total *0.25}\\nExpected C: {Total *0.25}\\nExpected D: {Total *0.25}\\n \")\n",
    "#print(f\"Total: {Total}, Proportion White Collar: {White/Total}, Proportion Blue Collar: {Blue/Total},Proportion No Collar: {No/Total}, Proportion D: {D/Total}\")"
   ]
  },
  {
   "cell_type": "code",
   "execution_count": 4,
   "metadata": {},
   "outputs": [
    {
     "name": "stdout",
     "output_type": "stream",
     "text": [
      "The Chi-squared test for White-collar is 21.687685497980652\n"
     ]
    }
   ],
   "source": [
    "White_chi = (A/Total- Total*0.25)**2/Total*0.25+ (B/Total- Total*0.25)**2/Total*0.25+(C/Total- Total*0.25)**2/Total*0.25 +(D/Total- Total*0.25)**2/Total*0.25\n",
    "print(f\"The Chi-squared test for White-collar is {White_chi}\")"
   ]
  },
  {
   "cell_type": "markdown",
   "metadata": {},
   "source": [
    "#### Blue Collar workers:\n",
    "\n",
    "|Observed Cell Counts| A | B | C | D | Total|\n",
    "| -- | -- | -- | -- | -- | -- |\n",
    "|Blue Collar |30 |50 |51|20|151\n",
    "\n",
    "The null hypothesis is that the Blue collar workers have no preference for a particular neighbourhood (i.e. the proportions for each of the categories are equal) and the alternative hypothesis is that the null is not true (i.e. the proportions for each of the categories are not the same). To test the hypotheses you need to calculate the frequencies (cell counts) that would be expected if the null hypothesis was true, ie if the blue-collar workers had no preference for a particular neighbourhood. \n",
    "\n",
    "\n",
    "The table above shows the observed counts from the experiment.\n",
    "If the null hypothesis was true, that the Blue-collar workers have no neighbourhood preference, we would expect to see the following:\n",
    "\n",
    "|ExpectedCell Counts| A | B | C | D | Total|\n",
    "| -- | -- | -- | -- | -- | -- |\n",
    "|Blue Collar|37.75| 37.75 | 37.75 | 37.75 | 151 |\n",
    "\n",
    "    - $np_1$ = 151 * 0.25\n",
    "    - $np_2$ = 151 * 0.25\n",
    "    - $np_3$ = 151 * 0.25\n",
    "    - $np_4$ = 151 * 0.25\n",
    "\n"
   ]
  },
  {
   "cell_type": "code",
   "execution_count": 8,
   "metadata": {},
   "outputs": [
    {
     "name": "stdout",
     "output_type": "stream",
     "text": [
      "Total: 151, Proportion A: 0.1986754966887417, Proportion B: 0.33112582781456956,Proportion C: 0.33774834437086093, Proportion D: 0.13245033112582782\n",
      "Total 151, \n",
      "Expected A: 37.75\n",
      "Expected B: 37.75\n",
      "Expected C: 37.75\n",
      "Expected D: 37.75\n",
      " \n",
      "The Chi-squared test for Blue-collar is 9.312964790233728\n"
     ]
    }
   ],
   "source": [
    "A, B, C, D =30, 50, 51,20\n",
    "\n",
    "Total = A+B+C+D\n",
    "# Actual observed proportions\n",
    "print(f\"Total: {Total}, Proportion A: {A/Total}, Proportion B: {B/Total},Proportion C: {C/Total}, Proportion D: {D/Total}\")\n",
    "# Expected Proportions under the null hypothesis\n",
    "print(f\"Total {Total}, \\nExpected A: {Total *0.25}\\nExpected B: {Total *0.25}\\nExpected C: {Total *0.25}\\nExpected D: {Total *0.25}\\n \")\n",
    "#print(f\"Total: {Total}, Proportion White Collar: {White/Total}, Proportion Blue Collar: {Blue/Total},Proportion No Collar: {No/Total}, Proportion D: {D/Total}\")\n",
    "Blue_chi=(A/Total- Total*0.25)**2/Total*0.25+ (B/Total- Total*0.25)**2/Total*0.25+(C/Total- Total*0.25)**2/Total*0.25 +(D/Total- Total*0.25)**2/Total*0.25\n",
    "print(f\"The Chi-squared test for Blue-collar is {Blue_chi}\")"
   ]
  },
  {
   "cell_type": "markdown",
   "metadata": {},
   "source": [
    "#### No Collar workers\n",
    "\n",
    "|Observed Cell Counts| A | B | C | D | Total|\n",
    "| -- | -- | -- | -- | -- | -- |\n",
    "|No Collar |30 |40|45|35|150\n",
    "|Total|150 |150|200|150 |650|\n",
    "\n",
    "The null hypothesis is that the No collar workers have no preference for a particular neighbourhood (i.e. the proportions for each of the categories are equal) and the alternative hypothesis is that the null is not true (i.e. the proportions for each of the categories are not the same). To test the hypotheses you need to calculate the frequencies (cell counts) that would be expected if the null hypothesis was true, ie if the No-collar workers had no preference for a particular neighbourhood. \n",
    "\n",
    "\n",
    "The table above shows the observed counts from the experiment.\n",
    "If the null hypothesis was true, that the Blue-collar workers have no neighbourhood preference, we would expect to see the following:\n",
    "\n",
    "|ExpectedCell Counts| A | B | C | D | Total|\n",
    "| -- | -- | -- | -- | -- | -- |\n",
    "|No Collar|37| 37 | 37 | 37 | 150 |"
   ]
  },
  {
   "cell_type": "code",
   "execution_count": 9,
   "metadata": {},
   "outputs": [
    {
     "name": "stdout",
     "output_type": "stream",
     "text": [
      "Total: 148, Proportion A: 0.20270270270270271, Proportion B: 0.2702702702702703,Proportion C: 0.2905405405405405, Proportion D: 0.23648648648648649\n",
      "Total 148, \n",
      "Expected A: 37.0\n",
      "Expected B: 37.0\n",
      "Expected C: 37.0\n",
      "Expected D: 37.0\n",
      " \n",
      "The Chi-squared test for Blue-collar is 9.125429854845715\n"
     ]
    }
   ],
   "source": [
    "A, B, C, D =30, 40, 43,35\n",
    "\n",
    "Total = A+B+C+D\n",
    "# Actual observed proportions\n",
    "print(f\"Total: {Total}, Proportion A: {A/Total}, Proportion B: {B/Total},Proportion C: {C/Total}, Proportion D: {D/Total}\")\n",
    "# Expected Proportions under the null hypothesis\n",
    "print(f\"Total {Total}, \\nExpected A: {Total *0.25}\\nExpected B: {Total *0.25}\\nExpected C: {Total *0.25}\\nExpected D: {Total *0.25}\\n \")\n",
    "#print(f\"Total: {Total}, Proportion White Collar: {White/Total}, Proportion Blue Collar: {Blue/Total},Proportion No Collar: {No/Total}, Proportion D: {D/Total}\")\n",
    "(A/Total- Total*0.25)**2/Total*0.25+ (B/Total- Total*0.25)**2/Total*0.25+(C/Total- Total*0.25)**2/Total*0.25 +(D/Total- Total*0.25)**2/Total*0.25\n",
    "No_chi=(A/Total- Total*0.25)**2/Total*0.25+ (B/Total- Total*0.25)**2/Total*0.25+(C/Total- Total*0.25)**2/Total*0.25 +(D/Total- Total*0.25)**2/Total*0.25\n",
    "print(f\"The Chi-squared test for Blue-collar is {No_chi}\")"
   ]
  },
  {
   "cell_type": "markdown",
   "metadata": {},
   "source": [
    "\n",
    "\n",
    "|   | A | B | C | D | Total|\n",
    "| -- | -- | -- | -- | -- | -- |\n",
    "|White Collar|90 | 60 | 104 | 95 | 349 |\n",
    "|Blue Collar |30 |50 |51|20|151\n",
    "|No Collar |30 |40|45|35|150\n",
    "|Total|150 |150|200|150 |650|\n",
    "\n",
    "The null hypothesis is that each person's neighborhood of residence is independent of the person's occupational classification.\n",
    "This would mean that the two variables neighbourhood and occupational classification are independent. Knowing a person's occupational classification does not tell you anything about where they live.\n",
    "This considers whether the proportion of workers living  in the neighbourhoods \"A\", \"B\",\"C\" and \"D\" (belonging to the categories) are the same for the person's classification as White-Collar, Blue-Collar or No-Collar. \n",
    "A sample of \n",
    "\n",
    "\n",
    "you would select a sample and construct a one-way frequency table for each classification.\n",
    "\n",
    "The table provided in Wikipedia is a two-way frequency table. It is comparing more than two populations. \n",
    "\n",
    "To see if the proportions of persons belonging to the categories 'A', 'B', C' and 'large' are the same for the occupational classifications of White-collar, Blue-collar and No-Collar, a sample is selected and a one-way select one-way frequency table is constructed for each occupational category. \n",
    "A two-way table, also known as a contingency table, is the result of combining two or more one-way frequency tables.\n",
    "The cell counts are the numbers in a particular sample that belong to a particular category. The column and row totals are known as the marginal totals and each set of marginal totals adds to the grand total. In this case the row totals are the sizes of the samples selected from the different populations (i.e. occupational classification of residents).\n",
    "The Null Hypothesis would be that the neighbourhood category proportions are the same for all occupational classifications\n",
    "- $H_0$ : Neighbourhood category proportions are the same for all classifications of occupations.\n",
    "- $H_A: H_0$ is not true.\n",
    "Assume the null hypothesis is true, The Expected cell counts = (row total times the column total) / grand total)\n",
    "Assuming the null hypothesis to be true $\\chi^2$ is approximately chi-squared distributed with df = (Number of rows- 1).(Number of columns - 1). In this case the degrees of freedom (3-1 x 4-1) is 6. If calculated manually the test statistic would be compared to the critical value (from a table such as the New Cambridge Statistical Tables) at a particular alpha level such as 0.05 taking into account the degrees of freedom. \n",
    "\n",
    "- If the chi-squared test statistic is less than the chi-squared critical value with 6 degrees of freedom (at the chosen alpha level such as 0.05) then you would fail to reject the null hypothesis.\n",
    "- If the chi-squared test statistic is greater than the chi-squared critical value, then the null hypothesis would be rejected and you would accept the alternative hypothesis that the data contains sufficient evidence of neighbourhood preference by occupational classification. The proportions of residents in the four neighbourhoods A, B, C and D are not the same for the 3 occupational classifications of white-collar, blue-collar and no-collar."
   ]
  },
  {
   "cell_type": "code",
   "execution_count": 10,
   "metadata": {},
   "outputs": [
    {
     "data": {
      "text/plain": [
       "40.12608014306009"
      ]
     },
     "execution_count": 10,
     "metadata": {},
     "output_type": "execute_result"
    }
   ],
   "source": [
    "White_chi+Blue_chi+No_chi\n"
   ]
  },
  {
   "cell_type": "markdown",
   "metadata": {},
   "source": [
    "#### Proportions of the sample"
   ]
  },
  {
   "cell_type": "code",
   "execution_count": 17,
   "metadata": {},
   "outputs": [
    {
     "name": "stdout",
     "output_type": "stream",
     "text": [
      "Total: 650, Proportion A: 0.23076923076923078, Proportion B: 0.23076923076923078,Proportion C: 0.3076923076923077, Proportion D: 0.23076923076923078\n",
      "Total: 650, Proportion White Collar: 0.536923076923077, Proportion Blue Collar: 0.2323076923076923,Proportion No Collar: 0.23076923076923078, Proportion D: 0.23076923076923078\n"
     ]
    }
   ],
   "source": [
    "A, B, C, D =150, 150, 200,150\n",
    "White, Blue, No = 349,151,150\n",
    "Total = A+B+C+D\n",
    "print(f\"Total: {Total}, Proportion A: {A/Total}, Proportion B: {B/Total},Proportion C: {C/Total}, Proportion D: {D/Total}\")\n",
    "print(f\"Total: {Total}, Proportion White Collar: {White/Total}, Proportion Blue Collar: {Blue/Total},Proportion No Collar: {No/Total}, Proportion D: {D/Total}\")"
   ]
  },
  {
   "cell_type": "markdown",
   "metadata": {},
   "source": [
    "By the assumption of independence under the hypothesus\n",
    "\n",
    "- $H_0$ : Category proportions are the same for all categories\n",
    "- $H_A: H_0$ is not true.\n",
    "- Assume the null hypothesis is true, The Expected cell counts = (row total times the column total) / grand total)"
   ]
  },
  {
   "cell_type": "markdown",
   "metadata": {},
   "source": [
    "---\n",
    "some notes from the above article:\n",
    "\n",
    "\n",
    "- A $\\chi^2$ test is used to determine if there is a statistically significant difference between the expected frquencies and the observed frequencies in one or more categories of a contingency table.\n",
    "- In the standard applications of this test, the observations are classified into mutually exclusive classes.\n",
    "\n",
    "- In the standard applications of this test, the observations are classified into mutually exclusive classes. \n",
    "- If the null hypothesis that there are no differences between the classes in the population is true, the test statistic computed from the observations follows a $\\chi^2$ frequency distribution. \n",
    "- The purpose of the test is to evaluate how likely the observed frequencies would be assuming the null hypothesis is true.\n",
    "- The table here is a "
   ]
  },
  {
   "cell_type": "code",
   "execution_count": 7,
   "metadata": {},
   "outputs": [],
   "source": [
    "import numpy as np\n",
    "import pandas as pd\n"
   ]
  },
  {
   "cell_type": "code",
   "execution_count": 8,
   "metadata": {},
   "outputs": [
    {
     "data": {
      "text/html": [
       "<div>\n",
       "<style scoped>\n",
       "    .dataframe tbody tr th:only-of-type {\n",
       "        vertical-align: middle;\n",
       "    }\n",
       "\n",
       "    .dataframe tbody tr th {\n",
       "        vertical-align: top;\n",
       "    }\n",
       "\n",
       "    .dataframe thead th {\n",
       "        text-align: right;\n",
       "    }\n",
       "</style>\n",
       "<table border=\"1\" class=\"dataframe\">\n",
       "  <thead>\n",
       "    <tr style=\"text-align: right;\">\n",
       "      <th></th>\n",
       "      <th>A</th>\n",
       "      <th>B</th>\n",
       "      <th>C</th>\n",
       "      <th>D</th>\n",
       "      <th>Total</th>\n",
       "    </tr>\n",
       "  </thead>\n",
       "  <tbody>\n",
       "    <tr>\n",
       "      <th>White_collar</th>\n",
       "      <td>90</td>\n",
       "      <td>60</td>\n",
       "      <td>104</td>\n",
       "      <td>95</td>\n",
       "      <td>349</td>\n",
       "    </tr>\n",
       "    <tr>\n",
       "      <th>Blue_collar</th>\n",
       "      <td>30</td>\n",
       "      <td>50</td>\n",
       "      <td>51</td>\n",
       "      <td>20</td>\n",
       "      <td>151</td>\n",
       "    </tr>\n",
       "    <tr>\n",
       "      <th>No-Collar</th>\n",
       "      <td>30</td>\n",
       "      <td>40</td>\n",
       "      <td>45</td>\n",
       "      <td>35</td>\n",
       "      <td>150</td>\n",
       "    </tr>\n",
       "    <tr>\n",
       "      <th>Total</th>\n",
       "      <td>150</td>\n",
       "      <td>150</td>\n",
       "      <td>200</td>\n",
       "      <td>150</td>\n",
       "      <td>650</td>\n",
       "    </tr>\n",
       "  </tbody>\n",
       "</table>\n",
       "</div>"
      ],
      "text/plain": [
       "                A    B    C    D  Total\n",
       "White_collar   90   60  104   95    349\n",
       "Blue_collar    30   50   51   20    151\n",
       "No-Collar      30   40   45   35    150\n",
       "Total         150  150  200  150    650"
      ]
     },
     "execution_count": 8,
     "metadata": {},
     "output_type": "execute_result"
    }
   ],
   "source": [
    "# create a pandas dataframe\n",
    "df=pd.DataFrame({\"A\":[90,30,30], \"B\":[60,50,40],\"C\":[104,51,45],\"D\":[95,20,35]})\n",
    "df.index = ['White_collar', 'Blue_collar', 'No-Collar'] \n",
    "# add a total column to sum across each row\n",
    "df[\"Total\"] = df.sum(axis=1)\n",
    "# add a row to sum across column totals \n",
    "#(https://stackoverflow.com/questions/20804673/appending-column-totals-to-a-pandas-dataframe)\n",
    "df.loc['Total']= df.sum()\n",
    "df"
   ]
  },
  {
   "cell_type": "markdown",
   "metadata": {},
   "source": [
    "\n",
    "- the column and row totals are known as the **marginal totals**\n",
    "- Each set of marginal totals adds to the **grand Total**\n",
    "- in this case the row totals are the sizes of the samples from the different populations (occupational classification)\n",
    "- Ho : Category proportions in the different neightbourhoods are the same for all occupational classifications \n",
    "- HA: H0 not true.\n",
    "Assume the null hypothesis is true,\n",
    "The expected cell counts = $\\frac{\\text{row total} \\times \\text{column total}}{Grand Total}$\n"
   ]
  },
  {
   "cell_type": "code",
   "execution_count": 9,
   "metadata": {},
   "outputs": [
    {
     "data": {
      "text/plain": [
       "511.37560975609756"
      ]
     },
     "execution_count": 9,
     "metadata": {},
     "output_type": "execute_result"
    }
   ],
   "source": [
    "(2912*1764)/10045"
   ]
  },
  {
   "cell_type": "code",
   "execution_count": 10,
   "metadata": {},
   "outputs": [
    {
     "name": "stdout",
     "output_type": "stream",
     "text": [
      "650\n"
     ]
    }
   ],
   "source": [
    "WhiteCollarTotal =df.iat[0, 4] \n",
    "BlueCollarTotal=df.iat[1,4]\n",
    "NoCollarTotal=df.iat[2,4]\n",
    "ATotal=df.iat[3,0]\n",
    "BTotal=df.iat[3,1]\n",
    "CTotal=df.iat[3,2]\n",
    "DTotal=df.iat[3,3]\n",
    "\n",
    "\n",
    "GrandTotal = df.iat[3,4]\n",
    "\n",
    "print(GrandTotal)\n"
   ]
  },
  {
   "cell_type": "code",
   "execution_count": 15,
   "metadata": {},
   "outputs": [
    {
     "data": {
      "text/html": [
       "<div>\n",
       "<style scoped>\n",
       "    .dataframe tbody tr th:only-of-type {\n",
       "        vertical-align: middle;\n",
       "    }\n",
       "\n",
       "    .dataframe tbody tr th {\n",
       "        vertical-align: top;\n",
       "    }\n",
       "\n",
       "    .dataframe thead th {\n",
       "        text-align: right;\n",
       "    }\n",
       "</style>\n",
       "<table border=\"1\" class=\"dataframe\">\n",
       "  <thead>\n",
       "    <tr style=\"text-align: right;\">\n",
       "      <th></th>\n",
       "      <th>A</th>\n",
       "      <th>B</th>\n",
       "      <th>C</th>\n",
       "      <th>D</th>\n",
       "      <th>Total</th>\n",
       "    </tr>\n",
       "  </thead>\n",
       "  <tbody>\n",
       "    <tr>\n",
       "      <th>White_collar</th>\n",
       "      <td>80</td>\n",
       "      <td>80</td>\n",
       "      <td>107</td>\n",
       "      <td>80</td>\n",
       "      <td>347</td>\n",
       "    </tr>\n",
       "    <tr>\n",
       "      <th>Blue_collar</th>\n",
       "      <td>35</td>\n",
       "      <td>35</td>\n",
       "      <td>46</td>\n",
       "      <td>35</td>\n",
       "      <td>151</td>\n",
       "    </tr>\n",
       "    <tr>\n",
       "      <th>No-Collar</th>\n",
       "      <td>35</td>\n",
       "      <td>35</td>\n",
       "      <td>46</td>\n",
       "      <td>35</td>\n",
       "      <td>151</td>\n",
       "    </tr>\n",
       "    <tr>\n",
       "      <th>Total</th>\n",
       "      <td>150</td>\n",
       "      <td>150</td>\n",
       "      <td>199</td>\n",
       "      <td>150</td>\n",
       "      <td>649</td>\n",
       "    </tr>\n",
       "  </tbody>\n",
       "</table>\n",
       "</div>"
      ],
      "text/plain": [
       "                A    B    C    D  Total\n",
       "White_collar   80   80  107   80    347\n",
       "Blue_collar    35   35   46   35    151\n",
       "No-Collar      35   35   46   35    151\n",
       "Total         150  150  199  150    649"
      ]
     },
     "execution_count": 15,
     "metadata": {},
     "output_type": "execute_result"
    }
   ],
   "source": [
    "dfE =pd.DataFrame({\"A\":[0,0,0], \"B\":[0,0,0],\"C\":[0,0,0],\"D\":[0,0,0]})\n",
    "dfE.index = ['White_collar', 'Blue_collar', 'No-Collar'] \n",
    "\n",
    "# White collar\n",
    "dfE.iat[0,0]=((WhiteCollarTotal*ATotal)/GrandTotal)\n",
    "dfE.iat[0,1]=((WhiteCollarTotal*BTotal)/GrandTotal)\n",
    "dfE.iat[0,2]=((WhiteCollarTotal*CTotal)/GrandTotal)\n",
    "dfE.iat[0,3]=((WhiteCollarTotal*DTotal)/GrandTotal)\n",
    "# Blue collar\n",
    "dfE.iat[1,0]=round((BlueCollarTotal*ATotal)/GrandTotal)\n",
    "dfE.iat[1,1]=round((BlueCollarTotal*BTotal)/GrandTotal)\n",
    "dfE.iat[1,2]=round((BlueCollarTotal*CTotal)/GrandTotal)\n",
    "dfE.iat[1,3]=round((BlueCollarTotal*DTotal)/GrandTotal)\n",
    "# No Collar\n",
    "dfE.iat[2,0]=round((NoCollarTotal*ATotal)/GrandTotal)\n",
    "dfE.iat[2,1]=round((NoCollarTotal*BTotal)/GrandTotal)\n",
    "dfE.iat[2,2]=round((NoCollarTotal*CTotal)/GrandTotal)\n",
    "dfE.iat[2,3]=round((NoCollarTotal*DTotal)/GrandTotal)\n",
    "\n",
    "# add a total column to sum across each row\n",
    "dfE[\"Total\"] = dfE.sum(axis=1)\n",
    "# add a row to sum across column totals \n",
    "dfE.loc['Total']= dfE.sum()\n",
    "dfE"
   ]
  },
  {
   "cell_type": "code",
   "execution_count": 15,
   "metadata": {},
   "outputs": [
    {
     "data": {
      "text/html": [
       "<div>\n",
       "<style scoped>\n",
       "    .dataframe tbody tr th:only-of-type {\n",
       "        vertical-align: middle;\n",
       "    }\n",
       "\n",
       "    .dataframe tbody tr th {\n",
       "        vertical-align: top;\n",
       "    }\n",
       "\n",
       "    .dataframe thead th {\n",
       "        text-align: right;\n",
       "    }\n",
       "</style>\n",
       "<table border=\"1\" class=\"dataframe\">\n",
       "  <thead>\n",
       "    <tr style=\"text-align: right;\">\n",
       "      <th></th>\n",
       "      <th>A</th>\n",
       "      <th>B</th>\n",
       "      <th>C</th>\n",
       "      <th>D</th>\n",
       "      <th>Total</th>\n",
       "    </tr>\n",
       "  </thead>\n",
       "  <tbody>\n",
       "    <tr>\n",
       "      <th>White_collar</th>\n",
       "      <td>81</td>\n",
       "      <td>81</td>\n",
       "      <td>107</td>\n",
       "      <td>81</td>\n",
       "      <td>350</td>\n",
       "    </tr>\n",
       "    <tr>\n",
       "      <th>Blue_collar</th>\n",
       "      <td>35</td>\n",
       "      <td>35</td>\n",
       "      <td>46</td>\n",
       "      <td>35</td>\n",
       "      <td>151</td>\n",
       "    </tr>\n",
       "    <tr>\n",
       "      <th>No-Collar</th>\n",
       "      <td>35</td>\n",
       "      <td>35</td>\n",
       "      <td>46</td>\n",
       "      <td>35</td>\n",
       "      <td>151</td>\n",
       "    </tr>\n",
       "    <tr>\n",
       "      <th>Total</th>\n",
       "      <td>151</td>\n",
       "      <td>151</td>\n",
       "      <td>199</td>\n",
       "      <td>151</td>\n",
       "      <td>652</td>\n",
       "    </tr>\n",
       "  </tbody>\n",
       "</table>\n",
       "</div>"
      ],
      "text/plain": [
       "                A    B    C    D  Total\n",
       "White_collar   81   81  107   81    350\n",
       "Blue_collar    35   35   46   35    151\n",
       "No-Collar      35   35   46   35    151\n",
       "Total         151  151  199  151    652"
      ]
     },
     "execution_count": 15,
     "metadata": {},
     "output_type": "execute_result"
    }
   ],
   "source": [
    "dfE =pd.DataFrame({\"A\":[0,0,0], \"B\":[0,0,0],\"C\":[0,0,0],\"D\":[0,0,0]})\n",
    "dfE.index = ['White_collar', 'Blue_collar', 'No-Collar'] \n",
    "\n",
    "# White collar\n",
    "dfE.iat[0,0]=round((WhiteCollarTotal*ATotal)/GrandTotal)\n",
    "dfE.iat[0,1]=round((WhiteCollarTotal*BTotal)/GrandTotal)\n",
    "dfE.iat[0,2]=round((WhiteCollarTotal*CTotal)/GrandTotal)\n",
    "dfE.iat[0,3]=round((WhiteCollarTotal*DTotal)/GrandTotal)\n",
    "# Blue collar\n",
    "dfE.iat[1,0]=round((BlueCollarTotal*ATotal)/GrandTotal)\n",
    "dfE.iat[1,1]=round((BlueCollarTotal*BTotal)/GrandTotal)\n",
    "dfE.iat[1,2]=round((BlueCollarTotal*CTotal)/GrandTotal)\n",
    "dfE.iat[1,3]=round((BlueCollarTotal*DTotal)/GrandTotal)\n",
    "# No Collar\n",
    "dfE.iat[2,0]=round((NoCollarTotal*ATotal)/GrandTotal)\n",
    "dfE.iat[2,1]=round((NoCollarTotal*BTotal)/GrandTotal)\n",
    "dfE.iat[2,2]=round((NoCollarTotal*CTotal)/GrandTotal)\n",
    "dfE.iat[2,3]=round((NoCollarTotal*DTotal)/GrandTotal)\n",
    "\n",
    "# add a total column to sum across each row\n",
    "dfE[\"Total\"] = dfE.sum(axis=1)\n",
    "# add a row to sum across column totals \n",
    "dfE.loc['Total']= dfE.sum()\n",
    "dfE"
   ]
  },
  {
   "cell_type": "code",
   "execution_count": 16,
   "metadata": {},
   "outputs": [
    {
     "data": {
      "text/html": [
       "<div>\n",
       "<style scoped>\n",
       "    .dataframe tbody tr th:only-of-type {\n",
       "        vertical-align: middle;\n",
       "    }\n",
       "\n",
       "    .dataframe tbody tr th {\n",
       "        vertical-align: top;\n",
       "    }\n",
       "\n",
       "    .dataframe thead th {\n",
       "        text-align: right;\n",
       "    }\n",
       "</style>\n",
       "<table border=\"1\" class=\"dataframe\">\n",
       "  <thead>\n",
       "    <tr style=\"text-align: right;\">\n",
       "      <th></th>\n",
       "      <th>A</th>\n",
       "      <th>B</th>\n",
       "      <th>C</th>\n",
       "      <th>D</th>\n",
       "      <th>Total</th>\n",
       "    </tr>\n",
       "  </thead>\n",
       "  <tbody>\n",
       "    <tr>\n",
       "      <th>White_collar</th>\n",
       "      <td>1.000000</td>\n",
       "      <td>5.444444</td>\n",
       "      <td>0.084112</td>\n",
       "      <td>2.419753</td>\n",
       "      <td>8.951167</td>\n",
       "    </tr>\n",
       "    <tr>\n",
       "      <th>Blue_collar</th>\n",
       "      <td>0.714286</td>\n",
       "      <td>6.428571</td>\n",
       "      <td>0.543478</td>\n",
       "      <td>6.428571</td>\n",
       "      <td>14.114907</td>\n",
       "    </tr>\n",
       "    <tr>\n",
       "      <th>No-Collar</th>\n",
       "      <td>0.714286</td>\n",
       "      <td>0.714286</td>\n",
       "      <td>0.021739</td>\n",
       "      <td>0.000000</td>\n",
       "      <td>1.456933</td>\n",
       "    </tr>\n",
       "    <tr>\n",
       "      <th>Total</th>\n",
       "      <td>2.435194</td>\n",
       "      <td>12.593924</td>\n",
       "      <td>0.654355</td>\n",
       "      <td>8.854947</td>\n",
       "      <td>24.554034</td>\n",
       "    </tr>\n",
       "  </tbody>\n",
       "</table>\n",
       "</div>"
      ],
      "text/plain": [
       "                     A          B         C         D      Total\n",
       "White_collar  1.000000   5.444444  0.084112  2.419753   8.951167\n",
       "Blue_collar   0.714286   6.428571  0.543478  6.428571  14.114907\n",
       "No-Collar     0.714286   0.714286  0.021739  0.000000   1.456933\n",
       "Total         2.435194  12.593924  0.654355  8.854947  24.554034"
      ]
     },
     "execution_count": 16,
     "metadata": {},
     "output_type": "execute_result"
    }
   ],
   "source": [
    "chi = ((df-dfE)**2)/dfE\n",
    "chi\n",
    "chi[\"Total\"] = chi.sum(axis=1)\n",
    "\n",
    "chi.loc['Total']= chi.sum()\n",
    "chi"
   ]
  },
  {
   "cell_type": "markdown",
   "metadata": {},
   "source": [
    "I need to do some rounding here but the value is close to the Chi-squared value in the Wikipedia article.\n",
    "The next step is to use the `scipy.stats` to verify this value and calculate the associated p value. \n",
    "Include a short note with references justifying your analysis in a markdown cell."
   ]
  },
  {
   "cell_type": "markdown",
   "metadata": {},
   "source": [
    "\n",
    "|   | A | B | C | D | Total|\n",
    "| -- | -- | -- | -- | -- | -- |\n",
    "|White Collar|90 | 60 | 104 | 95 | 349 |\n",
    "|Blue Collar |30 |50 |51|20|151\n",
    "|No Collar |30 |40|45|35|150\n",
    "|Total|150 |150|200|150 |650|"
   ]
  },
  {
   "cell_type": "markdown",
   "metadata": {},
   "source": [
    "## Scipy.stats functions for Chi-Squared tests\n",
    "\n",
    "- [Scipy stats - Statistical Tests](https://docs.scipy.org/doc/scipy/reference/stats.html#statistical-tests)\n",
    "\n",
    "- `scipy.stats.chisquare(f_obs, f_exp=None, ddof=0, axis=0)`\n",
    "- [Calculate a one-way chi-square test.](https://docs.scipy.org/doc/scipy/reference/generated/scipy.stats.chisquare.html#scipy.stats.chisquare)\n",
    "The chi-square test tests the null hypothesis that the categorical data has the given frequencies.\n",
    "- The function takes as parameters an array of observed frequencies in each category, an array of expected frequencies in each category and the degrees of freedom. By default the categories are assumed to be equally likely.\n",
    "In the case of the table from Wikipedia, the expected frequencies have not been provided.\n",
    "\n",
    "https://docs.scipy.org/doc/scipy/reference/generated/scipy.stats.chi2_contingency.html#scipy.stats.chi2_contingency"
   ]
  },
  {
   "cell_type": "markdown",
   "metadata": {},
   "source": [
    "\n",
    "The [scipy.stats.contingency.expected_freq(observed)](https://docs.scipy.org/doc/scipy/reference/generated/scipy.stats.contingency.expected_freq.html#scipy.stats.contingency.expected_freq) function can be used to compute the expected frequencies from a contingency table.\n",
    "Given an n-dimensional contingency table of observed frequencies, compute the expected frequencies for the table based on the marginal sums under the assumption that the groups associated with each dimension are independent.\n",
    "The parameters this function takes is an array of observed values. The function returns an array of expected frequencies, based on the marginal sums of the table. The expected values returned will be of type `float`. The shape of the expected values will be the same as the observed.\n",
    "So for example, our table has 3 rows and 4 columns of observed values. Therefore the array of expected values will be the same. The expected values are calculated in the same way as I showed above behind the scenes using marginal sums of the table.\n",
    "\n"
   ]
  },
  {
   "cell_type": "code",
   "execution_count": 24,
   "metadata": {},
   "outputs": [
    {
     "data": {
      "text/plain": [
       "array([[ 90,  60, 104,  95],\n",
       "       [ 30,  50,  51,  20],\n",
       "       [ 30,  40,  45,  35]])"
      ]
     },
     "execution_count": 24,
     "metadata": {},
     "output_type": "execute_result"
    }
   ],
   "source": [
    "# observed is the multidimensional arrays of values from the original table. \n",
    "observed = np.array([[90,60,104,95],[30,50,51,20],[30,40,45,35]])\n",
    "observed\n",
    "from scipy.stats.contingency import expected_freq"
   ]
  },
  {
   "cell_type": "markdown",
   "metadata": {},
   "source": [
    "#### Calculating expected frequencies "
   ]
  },
  {
   "cell_type": "code",
   "execution_count": 25,
   "metadata": {},
   "outputs": [
    {
     "data": {
      "text/plain": [
       "array([[ 80.53846154,  80.53846154, 107.38461538,  80.53846154],\n",
       "       [ 34.84615385,  34.84615385,  46.46153846,  34.84615385],\n",
       "       [ 34.61538462,  34.61538462,  46.15384615,  34.61538462]])"
      ]
     },
     "execution_count": 25,
     "metadata": {},
     "output_type": "execute_result"
    }
   ],
   "source": [
    "expected_freq(observed)"
   ]
  },
  {
   "cell_type": "code",
   "execution_count": 27,
   "metadata": {},
   "outputs": [
    {
     "data": {
      "text/plain": [
       "(3, 4)"
      ]
     },
     "execution_count": 27,
     "metadata": {},
     "output_type": "execute_result"
    }
   ],
   "source": [
    "observed.shape"
   ]
  },
  {
   "cell_type": "markdown",
   "metadata": {},
   "source": [
    "The [scipy.stats.chi2_contingency](https://docs.scipy.org/doc/scipy/reference/generated/scipy.stats.chi2_contingency.html) is used to calculate the Chi-square test of independence of variables in a contingency table. This can be applied to the table of data here.\n",
    "\n",
    "This function computes the chi-square statistic and p-value for the hypothesis test of independence of the observed frequencies in the contingency table observed. The expected frequencies are computed based on the marginal sums under the assumption of independence; see `scipy.stats.contingency.expected_freq`. The number of degrees of freedom is (expressed using numpy functions and attributes).\n",
    "The function takes as parameters the contingency table. The table contains the observed frequencies (i.e. number of occurrences) in each category. In the two-dimensional case, the table is often described as an “R x C table”."
   ]
  },
  {
   "cell_type": "markdown",
   "metadata": {},
   "source": [
    "[scipy.stats.chi2_contingency](https://docs.scipy.org/doc/scipy/reference/generated/scipy.stats.chi2_contingency.html#scipy.stats.chi2_contingency)\n",
    "- `scipy.stats.chi2_contingency(observed, correction=True, lambda_=None)`\n",
    "\n",
    "Chi-square test of independence of variables  on a contingency table.\n",
    "\n",
    "\n",
    "|   | A | B | C | D | Total|\n",
    "| -- | -- | -- | -- | -- | -- |\n",
    "|White Collar|90 | 60 | 104 | 95 | 349 |\n",
    "|Blue Collar |30 |50 |51|20|151\n",
    "|No Collar |30 |40|45|35|150\n",
    "|Total|150 |150|200|150 |650|\n",
    "\n",
    "This is a test for the independence of different categories of a population. The test is only meaningful when the dimension of observed is two or more. Applying the test to a one-dimensional table will always result in expected equal to observed and a chi-square statistic equal to 0.\n",
    "\n",
    "Like `stats.chisquare`, this function computes a chi-square statistic; the convenience this function provides is to figure out the expected frequencies and degrees of freedom from the given contingency table. If these were already known, and if the Yates’ correction was not required, one could use `stats.chisquare`."
   ]
  },
  {
   "cell_type": "markdown",
   "metadata": {},
   "source": [
    "The degrees of freedom is calculated as follows:\n",
    "`dof = observed.size - sum(observed.shape) + observed.ndim - 1`"
   ]
  },
  {
   "cell_type": "code",
   "execution_count": 29,
   "metadata": {},
   "outputs": [
    {
     "data": {
      "text/plain": [
       "6"
      ]
     },
     "execution_count": 29,
     "metadata": {},
     "output_type": "execute_result"
    }
   ],
   "source": [
    "dof = observed.size - sum(observed.shape) + observed.ndim - 1\n",
    "dof"
   ]
  },
  {
   "cell_type": "code",
   "execution_count": null,
   "metadata": {},
   "outputs": [],
   "source": []
  },
  {
   "cell_type": "code",
   "execution_count": 31,
   "metadata": {},
   "outputs": [
    {
     "name": "stdout",
     "output_type": "stream",
     "text": [
      "The chi-squared statistic calculated using the scipy stats package is 24.5712028585826 \n"
     ]
    }
   ],
   "source": [
    "from scipy.stats import chi2_contingency\n",
    "obs = np.array([[90,60,104,95], [30,50,51,20],[30,40,45,35]])\n",
    "chi2_contingency(obs)\n",
    "print(f\"The chi-squared statistic calculated using the scipy stats package is {chi2_contingency(obs)[0]} \")"
   ]
  },
  {
   "cell_type": "markdown",
   "metadata": {},
   "source": [
    "The chi-squared statistic calculated here by scipy is the same as I manually calculated above and also the same as reported in the Wikipedia article referred to in the task description."
   ]
  },
  {
   "cell_type": "markdown",
   "metadata": {},
   "source": [
    "# References for Task 2\n",
    "\n",
    "\n",
    "- Wikipedia contributors, “Chi-squared test — Wikipedia, the free encyclopedia,” 2020, [Online; accessed 1-November-2020][Online]. Available: https://en.wikipedia. org/w/index.php?title=Chi-squared test&oldid=983024096"
   ]
  },
  {
   "cell_type": "markdown",
   "metadata": {},
   "source": [
    "# References\n",
    "\n",
    "More reference above to bring down and include here\n",
    "- https://www.latex-tutorial.com/tutorials/amsmath/\n",
    "- https://www.math-linux.com/latex-26/faq/latex-faq/article/latex-natural-numbers\n",
    "- https://en.wikibooks.org/wiki/LaTeX/Mathematics\n",
    "\n",
    "Read https://kodlogs.com/blog/715/convert-scientific-notation-to-decimal-python\n"
   ]
  }
 ],
 "metadata": {
  "kernelspec": {
   "display_name": "Python 3",
   "language": "python",
   "name": "python3"
  },
  "language_info": {
   "codemirror_mode": {
    "name": "ipython",
    "version": 3
   },
   "file_extension": ".py",
   "mimetype": "text/x-python",
   "name": "python",
   "nbconvert_exporter": "python",
   "pygments_lexer": "ipython3",
   "version": "3.8.2"
  }
 },
 "nbformat": 4,
 "nbformat_minor": 4
}
