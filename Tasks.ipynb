{
 "cells": [
  {
   "cell_type": "markdown",
   "metadata": {},
   "source": [
    "# Tasks Assessment\n",
    "\n",
    "This notebook will hold my solutions to the Tasks Assessment for Machine Learning and Statistics 2020.\n",
    "\n",
    "\n",
    "The author is Angela Carpenter\n",
    "\n",
    "# Table of Contents\n",
    "\n",
    "- [Task 1: Calculate the square root of two to 100 decimal places without using any imported module](#task-1)\n",
    "\n",
    "\n",
    "- [Task 2: Chi-squared test for Independence](#task-2)\n",
    "\n",
    "- [Task 3 - not yet released](#task-3)\n",
    "\n",
    "- [Task 4 - not yet released](#task-4)\n",
    "\n",
    "- [References](#references)\n",
    "***"
   ]
  },
  {
   "cell_type": "markdown",
   "metadata": {},
   "source": [
    "### Plan\n",
    "- Some information on the square root of 2 and why this number in particular would be of interest\n",
    "    * irrational numbers cannot be stored\n",
    "    * Tidy up all the theory into one section.\n",
    "- How this would fit in with the machine learning and statistics module and computing\n",
    "    * Binary representation of floats\n",
    "    * Not all numbers can be precisely stored using a computer. Irrational numbers such as the square root of 2 falls into this category\n",
    "- Methods for calculating square roots in general\n",
    "    * method by hand from school days involving making a guess to begin\n",
    "    * Newtons method used for the programming and scripting problem of semester 1\n",
    "- How to print out the 100 decimal places when the usual number printed is 15.\n",
    "    * Using a large multiple of 2 which will print a larger whole number and then extracting the digits from this.\n",
    "   \n",
    "    \n"
   ]
  },
  {
   "cell_type": "markdown",
   "metadata": {},
   "source": [
    "## Task 1\n",
    "Write a Python function called sqrt2 that calculates and prints to the screen the square root of 2 to 100 decimal places. Your code should not depend on any module from the standard library or otherwise. You should research the task first and include references and a description of your algorithm."
   ]
  },
  {
   "cell_type": "markdown",
   "metadata": {},
   "source": [
    "## The square root of two $\\sqrt{2}$\n",
    "In mathematics, a square root of a number $x$ is a number $y$ such that $y2 = x$; in other words, a number $y$ whose square (the result of multiplying the number by itself, or $y⋅y$) is $x$. [1][Wikipedia](https://en.wikipedia.org/wiki/Square_root).\n",
    "The principal square root function $f(x) = \\sqrt{x}$ is a function that maps the set of nonnegative real numbers onto itself. In geometrical terms, the square root function maps the area of a square to its side length.\n",
    "\n",
    "The square root of $x$ is rational if and only if $x$ is a rational number that can be represented as a ratio of two perfect squares.\n",
    "A positive number has two square roots, one positive and one negative which are opposite each other but when talking of the square root of a positive integer it is usually just the positive square root that is meant.\n",
    "The square root of a positive integer is the product of the roots of its prime factors, because the square root of a product is the product of the square roots of the factors.\n",
    "\n",
    "The square roots of perfect squares such as 1, 4, 9 and 16 are integers. In all other cases, the square roots of positive integers are irrational numbers, and therefore have non-repeating digits in any standard positional notation system.\n",
    "\n",
    "The square root of two is the number that when multiplied by itself gives the number two. The length of the diagonal of a square where each side of the square is of length 1 is the square root of the number 2 (Pythagoras theorem).\n",
    "\n",
    "According to [2][Wikipedia](https://en.wikipedia.org/wiki/Square_root_of_2)., the square root of two was probably the first number known to be irrational.\n",
    ">*The square root of 2, or the one-half power of 2, written in mathematics as \n",
    "$2{\\sqrt {2}}$ or $2^{{1/2}}$ is the positive algebraic number that, when multiplied by itself, equals the number 2.*\n",
    ">Technically, it must be called the principal square root of 2, to distinguish it from the negative number with the same property.\n",
    "[2][Wikipedia](https://en.wikipedia.org/wiki/Square_root_of_2).\n",
    "\n",
    "\n",
    "An irrational number is one which cannot be expressed as a ratio of two numbers, i.e. a fraction.\n",
    "Any number that can be expressed as a ratio of two integers, a decimal that either ends or repeats in a recurring manner or a percentage is said to be a rational number. All whole numbers are rational as they can be represented as fractions divided by 1. \n",
    "\n",
    "Greek mathematicians such as Pythagoras had believed that all numbers could be shown to be fractions, believing that the number line was made up entirely of fractions, because for any two fractions we can always find another fraction in between them. Because this process has no end there are infinitely many such points. \n",
    "Hippasus [4][The Maths Book: Big Ideas Simply explained](published by Dorling Kindersley Limited), a Greek scholar is believed to have first identified irrational numbers in the 5th century BCE as he worked on geometrical problems. He applied Pythagoras's theorem which states that the square of the hypothenuse in a triangle is equal to the sum of the squares of the other two sides, to a right-angled triangle with both shorter sides equal to one. Hippasus realised that the length of the hypothesus of such as triangle was equal to the square root of two but that the square root of two could not be expressed as a ratio of two whole numbers, as a fraction. There is no rational number which can be multiplied by itself to give precisely two which means that the square root of two an irrational number. The number two is termed non-square or square free. The numbers 3, 5 and 7 and many others are also non-square with irrational square roots. Numbers such as 4, 9 and 16 are square numbers and do have square roots that are also whole numbers and therefore rational.\n",
    "\n",
    "Another rational number can always be found in between two rational numbers. The average of the two numbers will also be rational. The average of the number and either of the two original numbers will be rational. Irrational numbers can also be found in between any two rational numbers. There are infinite numbers of rational numbers and infinite numbers of irrational numbers but the \n",
    "\n",
    "A real number gives a positive result when squared. The square root of two gives a positive result when squared of 2. An irrational number has an inifinite number of decimals with no recurring pattern. This is the case for the square root of two.  The square root of 2 truncuated to 50 decimal places is 1.41421356237309504880168872420969807856967187537694\n",
    "See (https://en.wikipedia.org/wiki/Square_root).The square root of 2 is a real number that is not rational.\n",
    "\n",
    "The value of the square root of two cannot be determined accurately because it cannot be represented as a fraction in the form a/b where a and b are whole numbers and has an infinite number of decimals.[3][geeksforgeeks](https://www.geeksforgeeks.org/square-root-of-2/)\n",
    "\n",
    "In mathematics, the natural numbers are those used for counting and ordering. Some definitions begin the natural numbers at 0 corresponding to non-negative integers 0,1,2,3... collectively denoted by $\\mathbb{N_0}$  while others start with 1, corresponding to the positive integers 1,2,3,... collectively denoted by $\\mathbb{N_1}$. The natural numbers are the basis from which other number sets are built by extension. Natural numbers are often known as the counting numbers (excluding negative integers and zero) and are discrete numbers in contrast to measuring numbers or real numbers where the values are continuous and represent a distance along a line. Real numbers can be represented as an inifinite decimal expansion.\n",
    "\n",
    "####  Binary representation of integers and floats.\n",
    "In terms of computing, computer programs are made up of binary strings of 1's and 0's. Binary strings can be converted into integers. Every computer program can be converted into one of the counting numbers from the set of $\\mathbb{N}$ . According to Turing, all computer programs are countable which means they can be put into one-to-one correspondance with the natural numbers but Turing also realised that not all numbers can be calculated or computed.[Lectures notes by Ian Mc Loughlin]. The set of $\\mathbb{N}$ Natural numbers are an infinite set but it is the smallest infinite set there is and is known as countable infinite. The set of measuring numbers are all the numbers on the number line that are used for quantifying and measuring things and there is an infinite amount of such numbers between any two discrete points on the number line.\n",
    "\n",
    "A rational number can be expressed as the ratio of 2 whole numbers. It can be stored as an array of two numbers. (A number is rational only if it's decimal expansion becomes periodic).\n",
    "Real numbers such as $\\sqrt{2}$ have an infinite number of places after the decimal point. Computers cannot really store such real numbers as there is only a finite number of bits available to store the number.\n",
    "\n",
    "Floating point numbers are stored on a computer with a finite number of digits so there is a finite limit on how many decimal places they can actually store. Floating point numbers are actually stored using integers in two parts, for the whole number part before the decimal point (the characteristics) and the part of the whole after the decimal point (the mantissa). \n",
    "\n",
    "The square root of two is an irrational number and therefore cannot be expressed in the ratio of two numbers in their most simplified form. Therefore the implications of this for computing is that the square root of two can never be stored.\n",
    "An approximation of its value can be stored though in the same way for the irrational number $pi$. Irrational numbers are often stored as procedures which are used to calculate but not store the number.\n",
    "\n",
    "Caution is always required when calculation statistics or performing analytics on irrational numbers. It is possible to work theoretically or to use approximations but rounding errors could interfere will the calculations.\n",
    "\n",
    "[Chapter 5 of the Python Tutorial](https://docs.python.org/3/tutorial/floatingpoint.html) looks at the issues and limitations associated with floating point arithmetic. It illustrates how the decimal fraction 0.125 and the binary fraction 0.001 have identical values:\n",
    "\n",
    "- Floating-point numbers are represented in computer hardware as base 2 (binary) fractions\n",
    "- The decimal fraction 0.125 has value $\\frac{1}{10}$ + $\\frac{2}{100}$ + $\\frac{5}{1000}$\n",
    "- The binary fraction 0.001 has value $\\frac{0}{2}$ + $\\frac{0}{4}$ + $\\frac{1}{8}$\n",
    "The only real difference here is that the decimal fraction 0.125 is written in base 10 fractional notation while the binary fraction 0.001 above is written in base 2 notation.\n",
    "\n",
    ">Unfortunately, most decimal fractions cannot be represented exactly as binary fractions. A consequence is that, in general, the decimal floating-point numbers you enter are only approximated by the binary floating-point numbers actually stored in the machine.\n",
    "\n",
    "(It demonstrates how the fraction 1/3 can be approximated as a base 10 fraction as  0.3 or 0.33 or 0.333. No matter how many 3's you use the result will never actually be $\\frac[1}{3}$ but it will be increasingly a better approximation of $\\frac[1}{3}$)\n",
    "\n",
    "The decimal value 0.1 cannot be represented exactly as a base 2 fraction because in base 2, $\\frac{1}{10}$ is the infinitely repeating fraction\n",
    "0.0001100110011001100110011001100110011001100110011...\n",
    "If you stop at any  finite number of bits you get an approximation. \n",
    "On most machines today floats are approximated using a binary fraction. \n",
    "- The numerator uses the first 53 bits starting with the most significant bit\n",
    "- The denominator as a power of 2\n",
    "The binary fraction for the decimal 0.1 is `3602879701896397 / 2 ** 55` which is close to the true value of 1/10 but is not exactly equal to the true value of 0.1.\n",
    "We don't notice that this is not the true value and only an approximation because of the way values are displayed. Python (and other languages) only prints *a decimal approximation to the to the true decimal value of the binary approximation stored by the machine* \n",
    "\n",
    "- The true decimal value of the binary approximation stored for 0.1 is actually `0.1000000000000000055511151231257827021181583404541015625`. It is printed as 0.1 though.\n",
    "- Python displays a rounded value instead of all the digits as in most situations this is enough.\n",
    "- The important point is that even though what we see printed (0.01) looks like the exact value of $\\frac{1}{10}$, the actual value that is stored is the nearest representable binary fraction.\n",
    "\n",
    "- The tutorial here also illustrates how there are many different decimal numbers which actually share the same nearest approximate binary fraction. The numbers `0.1`  and `0.10000000000000001` and `0.1000000000000000055511151231257827021181583404541015625` are all approximated by `3602879701896397 / 2 ** 55` . These decimal values all have the same approximation.\n",
    "\n",
    "- String formatting can be used to produce a limited number of significant digits.\n",
    "For example `format(math.pi, '.12g')` gives 12 significant digits while `format(math.pi, '.2f')` gives 2  digits after the point.\n",
    "However this is simply rounding the **display** of the true machine value.\n",
    "\n",
    "See [The Perils of Floating Point](http://www.lahey.com/float.htm)\n",
    "See [str.format](https://docs.python.org/3/library/stdtypes.html#str.format)\n",
    "\n",
    "The errors in Python float operations come from the floating-point hardware. \n",
    ">The errors in Python float operations are inherited from the floating-point hardware, and on most machines are on the order of no more than 1 part in `2**53` per operation. That’s more than adequate for most tasks, but you do need to keep in mind that it’s not decimal arithmetic and that every float operation can suffer a new rounding error. (Chapter 5)\n",
    "\n",
    "**Representation error** refers to the fact that most decimal fractions cannot be represented exactly as binary (base 2) fractions in Python and other languages and therefore won’t display the exact decimal number you expect.\n",
    "- Most machines use IEEE-754 floating point arithmetic.\n",
    "- Almost all platforms map Python floats to IEEE-754 “double precision”.\n",
    "- 754 doubles contain 53 bits of precision. \n",
    "The computer strives to convert 0.1 to the closest fraction that it can of the form $J/2**N$ where J is an integer containing exactly 53 bits.\n",
    "\n",
    "- See [IEEE 754](https://en.wikipedia.org/wiki/IEEE_754) and [IEEE Standard 754 Floating Point Numbers](https://www.geeksforgeeks.org/ieee-standard-754-floating-point-numbers/) article on <geeksforgeeks.com>.\n",
    "- IEEE 754 has 3 basic components:\n",
    "    * The sign of the mantissa where `0` represents a positive number while `1` represents a negative number.\n",
    "    * The biased exponent\n",
    "    * The Normalised Mantissa\n",
    "\n",
    "- The [decimal module](https://docs.python.org/3/library/decimal.html#module-decimal) implements decimal arithmetic suitable for accounting applications and high-precision applications (but not for this task!).\n",
    "- The [fractions module](https://docs.python.org/3/library/fractions.html#module-fractions)  implements arithmetic based on rational numbers (so the numbers like 1/3 can be represented exactly).\n",
    "- NumPy and [scipy](https://scipy.org) packages are recommended for mathematical and statistical operations.\n",
    "- Python also has a [float.as_integer_ratio()](https://docs.python.org/3/library/stdtypes.html#float.as_integer_ratio) method which expresses the value of a float as a fraction. This can help when you want to know the exact value as a float. As the ratio is exact, it can be used to losslessly recreate the original value.\n",
    "\n",
    "\n",
    "\n",
    "   \n",
    "#### Using `float.as_integer_ratio()`.\n",
    "\n",
    "See [float.as_integer_ratio()](https://docs.python.org/3/library/stdtypes.html#float.as_integer_ratio) method which expresses the value of a float as a fraction. This can help when you want to know the exact value as a float. As the ratio is exact, it can be used to losslessly recreate the original value.\n",
    "\n",
    "---\n",
    "\n",
    "\n",
    "\n",
    "Both Python's `math` module and the `numpy` library have a function called `sqrt` for calulating square roots.\n",
    "This task should not use any libraries but they can be used to check the code.\n",
    "`math.sqrt(x)` calculates the square root of whatever is passed in as `x`.\n",
    "This task however is to calculate the square root of the number 2 to 100 decimal places. \n",
    "The square root of a number when multiplied by itself should give the number so here I check that by multiplying the result of `math.sqrt(2)` by `math.sqrt(2)`.\n",
    "\n",
    "The results below of squaring the square root of two returned from both the `math.sqrt` function and the `np.sqrt` function is 2.0000000000000004.  This demonstrates the problem with performing calculations on the irrational number square root of two!\n",
    "\n",
    "\n",
    "- The [decimal module](https://docs.python.org/3/library/decimal.html#module-decimal) implements decimal arithmetic suitable for accounting applications and high-precision applications (but not for this task!).\n",
    "- The [fractions module](https://docs.python.org/3/library/fractions.html#module-fractions)  implements arithmetic based on rational numbers (so the numbers like 1/3 can be represented exactly).\n",
    "- NumPy and [scipy](https://scipy.org) packages are recommended for mathematical and statistical operations.\n",
    "- Python also has a [float.as_integer_ratio()](https://docs.python.org/3/library/stdtypes.html#float.as_integer_ratio) method which expresses the value of a float as a fraction. This can help when you want to know the exact value as a float. As the ratio is exact, it can be used to losslessly recreate the original value.\n",
    "See [float.as_integer_ratio()](https://docs.python.org/3/library/stdtypes.html#float.as_integer_ratio) method which expresses the value of a float as a fraction. This can help when you want to know the exact value as a float. As the ratio is exact, it can be used to losslessly recreate the original value. \n",
    "\n",
    "- The `bin` function can be applied to any integer to get the binary representation of an integer.\n",
    "The `struct` module can be used to get the binary representation of a float.\n",
    "\n",
    "- The built-in [repr](https://docs.python.org/3/library/functions.html#repr) function returns a string containing a printable representation of the object.\n",
    "- See also the [eval](https://docs.python.org/3/library/functions.html#eval) built-in function."
   ]
  },
  {
   "cell_type": "markdown",
   "metadata": {},
   "source": [
    "References\n",
    "Task 1\n",
    "- [1][Wikipedia](https://en.wikipedia.org/wiki/Square_root)\n",
    "- [2][Wikipedia](https://en.wikipedia.org/wiki/Square_root_of_2)\n",
    "- [3][geeksforgeeks](https://www.geeksforgeeks.org/square-root-of-2/)\n",
    "- [4][mathsisfun](https://www.mathsisfun.com/numbers/square-root-2-irrational.html)\n",
    "- [5][The Maths Book: Big Ideas Simply explained](published by Dorling Kindersley Limited)\n",
    "- [6] Lecture Notes from Machine Learning and Statistics, Lecturer Dr. Ian McLoughlin\n",
    "The lecture on data types of this module looked at the binary representation of integers and floats.\n",
    "- [7][Floating Point Arithmetic: Issues and Limitations](https://docs.python.org/3/tutorial/floatingpoint.html) \n",
    "- [8][IEEE 754](https://en.wikipedia.org/wiki/IEEE_754) \n",
    "- [9][IEEE Standard 754 Floating Point Numbers](https://www.geeksforgeeks.org/ieee-standard-754-floating-point-numbers/) article on <geeksforgeeks.com>.\n",
    "- [10][The Perils of Floating Point](http://www.lahey.com/float.htm)\n",
    "- [11][str.format](https://docs.python.org/3/library/stdtypes.html#str.format)\n",
    "- [12][Python `math` module](https://docs.python.org/3/library/math.html?highlight=math#module-math)."
   ]
  },
  {
   "cell_type": "code",
   "execution_count": 233,
   "metadata": {},
   "outputs": [
    {
     "name": "stdout",
     "output_type": "stream",
     "text": [
      "1.4142135623730951\n",
      "2.0000000000000004\n",
      "1.4142135623730951\n",
      "2.0000000000000004\n"
     ]
    },
    {
     "data": {
      "text/plain": [
       "True"
      ]
     },
     "execution_count": 233,
     "metadata": {},
     "output_type": "execute_result"
    }
   ],
   "source": [
    "# import math module\n",
    "import math\n",
    "# using the sqrt function\n",
    "print(math.sqrt(2))\n",
    "print(math.sqrt(2)*math.sqrt(2))\n",
    "import numpy as np\n",
    "print(np.sqrt(2))\n",
    "print(np.sqrt(2)*np.sqrt(2))\n",
    "np.sqrt(2)*np.sqrt(2)==2\n",
    "# just seeing if the numpy and math square roots are the exact same\n",
    "math.sqrt(2) == np.sqrt(2)\n",
    "math.sqrt(2)*math.sqrt(2) == np.sqrt(2)*np.sqrt(2)\n",
    "x = np.sqrt(2)\n",
    "x.as_integer_ratio()"
   ]
  },
  {
   "cell_type": "code",
   "execution_count": 25,
   "metadata": {},
   "outputs": [
    {
     "data": {
      "text/plain": [
       "'0b111110101010101010101010101011'"
      ]
     },
     "execution_count": 25,
     "metadata": {},
     "output_type": "execute_result"
    }
   ],
   "source": [
    "import struct\n",
    "f = 1/3\n",
    "bin(struct.unpack('!i',struct.pack('!f', f))[0])"
   ]
  },
  {
   "cell_type": "code",
   "execution_count": 29,
   "metadata": {},
   "outputs": [
    {
     "data": {
      "text/plain": [
       "'0b111101110011001100110011001101'"
      ]
     },
     "execution_count": 29,
     "metadata": {},
     "output_type": "execute_result"
    }
   ],
   "source": [
    "f = 0.1\n",
    "bin(struct.unpack('!i',struct.pack('!f', f))[0])\n"
   ]
  },
  {
   "cell_type": "code",
   "execution_count": 9,
   "metadata": {},
   "outputs": [
    {
     "data": {
      "text/plain": [
       "Decimal('1.4142135623730951454746218587388284504413604736328125')"
      ]
     },
     "execution_count": 9,
     "metadata": {},
     "output_type": "execute_result"
    }
   ],
   "source": [
    "from decimal import *\n",
    "getcontext().prec = 28\n",
    "Decimal(math.sqrt(2)) "
   ]
  },
  {
   "cell_type": "code",
   "execution_count": 10,
   "metadata": {},
   "outputs": [
    {
     "data": {
      "text/plain": [
       "True"
      ]
     },
     "execution_count": 10,
     "metadata": {},
     "output_type": "execute_result"
    }
   ],
   "source": [
    "#1.4142135623730951454746218587388284504413604736328125\n",
    "num = 1.4142135623730951454746218587388284504413604736328125\n",
    "squared =num*num\n",
    "math.sqrt(squared)==num"
   ]
  },
  {
   "cell_type": "code",
   "execution_count": 4,
   "metadata": {},
   "outputs": [
    {
     "name": "stdout",
     "output_type": "stream",
     "text": [
      "True\n",
      "36028797018963968\n",
      "0.1\n",
      "True\n"
     ]
    }
   ],
   "source": [
    "x = 0.1000000000000000055511151231257827021181583404541015625\n",
    "print(eval(repr(x)) == x)\n",
    "# 2 to the power of 55\n",
    "print(2**55)\n",
    "# True\n",
    "print(3602879701896397/ (2**55))\n",
    "print((3602879701896397/ (2**55)) == 0.1)"
   ]
  },
  {
   "cell_type": "markdown",
   "metadata": {},
   "source": [
    "## Methods for Calculating square roots\n",
    "Finding the square root of a number is the inverse of finding the square of a number. The square of a number is the number times itself. The perfect squares are the squares of the whole numbers. The square root of a number is the number that when multiplied by itself gives the number.\n",
    "\n",
    ">*The square roots of the perfect squares (e.g., 0, 1, 4, 9, 16) are integers. In all other cases, the square roots of positive integers are irrational numbers, and hence have non-repeating decimals in their decimal representations.* [2]  <https://en.wikipedia.org/wiki/Square_root>\n",
    "\n",
    "\n",
    "Getting the square root of numbers that are not perfect squares is not as straightforward.\n",
    "You have to look at the square roots of perfect squares that are close to your number in question. So if you are looking at the square root of 5 you would consider the square root of 4 (which is 2) and 9 (which is 3). Therefore the square root of 5 must lie between 2 and 3. Similarly for the square root of 10, look at the square root of the perfect square 9 (which is 3) and 16 (which is 4). So the square root of 10 must lie between 3 and 4.\n",
    "Looking at the square roots of the nearest perfect squares on either side of the number in question will be the starting point for finding the square root of a non-perfect square. It involves some guesswork.\n",
    "\n",
    "- [Newton's Method](https://en.wikipedia.org/wiki/Newton%27s_method)\n",
    "- [Why does Newton's Method work?](https://math.stackexchange.com/questions/350740/why-does-newtons-method-work)\n",
    "- [Newton's Method](https://mathinsight.org/newtons_method_refresher)\n",
    "- [Roots Optimisation](https://www.math.ubc.ca/~pwalls/math-python/roots-optimization/newton/)\n",
    "\n",
    "Newtons Method can be used to get an estimate of the square root of a number. \n",
    "Using Newtons Method, regardless of the starting estimate, once the square of the estimate gets close enough to the actual number itself, then that is a good approximation for the square root. An initial estimate is used for the square root."
   ]
  },
  {
   "cell_type": "markdown",
   "metadata": {},
   "source": [
    "#### Newtons method\n",
    "Here is code using Newton's Method adapted from the example in the Tour of Go tutorial."
   ]
  },
  {
   "cell_type": "code",
   "execution_count": 204,
   "metadata": {},
   "outputs": [
    {
     "name": "stdout",
     "output_type": "stream",
     "text": [
      "1.5\n",
      "1.4166666666666667\n",
      "1.4142156862745099\n",
      "1.4142135623746899\n"
     ]
    },
    {
     "data": {
      "text/plain": [
       "1.4142135623746899"
      ]
     },
     "execution_count": 204,
     "metadata": {},
     "output_type": "execute_result"
    }
   ],
   "source": [
    "# The code here using Newtons Method is adapted from  https://tour.golang.org/flowcomtrol/8\n",
    "x= 2\n",
    "guess = 1\n",
    "# while the absolute difference between the guess squared and the number in question is greater than 0.01\n",
    "while abs((guess * guess) - x )> 0.000000001:\n",
    "        # update the guess using the formula \n",
    "    guess -=((guess * guess)-x)/(2 * guess) \n",
    "    print(guess)\n",
    "    # the approximation for the square root will be the final value of estimate from the  while loop\n",
    " # assign the final estimate to sqroot   \n",
    "sqroot = guess  \n",
    "sqroot"
   ]
  },
  {
   "cell_type": "markdown",
   "metadata": {},
   "source": [
    "### Putting Newtons code in a function. \n",
    "Here I am back looking at Newton's code but bringing the string formatting and extraction into it to get the extra digits. This is not working in the same way as the other function I used below. It also produces a different answer after the 15th decimal place. Its actually larger than the other school method I was using below rather than smaller. I could get more than 100 places with the other way. This way the computer hangs if I try using a number larger than 2 times 10 to the power of 150."
   ]
  },
  {
   "cell_type": "code",
   "execution_count": 5,
   "metadata": {},
   "outputs": [
    {
     "name": "stdout",
     "output_type": "stream",
     "text": [
      "The estimate square root is 3.0\n"
     ]
    },
    {
     "data": {
      "text/plain": [
       "'1.'"
      ]
     },
     "execution_count": 5,
     "metadata": {},
     "output_type": "execute_result"
    }
   ],
   "source": [
    "def newt_sqrt(Num):\n",
    "    # can take the first estimate to be the number itself\n",
    "    Est = Num\n",
    "    # repeat this until the difference between the Estimate Squared minus the number is small enough\n",
    "    while abs(Est*Est - Num) > 0.0000000000001:\n",
    "        # Update the new estimate to be the current estimate minus the Number\n",
    "        # Est = Est - (Est**2 - Num)/(2*Est)\n",
    "        Est -= ((Est*Est)- Num)/ (2 * Est)\n",
    "    # formatting the estimate to get the first 100 digits using fstrings and string extraction \n",
    "    result = f\"The estimate square root is {Est}\"\n",
    "    print(result)\n",
    "    format_Est =format(Est,'.100g')[1:90]  \n",
    "    return ('1'+'.'+format_Est)\n",
    "\n",
    "   \n",
    "newt_sqrt(9)"
   ]
  },
  {
   "cell_type": "code",
   "execution_count": 59,
   "metadata": {},
   "outputs": [
    {
     "name": "stdout",
     "output_type": "stream",
     "text": [
      "The estimate square root is 1.414213562373095e+75\n",
      "1.414213562373095065861871032235316220382455390571766043858573365901411745792\n",
      "77\n"
     ]
    }
   ],
   "source": [
    "#print(newt_sqrt(9))\n",
    "\n",
    "ans1 = newt_sqrt(2*10**150)\n",
    "print(ans1)\n",
    "print(len(ans1))"
   ]
  },
  {
   "cell_type": "markdown",
   "metadata": {},
   "source": [
    "#### Calculate the square root of number using Babylonian method\n",
    "There are several websites which show how to get the square roots of numbers by hand as we do in school.\n",
    "Finding the square root of a number that is not a whole number begins with some guesswork. Begin by looking at the nearest perfect squares on both sides of the number. \n",
    "\n",
    "- https://en.wikipedia.org/wiki/Square_root\n",
    "\n",
    "- https://www.homeschoolmath.net/teaching/square-root-algorithm.php\n",
    "\n",
    "- http://www.math.com/school/subject1/lessons/S1U1L9DP.html\n",
    "\n",
    "The post here at https://blogs.sas.com/content/iml/2016/05/18/newtons-method-babylonian-square-root.html explains simply how the algorithm taught in school for calculating the estimating a square root from an arbitrary guess is an iterative procedure. Given any positive number $S$ and any positive number $x_0$, apply the following formula:\n",
    "$$x_{n+1} = \\frac{(x_n + S/x_n)}{2}$$ until the iteration converges to the square root of $S$.\n",
    " \n",
    "\n",
    "The same author has a post on the [Babylonian method for finding square roots by hand](https://blogs.sas.com/content/iml/2016/05/16/babylonian-square-roots.html). (This seems to be the way I was trying to work out below.)\n",
    "Suppose you are given any positive number $S$. To find it's square root do the following:\n",
    "1. Make an initial guess. This guess can be any positive number. This is $x_0$\n",
    "2. Improve the guess by applying the formula $x_1 = \\frac{(x_0 + \\frac{S}{x_0})}{2}$.\n",
    "   The number $x_1$ is a better approximation to the square root of $S$.\n",
    "3. Iterate until convergence. \n",
    "   Apply the formula $x_{n+1}=\\frac{(x_n+\\frac{S}{x_n})}{2}$ until the process converges.\n",
    "\n",
    "    * Convergence is achieved when the  digits of $x_{n+1}$ and $x_n$ agree to as many decimal places as you desire.\n",
    "\n",
    "Make a guess of what the root of the number in question could be based on the square root of the nearest perfect squares on either side.  Add the result of this to the number and question and divide by two to get the average as the new starting guess. Keep repeating.\n",
    "\n",
    "#### Example on square root of 10\n",
    "1. Find two perfect square roots that the number in question lies between. \n",
    "    * For example if you want to find the square root of 10, you are looking at the square root of 9 which is 3 and square root of 16 which is 4.\n",
    "2. Take one of those square roots as an estimate and divide the number in question by it.\n",
    "    * S = 10\n",
    "    * The square root of 10 must lie between 3 and 4\n",
    "    * Taking 3 here as the estimate $x_0=3$\n",
    "    * Divide number in question by the starting estimate S/x0 = 10/3 = 3.3333 = X1\n",
    "    \n",
    " \n",
    "3. Take the average of the latest estimate x1 (3.3333) and S (from the previous step above) and the Number.\n",
    "    *  The average of the number 3 and the starting estimate x0 becomes the next estimate  x1\n",
    "\n",
    "    * x1 = (x0 +S/x0)/2 = (3 + 10/3)/2 = 3.16666667\n",
    "    * x2 =  (x1 + S/x1)/2 = 3.162280686800554 \n",
    "    * x3 = (x2 + S/x2)/2 = (3.162280686800554 +10/3.162280686800554)/2 = 3.1622776601698277\n",
    "    * x4 = (x3+ S/x3)/2 = (3.1622776601698277 + 10/3.1622776601698277)/2 = 3.162277660168379\n",
    "    * x5 = (x4 + S/x4)/2 = (3.162277660168379 + 10/3.162277660168379)/2 = 3.162277660168379\n",
    "    \n",
    "    `math.sqrt(10)` gives 3.1622776601683795 \n",
    "    \n",
    "#### Example of square root of 2\n",
    "\n",
    "1. Find two perfect square roots that the number in question lies between. \n",
    " \n",
    "2. Take one of those square roots as an estimate and divide the number in question by it.\n",
    "    * S = 2\n",
    "    * The square root of 2 must lie between 1 and 2\n",
    "    * Taking 1 here as the estimate $x_0=1$\n",
    "    * Divide number in question by the starting estimate S/x0 = 2/1 = 2 = X1\n",
    "    \n",
    " \n",
    "3. Take the average of the latest estimate x1 (2) and S (from the previous step above) and the Number.\n",
    "\n",
    "    * x1 = (x0 +S/x0)/2 = (2 + 2/1)/2 = 2\n",
    "    * x2 = (x1 + S/x1)/2 = (2 + 2/2)/2 =1.5\n",
    "    * x3 = (x2 + S/x2)/2 = (1.5 + 2/1.5)/2 = 1.4166666666666665\n",
    "    * x4 = (x3 + S/x3)/2 = (1.4166666666666665 + 2/1.4166666666666665)/2 = 1.4142156862745097\n",
    "    * x5 = (x4 + S/x4)/2 = (1.4142156862745097 + 2/1.4142156862745097)/2 = 1.4142135623746899\n",
    "    * x6 = (x5 + S/x5)/2 = (1.4142135623746899 + 2/1.4142135623746899)/2 = 1.414213562373095\n",
    "    * x7 = (x6 + S/x6)/2 = (1.414213562373095 + 2/1.414213562373095)/2   = 1.414213562373095\n",
    "    * x8 = (x7 + S/x7)/2 = (1.414213562373095 + 2/1.414213562373095)/2   = 1.414213562373095\n",
    "    `math.sqrt(10)` gives 3.1622776601683795 \n",
    "\n",
    "As the illustration shows here, once you get to the 5th iteration, the result is truncuated or rounded. (which?)\n",
    "- The square root of 2 truncuated to 50 decimal places is 1.41421356237309504880168872420969807856967187537694\n",
    "See (https://en.wikipedia.org/wiki/Square_root).\n"
   ]
  },
  {
   "cell_type": "code",
   "execution_count": 26,
   "metadata": {},
   "outputs": [
    {
     "name": "stdout",
     "output_type": "stream",
     "text": [
      "1.4142156862745097\n",
      "1.4142135623746899\n",
      "1.414213562373095\n",
      "1.414213562373095\n",
      "1.414213562373095\n"
     ]
    }
   ],
   "source": [
    "#print(f\"{(3.16666667 + (10/3.1666667))/2}\")\n",
    "#print(f\"{(3.162280686800554 +10/3.162280686800554)/2}\")\n",
    "#print(f\"{(3.1622776601698277 + 10/3.1622776601698277)/2}\")\n",
    "#print(f\"{(3.162277660168379 + 10/3.162277660168379)/2 }\")\n",
    "\n",
    "print(f\"{(1.4166666666666665 + 2/1.4166666666666665)/2}\")\n",
    "print(f\"{(1.4142156862745097 + 2/1.4142156862745097)/2}\")\n",
    "print(f\"{(1.4142135623746899 + 2/1.4142135623746899)/2}\")\n",
    "print(f\"{(1.414213562373095 + 2/1.414213562373095)/2}\")\n",
    "print(f\"{(1.414213562373095 + 2/1.414213562373095)/2}\")\n",
    "# and on until you get the required accuracy"
   ]
  },
  {
   "cell_type": "code",
   "execution_count": 68,
   "metadata": {},
   "outputs": [
    {
     "data": {
      "text/plain": [
       "3.1622776601683795"
      ]
     },
     "execution_count": 68,
     "metadata": {},
     "output_type": "execute_result"
    }
   ],
   "source": [
    "import math\n",
    "math.sqrt(10)"
   ]
  },
  {
   "cell_type": "markdown",
   "metadata": {},
   "source": [
    "### Applying the above to get the square root of 2.\n",
    "Here I am putting the above algorithm outlined in the [blog post] (https://blogs.sas.com/content/iml/2016/05/18/newtons-method-babylonian-square-root.html )into code using the same notation where $S$ represents the number to get the square root of and $x$ being the changing estimates.\n",
    "($x_n$, $x_0$, $x_1$, $x_{n+1}$ for the estimates at each step.)\n",
    "I use a while loop here so the value of the estimate $x$ will be updated at each iteration, representing the $X_n$ and $x_{n+1}$ estimates"
   ]
  },
  {
   "cell_type": "code",
   "execution_count": 77,
   "metadata": {},
   "outputs": [
    {
     "name": "stdout",
     "output_type": "stream",
     "text": [
      "1.414213562373095\n"
     ]
    }
   ],
   "source": [
    "# define the function\n",
    "def sqrt2(S):\n",
    "    \"\"\"\n",
    "    takes  one input which is the number to calculate the square root of\n",
    "    could also take the \n",
    "    \n",
    "    \"\"\"\n",
    "    S = 2  \n",
    "    x = 1\n",
    " \n",
    "    while abs(S -(x * x)) > 0.000000000000001:\n",
    "        x= (x + S/x)/2\n",
    "        \n",
    "    return(x)\n",
    "       \n",
    "print(sqrt2(2))   "
   ]
  },
  {
   "cell_type": "code",
   "execution_count": 65,
   "metadata": {},
   "outputs": [
    {
     "name": "stdout",
     "output_type": "stream",
     "text": [
      "200000000000000000000000000000000000000000000000000000000000000000000000000000000000000000000000000000000000000000000000000000000000000000000000000000000000000000000000000000000000000000000000000000000\n"
     ]
    },
    {
     "data": {
      "text/plain": [
       "201"
      ]
     },
     "execution_count": 65,
     "metadata": {},
     "output_type": "execute_result"
    }
   ],
   "source": [
    "print(2*(10**200))\n",
    "len(str(10**200))"
   ]
  },
  {
   "cell_type": "code",
   "execution_count": 48,
   "metadata": {},
   "outputs": [
    {
     "data": {
      "text/plain": [
       "9223372036854775807"
      ]
     },
     "execution_count": 48,
     "metadata": {},
     "output_type": "execute_result"
    }
   ],
   "source": [
    "import sys\n",
    "sys.maxsize"
   ]
  },
  {
   "cell_type": "markdown",
   "metadata": {},
   "source": [
    "### Rounding / Accuracy etc\n",
    "\n",
    "At some stage the results gets rounded and this is the main issue as outlined earlier when dealing with real numbers. Wikipedia records the square root of 2 to 50 decimal places as `1.41421356237309504880168872420969807856967187537694`\n",
    "Numpy's `sqrt` function returns the same answer as my function above to 15 decimal places. The square root of 2 using `np.sqrt` to 50 decimal places is 1.41421356237309514547462185873882845044136047363281 which differs from that recorded at Wikipedia.\n",
    "\n",
    "While the algorithm itself will calculate approximately the square root of two (accurate to 15 digits at least), it will not print out 100 decimal places so easily. The number before the decimal point cannot be rounded though so I decided to try using a large multiple of 2. In the same way that the square root of 4 is 2, square root of 400 is 20, (or square root of 9 is 3 and the square root of 900 is 30). \n",
    "- The square root of 4 times 100 (400) is the same as 100 times the sqaure root of 4.\n",
    "- The square root of 900 is the same as 100 times the square root of 9.\n",
    "\n",
    "- The[Python docs section on on floating points numbers.](https://docs.python.org/3/tutorial/floatingpoint.html) \n",
    ">Unfortunately, most decimal fractions cannot be represented exactly as binary fractions. A consequence is that, in general, the decimal floating-point numbers you enter are only approximated by the binary floating-point numbers actually stored in the machine.\n",
    "\n",
    "- According to the Python Docs section on [numeric types](https://docs.python.org/3/library/stdtypes.html#numeric-types-int-float-complex) integers have unlimited precision.\n",
    "Therefore an alternative way to solve this task would be to use a very large integer which is a multiple of 100 times 2, get the square root of that multiple and then divide the result by the multiple used. This would give the digits of the square root of two but with the decimal point in the wrong place.\n",
    "\n",
    "(The power of two is the opposite of getting the square root. The `**` operator can be used to get powers in Python). \n",
    "- Ten to the power of 100 has 100 zeros after the 1.\n",
    "- Ten to the power of 200 has 200 zeros after the 1.\n",
    "\n",
    "- 2 by 10 to the power of 200 is \"200000000000000000000000000000000000000000000000000000000000000000000000000000000000000000000000000000000000000000000000000000000000000000000000000000000000000000000000000000000000000000000000000000000\"\n",
    "\n",
    "The length function can be applied to the number after it is converted to a string. \n",
    "- Some string manipulation can be applied to the string to extract the digits excluding the `e+200` and place a `.` where needed.\n"
   ]
  },
  {
   "cell_type": "code",
   "execution_count": 78,
   "metadata": {},
   "outputs": [
    {
     "name": "stdout",
     "output_type": "stream",
     "text": [
      "1.414213562373095e-200\n"
     ]
    }
   ],
   "source": [
    "# define the function\n",
    "def sqrt2(S):\n",
    "    \"\"\"\n",
    "    takes  one input which is the number to calculate the square root of\n",
    "    could also take the \n",
    "    \n",
    "    \"\"\"\n",
    "    S = 2  #* 10**200\n",
    "    x = 1\n",
    " \n",
    "    while abs(S -(x * x)) > 0.000000000000001:\n",
    "        x= (x + S/x)/2\n",
    "        \n",
    "    return(x)\n",
    "# divide the result by 10 to power of 200        \n",
    "print(sqrt2(2)/10**200)  "
   ]
  },
  {
   "cell_type": "markdown",
   "metadata": {},
   "source": [
    "#### Modifying the function above\n",
    "When I apply my function above to this number it returns the result in scientific notation which is not what I want as I need the actual digits to print out for this task. Below I use some formatting and string manipulation. "
   ]
  },
  {
   "cell_type": "code",
   "execution_count": 121,
   "metadata": {},
   "outputs": [
    {
     "name": "stdout",
     "output_type": "stream",
     "text": [
      "\n",
      "The square root of two is: \n",
      "1.414213562373095027142412563281858698349164881791987548177900388860130684271654303022821004349852877\n"
     ]
    }
   ],
   "source": [
    "# define the function\n",
    "def sqrt2():\n",
    "    \"\"\"\n",
    "    takes  one input which is the number to calculate the square root of\n",
    "    \n",
    "    \"\"\"\n",
    "    S = 2 # This is the number we want to get the square root of\n",
    "    \n",
    "    S = S*(10**200) # 2 by 10 to power of 200\n",
    "\n",
    "    x = S\n",
    "   \n",
    "    # while the difference between the number and the square of the guess is greater than 0\n",
    "    while abs(S -(x *x)) > 0.000000000000001:\n",
    "        x= (x + S/x)/2\n",
    "        \n",
    "    #return(x)\n",
    "\n",
    "    #print(\"The square root of 2 by 10e+200 is:\\n \",x)\n",
    "    \n",
    "    \n",
    "    format_est =format(x,'.100g')\n",
    "    # extract the first 100 digits\n",
    "    \n",
    "    sqrtoftwo =format_est[0:101]\n",
    "    sqrtoftwo = sqrtoftwo[0:101]\n",
    "    print(f\"\\nThe square root of two is: \\n{sqrtoftwo}\")\n",
    "\n",
    "\n",
    "sqrt2()\n"
   ]
  },
  {
   "cell_type": "markdown",
   "metadata": {},
   "source": [
    "### Testing the output from the function\n",
    "Here I will use the Python `math.sqrt` function to test the output of my function to see if the logic would apply in the same way and produce the same result. The results do appear to be the same. However the results differ from what Wikipedia shows after the 15th decimal place. Perhaps this is to do with conversion from one type to another. \n"
   ]
  },
  {
   "cell_type": "code",
   "execution_count": 123,
   "metadata": {},
   "outputs": [
    {
     "name": "stdout",
     "output_type": "stream",
     "text": [
      " The square root of two using the math.sqrt function is \n",
      "1.41421356237309502714241256328185869834916488179198754817790038886013068427165430302282100434985287\n",
      "\n",
      "The square root of two is: \n",
      "1.414213562373095027142412563281858698349164881791987548177900388860130684271654303022821004349852877\n",
      "The square root of two using my function sqrt2() is \n",
      "None\n"
     ]
    }
   ],
   "source": [
    "import math\n",
    "math_root2 = math.sqrt(2*(10**200))\n",
    "#print(\" The square root of two using the math.sqrt function is \\n{:.100g}\".format(math_root2))\n",
    "m_sqrt2 = format(math_root2,'.100g')[0:100]\n",
    "print(f\" The square root of two using the math.sqrt function is \\n{m_sqrt2}\")\n",
    "print(f\"The square root of two using my function sqrt2() is \\n{sqrt2()}\")"
   ]
  },
  {
   "cell_type": "markdown",
   "metadata": {},
   "source": [
    "A further bit of research found this function from [geeksforgeeks.com](https://www.geeksforgeeks.org/square-root-of-an-integer/?ref=rp)\n",
    "The author notes that the value of the square root of two cannot be determined accurately because it cannot be represented as a fraction in the form ${a}{b}$ where $a$ and $b$ are whole numbers and has an infinite number of decimals.\n",
    "This code uses integer division. Integer division would not work in my function as it returns\n",
    "If I apply this function to get the square root of two it returns 1. But if I apply it to a very large multiple of two as I outlined above the digits do match those from Wikipedia.\n",
    "However while the first 50 digits returned for the square root of the very large integer 2e+200 are the same as the those from wikipedia (first 50), when I do the conversion into a string I actually get the same result as from my own function. This would indicate that my solution might actually be producing the correct answer.\n"
   ]
  },
  {
   "cell_type": "code",
   "execution_count": 131,
   "metadata": {},
   "outputs": [
    {
     "name": "stdout",
     "output_type": "stream",
     "text": [
      "1\n",
      "14142135623730950488016887242096980785696718753769480731766797379907324784621070388503875343276415727\n",
      "\n",
      "The square root of two is: \n",
      "1.414213562373095027142412563281858698349164881791987548177900388860130684271654303022821004349852877\n"
     ]
    }
   ],
   "source": [
    "# Python 3 program to find floor(sqrt(x) from geeksforgeeks.com     \n",
    "# This code is contributed by Nikita Tiwari. \n",
    "  \n",
    "# Returns floor of square root of x          \n",
    "def floorSqrt(x) : \n",
    "  \n",
    "    # Base cases \n",
    "    if (x == 0 or x == 1) : \n",
    "        return x \n",
    "   \n",
    "    # Do Binary Search for floor(sqrt(x)) \n",
    "    start = 1\n",
    "    end = x    \n",
    "    while (start <= end) : \n",
    "        mid = (start + end) // 2\n",
    "          \n",
    "        # If x is a perfect square \n",
    "        if (mid*mid == x) : \n",
    "            return mid \n",
    "              \n",
    "        # Since we need floor, we update  \n",
    "        # answer when mid*mid is smaller \n",
    "        # than x, and move closer to sqrt(x) \n",
    "        if (mid * mid < x) : \n",
    "            start = mid + 1\n",
    "            ans = mid \n",
    "              \n",
    "        else : \n",
    "              \n",
    "            # If mid*mid is greater than x \n",
    "            end = mid-1\n",
    "              \n",
    "    return ans \n",
    "  \n",
    "\n",
    "x = 2 * 10**200\n",
    "print(floorSqrt(2))\n",
    "print(floorSqrt(x)) \n",
    "\n",
    "floorsqrt2 = floorSqrt(x)\n",
    "format_floorsqrt2 =format(floorsqrt2,'.100g')\n",
    "formatfloorsqrt2 = format_floorsqrt2[0:101]\n",
    "print(f\"\\nThe square root of two is: \\n{formatfloorsqrt2}\")\n",
    "\n",
    "# Using string formatting and manipulation to get the digits"
   ]
  },
  {
   "cell_type": "markdown",
   "metadata": {},
   "source": [
    "This post [10,000 digits of Square Root of 2](https://nerdparadise.com/math/reference/2sqrt10000) on nerdparadise.com has the digits of the square root of 2 to 10,1000 places:\n",
    "1.\n",
    "4142135623 7309504880 1688724209 6980785696 7187537694 8073176679 7379907324 7846210703 8850387534 3276415727 \n",
    "\n",
    "These are the results of the `floorSqrt` function beloq from Geeksforgeeks.com\n",
    "\n",
    "14142135623 7309504880 1688724209 6980785696 7187537694 8073176679 7379907324 7846210703 8850387534 3276415727\n",
    "\n",
    "If the string conversion that the floorSqrt function produces gives the same answer as my `sqrt2` function then who is to say it is not accurate!"
   ]
  },
  {
   "cell_type": "markdown",
   "metadata": {},
   "source": [
    "#### Some notes on the Square root of 2 task.\n",
    "- Instead of hardcoding in the precision amount, I could pass it as a parameter. This would help with testing it as I could change the precision to see how the results change. At the moment if I change it my system hangs.\n",
    "- Converting from one format to another, from a float to a string might not actually be returning the exact answer. \n",
    " \n",
    "- My function applied to the square root of 2 is not calculating the correct number compared to Wikipedia. It is rounding down after the first 15 digits. Then again `numpy.sqrt` and `math.sqrt` does the same and match to my result.\n",
    "- My function applied to the square root of 2e+200 should be producing an accurate result, except that when it prints in scientific notation I cannot see it. \n",
    "\n",
    "- This task illustrates the problems with accuracy to high levels of precision and how when converting between types you won't always get what you expect. The lecture on data types and numbers highlighted that there are some irrational numbers that simply cannot be stored on a computer. Procedures can be written to produce the value when needed though. The article from the Python tutorial on the problems with floating point numbers showed an example of how there are many different decimal numbers which actually share the same nearest approximate binary fraction. It demonstrated how the numbers 0.1 and 0.10000000000000001 and 0.1000000000000000055511151231257827021181583404541015625 are all approximated by 3602879701896397 / 2 ** 55.\n",
    "- I will come back to this again and try and get my function to print out the answer in non-scientific notation and avoid converting from from integers into strings. For now I leave it as next task is out!\n"
   ]
  },
  {
   "cell_type": "markdown",
   "metadata": {},
   "source": [
    "---\n",
    "# Task 2 \n",
    "The Chi-squared test for independence is a statistical hypothesis test like a t-test. It is used to analyse whether two categorical variables are independent. The Wikipedia article gives the table below as an example [4], stating the Chi-squared value based on it is approximately 24.6. Use scipy.stats to verify this value and calculate the associated p value. You should include a short note with references justifying your analysis in a markdown cell.\n",
    "\n",
    "|   | A | B | C | D | Total|\n",
    "| -- | -- | -- | -- | -- | -- |\n",
    "|White Collar|90 | 60 | 104 | 95 | 349 |\n",
    "|Blue Collar |30 |50 |51|20|151\n",
    "|No Collar |30 |40|45|35|150\n",
    "|Total|150 |150|200|150 |650|\n",
    "\n",
    "- [https://en.wikipedia.org/w/index.php?title=Chi-squaredtest&oldid=983024096](https://en.wikipedia.org/w/index.php?title=Chi-squaredtest&oldid=983024096)"
   ]
  },
  {
   "cell_type": "markdown",
   "metadata": {},
   "source": [
    "# References for Task 2\n",
    "\n",
    "\n",
    "- Wikipedia contributors, “Chi-squared test — Wikipedia, the free encyclopedia,” 2020, [Online; accessed 1-November-2020][Online]. Available: https://en.wikipedia. org/w/index.php?title=Chi-squared test&oldid=983024096"
   ]
  },
  {
   "cell_type": "markdown",
   "metadata": {},
   "source": [
    "## Task 3\n",
    "\n",
    "---\n",
    "## Task 4\n"
   ]
  },
  {
   "cell_type": "markdown",
   "metadata": {},
   "source": [
    "# References\n",
    "\n",
    "More reference above to bring down and include here\n",
    "- https://www.latex-tutorial.com/tutorials/amsmath/\n",
    "- https://www.math-linux.com/latex-26/faq/latex-faq/article/latex-natural-numbers\n",
    "\n",
    "Read https://kodlogs.com/blog/715/convert-scientific-notation-to-decimal-python\n"
   ]
  }
 ],
 "metadata": {
  "kernelspec": {
   "display_name": "Python 3",
   "language": "python",
   "name": "python3"
  },
  "language_info": {
   "codemirror_mode": {
    "name": "ipython",
    "version": 3
   },
   "file_extension": ".py",
   "mimetype": "text/x-python",
   "name": "python",
   "nbconvert_exporter": "python",
   "pygments_lexer": "ipython3",
   "version": "3.8.2"
  }
 },
 "nbformat": 4,
 "nbformat_minor": 4
}
