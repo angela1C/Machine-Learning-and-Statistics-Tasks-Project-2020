{
 "cells": [
  {
   "cell_type": "markdown",
   "metadata": {},
   "source": [
    "# Tasks\n",
    "\n",
    "This notebook will hold my solutions to the Tasks Assessment for Machine Learning and Statistics 2020.\n",
    "(Task 1 is the only task currently available.)\n",
    "\n",
    "## Task 1:\n",
    "**Write a Python function called sqrt2 that calculates and prints to the screen the square root of 2 to 100 decimal places. Your code should not depend on any module from the standard library or otherwise. You should research the task first and include references and a description of your algorithm.**\n",
    "***\n",
    "\n",
    "The square root of two is the number that when multiplied by itself gives the number two.\n",
    "It is a geometric number as it refers to the perfect square where each side of the square is of length 1. The length of the diagonal of a perfect square is the square root of the number 2 (Pythagoras theorem).\n",
    "\n",
    "I do recall looking up square roots for problem 7 of the Problem set of Programming and Scripting module. This problem involved writing a program to take a positive floating point number as input and to output an approximation of it's square root.\n",
    "\n",
    "First to Wikipedia for any information on why this particular number is noteworthy.\n",
    "According to [1][Wikipedia](https://en.wikipedia.org/wiki/Square_root_of_2)., the square root of two was probably the first number known to be irrational.\n",
    ">*The square root of 2, or the one-half power of 2, written in mathematics as \n",
    "$2{\\sqrt {2}}$ or $2^{{1/2}}$ is the positive algebraic number that, when multiplied by itself, equals the number 2.*\n",
    "\n",
    ">Technically, it must be called the principal square root of 2, to distinguish it from the negative number with the same property.\n",
    "[1][Wikipedia](https://en.wikipedia.org/wiki/Square_root_of_2).\n",
    "\n",
    "There is a lot on the Wikipedia page so I will come back to it.\n",
    "\n",
    "\n",
    "[2][mathsisfun](https://www.mathsisfun.com/numbers/square-root-2-irrational.html) has a nice easy explanation of why the the square root of two is an irrational number and can never be written as a fraction."
   ]
  },
  {
   "cell_type": "markdown",
   "metadata": {},
   "source": [
    "### What does the square root of two look like?\n",
    "Here I will have a look at what the square root of two should look like.\n",
    "There is a Python function for calculating square roots in the maths module which is part of the Python Standard Library. See [math module](https://docs.python.org/3/library/math.html?highlight=math#module-math).\n",
    "This task should not use any libraries but the [math.sqrt](https://docs.python.org/3/library/math.html?highlight=math#math.sqrt) function could be used to check the results of my code.\n",
    "`math.sqrt(x)` calculates the square root of whatever is passed in as `x`.\n",
    "This task however is to calculate the square root of the number 2 to 100 decimal places. \n",
    "\n",
    "$\\sqrt{2}$"
   ]
  },
  {
   "cell_type": "code",
   "execution_count": 1,
   "metadata": {},
   "outputs": [
    {
     "data": {
      "text/plain": [
       "1.4142135623730951"
      ]
     },
     "execution_count": 1,
     "metadata": {},
     "output_type": "execute_result"
    }
   ],
   "source": [
    "# import math module\n",
    "import math\n",
    "# using the sqrt function\n",
    "math.sqrt(2)"
   ]
  },
  {
   "cell_type": "markdown",
   "metadata": {},
   "source": [
    "The square root of a number when multiplied by itself should give the number so I will check that here by multiplying the result of `math.sqrt(2)` by `math.sqrt(2)`."
   ]
  },
  {
   "cell_type": "code",
   "execution_count": 2,
   "metadata": {},
   "outputs": [
    {
     "data": {
      "text/plain": [
       "2.0000000000000004"
      ]
     },
     "execution_count": 2,
     "metadata": {},
     "output_type": "execute_result"
    }
   ],
   "source": [
    "math.sqrt(2)*math.sqrt(2)\n"
   ]
  },
  {
   "cell_type": "markdown",
   "metadata": {},
   "source": [
    "The result above is 2.0000000000000004 which I guess demonatrates the problem with performing calculations on the irrational number square root of two!\n",
    "\n",
    "The lecture on data types of this module looked at the binary representation of integers and floats. Here are some of the relevant notes from the lecture in relation to the square root of two.\n",
    "- Floating point numbers are stored with a finite number of digits so there is a finite limit on how many decimal places they can store. Therefore computers cannot really store real numbers such as $\\sqrt{2}$ and $\\pi$ which have an infinite number of places after the decimal point as there is only a finite number of bits available.\n",
    "- Floating point numbers are actually stored using integers in two parts, for the  part before the decimal point and the part after the decimal point.\n",
    "- The lecture also looked at the set of &Nopf; which are the Natural numbers (also known as the counting numbers) and compared them to the measuring numbers. The measuring numbers are all the numbers on the number line that are used for quantifying and measuring things.\n",
    "\n",
    "- There are an infinite amount of numbers between any two discrete numbers on the number line. \n",
    "- The Natural numbers N are an infinite set but it is the smallest infinite set there is and known as countable infinite.\n",
    "- There are less counting or Naturalnumbers than measuring numbers although there is an infinite number of numbers in each set.  \n",
    "\n",
    "\n",
    "- Computer programs are made up of binary strings of 1's and 0's. Binary strings can be converted into integers. Every computer program can be converted into one of the counting numbers from the set of N. According to Turing, all computer programs are countable which means they can be put into one-to-one correspondance with the natural numbers but Turing also realised that not all numbers can be calculated or computed.\n",
    "- There are more measuring numbers than counting numbers which has implications for computing and data.\n",
    "\n",
    "-  A rational number can be expressed as the ratio of 2 whole numbers. It can be stored as an array of two numbers. A number is rational only if it's decimal expansion becomes periodic.\n",
    "\n",
    "- The square root of two is an irrational number and therefore cannot be expressed in the ratio of two numbers in their most simplified form.\n",
    "\n",
    "- The implications of this for computing is that the square root of two can never be stored. An approximation of its value can be stored though. This is the same for the irrational number $pi$. Irrational numbers are often stored as procedures which are used to calculate but not store the number.\n",
    "- Caution is always required when calculation statistics or performing analytics on irrational numbers. It is possible to work theoretically or to use approximations but rounding errors could interfere will the calculations.\n",
    "\n",
    "***\n",
    "For the programming and scripting problem set I used Newton's method to get the estimate of the square root of the number, following the tutorial provide in the Tour of Go tutorial. So I'll look there again. \n",
    "Here are some of the resources I used then which may be useful here.\n",
    "- [wikipedia](https://en.wikipedia.org/wiki/Newton%27s_method)\n",
    "- [math.stackexchange](https://math.stackexchange.com/questions/350740/why-does-newtons-method-work)\n",
    "- [mathinsight](https://mathinsight.org/newtons_method_refresher)\n",
    "\n",
    "Newtons Method can be used to get an estimate of the square root of a number. \n",
    "Using Newtons Method, regardless of the starting estimate, once the square of the estimate gets close enough to the actual number itself, then that is a good approximation for the square root. An initial estimate is used for the square root.\n",
    "\n",
    "The task here though involves specifically the square root of two so I'll have to look into this number in more detail\n",
    "\n",
    "Here I will look at what squares and square roots of various numbers would look like when plotted. x will be the number to be squared, y will be the number squared, z will be the square root of the squared number which should be the same as x. The square root of two is approximately 1.4142135623730951 using the `np.sqrt()` function. Therefore I will just look at the numbers between 0 and 5"
   ]
  },
  {
   "cell_type": "markdown",
   "metadata": {},
   "source": [
    "### Will delete most of this!"
   ]
  },
  {
   "cell_type": "markdown",
   "metadata": {},
   "source": [
    "### Looking at some numbers between 1 and 2\n",
    "The square root of two is approximately 1.4142135623730951. Therefore here I will look at plotting numbers in this range.\n",
    "- X is 100 evenly spaced numbers between 1 and 2.\n",
    "- Y is the square of x so x times x\n",
    "- Z is the square root of y which should be the same as x\n",
    "\n",
    "Below I plot X vs Y and then Z vs X which should look the same."
   ]
  },
  {
   "cell_type": "code",
   "execution_count": 3,
   "metadata": {},
   "outputs": [],
   "source": [
    "# import numpy and matplotlib.pyplot libraries\n",
    "import numpy as np\n",
    "import matplotlib.pyplot as plt\n",
    "\n",
    "# x will be 100 points evenly spaced between 1 and 2\n",
    "x = np.linspace(1, 2, 100)\n",
    "# Y will be x squared\n",
    "y = x * x\n",
    "# z will be the square root of y which should give back x\n",
    "z= np.sqrt(y)\n",
    "\n",
    "\n",
    "#print(\"x: 100 evenly spaced numbers between 1 and 2:\\n\")\n",
    "#print(x)\n",
    "#print(\"\\ny: The square of x:\\n\")\n",
    "#print(y)\n",
    "#print(\"\\nz: The square root of y:\\n\")\n",
    "#print(z)\n",
    "\n"
   ]
  },
  {
   "cell_type": "code",
   "execution_count": 4,
   "metadata": {},
   "outputs": [
    {
     "data": {
      "text/plain": [
       "array([], dtype=float64)"
      ]
     },
     "execution_count": 4,
     "metadata": {},
     "output_type": "execute_result"
    }
   ],
   "source": [
    "# Checking whether z is the same as x.\n",
    "x == z\n",
    "# check if any x which is not the same as z\n",
    "x[x!=z]"
   ]
  },
  {
   "cell_type": "markdown",
   "metadata": {},
   "source": [
    "### Checking if the square root of two squared is equal to two.\n",
    "Using `numpy.sqrt` function I am checking whether the square root of two times the square root of two is the exact same as 2. "
   ]
  },
  {
   "cell_type": "code",
   "execution_count": 5,
   "metadata": {},
   "outputs": [
    {
     "data": {
      "text/plain": [
       "False"
      ]
     },
     "execution_count": 5,
     "metadata": {},
     "output_type": "execute_result"
    }
   ],
   "source": [
    "np.sqrt(2)*np.sqrt(2)==2"
   ]
  },
  {
   "cell_type": "markdown",
   "metadata": {},
   "source": [
    "### Plotting the squares of numbers between 1 and 2"
   ]
  },
  {
   "cell_type": "code",
   "execution_count": 6,
   "metadata": {},
   "outputs": [
    {
     "data": {
      "image/png": "[encoded data removed]",
      "text/plain": [
       "<Figure size 432x288 with 2 Axes>"
      ]
     },
     "metadata": {},
     "output_type": "display_data"
    }
   ],
   "source": [
    "# setting up the figure\n",
    "plt.figure()\n",
    "# subplot for x vs y \n",
    "plt.subplot(211)\n",
    "plt.plot(x,y)\n",
    "plt.xlabel('x')\n",
    "plt.ylabel('$y=x^2$')\n",
    "# remove the x and y ticks\n",
    "plt.xticks([])\n",
    "plt.yticks([])\n",
    "\n",
    "# subplot for z vs y\n",
    "plt.subplot(212)\n",
    "plt.xlabel('$z=\\sqrt{y}$')\n",
    "plt.ylabel('$y=x^2$')\n",
    "# remove the x and y ticks\n",
    "plt.xticks([])\n",
    "plt.yticks([])\n",
    "#plt.plot(z)\n",
    "plt.plot(z,y)\n",
    "\n",
    "\n",
    "plt.suptitle(\"\")\n",
    "\n",
    "plt.show()\n",
    "\n"
   ]
  },
  {
   "cell_type": "markdown",
   "metadata": {},
   "source": [
    "After this I looked at many many more points between 1 and 2 but I had far too many points and crashed the computer!\n",
    "The square root of 2 is approximately 1.4142135623730951 so here I am narrowing the range of x to between 1.41421 and 1.41422 and looking at the square of 10,000,000 points in this range (y) and then the square roots of y as z.\n",
    "At this level of accuracy the square root of x squared is still equating to x.\n",
    "At some stage as many many more points are added in between I would \n"
   ]
  },
  {
   "cell_type": "code",
   "execution_count": 7,
   "metadata": {},
   "outputs": [
    {
     "data": {
      "text/plain": [
       "array([], dtype=float64)"
      ]
     },
     "execution_count": 7,
     "metadata": {},
     "output_type": "execute_result"
    }
   ],
   "source": [
    "# x will be 10000 points evenly spaced between 1.414213 and 1.4142135\n",
    "x = np.linspace(1.414213, 1.4142135, 10000000)\n",
    "# Y will be x squared\n",
    "y = x * x\n",
    "# z will be the square root of y which should give back x\n",
    "z= np.sqrt(y)\n",
    "# checking if the square root times the square root gives the original number back\n",
    "x == z\n",
    "# checking if any values at all\n",
    "x[x!=z]"
   ]
  },
  {
   "cell_type": "code",
   "execution_count": 8,
   "metadata": {},
   "outputs": [
    {
     "data": {
      "text/plain": [
       "True"
      ]
     },
     "execution_count": 8,
     "metadata": {},
     "output_type": "execute_result"
    }
   ],
   "source": [
    "#1.4142135623730951\n",
    "num = 1.4142135623730951\n",
    "squared =num*num\n",
    "math.sqrt(squared)==num"
   ]
  },
  {
   "cell_type": "markdown",
   "metadata": {},
   "source": [
    "This is where I leave it for now.\n",
    "I need to see how to change the number of decimal points that python will use so I can see what the square root of 2 looks like to 100 decimal places.\n",
    "The [decimal](https://docs.python.org/3/library/decimal.html) module might be helful here.\n",
    "I need to look up algorithms used for calulating the square root of 2 and refresh on Newtons method.\n",
    "The point of the task is not to just print the square root of two to 100 decimal places but to actually calculate the square root of 2.\n",
    "The `decimal` library is not to be used for the task itself."
   ]
  },
  {
   "cell_type": "code",
   "execution_count": 9,
   "metadata": {},
   "outputs": [
    {
     "data": {
      "text/plain": [
       "Decimal('1.4142135623730951454746218587388284504413604736328125')"
      ]
     },
     "execution_count": 9,
     "metadata": {},
     "output_type": "execute_result"
    }
   ],
   "source": [
    "from decimal import *\n",
    "getcontext().prec = 28\n",
    "Decimal(math.sqrt(2)) "
   ]
  },
  {
   "cell_type": "code",
   "execution_count": 10,
   "metadata": {},
   "outputs": [
    {
     "data": {
      "text/plain": [
       "True"
      ]
     },
     "execution_count": 10,
     "metadata": {},
     "output_type": "execute_result"
    }
   ],
   "source": [
    "#1.4142135623730951454746218587388284504413604736328125\n",
    "num = 1.4142135623730951454746218587388284504413604736328125\n",
    "squared =num*num\n",
    "math.sqrt(squared)==num"
   ]
  },
  {
   "cell_type": "code",
   "execution_count": 11,
   "metadata": {},
   "outputs": [
    {
     "name": "stdout",
     "output_type": "stream",
     "text": [
      "[1.414      1.41400202 1.41400404 1.41400606 1.41400808 1.4140101\n",
      " 1.41401212 1.41401414 1.41401616 1.41401818 1.4140202  1.41402222\n",
      " 1.41402424 1.41402626 1.41402828 1.4140303  1.41403232 1.41403434\n",
      " 1.41403636 1.41403838 1.4140404  1.41404242 1.41404444 1.41404646\n",
      " 1.41404848 1.41405051 1.41405253 1.41405455 1.41405657 1.41405859\n",
      " 1.41406061 1.41406263 1.41406465 1.41406667 1.41406869 1.41407071\n",
      " 1.41407273 1.41407475 1.41407677 1.41407879 1.41408081 1.41408283\n",
      " 1.41408485 1.41408687 1.41408889 1.41409091 1.41409293 1.41409495\n",
      " 1.41409697 1.41409899 1.41410101 1.41410303 1.41410505 1.41410707\n",
      " 1.41410909 1.41411111 1.41411313 1.41411515 1.41411717 1.41411919\n",
      " 1.41412121 1.41412323 1.41412525 1.41412727 1.41412929 1.41413131\n",
      " 1.41413333 1.41413535 1.41413737 1.41413939 1.41414141 1.41414343\n",
      " 1.41414545 1.41414747 1.41414949 1.41415152 1.41415354 1.41415556\n",
      " 1.41415758 1.4141596  1.41416162 1.41416364 1.41416566 1.41416768\n",
      " 1.4141697  1.41417172 1.41417374 1.41417576 1.41417778 1.4141798\n",
      " 1.41418182 1.41418384 1.41418586 1.41418788 1.4141899  1.41419192\n",
      " 1.41419394 1.41419596 1.41419798 1.4142    ]\n"
     ]
    },
    {
     "data": {
      "text/plain": [
       "array([], dtype=float64)"
      ]
     },
     "execution_count": 11,
     "metadata": {},
     "output_type": "execute_result"
    }
   ],
   "source": [
    "# x will be 10000 points evenly spaced between 1.4142135623730951454746218587388284504413604736328124 and \n",
    "x = np.linspace(1.414, 1.4142, 100)\n",
    "# Y will be x squared\n",
    "print(x)\n",
    "y = x * x\n",
    "# z will be the square root of y which should give back x\n",
    "z= np.sqrt(y)\n",
    "# checking if the square root times the square root gives the original number back\n",
    "x == z\n",
    "# checking if any values at all\n",
    "x[x!=z]"
   ]
  },
  {
   "cell_type": "code",
   "execution_count": 12,
   "metadata": {},
   "outputs": [
    {
     "data": {
      "image/png": "[encoded data removed]",
      "text/plain": [
       "<Figure size 432x288 with 2 Axes>"
      ]
     },
     "metadata": {},
     "output_type": "display_data"
    }
   ],
   "source": [
    "# setting up the figure\n",
    "plt.figure()\n",
    "# subplot for x vs y \n",
    "plt.subplot(211)\n",
    "plt.xlim(1.414, 1.4142)\n",
    "plt.ylim(1.999,2.000001)\n",
    "# remove the x and y ticks\n",
    "plt.xticks([])\n",
    "plt.yticks([])\n",
    "plt.plot(x,y)\n",
    "\n",
    "\n",
    "plt.xlabel('x')\n",
    "plt.ylabel('$y=x^2$')\n",
    "\n",
    "\n",
    "# subplot for z vs y\n",
    "plt.subplot(212)\n",
    "plt.ylabel('$z=\\sqrt{y}$')\n",
    "#plt.plot(z)\n",
    "plt.xlim(1.414, 1.4142)\n",
    "plt.ylim(1.999,2.000001)\n",
    "plt.plot(z,y)\n",
    "\n",
    "plt.xlabel('$z=\\sqrt{y}$')\n",
    "plt.ylabel('$y=x^2$')\n",
    "\n",
    "plt.xticks([])\n",
    "plt.yticks([])\n",
    "plt.suptitle(\"\")\n",
    "\n",
    "plt.show()\n",
    "\n"
   ]
  },
  {
   "cell_type": "markdown",
   "metadata": {},
   "source": [
    "## Methods for Calculating square roots\n",
    "Finding the square root of a number is the inverse of finding the square of a number. The square of a number is the number times itself. The perfect squares are the squares of the whole numbers. The square root of a number is the number that when multiplied by itself gives the number.\n",
    "\n",
    ">*The square roots of the perfect squares (e.g., 0, 1, 4, 9, 16) are integers. In all other cases, the square roots of positive integers are irrational numbers, and hence have non-repeating decimals in their decimal representations.* [2]  <https://en.wikipedia.org/wiki/Square_root>\n",
    "\n",
    "\n",
    "Getting the square root of numbers that are not perfect squares is not as straightforward.\n",
    "You have to look at the square roots of perfect squares that are close to your number in question. So if you are looking at the square root of 5 you would consider the square root of 4 (which is 2) and 9 (which is 3). Therefore the square root of 5 would lie between 2 and 3. Similarly for the square root of 10, look at the square root of the perfect square 9 (3) and 16 (4). So the square root of 10 would be between 3 and 4.\n",
    "Looking at the square roots of the nearest perfect squares on either side of the number in question will be the starting point for finding the square root of a non-perfect square. It involves some guesswork."
   ]
  },
  {
   "cell_type": "code",
   "execution_count": 13,
   "metadata": {},
   "outputs": [
    {
     "name": "stdout",
     "output_type": "stream",
     "text": [
      "Looking for square root of 5:\n",
      "2.0\n",
      "2.23606797749979\n",
      "3.0\n",
      "\n",
      "Looking for square root of 10:\n",
      "3.0\n",
      "3.1622776601683795\n",
      "4.0\n"
     ]
    }
   ],
   "source": [
    "print(\"Looking for square root of 5:\")\n",
    "print(np.sqrt(4))\n",
    "print(np.sqrt(5))\n",
    "print(np.sqrt(9))\n",
    "print(\"\\nLooking for square root of 10:\")\n",
    "print(np.sqrt(9))\n",
    "print(np.sqrt(10))\n",
    "print(np.sqrt(16))"
   ]
  },
  {
   "cell_type": "markdown",
   "metadata": {},
   "source": [
    "Here is the code using Newton's Method adapted from the tour of go that I used for the square root in the programming and scripting problem set. (problem 7)\n",
    "It was adapted from the example in the Tour of Go tutorial."
   ]
  },
  {
   "cell_type": "code",
   "execution_count": 14,
   "metadata": {},
   "outputs": [
    {
     "name": "stdout",
     "output_type": "stream",
     "text": [
      "1.5\n",
      "1.4166666666666667\n",
      "1.4142156862745099\n",
      "1.4142135623746899\n"
     ]
    },
    {
     "data": {
      "text/plain": [
       "1.4142135623746899"
      ]
     },
     "execution_count": 14,
     "metadata": {},
     "output_type": "execute_result"
    }
   ],
   "source": [
    "# The code here using Newtons Method is adapted from  https://tour.golang.org/flowcomtrol/8\n",
    "x= 2\n",
    "guess = 1\n",
    "# while the absolute difference between the guess squared and the number in question is greater than 0.01\n",
    "while abs((guess * guess) - x )> 0.000000001:\n",
    "        # update the guess using the formula \n",
    "    guess -=((guess * guess)-x)/(2 * guess) \n",
    "    print(guess)\n",
    "    # the approximation for the square root will be the final value of estimate from the  while loop\n",
    " # assign the final estimate to sqroot   \n",
    "sqroot = guess  \n",
    "sqroot"
   ]
  },
  {
   "cell_type": "markdown",
   "metadata": {},
   "source": [
    "There are several websites which show how to get the square roots of numbers in the way I would have learnt back in school.\n",
    "\n",
    "- https://en.wikipedia.org/wiki/Square_root\n",
    "\n",
    "- https://www.homeschoolmath.net/teaching/square-root-algorithm.php\n",
    "\n",
    "- http://www.math.com/school/subject1/lessons/S1U1L9DP.html\n",
    "\n",
    "\n",
    "To find the square root of a number that is not a whole number involves some guesswork \n",
    "\n",
    "1. Find two perfect square roots that the number in question lies between. \n",
    "    * For example if you want to find the square root of 10, you are looking at the square root of 9 which is 3 and square root of 16 which is 4.\n",
    "2. Take one of those square roots as an estimate and divide the number in question by it.\n",
    "    * The square root of 10 must lie between 3 and 4\n",
    "    * pick either 3 or 4 as the estimate\n",
    "    * Divide number in question by the starting estimate (3 or 4)\n",
    "        * 10 / 3 = 3.3333\n",
    "        * 10 / 4 = 2.5\n",
    " \n",
    "3. Take the average of the result of step 2 above and the current guess\n",
    "\n",
    "    *  (3 + 3.3333)/2 = 3.16666667\n",
    "    \n",
    "4. Use result from previous step as the new estimate and repeat these two steps until you get your answer.\n",
    "    * new guess = 3.166667\n",
    "    * 10 / 3.166667 = 3.1578944\n",
    "    * (3.166667 + 3.1578944)/2 = 3.1622807\n",
    "    \n",
    "    * next guess. = 3.1622807\n",
    "    * 10 / 3.162280 = 3.16227532033849\n",
    "    * (3.162280 + 3.16227532033849)/2\n",
    "    * 3.162277660169245\n",
    "    \n",
    "\n",
    "- `np.sqrt(10)` will give 3.1622776601683795\n",
    "\n",
    "Make a guess of what the root of the number in question could be based on the square root of the nearest perfect squares on either side.  Add the result of this to the number and question and divide by two to get the average as the new starting guess. Keep repeating\n",
    "\n",
    "- The square root of 10 truncuated to 50 decimal places is 3.16227766016837933199889354443271853371955513932521 \n",
    "\n",
    "- The square root of 5 truncuated to 50 decimal placecs is 2.23606797749978969640917366873127623544061835961152\n",
    "- The square root of 2 truncuated to 50 decimal places is 1.41421356237309504880168872420969807856967187537694\n",
    "See (https://en.wikipedia.org/wiki/Square_root).\n"
   ]
  },
  {
   "cell_type": "markdown",
   "metadata": {},
   "source": [
    "### Applying the above to get the square root of 2.\n",
    "\n",
    "$1^2=1$ and $2^2=4$, therefore the square root of 2 must fall between 1 and 2.\n",
    "Use 1 as the starting guess."
   ]
  },
  {
   "cell_type": "markdown",
   "metadata": {},
   "source": [
    "1. Find two perfect square roots that the number in question lies between. \n",
    "       * 1 or 2\n",
    "2. Take one of those square roots as an estimate and divide the number in question by it.\n",
    "    * The square root of 2 must lie between 1 and 2\n",
    "    * pick either 1 or 2 as the estimate\n",
    "    * Divide number in question by the chosen estimate (1 or 2)\n",
    "        * 2 / 1 = 2\n",
    "        * (or 2 / 2 = 1)\n",
    " \n",
    "3. Take the average of the result of step 2 above and the current guess\n",
    "\n",
    "    *  (2 + 1)/2 = 1.5\n",
    "    \n",
    "4. Use result from previous step as the new estimate and repeat these two steps until you get your answer.\n",
    "    - new guess = 1.5\n",
    "        * 2 / 1.5 = 1.33333333\n",
    "        * (1.5 +1.33333333 )/2 = 1.4166666650000002\n",
    "    \n",
    "    - next guess = 1.4166666650000002\n",
    "        * 2 / 1.4166666650000002 = 1.4117647075432525\n",
    "        * (1.4166666650000002 + 1.4117647075432525)/2 = 1.4142156862716262\n",
    "        \n",
    "    - next guess = 1.4142156862716262\n",
    "         * 2/ 1.4142156862716262 = 1.4142114384777535\n",
    "         * (1.4142156862716262 + 1.4142114384777535)/2 = 1.4142135623746899\n",
    "         \n",
    "    - next guess = 1.4142135623746899\n",
    "    \n",
    "    and so on.......\n",
    "    \n",
    "    "
   ]
  },
  {
   "cell_type": "markdown",
   "metadata": {},
   "source": [
    "Putting the above algorithm into code..."
   ]
  },
  {
   "cell_type": "code",
   "execution_count": 15,
   "metadata": {},
   "outputs": [
    {
     "name": "stdout",
     "output_type": "stream",
     "text": [
      "2.0\n",
      "1.5\n"
     ]
    }
   ],
   "source": [
    "x = 2\n",
    "guess = 1\n",
    "y = x / guess\n",
    "ave = (guess +y)/2\n",
    "print(y)\n",
    "print(ave)"
   ]
  },
  {
   "cell_type": "code",
   "execution_count": 219,
   "metadata": {},
   "outputs": [
    {
     "name": "stdout",
     "output_type": "stream",
     "text": [
      "1.414213562373095\n",
      "1.414213562373094923430016933707520365715026855468750000000000\n",
      "<class 'str'>\n",
      "1.41421356237309492343001693370752036571502685546875\n"
     ]
    }
   ],
   "source": [
    "# x is the number 2  that we want the square root of\n",
    "#x = 2**10\n",
    "x = 2\n",
    "# guess is based on the square root of the nearest perfect square\n",
    "#guess = 1**10\n",
    "guess =1\n",
    "\n",
    "# while the difference between 2 and the calculated square root is greater than a specified amount\n",
    "while abs(x -(guess * guess)) > 0.00000000000001:\n",
    "    \n",
    "    y = x / guess\n",
    "    ave = (guess + y)/2\n",
    "    guess = ave\n",
    "print(guess)\n",
    "\n",
    "result = ('%.60f' %guess)\n",
    "print(result)\n",
    "print(type(result))\n",
    "print('%.60g' %guess)"
   ]
  },
  {
   "cell_type": "code",
   "execution_count": 2,
   "metadata": {},
   "outputs": [
    {
     "data": {
      "text/plain": [
       "1.9999999999999996"
      ]
     },
     "execution_count": 2,
     "metadata": {},
     "output_type": "execute_result"
    }
   ],
   "source": [
    "guess **2"
   ]
  },
  {
   "cell_type": "code",
   "execution_count": 27,
   "metadata": {},
   "outputs": [
    {
     "name": "stdout",
     "output_type": "stream",
     "text": [
      "1267650600228229401496703205376\n",
      "10000000000000000000000000000000000000000000000000000000000000000000000000000000000000000000000000000\n"
     ]
    },
    {
     "data": {
      "text/plain": [
       "7888609052210118054117285652827862296732064351090230047702789306640625"
      ]
     },
     "execution_count": 27,
     "metadata": {},
     "output_type": "execute_result"
    }
   ],
   "source": [
    "print(2**100)\n",
    "print(10**100)\n",
    "(10**100)//(2**100)"
   ]
  },
  {
   "cell_type": "markdown",
   "metadata": {},
   "source": [
    "## Rounding / Accuracy etc\n",
    "\n",
    "At some stage the results gets rounded.\n",
    "This is the main problem to be solved here I suppose!\n",
    "\n",
    "See [python docs](https://docs.python.org/3/tutorial/floatingpoint.html) tutorial on floating point numbers.\n",
    "\n",
    "#### square root of 2 to 50 decimal places. \n",
    "1.41421356237309504880168872420969807856967187537694\n",
    "(from wikipedia)\n",
    "#### square root of 2 using np.sqrt to 50 decimal places\n",
    "1.41421356237309514547462185873882845044136047363281"
   ]
  },
  {
   "cell_type": "markdown",
   "metadata": {},
   "source": [
    "The power of two is the opposite of getting the square root.\n",
    "The `**` operator can be used to get powers."
   ]
  },
  {
   "cell_type": "code",
   "execution_count": 13,
   "metadata": {},
   "outputs": [
    {
     "data": {
      "text/plain": [
       "2.0000000000000004"
      ]
     },
     "execution_count": 13,
     "metadata": {},
     "output_type": "execute_result"
    }
   ],
   "source": [
    "1.41421356237309514547462185873882845044136047363281**2"
   ]
  },
  {
   "cell_type": "code",
   "execution_count": 17,
   "metadata": {},
   "outputs": [
    {
     "data": {
      "text/plain": [
       "4.440892098500626e-16"
      ]
     },
     "execution_count": 17,
     "metadata": {},
     "output_type": "execute_result"
    }
   ],
   "source": [
    "2-(1.414213562373095 * 1.414213562373095)"
   ]
  },
  {
   "cell_type": "code",
   "execution_count": 18,
   "metadata": {},
   "outputs": [
    {
     "name": "stdout",
     "output_type": "stream",
     "text": [
      " The square root of two is 1.41421356237309514547462185873882845044136047363281\n"
     ]
    }
   ],
   "source": [
    "root2 = np.sqrt(2)\n",
    "print(\" The square root of two is {:.50f}\".format(root2))"
   ]
  },
  {
   "cell_type": "code",
   "execution_count": 19,
   "metadata": {},
   "outputs": [
    {
     "name": "stdout",
     "output_type": "stream",
     "text": [
      " The square root of two is 14.14213562373095101065700873732566833496093750000000\n"
     ]
    }
   ],
   "source": [
    "root2 = np.sqrt(200)\n",
    "print(\" The square root of two is {:.50f}\".format(root2))"
   ]
  },
  {
   "cell_type": "code",
   "execution_count": 1,
   "metadata": {},
   "outputs": [
    {
     "data": {
      "text/plain": [
       "0.1"
      ]
     },
     "execution_count": 1,
     "metadata": {},
     "output_type": "execute_result"
    }
   ],
   "source": [
    "1/10"
   ]
  },
  {
   "cell_type": "markdown",
   "metadata": {},
   "source": [
    "### Printing to 100 decimal places ........\n",
    "\n",
    "**Delete most of the above!!**\n",
    "\n",
    "The algorithm itself will calculate the square root of two but will not print out 100 decimal places so easily. The number before the decimal point cannot be rounded though so I could try using a multiple of 2.\n",
    "Just going to use the math module here to see what the square root of a multiple of 2 would look like. \n",
    "square root of 4 is 2, square root of 400 is 20\n",
    "square root of 9 is 3, square root of 900 is 30\n",
    "So first try multiplying by 100, then square root of the result and divide by 100.\n",
    "Can use the `**` to raise to power of in Python. See [python docs](https://docs.python.org/3/tutorial/introduction.html#using-python-as-a-calculator)"
   ]
  },
  {
   "cell_type": "code",
   "execution_count": null,
   "metadata": {},
   "outputs": [],
   "source": []
  },
  {
   "cell_type": "code",
   "execution_count": 80,
   "metadata": {},
   "outputs": [
    {
     "name": "stdout",
     "output_type": "stream",
     "text": [
      "4\n",
      "10000000000\n",
      "10000000000000000000000000000000000000000000000000000000000000000000000000000000000000000000000000000\n"
     ]
    },
    {
     "data": {
      "text/plain": [
       "10000000000"
      ]
     },
     "execution_count": 80,
     "metadata": {},
     "output_type": "execute_result"
    }
   ],
   "source": [
    "print(2**2) # 2 to power of 2\n",
    "print(10**10) # 10 to power of 10 is 10000000000\n",
    "print (10**100)\n",
    "# 10 to power of \n",
    "10**10\n"
   ]
  },
  {
   "cell_type": "markdown",
   "metadata": {},
   "source": [
    "10 to the power of 2 is 100, 10 to the power of 10 is 10000000000\n",
    "10 to the power of 100 is a big number! Can get the length of this by using the length function on a string. `len(str()`"
   ]
  },
  {
   "cell_type": "code",
   "execution_count": 84,
   "metadata": {},
   "outputs": [
    {
     "name": "stdout",
     "output_type": "stream",
     "text": [
      "11\n",
      "101\n",
      "1001\n"
     ]
    }
   ],
   "source": [
    "print(len(str(10**10)))\n",
    "print(len(str(10**100)))\n",
    "print(len(str(10**1000)))"
   ]
  },
  {
   "cell_type": "code",
   "execution_count": 90,
   "metadata": {},
   "outputs": [
    {
     "name": "stdout",
     "output_type": "stream",
     "text": [
      "1.4142135623730951\n",
      "141421.35623730952\n",
      "1.414213562373095e+50\n"
     ]
    }
   ],
   "source": [
    "print(math.sqrt(2))\n",
    "print(math.sqrt(2*(10**10)))\n",
    "print(math.sqrt(2*(10**100)))\n",
    "\n"
   ]
  },
  {
   "cell_type": "markdown",
   "metadata": {},
   "source": [
    "now its using scientific notation so somehow need to convert this.\n",
    "its also not long enough!\n",
    "cannot use math.sqrt on `2*(10**100)` as I get an overflow error, int too large to convert.\n",
    "Try using a smaller number"
   ]
  },
  {
   "cell_type": "code",
   "execution_count": 94,
   "metadata": {},
   "outputs": [
    {
     "data": {
      "text/plain": [
       "200000000000000000000000000000000000000000000000000000000000000000000000000000000000000000000000000000000000000000000000000000000000000000000000000000000000000000000000000000000000000000000000000000000"
      ]
     },
     "execution_count": 94,
     "metadata": {},
     "output_type": "execute_result"
    }
   ],
   "source": [
    "2*(10**200)"
   ]
  },
  {
   "cell_type": "code",
   "execution_count": 95,
   "metadata": {},
   "outputs": [
    {
     "name": "stdout",
     "output_type": "stream",
     "text": [
      "1.414213562373095e+100\n"
     ]
    }
   ],
   "source": [
    "print(math.sqrt(2*(10**200)))"
   ]
  },
  {
   "cell_type": "markdown",
   "metadata": {},
   "source": [
    "So this is getting closer to what I want. Still not sure how to print out the decimal places though so look this up.\n"
   ]
  },
  {
   "cell_type": "code",
   "execution_count": 100,
   "metadata": {},
   "outputs": [
    {
     "name": "stdout",
     "output_type": "stream",
     "text": [
      "20000000000000000000000000000000000000000000000000000000000000000000000000000000000000000000000000000\n",
      "101\n"
     ]
    }
   ],
   "source": [
    "x =2*(10**100)\n",
    "print(x)\n",
    "print(len(str(x)))"
   ]
  },
  {
   "cell_type": "markdown",
   "metadata": {},
   "source": [
    "The approx square root of 2 is 1.414213567. Try multiplying this by 10 to power of 100"
   ]
  },
  {
   "cell_type": "code",
   "execution_count": 102,
   "metadata": {},
   "outputs": [
    {
     "name": "stdout",
     "output_type": "stream",
     "text": [
      "1.414213567e+100\n"
     ]
    }
   ],
   "source": [
    "x =1.414213567*(10**100)\n",
    "print(x)\n"
   ]
  },
  {
   "cell_type": "markdown",
   "metadata": {},
   "source": [
    "Trying applying code from earlier to see if it works. Need to put into a function. Come back to do this later.\n"
   ]
  },
  {
   "cell_type": "code",
   "execution_count": 176,
   "metadata": {},
   "outputs": [
    {
     "name": "stdout",
     "output_type": "stream",
     "text": [
      "1.414213562373095e+50\n"
     ]
    }
   ],
   "source": [
    "\n",
    "# x is the number that we want the square root of\n",
    "\n",
    "# x = 2\n",
    "x = 2*(10**100)\n",
    "# guess is based on the square root of the nearest perfect square\n",
    "\n",
    "#guess = 1\n",
    "guess = 1**10 # dont think it makes a difference as it will move after the first iteration\n",
    "\n",
    "\n",
    "# while the difference between 2 and the calculated square root is greater than a specified amount\n",
    "while abs(x -(guess * guess)) > 0.00000000000001:\n",
    "    \n",
    "    y = x / guess\n",
    "    ave = (guess + y)/2\n",
    "    guess = ave\n",
    "print(guess)"
   ]
  },
  {
   "cell_type": "code",
   "execution_count": 223,
   "metadata": {},
   "outputs": [
    {
     "name": "stdout",
     "output_type": "stream",
     "text": [
      "1.414213562373095e+100\n"
     ]
    }
   ],
   "source": [
    "# x is the number that we want the square root of\n",
    "\n",
    "x = 2*(10**200)\n",
    "\n",
    "# guess is based on the square root of the nearest perfect square\n",
    "#guess = 1**10\n",
    "#guess =1*(10**200)\n",
    "guess =1\n",
    "\n",
    "# while the difference between 2 and the calculated square root is greater than a specified amount\n",
    "while abs(x -(guess * guess)) > 0.00000000000001:\n",
    "    \n",
    "    y = x / guess\n",
    "    ave = (guess + y)/2\n",
    "    guess = ave\n",
    "    final_guess = guess\n",
    "print(final_guess)"
   ]
  },
  {
   "cell_type": "markdown",
   "metadata": {},
   "source": [
    "Still scientific notation though.\n",
    "maybe just multiply the answer by the multiples of 100 instead??\n"
   ]
  },
  {
   "cell_type": "code",
   "execution_count": 224,
   "metadata": {},
   "outputs": [
    {
     "data": {
      "text/plain": [
       "1.414213562373095e+200"
      ]
     },
     "execution_count": 224,
     "metadata": {},
     "output_type": "execute_result"
    }
   ],
   "source": [
    "final_guess *(10**100)"
   ]
  },
  {
   "cell_type": "markdown",
   "metadata": {},
   "source": [
    "So I can print out a long integer such as `x =2*(10**100)` "
   ]
  },
  {
   "cell_type": "code",
   "execution_count": 192,
   "metadata": {},
   "outputs": [
    {
     "name": "stdout",
     "output_type": "stream",
     "text": [
      "20000000000000000000000000000000000000000000000000000000000000000000000000000000000000000000000000000\n"
     ]
    }
   ],
   "source": [
    "x =2*(10**100)\n",
    "print(x)"
   ]
  },
  {
   "cell_type": "code",
   "execution_count": 193,
   "metadata": {},
   "outputs": [
    {
     "name": "stdout",
     "output_type": "stream",
     "text": [
      "20000000000000000000000000000000000000000000000000000000000000000000000000000000000000000000000000000000000000000000000000000000000000000000000000000000000000000000000000000000000000000000000000000000000000000000000000000000000000000000000000000000000000000000000000000000000000000000000000000000000000000000000000000000000000000000000000000000000000000000000000000000000000000000000000000000000000000000000000000000000000000000000000000000000000000000000000000000000000000000000000000000000000000000000000000000000000000000000000000000000000000000000000000000000000000000000000000000000000000000000000000000000000000000000000000000000000000000000000000000000000000000000000000000000000000000000000000000000000000000000000000000000000000000000000000000000000000000000000000000000000000000000000000000000000000000000000000000000000000000000000000000000000000000000000000000000000000000000000000000000000000000000000000000000000000000000000000000000000000000000000000000000000000000000000000000000000000\n"
     ]
    }
   ],
   "source": [
    "x =2*(10**1000)\n",
    "print(x)"
   ]
  },
  {
   "cell_type": "code",
   "execution_count": 199,
   "metadata": {},
   "outputs": [
    {
     "data": {
      "text/plain": [
       "20000000000000000000000000000000000000000000000000000000000000000000000000000000000000000000000000000"
      ]
     },
     "execution_count": 199,
     "metadata": {},
     "output_type": "execute_result"
    }
   ],
   "source": [
    "x =2*(10**100)\n",
    "x"
   ]
  },
  {
   "cell_type": "markdown",
   "metadata": {},
   "source": [
    "So I need to find a way of printing the scientific notation to float.\n",
    "Look back again at [python docs on floating points numbers.](https://docs.python.org/3/tutorial/floatingpoint.html) which goes into detail as to why\n",
    ">Unfortunately, most decimal fractions cannot be represented exactly as binary fractions. A consequence is that, in general, the decimal floating-point numbers you enter are only approximated by the binary floating-point numbers actually stored in the machine.\n",
    "\n",
    "\n",
    "Can use string formatting to print a limited number of significant digits.\n",
    "Trying the example from the python docs tutorial first which uses example of `.2f` to give 2 digits after the decimal point and `.12g` to give 12 significant digits.\n",
    "I could specify `.100g`or`.100f`\n",
    "I did try this earlier on the algorithm to find the square root of 2 but it printed zeros after the first 50 places. Now I will try it on the algorithm applied to the multiple of 2 (2 multiplied by 10 to power of 100)"
   ]
  },
  {
   "cell_type": "code",
   "execution_count": 202,
   "metadata": {},
   "outputs": [
    {
     "data": {
      "text/plain": [
       "'3.14159265359'"
      ]
     },
     "execution_count": 202,
     "metadata": {},
     "output_type": "execute_result"
    }
   ],
   "source": [
    "format(math.pi, '.2f') # give 2 digits after the point\n",
    "format(math.pi, '.12g') # give 12 significant digits\n",
    "'3.14159265359'"
   ]
  },
  {
   "cell_type": "code",
   "execution_count": 227,
   "metadata": {},
   "outputs": [
    {
     "name": "stdout",
     "output_type": "stream",
     "text": [
      "200000000000000000000000000000000000000000000000000000000000000000000000000000000000000000000000000000000000000000000000000000000000000000000000000000000000000000000000000000000000000000000000000000000\n"
     ]
    },
    {
     "data": {
      "text/plain": [
       "1.414213562373095e+100"
      ]
     },
     "execution_count": 227,
     "metadata": {},
     "output_type": "execute_result"
    }
   ],
   "source": [
    "# just checking the result from the algorithm applied to the large multiple of 2\n",
    "print(x)\n",
    "final_guess"
   ]
  },
  {
   "cell_type": "code",
   "execution_count": 255,
   "metadata": {},
   "outputs": [
    {
     "data": {
      "text/plain": [
       "'1.414213562373095027142412563281858698349164881791987548177900388860130684271654303022821004349852877e+100'"
      ]
     },
     "execution_count": 255,
     "metadata": {},
     "output_type": "execute_result"
    }
   ],
   "source": [
    "format_guess = format(guess,'.100g')\n",
    "format_guess"
   ]
  },
  {
   "cell_type": "markdown",
   "metadata": {},
   "source": [
    "getting somewhere! Not sure if this is accurate though but will leave it for here today.\n",
    "Come back next and tidy up the notebook.\n",
    "Wikipedia shows the square root of 2 to 50 decimal places. I have this above somewhere in the top of the notebook:\n",
    "1.41421356237309504880168872420969807856967187537694 \n",
    "It differs completely to my answer after the first 16 places 1.4142135623730950 !\n",
    "At least I am printing over 100 digits (even if this is for a number that is not 2)\n",
    "The task is to print the square root of 2 to 100 decimal places. My answer is the square root of 2 times 10 to power of 100 (200000000000000000000000000000000000000000000000000000000000000000000000000000000000000000000000000000000000000000000000000000000000000000000000000000000000000000000000000000000000000000000000000000000)"
   ]
  },
  {
   "cell_type": "code",
   "execution_count": 256,
   "metadata": {},
   "outputs": [
    {
     "data": {
      "text/plain": [
       "106"
      ]
     },
     "execution_count": 256,
     "metadata": {},
     "output_type": "execute_result"
    }
   ],
   "source": [
    "len(str(format_guess))"
   ]
  },
  {
   "cell_type": "code",
   "execution_count": 257,
   "metadata": {},
   "outputs": [
    {
     "data": {
      "text/plain": [
       "201"
      ]
     },
     "execution_count": 257,
     "metadata": {},
     "output_type": "execute_result"
    }
   ],
   "source": [
    "len(str(x))"
   ]
  },
  {
   "cell_type": "code",
   "execution_count": 258,
   "metadata": {},
   "outputs": [
    {
     "name": "stdout",
     "output_type": "stream",
     "text": [
      "1.414213562373095027142412563281858698349164881791987548177900388860130684271654303022821004349852877e+100\n"
     ]
    }
   ],
   "source": [
    "print(format_guess)"
   ]
  },
  {
   "cell_type": "markdown",
   "metadata": {},
   "source": [
    "need to take away the `e+100` from the end of the string.\n",
    "See [strings tutorial](https://docs.python.org/3/tutorial/introduction.html#strings) from the python docs. I can just take the first 102 characters including the 1 and the decimal point. "
   ]
  },
  {
   "cell_type": "code",
   "execution_count": 259,
   "metadata": {},
   "outputs": [
    {
     "data": {
      "text/plain": [
       "'1.414213562373095027142412563281858698349164881791987548177900388860130684271654303022821004349852877'"
      ]
     },
     "execution_count": 259,
     "metadata": {},
     "output_type": "execute_result"
    }
   ],
   "source": [
    "result =format_guess[0:101]\n",
    "result"
   ]
  },
  {
   "cell_type": "markdown",
   "metadata": {},
   "source": [
    "I should try and square this to see if it actually returns 2 exactly or not. It is a string so how to get the float out of it. "
   ]
  },
  {
   "cell_type": "code",
   "execution_count": 260,
   "metadata": {},
   "outputs": [
    {
     "data": {
      "text/plain": [
       "1.9999999999999996"
      ]
     },
     "execution_count": 260,
     "metadata": {},
     "output_type": "execute_result"
    }
   ],
   "source": [
    "1.414213562373095027142412563281858698349164881791987548177900388860130684271654303022821004349852877**2"
   ]
  },
  {
   "cell_type": "code",
   "execution_count": 261,
   "metadata": {},
   "outputs": [
    {
     "data": {
      "text/plain": [
       "1.9999999999999996"
      ]
     },
     "execution_count": 261,
     "metadata": {},
     "output_type": "execute_result"
    }
   ],
   "source": [
    "float(result)*float(result)"
   ]
  },
  {
   "cell_type": "code",
   "execution_count": 262,
   "metadata": {},
   "outputs": [
    {
     "data": {
      "text/plain": [
       "2.0000000000000004"
      ]
     },
     "execution_count": 262,
     "metadata": {},
     "output_type": "execute_result"
    }
   ],
   "source": [
    "math.sqrt(2)*math.sqrt(2)"
   ]
  },
  {
   "cell_type": "code",
   "execution_count": 263,
   "metadata": {},
   "outputs": [
    {
     "data": {
      "text/plain": [
       "2.0000000000000004"
      ]
     },
     "execution_count": 263,
     "metadata": {},
     "output_type": "execute_result"
    }
   ],
   "source": [
    "np.sqrt(2)*np.sqrt(2)"
   ]
  },
  {
   "cell_type": "markdown",
   "metadata": {},
   "source": [
    "Its not exactly 2 after all! So back to the drawing board. Definitely leaving it here for today! \n",
    "Read through what I have done again the next time, cut the irrelevant stuff and see what else I can do. \n",
    "Googling how to print to 100 decimal places points to using the decimal library but this is not allowed for this task. I will look at it though to see what it can do that I can't.\n",
    "Came across this website [kodlogs](https://kodlogs.com/blog/715/convert-scientific-notation-to-decimal-python) so look at this.\n",
    "goodbye! git push"
   ]
  },
  {
   "cell_type": "code",
   "execution_count": null,
   "metadata": {},
   "outputs": [],
   "source": []
  },
  {
   "cell_type": "code",
   "execution_count": null,
   "metadata": {},
   "outputs": [],
   "source": []
  }
 ],
 "metadata": {
  "kernelspec": {
   "display_name": "Python 3",
   "language": "python",
   "name": "python3"
  },
  "language_info": {
   "codemirror_mode": {
    "name": "ipython",
    "version": 3
   },
   "file_extension": ".py",
   "mimetype": "text/x-python",
   "name": "python",
   "nbconvert_exporter": "python",
   "pygments_lexer": "ipython3",
   "version": "3.8.3"
  }
 },
 "nbformat": 4,
 "nbformat_minor": 4
}
