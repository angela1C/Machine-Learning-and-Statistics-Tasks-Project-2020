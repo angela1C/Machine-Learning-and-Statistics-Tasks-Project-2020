{
 "cells": [
  {
   "cell_type": "markdown",
   "metadata": {},
   "source": [
    "# Tasks\n",
    "\n",
    "This notebook will hold my solutions to the Tasks Assessment for Machine Learning and Statistics 2020.\n",
    "(Task 1 is the only task currently available.)\n",
    "\n",
    "The author is Angela Carpenter\n",
    "\n",
    "## Task 1:\n",
    "**Write a Python function called sqrt2 that calculates and prints to the screen the square root of 2 to 100 decimal places. Your code should not depend on any module from the standard library or otherwise. You should research the task first and include references and a description of your algorithm.**\n",
    "\n",
    "***"
   ]
  },
  {
   "cell_type": "markdown",
   "metadata": {},
   "source": [
    "### Plan\n",
    "- Some information on the square root of 2 and why this number in particular would be of interest\n",
    "- How this would fit in with the machine learning and statistics module. \n",
    "    * Binary representation of floats\n",
    "    * Not all numbers can be calculated using a computer. Irrational numbers such as the square root of 2 falls into this category\n",
    "- Methods for calculating square roots in general\n",
    "    * method by hand from school days involving making a guess to begin\n",
    "    * Newtons method used for the programming and scripting problem of semester 1\n",
    "- How to print out the 100 decimal places when the usual number printed is 15.\n",
    "    * Using a large multiple of 2 which will print a larger whole number and then extracting the digits from this.\n",
    "    \n"
   ]
  },
  {
   "cell_type": "markdown",
   "metadata": {},
   "source": [
    "## The square root of two $\\sqrt{2}$\n",
    "The square root of two is the number that when multiplied by itself gives the number two.\n",
    "It is a geometric number as it refers to the perfect square where each side of the square is of length 1. The length of the diagonal of a perfect square is the square root of the number 2 (Pythagoras theorem).\n",
    "\n",
    "First to Wikipedia for any information on why this particular number is noteworthy.\n",
    "According to [1][Wikipedia](https://en.wikipedia.org/wiki/Square_root_of_2)., the square root of two was probably the first number known to be irrational.\n",
    ">*The square root of 2, or the one-half power of 2, written in mathematics as \n",
    "$2{\\sqrt {2}}$ or $2^{{1/2}}$ is the positive algebraic number that, when multiplied by itself, equals the number 2.*\n",
    "\n",
    ">Technically, it must be called the principal square root of 2, to distinguish it from the negative number with the same property.\n",
    "[1][Wikipedia](https://en.wikipedia.org/wiki/Square_root_of_2).\n",
    "[2][mathsisfun](https://www.mathsisfun.com/numbers/square-root-2-irrational.html) has a nice easy explanation of why the the square root of two is an irrational number and can never be written as a fraction.\n",
    "\n",
    "To see what the square root of two looks like I will use the `math` module or the `numpy` package.\n",
    "There is a Python function for calculating square roots in the maths module which is part of the Python Standard Library. See [math module](https://docs.python.org/3/library/math.html?highlight=math#module-math).\n",
    "This task should not use any libraries but the [math.sqrt](https://docs.python.org/3/library/math.html?highlight=math#math.sqrt) function could be used to check the results of my code.\n",
    "`math.sqrt(x)` calculates the square root of whatever is passed in as `x`.\n",
    "This task however is to calculate the square root of the number 2 to 100 decimal places. \n",
    "The square root of a number when multiplied by itself should give the number so here I check that by multiplying the result of `math.sqrt(2)` by `math.sqrt(2)`.\n",
    "\n",
    "The results below of squaring the square root of two returned from both the `math.sqrt` function and the `np.sqrt` function is 2.0000000000000004.  This demonstrates the problem with performing calculations on the irrational number square root of two!"
   ]
  },
  {
   "cell_type": "code",
   "execution_count": 233,
   "metadata": {},
   "outputs": [
    {
     "name": "stdout",
     "output_type": "stream",
     "text": [
      "1.4142135623730951\n",
      "2.0000000000000004\n",
      "1.4142135623730951\n",
      "2.0000000000000004\n"
     ]
    },
    {
     "data": {
      "text/plain": [
       "True"
      ]
     },
     "execution_count": 233,
     "metadata": {},
     "output_type": "execute_result"
    }
   ],
   "source": [
    "# import math module\n",
    "import math\n",
    "# using the sqrt function\n",
    "print(math.sqrt(2))\n",
    "print(math.sqrt(2)*math.sqrt(2))\n",
    "import numpy as np\n",
    "print(np.sqrt(2))\n",
    "print(np.sqrt(2)*np.sqrt(2))\n",
    "np.sqrt(2)*np.sqrt(2)==2\n",
    "# just seeing if the numpy and math square roots are the exact same\n",
    "math.sqrt(2) == np.sqrt(2)\n",
    "math.sqrt(2)*math.sqrt(2) == np.sqrt(2)*np.sqrt(2)"
   ]
  },
  {
   "cell_type": "markdown",
   "metadata": {},
   "source": [
    "\n",
    "## Binary representation of integers and floats.\n",
    "\n",
    "#### References used here:\n",
    "- [1][Floating Point Arithmetic: Issues and Limitations](https://docs.python.org/3/tutorial/floatingpoint.html) \n",
    " \n",
    "- [2] Lecture Notes from Machine Learning and Statistics, Lecturer Dr. Ian McLoughlin\n",
    "The lecture on data types of this module looked at the binary representation of integers and floats.\n",
    "\n",
    "\n",
    "Floating point numbers are stored with a finite number of digits so there is a finite limit on how many decimal places they can actually store. \n",
    "- Real numbers such as $\\sqrt{2}$ and $\\pi$ have an infinite number of places after the decimal point. Computers cannot really store such real numbers as there is only a finite number of bits available to store the number.\n",
    "- Floating point numbers are actually stored using integers in two parts, for the whole number part before the decimal point and the part of the whole after the decimal point. (Think it might be called the characteristics for the whole number and the mantissa for the part after the decimal point).\n",
    "\n",
    "- The set of $\\mathbb{N}$ Natural numbers are an infinite set but it is the smallest infinite set there is and is known as countable infinite. The set of measuring numbers are all the numbers on the number line that are used for quantifying and measuring things and there is an infinite amount of such numbers between any two discrete points on the number line.\n",
    " \n",
    "- Computer programs are made up of binary strings of 1's and 0's. Binary strings can be converted into integers. Every computer program can be converted into one of the counting numbers from the set of $\\mathbb{N}$ . According to Turing, all computer programs are countable which means they can be put into one-to-one correspondance with the natural numbers but Turing also realised that not all numbers can be calculated or computed.\n",
    "\n",
    "-  A rational number can be expressed as the ratio of 2 whole numbers. It can be stored as an array of two numbers. A number is rational only if it's decimal expansion becomes periodic.\n",
    "\n",
    "- The square root of two is an irrational number and therefore cannot be expressed in the ratio of two numbers in their most simplified form.\n",
    "\n",
    "- The implications of this for computing is that the square root of two can never be stored. An approximation of its value can be stored though. This is the same for the irrational number $pi$. Irrational numbers are often stored as procedures which are used to calculate but not store the number.\n",
    "- Caution is always required when calculation statistics or performing analytics on irrational numbers. It is possible to work theoretically or to use approximations but rounding errors could interfere will the calculations.\n",
    "\n",
    "### Floating Point Arithmetic: Issues and Limitations\n",
    "This section here is based on the tutorial in the python docs at chapter 15.\n",
    "[Chapter 5 of the Python Tutorial](https://docs.python.org/3/tutorial/floatingpoint.html) looks at the issues and limitations associated with floating point arithmetic. It illustrates how the decimal fraction 0.125 and the binary fraction 0.001 have identical values:\n",
    "\n",
    "- Floating-point numbers are represented in computer hardware as base 2 (binary) fractions\n",
    "- The decimal fraction 0.125 has value $\\frac{1}{10}$ + $\\frac{2}{100}$ + $\\frac{5}{1000}$\n",
    "- The binary fraction 0.001 has value $\\frac{0}{2}$ + $\\frac{0}{4}$ + $\\frac{1}{8}$\n",
    "The only real difference here is that the decimal fraction 0.125 is written in base 10 fractional notation while the binary fraction 0.001 above is written in base 2 notation.\n",
    "\n",
    ">Unfortunately, most decimal fractions cannot be represented exactly as binary fractions. A consequence is that, in general, the decimal floating-point numbers you enter are only approximated by the binary floating-point numbers actually stored in the machine.\n",
    "\n",
    "(It demonstrates how the fraction 1/3 can be approximated as a base 10 fraction as  0.3 or 0.33 or 0.333. No matter how many 3's you use the result will never actually be $\\frac[1}{3}$ but it will be increasingly a better approximation of $\\frac[1}{3}$)\n",
    "\n",
    "The decimal value 0.1 cannot be represented exactly as a base 2 fraction because in base 2, $\\frac{1}{10}$ is the infinitely repeating fraction\n",
    "0.0001100110011001100110011001100110011001100110011...\n",
    "If you stop at any  finite number of bits you get an approximation. \n",
    "On most machines today floats are approximated using a binary fraction. \n",
    "- The numerator uses the first 53 bits starting with the most significant bit\n",
    "- The denominator as a power of 2\n",
    "The binary fraction for the decimal 0.1 is `3602879701896397 / 2 ** 55` which is close to the true value of 1/10 but is not exactly equal to the true value of 0.1.\n",
    "We don't notice that this is not the true value and only an approximation because of the way values are displayed. Python (and other languages) only prints *a decimal approximation to the to the true decimal value of the binary approximation stored by the machine* \n",
    "\n",
    "- The true decimal value of the binary approximation stored for 0.1 is actually `0.1000000000000000055511151231257827021181583404541015625`. It is printed as 0.1 though.\n",
    "- Python displays a rounded value instead of all the digits as in most situations this is enough.\n",
    "- The important point is that even though what we see printed (0.01) looks like the exact value of $\\frac{1}{10}$, the actual value that is stored is the nearest representable binary fraction.\n",
    "\n",
    "- The tutorial here also illustrates how there are many different decimal numbers which actually share the same nearest approximate binary fraction. The numbers `0.1`  and `0.10000000000000001` and `0.1000000000000000055511151231257827021181583404541015625` are all approximated by `3602879701896397 / 2 ** 55` . These decimal values all have the same approximation.\n",
    "\n",
    "- String formatting can be used to produce a limited number of significant digits.\n",
    "For example `format(math.pi, '.12g')` gives 12 significant digits while `format(math.pi, '.2f')` gives 2  digits after the point.\n",
    "However this is simply rounding the **display** of the true machine value.\n",
    "\n",
    "See [The Perils of Floating Point](http://www.lahey.com/float.htm)\n",
    "See [str.format](https://docs.python.org/3/library/stdtypes.html#str.format)\n",
    "\n",
    "The errors in Python float operations come from the floating-point hardware.\n",
    ">The errors in Python float operations are inherited from the floating-point hardware, and on most machines are on the order of no more than 1 part in `2**53` per operation. That’s more than adequate for most tasks, but you do need to keep in mind that it’s not decimal arithmetic and that every float operation can suffer a new rounding error.\n",
    "\n",
    "- The [decimal module](https://docs.python.org/3/library/decimal.html#module-decimal) implements decimal arithmetic suitable for accounting applications and high-precision applications (but not for this task!).\n",
    "- The [fractions module](https://docs.python.org/3/library/fractions.html#module-fractions)  implements arithmetic based on rational numbers (so the numbers like 1/3 can be represented exactly).\n",
    "- NumPy and [scipy](https://scipy.org) packages are recommended for mathematical and statistical operations.\n",
    "- Python also has a [float.as_integer_ratio()](https://docs.python.org/3/library/stdtypes.html#float.as_integer_ratio) method which expresses the value of a float as a fraction. This can help when you want to know the exact value as a float. As the ratio is exact, it can be used to losslessly recreate the original value.\n",
    "\n",
    "\n",
    "- **Representation error** refers to the fact that most decimal fractions cannot be represented exactly as binary (base 2) fractions in Python and other languages and therefore won’t display the exact decimal number you expect.\n",
    "- Most machines use IEEE-754 floating point arithmetic.\n",
    "- Almost all platforms map Python floats to IEEE-754 “double precision”.\n",
    "- 754 doubles contain 53 bits of precision. \n",
    "The computer strives to convert 0.1 to the closest fraction that it can of the form $J/2**N$ where J is an integer containing exactly 53 bits.\n",
    "\n",
    "\n",
    "- See [IEEE 754](https://en.wikipedia.org/wiki/IEEE_754) and [IEEE Standard 754 Floating Point Numbers](https://www.geeksforgeeks.org/ieee-standard-754-floating-point-numbers/) article on <geeksforgeeks.com>.\n",
    "- IEEE 754 has 3 basic components:\n",
    "    * The sign of the mantissa where `0` represents a positive number while `1` represents a negative number.\n",
    "    * The biased exponent\n",
    "    * The Normalised Mantissa\n",
    "   \n",
    "#### Using `float.as_integer_ratio()`.\n",
    "\n",
    "See [float.as_integer_ratio()](https://docs.python.org/3/library/stdtypes.html#float.as_integer_ratio) method which expresses the value of a float as a fraction. This can help when you want to know the exact value as a float. As the ratio is exact, it can be used to losslessly recreate the original value.\n",
    "\n",
    "This function is a built-in Python function. "
   ]
  },
  {
   "cell_type": "code",
   "execution_count": 61,
   "metadata": {},
   "outputs": [
    {
     "data": {
      "text/plain": [
       "(6369051672525773, 4503599627370496)"
      ]
     },
     "execution_count": 61,
     "metadata": {},
     "output_type": "execute_result"
    }
   ],
   "source": [
    "x = np.sqrt(2)\n",
    "x.as_integer_ratio()"
   ]
  },
  {
   "cell_type": "markdown",
   "metadata": {},
   "source": [
    "### Binary representation of numbers\n",
    "The `bin` function can be applied to any integer to get the binary representation of an integer.\n",
    "The `struct` module can be used to get the binary representation of a float."
   ]
  },
  {
   "cell_type": "code",
   "execution_count": 25,
   "metadata": {},
   "outputs": [
    {
     "data": {
      "text/plain": [
       "'0b111110101010101010101010101011'"
      ]
     },
     "execution_count": 25,
     "metadata": {},
     "output_type": "execute_result"
    }
   ],
   "source": [
    "import struct\n",
    "f = 1/3\n",
    "bin(struct.unpack('!i',struct.pack('!f', f))[0])"
   ]
  },
  {
   "cell_type": "code",
   "execution_count": 29,
   "metadata": {},
   "outputs": [
    {
     "data": {
      "text/plain": [
       "'0b111101110011001100110011001101'"
      ]
     },
     "execution_count": 29,
     "metadata": {},
     "output_type": "execute_result"
    }
   ],
   "source": [
    "f = 0.1\n",
    "bin(struct.unpack('!i',struct.pack('!f', f))[0])\n"
   ]
  },
  {
   "cell_type": "code",
   "execution_count": 9,
   "metadata": {},
   "outputs": [
    {
     "data": {
      "text/plain": [
       "Decimal('1.4142135623730951454746218587388284504413604736328125')"
      ]
     },
     "execution_count": 9,
     "metadata": {},
     "output_type": "execute_result"
    }
   ],
   "source": [
    "from decimal import *\n",
    "getcontext().prec = 28\n",
    "Decimal(math.sqrt(2)) "
   ]
  },
  {
   "cell_type": "code",
   "execution_count": 10,
   "metadata": {},
   "outputs": [
    {
     "data": {
      "text/plain": [
       "True"
      ]
     },
     "execution_count": 10,
     "metadata": {},
     "output_type": "execute_result"
    }
   ],
   "source": [
    "#1.4142135623730951454746218587388284504413604736328125\n",
    "num = 1.4142135623730951454746218587388284504413604736328125\n",
    "squared =num*num\n",
    "math.sqrt(squared)==num"
   ]
  },
  {
   "cell_type": "markdown",
   "metadata": {},
   "source": [
    "### Format Strings to print more digits than the default\n",
    "See the section on the bottom of the notebook where I was experimenting. To be deleted."
   ]
  },
  {
   "cell_type": "code",
   "execution_count": 245,
   "metadata": {},
   "outputs": [
    {
     "name": "stdout",
     "output_type": "stream",
     "text": [
      "3.141592653589793115997963468544185161590576171875\n",
      "3.1415926535897931159979634685441851615905761718750000000\n",
      "3.141592653589793\n"
     ]
    }
   ],
   "source": [
    "print(format(math.pi, '.55g'))\n",
    "print(format(math.pi, '.55f'))\n",
    "print(repr(math.pi))"
   ]
  },
  {
   "cell_type": "code",
   "execution_count": 242,
   "metadata": {},
   "outputs": [
    {
     "name": "stdout",
     "output_type": "stream",
     "text": [
      "0.1000000000000000055511151231257827021181583404541015625\n",
      "0.1000000000000000055511151231257827021181583404541015625\n"
     ]
    }
   ],
   "source": [
    "x = 1/10\n",
    "print(format(x,'.55g'))\n",
    "print(format(x,'.56g'))"
   ]
  },
  {
   "cell_type": "markdown",
   "metadata": {},
   "source": [
    "- The built-in [repr](https://docs.python.org/3/library/functions.html#repr) function returns a string containing a printable representation of the object.\n",
    "- See also the [eval](https://docs.python.org/3/library/functions.html#eval) built-in function."
   ]
  },
  {
   "cell_type": "code",
   "execution_count": 231,
   "metadata": {},
   "outputs": [
    {
     "name": "stdout",
     "output_type": "stream",
     "text": [
      "0.1\n",
      "0.1\n",
      "0.1\n",
      "1.4142135623730951\n"
     ]
    }
   ],
   "source": [
    "print(repr(0.1))\n",
    "print(repr(0.10000000000000001))\n",
    "print(repr(0.1000000000000000055511151231257827021181583404541015625))\n",
    "import math\n",
    "print(repr(math.sqrt(2)))"
   ]
  },
  {
   "cell_type": "code",
   "execution_count": 4,
   "metadata": {},
   "outputs": [
    {
     "name": "stdout",
     "output_type": "stream",
     "text": [
      "True\n",
      "36028797018963968\n",
      "0.1\n",
      "True\n"
     ]
    }
   ],
   "source": [
    "x = 0.1000000000000000055511151231257827021181583404541015625\n",
    "print(eval(repr(x)) == x)\n",
    "# 2 to the power of 55\n",
    "print(2**55)\n",
    "# True\n",
    "print(3602879701896397/ (2**55))\n",
    "print((3602879701896397/ (2**55)) == 0.1)"
   ]
  },
  {
   "cell_type": "code",
   "execution_count": 128,
   "metadata": {},
   "outputs": [
    {
     "name": "stdout",
     "output_type": "stream",
     "text": [
      "1.0000000000000000364321973154977415791655470655996396089904010295867919921875e-10\n",
      "0.0000000001000000000000000036432197315497741579165547065599639608990401029586791992187500000000000000\n"
     ]
    }
   ],
   "source": [
    "print(format(10**-10,'.100g'))\n",
    "print(format(10**-10,'.100f'))"
   ]
  },
  {
   "cell_type": "markdown",
   "metadata": {},
   "source": [
    "## Methods for Calculating square roots\n",
    "Finding the square root of a number is the inverse of finding the square of a number. The square of a number is the number times itself. The perfect squares are the squares of the whole numbers. The square root of a number is the number that when multiplied by itself gives the number.\n",
    "\n",
    ">*The square roots of the perfect squares (e.g., 0, 1, 4, 9, 16) are integers. In all other cases, the square roots of positive integers are irrational numbers, and hence have non-repeating decimals in their decimal representations.* [2]  <https://en.wikipedia.org/wiki/Square_root>\n",
    "\n",
    "\n",
    "Getting the square root of numbers that are not perfect squares is not as straightforward.\n",
    "You have to look at the square roots of perfect squares that are close to your number in question. So if you are looking at the square root of 5 you would consider the square root of 4 (which is 2) and 9 (which is 3). Therefore the square root of 5 must lie between 2 and 3. Similarly for the square root of 10, look at the square root of the perfect square 9 (which is 3) and 16 (which is 4). So the square root of 10 must lie between 3 and 4.\n",
    "Looking at the square roots of the nearest perfect squares on either side of the number in question will be the starting point for finding the square root of a non-perfect square. It involves some guesswork.\n",
    "\n",
    "As mentioned earlier, the square root of two is considered a geometric number as it refers to the perfect square where each side of the square is of length 1. The length of the diagonal of a perfect square is the square root of the number 2 (Pythagoras theorem). But the number two itself is not a perfect square.\n",
    "\n"
   ]
  },
  {
   "cell_type": "markdown",
   "metadata": {},
   "source": [
    "\n",
    "For the programming and scripting problem set I used Newton's method to get the estimate of the square root of the number, following the tutorial provide in the Tour of Go tutorial. So I'll look there again. \n",
    "Here are some of the resources I used then which may be useful here.\n",
    "- [wikipedia](https://en.wikipedia.org/wiki/Newton%27s_method)\n",
    "- [math.stackexchange](https://math.stackexchange.com/questions/350740/why-does-newtons-method-work)\n",
    "- [mathinsight](https://mathinsight.org/newtons_method_refresher)\n",
    "\n",
    "Newtons Method can be used to get an estimate of the square root of a number. \n",
    "Using Newtons Method, regardless of the starting estimate, once the square of the estimate gets close enough to the actual number itself, then that is a good approximation for the square root. An initial estimate is used for the square root.\n",
    "\n",
    "https://www.math.ubc.ca/~pwalls/math-python/roots-optimization/newton/\n",
    "\n",
    "\n"
   ]
  },
  {
   "cell_type": "markdown",
   "metadata": {},
   "source": [
    "#### Newtons method\n",
    "Here is the code using Newton's Method adapted from the tour of go that I used for the square root in the programming and scripting problem set. (problem 7)\n",
    "It was adapted from the example in the Tour of Go tutorial."
   ]
  },
  {
   "cell_type": "code",
   "execution_count": 204,
   "metadata": {},
   "outputs": [
    {
     "name": "stdout",
     "output_type": "stream",
     "text": [
      "1.5\n",
      "1.4166666666666667\n",
      "1.4142156862745099\n",
      "1.4142135623746899\n"
     ]
    },
    {
     "data": {
      "text/plain": [
       "1.4142135623746899"
      ]
     },
     "execution_count": 204,
     "metadata": {},
     "output_type": "execute_result"
    }
   ],
   "source": [
    "# The code here using Newtons Method is adapted from  https://tour.golang.org/flowcomtrol/8\n",
    "x= 2\n",
    "guess = 1\n",
    "# while the absolute difference between the guess squared and the number in question is greater than 0.01\n",
    "while abs((guess * guess) - x )> 0.000000001:\n",
    "        # update the guess using the formula \n",
    "    guess -=((guess * guess)-x)/(2 * guess) \n",
    "    print(guess)\n",
    "    # the approximation for the square root will be the final value of estimate from the  while loop\n",
    " # assign the final estimate to sqroot   \n",
    "sqroot = guess  \n",
    "sqroot"
   ]
  },
  {
   "cell_type": "markdown",
   "metadata": {},
   "source": [
    "### Putting Newtons code in a function. \n",
    "Here I am back looking at Newton's code but bringing the string formatting and extraction into it to get the extra digits. This is not working in the same way as the other function I used below. It also produces a different answer after the 15th decimal place. Its actually larger than the other school method I was using below rather than smaller. I could get more than 100 places with the other way. This way the computer hangs if I try using a number larger than 2 times 10 to the power of 150."
   ]
  },
  {
   "cell_type": "code",
   "execution_count": 50,
   "metadata": {},
   "outputs": [],
   "source": [
    "def newt_sqrt(Num):\n",
    "    # can take the first estimate to be the number itself\n",
    "    Est = Num\n",
    "    # repeat this until the difference between the Estimate Squared minus the number is small enough\n",
    "    while abs(Est*Est - Num) > 0.0000000000001:\n",
    "        # Update the new estimate to be the current estimate minus the Number\n",
    "        # Est = Est - (Est**2 - Num)/(2*Est)\n",
    "        Est -= ((Est*Est)- Num)/ (2 * Est)\n",
    "    # formatting the estimate to get the first 100 digits using fstrings and string extraction \n",
    "    result = f\"The estimate square root is {Est}\"\n",
    "    print(result)\n",
    "    format_Est =format(Est,'.100g')[1:90]  \n",
    "    return ('1'+'.'+format_Est)\n",
    "\n",
    "   \n"
   ]
  },
  {
   "cell_type": "code",
   "execution_count": 59,
   "metadata": {},
   "outputs": [
    {
     "name": "stdout",
     "output_type": "stream",
     "text": [
      "The estimate square root is 1.414213562373095e+75\n",
      "1.414213562373095065861871032235316220382455390571766043858573365901411745792\n",
      "77\n"
     ]
    }
   ],
   "source": [
    "#print(newt_sqrt(9))\n",
    "\n",
    "ans1 = newt_sqrt(2*10**150)\n",
    "print(ans1)\n",
    "print(len(ans1))"
   ]
  },
  {
   "cell_type": "markdown",
   "metadata": {},
   "source": [
    "### Calculate the square root of number using Babylonian method\n",
    "There are several websites which show how to get the square roots of numbers in the way I would have learnt back in school. Finding the square root of a number that is not a whole number begins with some guesswork. You begin by looking at the nearest perfect squares on both sides of the number. I will work through an example here to ilustrate.\n",
    "\n",
    "- https://en.wikipedia.org/wiki/Square_root\n",
    "\n",
    "- https://www.homeschoolmath.net/teaching/square-root-algorithm.php\n",
    "\n",
    "- http://www.math.com/school/subject1/lessons/S1U1L9DP.html\n",
    "\n",
    "The post here at https://blogs.sas.com/content/iml/2016/05/18/newtons-method-babylonian-square-root.html explains simply how the algorithm thought in school for calculating the estimating a square root from an arbitrary guess is an iterative procedure. Given any positive number $S$ and any positive number $x_0$, apply the following formula:\n",
    "$$x_{n+1} = \\frac{(x_n + S/x_n)}{2}$$ until the iteration converges to the square root of $S$.\n",
    " \n",
    "\n",
    "The same author has a post on the [Babylonian method for finding square roots by hand](https://blogs.sas.com/content/iml/2016/05/16/babylonian-square-roots.html). (This seems to be the way I was trying to work out below.)\n",
    "Suppose you are given any positive number $S$. To find it's square root do the following:\n",
    "1. Make an initial guess. This guess can be any positive number. This is $x_0$\n",
    "2. Improve the guess by applying the formula $x_1 = \\frac{(x_0 + \\frac{S}{x_0})}{2}$.\n",
    "   The number $x_1$ is a better approximation to the square root of $S$.\n",
    "3. Iterate until convergence. \n",
    "   Apply the formula $x_{n+1}=\\frac{(x_n+\\frac{S}{x_n})}{2}$ until the process converges.\n",
    "\n",
    "    * Convergence is achieved when the  digits of $x_{n+1}$ and $x_n$ agree to as many decimal places as you desire.\n",
    "\n",
    "I am going to rewrite this part using the notation from above. \n",
    "    \n",
    "\n",
    "#### Example  old school method- the Babylonian method!\n",
    "Make a guess of what the root of the number in question could be based on the square root of the nearest perfect squares on either side.  Add the result of this to the number and question and divide by two to get the average as the new starting guess. Keep repeating\n",
    "\n",
    "#### Example on square root of 10\n",
    "1. Find two perfect square roots that the number in question lies between. \n",
    "    * For example if you want to find the square root of 10, you are looking at the square root of 9 which is 3 and square root of 16 which is 4.\n",
    "2. Take one of those square roots as an estimate and divide the number in question by it.\n",
    "    * S = 10\n",
    "    * The square root of 10 must lie between 3 and 4\n",
    "    * Taking 3 here as the estimate $x_0=3$\n",
    "    * Divide number in question by the starting estimate S/x0 = 10/3 = 3.3333 = X1\n",
    "    \n",
    " \n",
    "3. Take the average of the latest estimate x1 (3.3333) and S (from the previous step above) and the Number.\n",
    "    *  The average of the number 3 and the starting estimate x0 becomes the next estimate  x1\n",
    "\n",
    "    * x1 = (x0 +S/x0)/2 = (3 + 10/3)/2 = 3.16666667\n",
    "    * x2 =  (x1 + S/x1)/2 = 3.162280686800554 \n",
    "    * x3 = (x2 + S/x2)/2 = (3.162280686800554 +10/3.162280686800554)/2 = 3.1622776601698277\n",
    "    * x4 = (x3+ S/x3)/2 = (3.1622776601698277 + 10/3.1622776601698277)/2 = 3.162277660168379\n",
    "    * x5 = (x4 + S/x4)/2 = (3.162277660168379 + 10/3.162277660168379)/2 = 3.162277660168379\n",
    "    \n",
    "    `math.sqrt(10)` gives 3.1622776601683795 \n",
    "    \n",
    "#### Example of square root of 2\n",
    "\n",
    "1. Find two perfect square roots that the number in question lies between. \n",
    " \n",
    "2. Take one of those square roots as an estimate and divide the number in question by it.\n",
    "    * S = 2\n",
    "    * The square root of 2 must lie between 1 and 2\n",
    "    * Taking 1 here as the estimate $x_0=1$\n",
    "    * Divide number in question by the starting estimate S/x0 = 2/1 = 2 = X1\n",
    "    \n",
    " \n",
    "3. Take the average of the latest estimate x1 (2) and S (from the previous step above) and the Number.\n",
    "\n",
    "    * x1 = (x0 +S/x0)/2 = (2 + 2/1)/2 = 2\n",
    "    * x2 =  (x1 + S/x1)/2 = (2 + 2/2)/2 =1.5\n",
    "    * x3 = (x2 + S/x2)/2 = (1.5 + 2/1.5)/2 = 1.4166666666666665\n",
    "    * x4 = (x3+ S/x3)/2 = (1.4166666666666665 + 2/1.4166666666666665)/2 = 1.4142156862745097\n",
    "    * x5 = (x4 + S/x4)/2 = (1.4142156862745097 + 2/1.4142156862745097)/2 = 1.4142135623746899\n",
    "    \n",
    "    `math.sqrt(10)` gives 3.1622776601683795 \n",
    "\n",
    "- The square root of 2 truncuated to 50 decimal places is 1.41421356237309504880168872420969807856967187537694\n",
    "See (https://en.wikipedia.org/wiki/Square_root).\n"
   ]
  },
  {
   "cell_type": "code",
   "execution_count": 78,
   "metadata": {},
   "outputs": [
    {
     "data": {
      "text/plain": [
       "1.4142135623746899"
      ]
     },
     "execution_count": 78,
     "metadata": {},
     "output_type": "execute_result"
    }
   ],
   "source": [
    "(3.16666667 + (10/3.1666667))/2\n",
    "(3.162280686800554 +10/3.162280686800554)/2\n",
    "(3.1622776601698277 + 10/3.1622776601698277)/2\n",
    "(3.162277660168379 + 10/3.162277660168379)/2 \n",
    "(2 + 2/1)/2\n",
    "(2 + 2/2)/2 \n",
    "(1.5 + 2/1.5)/2\n",
    "(1.4166666666666665 + 2/1.4166666666666665)/2\n",
    "(1.4142156862745097 + 2/1.4142156862745097)/2"
   ]
  },
  {
   "cell_type": "code",
   "execution_count": 68,
   "metadata": {},
   "outputs": [
    {
     "data": {
      "text/plain": [
       "3.1622776601683795"
      ]
     },
     "execution_count": 68,
     "metadata": {},
     "output_type": "execute_result"
    }
   ],
   "source": [
    "import math\n",
    "math.sqrt(10)"
   ]
  },
  {
   "cell_type": "markdown",
   "metadata": {},
   "source": [
    "### Applying the above to get the square root of 2.\n",
    "\n",
    "$1^2=1$ and $2^2=4$, therefore the square root of 2 must fall between 1 and 2.\n",
    "Use 1 as the starting guess.  (The square root of two is not two.) \n",
    "Putting the above algorithm into code...\n",
    "Use the notation S for the number and $x_n$, $x_0$, $x_1$, $x_{n+1}$ for the estimates at each step.\n",
    "Actually I am just going to use S for the number to get the square root of and `est` for the estimates at each step as I am using a while loop so the value of the estimate will be updated at each iteration, representing the $X_n$ and $x_{n+1}$ estimates"
   ]
  },
  {
   "cell_type": "code",
   "execution_count": 130,
   "metadata": {},
   "outputs": [
    {
     "name": "stdout",
     "output_type": "stream",
     "text": [
      "1.414213562373095\n",
      "1.414213562373094923430016933707520365715026855468750000000000\n",
      "<class 'str'>\n",
      "1.41421356237309492343001693370752036571502685546875\n"
     ]
    }
   ],
   "source": [
    "\n",
    "S = 2\n",
    "est =1\n",
    "\n",
    "# while the difference between 2 and the calculated square root is greater than a specified amount\n",
    "while abs(S -(est * est)) > 0.000000000000001:\n",
    "    \n",
    "    est= (est + S/est)/2\n",
    "\n",
    "print(est)\n",
    "\n",
    "result = ('%.60f' %est)\n",
    "print(result)\n",
    "print(type(result))\n",
    "print('%.60g' %est)"
   ]
  },
  {
   "cell_type": "code",
   "execution_count": 106,
   "metadata": {},
   "outputs": [
    {
     "name": "stdout",
     "output_type": "stream",
     "text": [
      "1.414213562373095\n"
     ]
    }
   ],
   "source": [
    "# define the function\n",
    "def mySqrtA(x):\n",
    "    \"\"\"\n",
    "    takes  one input which is the number to calculate the square root of\n",
    "    could also take the \n",
    "    \n",
    "    \"\"\"\n",
    "    S = 2 \n",
    "    est = 1\n",
    " \n",
    "    while abs(S -(est * est)) > 0.000000000000001:\n",
    "        est= (est + S/est)/2\n",
    "        \n",
    "    return(est)\n",
    "        \n",
    "print(mySqrtA(2))   "
   ]
  },
  {
   "cell_type": "code",
   "execution_count": 117,
   "metadata": {},
   "outputs": [
    {
     "name": "stdout",
     "output_type": "stream",
     "text": [
      "1.414213562373095\n"
     ]
    }
   ],
   "source": [
    "# define the function, without asking for an argument here\n",
    "def mySqrt2():\n",
    "    \"\"\"\n",
    "    Here I am going to pass in the big multiple of 2\n",
    "    \n",
    "    \"\"\"\n",
    "    S = 2\n",
    "    est = 1\n",
    " \n",
    "    while abs(S -(est * est)) > 0.000000000000001:\n",
    "        est= (est + S/est)/2\n",
    "        \n",
    "    return(est)\n",
    "        \n",
    "print(mySqrt2())"
   ]
  },
  {
   "cell_type": "markdown",
   "metadata": {},
   "source": [
    "### Rounding / Accuracy etc\n",
    "Moving this up from the bottom of the notebook: probably delete later\n",
    "\n",
    "At some stage the results gets rounded which is the main problem here! From Wikipedia the square root of 2 to 50 decimal places is `1.41421356237309504880168872420969807856967187537694`\n",
    "The square root of 2 using `np.sqrt` to 50 decimal places is 1.41421356237309514547462185873882845044136047363281.\n",
    "The power of two is the opposite of getting the square root.\n",
    "The `**` operator can be used to get powers in Python.\n",
    "This is where I started before so it should be moved up or deleted.\n",
    "\n",
    "While the algorithm itself will calculate approximately the square root of two (accurate to 15 digits at least), it will not print out 100 decimal places so easily. The number before the decimal point cannot be rounded though so I decided to try using a large multiple of 2. In the same way that the square root of 4 is 2, square root of 400 is 20, (or square root of 9 is 3 and the square root of 900 is 30). \n",
    "- The square root of 4 times 100 (400) is the same as 100 times the sqaure root of 4.\n",
    "- The square root of 900 is the same as 100 times the square root of 9.\n",
    "\n",
    "If I get the square root of a multiple of two and then divide by that multiple I might be able to increase the number of decimal places by capturing the whole number part of a multiple of 100 and then dividing by 100.\n",
    "(I am using the math module here just to see what the square root of a multiple of 2 would look like)\n",
    "\n",
    "So first try multiplying by 100, then square root of the result and divide by 100.\n",
    "Can use the `**` to raise to power of in Python. See [python docs](https://docs.python.org/3/tutorial/introduction.html#using-python-as-a-calculator)\n",
    "\n",
    "10 to the power of 2 is 100, 10 to the power of 10 is 10000000000\n",
    "10 to the power of 100 is a big number! I can get the length of this by using the length function on a string. First need to convert into a string using the `str` function and then use the `len` function on the result of that or `len(str()` in one go.\n",
    "\n",
    "Look back again at [python docs on floating points numbers.](https://docs.python.org/3/tutorial/floatingpoint.html) which goes into detail as to why\n",
    ">Unfortunately, most decimal fractions cannot be represented exactly as binary fractions. A consequence is that, in general, the decimal floating-point numbers you enter are only approximated by the binary floating-point numbers actually stored in the machine.\n",
    "\n",
    "### Extracting the digits from the string\n",
    "I now need to take away the `e+200` from the end of the string.\n",
    "See [strings tutorial](https://docs.python.org/3/tutorial/introduction.html#strings) from the Python docs. I can just take the first 102 characters including the 1 and the decimal point and not including the `e+200`"
   ]
  },
  {
   "cell_type": "markdown",
   "metadata": {},
   "source": [
    "### Modifying my function above\n",
    "Bringing the extra steps for formatting the result into the function instead of being applied to the function after. However so far when I try this inside the function, it returns scientific notation."
   ]
  },
  {
   "cell_type": "code",
   "execution_count": 138,
   "metadata": {},
   "outputs": [],
   "source": [
    "# define the function\n",
    "def sqrt2():\n",
    "    \"\"\"\n",
    "    takes  one input which is the number to calculate the square root of\n",
    "    \n",
    "    \"\"\"\n",
    "    S = 2 # This is the number we want to get the square root of\n",
    "    \n",
    "    S = S*(10**200) # 2 times 10^100\n",
    "\n",
    "    est = S\n",
    "    # can set the precision here or hardcode it i\n",
    "   \n",
    "    # while the difference between the number and the square of the guess is greater than 0\n",
    "    while abs(S -(est * est)) > 0.000000000000001:\n",
    "        est= (est + S/est)/2\n",
    "        \n",
    "    return(est)\n",
    "\n",
    "    print(\"The root of 2 times 10 to power of 200 is: \",est)\n",
    "   \n",
    "    format_est =format(est,'.100g')\n",
    "    # extract the first 100 digits\n",
    "    print(format_est)\n",
    "    sqrtoftwo =format_est[0:101]\n",
    "    print(sqrtoftwo)\n",
    "\n",
    "sqrtof2 = sqrt2()"
   ]
  },
  {
   "cell_type": "code",
   "execution_count": 139,
   "metadata": {},
   "outputs": [
    {
     "data": {
      "text/plain": [
       "'1.414213562373095027142412563281858698349164881791987548177900388860130684271654303022821004349852877'"
      ]
     },
     "execution_count": 139,
     "metadata": {},
     "output_type": "execute_result"
    }
   ],
   "source": [
    "# from my function using babylonian method\n",
    "sqrt2format =format(sqrtof2,'.100g')\n",
    "sqrt2format[0:101]"
   ]
  },
  {
   "cell_type": "markdown",
   "metadata": {},
   "source": [
    "## "
   ]
  },
  {
   "cell_type": "code",
   "execution_count": 142,
   "metadata": {},
   "outputs": [
    {
     "name": "stdout",
     "output_type": "stream",
     "text": [
      " The square root of two is \n",
      "1.414213562373095027142412563281858698349164881791987548177900388860130684271654303022821004349852877e+100\n",
      "1.414213562373095e+100\n",
      " The square root of two is \n",
      "1.414213562373095027142412563281858698349164881791987548177900388860130684271654303022821004349852877e+100\n"
     ]
    },
    {
     "data": {
      "text/plain": [
       "'1.414213562373095027142412563281858698349164881791987548177900388860130684271654303022821004349852877'"
      ]
     },
     "execution_count": 142,
     "metadata": {},
     "output_type": "execute_result"
    }
   ],
   "source": [
    "import math\n",
    "math_root2 = math.sqrt(2*(10**200))\n",
    "print(\" The square root of two is \\n{:.100g}\".format(root2))\n",
    "print(math_root2)\n",
    "\n",
    "\n",
    "root2 = math.sqrt(2*(10**200))\n",
    "print(\" The square root of two is \\n{:.100g}\".format(root2))\n",
    "\n",
    "#from my sqrt2 function\n",
    "sqrt2format[0:101]\n"
   ]
  },
  {
   "cell_type": "markdown",
   "metadata": {},
   "source": [
    "Here I am looking to see if the logic I used above will give the same results as the `math` module and `numpy` would return for very large multiples of 2.\n",
    "The results that both the Numpy and `math` modules produce for the square root of 2 times 10 to power of 200 is actually very close to the result I get using my function from the Babylonian method. It seems to be the same for the first 100 places. \n",
    "\n"
   ]
  },
  {
   "cell_type": "markdown",
   "metadata": {},
   "source": [
    "#### Some notes\n",
    "- Instead of hardcoding in the precision amount, I could pass it as a parameter. This would help with testing it as I could change the precision to see how the results change.\n",
    "- Converting from one format to another, from a float to a string might not actually be returning the exact answer. \n",
    "- My best solution below was getting the square root of a large multiple of 2 and then extracting the digits into a string. I need to incorporate this into the function, both the larger number 2 times 10 to power of 200. \n",
    "- My function is not calculating the correct number compared to Wikipedia. It is rounding down after the first 15 digits. This is the challenge really so I need to modify my function to become more accurate. At least the printing of the digits part is working!\n",
    "\n"
   ]
  },
  {
   "cell_type": "markdown",
   "metadata": {},
   "source": [
    "# References\n",
    "- https://www.latex-tutorial.com/tutorials/amsmath/\n",
    "- https://www.math-linux.com/latex-26/faq/latex-faq/article/latex-natural-numbers\n",
    "\n",
    "Read https://kodlogs.com/blog/715/convert-scientific-notation-to-decimal-python"
   ]
  }
 ],
 "metadata": {
  "kernelspec": {
   "display_name": "Python 3",
   "language": "python",
   "name": "python3"
  },
  "language_info": {
   "codemirror_mode": {
    "name": "ipython",
    "version": 3
   },
   "file_extension": ".py",
   "mimetype": "text/x-python",
   "name": "python",
   "nbconvert_exporter": "python",
   "pygments_lexer": "ipython3",
   "version": "3.8.2"
  }
 },
 "nbformat": 4,
 "nbformat_minor": 4
}
