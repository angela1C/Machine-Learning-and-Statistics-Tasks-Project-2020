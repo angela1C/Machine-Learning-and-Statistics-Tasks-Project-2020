{
 "cells": [
  {
   "cell_type": "markdown",
   "metadata": {},
   "source": [
    "# Tasks\n",
    "\n",
    "This notebook will hold my solutions to the Tasks Assessment for Machine Learning and Statistics 2020.\n",
    "(Task 1 is the only task currently available.)\n",
    "\n",
    "The author is Angela Carpenter\n",
    "\n",
    "## Task 1:\n",
    "**Write a Python function called sqrt2 that calculates and prints to the screen the square root of 2 to 100 decimal places. Your code should not depend on any module from the standard library or otherwise. You should research the task first and include references and a description of your algorithm.**\n",
    "\n",
    "***"
   ]
  },
  {
   "cell_type": "markdown",
   "metadata": {},
   "source": [
    "### Plan\n",
    "- Some information on the square root of 2 and why this number in particular would be of interest\n",
    "- How this would fit in with the machine learning and statistics module. \n",
    "    * Binary representation of floats\n",
    "    * Not all numbers can be calculated using a computer. Irrational numbers such as the square root of 2 falls into this category\n",
    "- Methods for calculating square roots in general\n",
    "    * method by hand from school days involving making a guess to begin\n",
    "    * Newtons method used for the programming and scripting problem of semester 1\n",
    "- How to print out the 100 decimal places when the usual number printed is 15.\n",
    "    \n"
   ]
  },
  {
   "cell_type": "markdown",
   "metadata": {},
   "source": [
    "## The square root of two $\\sqrt{2}$\n",
    "The square root of two is the number that when multiplied by itself gives the number two.\n",
    "It is a geometric number as it refers to the perfect square where each side of the square is of length 1. The length of the diagonal of a perfect square is the square root of the number 2 (Pythagoras theorem).\n",
    "\n",
    "First to Wikipedia for any information on why this particular number is noteworthy.\n",
    "According to [1][Wikipedia](https://en.wikipedia.org/wiki/Square_root_of_2)., the square root of two was probably the first number known to be irrational.\n",
    ">*The square root of 2, or the one-half power of 2, written in mathematics as \n",
    "$2{\\sqrt {2}}$ or $2^{{1/2}}$ is the positive algebraic number that, when multiplied by itself, equals the number 2.*\n",
    "\n",
    ">Technically, it must be called the principal square root of 2, to distinguish it from the negative number with the same property.\n",
    "[1][Wikipedia](https://en.wikipedia.org/wiki/Square_root_of_2).\n",
    "[2][mathsisfun](https://www.mathsisfun.com/numbers/square-root-2-irrational.html) has a nice easy explanation of why the the square root of two is an irrational number and can never be written as a fraction.\n",
    "\n",
    "To see what the square root of two looks like I will use the `math` module or the `numpy` package.\n",
    "There is a Python function for calculating square roots in the maths module which is part of the Python Standard Library. See [math module](https://docs.python.org/3/library/math.html?highlight=math#module-math).\n",
    "This task should not use any libraries but the [math.sqrt](https://docs.python.org/3/library/math.html?highlight=math#math.sqrt) function could be used to check the results of my code.\n",
    "`math.sqrt(x)` calculates the square root of whatever is passed in as `x`.\n",
    "This task however is to calculate the square root of the number 2 to 100 decimal places. \n",
    "The square root of a number when multiplied by itself should give the number so here I check that by multiplying the result of `math.sqrt(2)` by `math.sqrt(2)`.\n",
    "\n",
    "The results below of squaring the square root of two returned from both the `math.sqrt` function and the `np.sqrt` function is 2.0000000000000004.  This demonstrates the problem with performing calculations on the irrational number square root of two!"
   ]
  },
  {
   "cell_type": "code",
   "execution_count": 233,
   "metadata": {},
   "outputs": [
    {
     "name": "stdout",
     "output_type": "stream",
     "text": [
      "1.4142135623730951\n",
      "2.0000000000000004\n",
      "1.4142135623730951\n",
      "2.0000000000000004\n"
     ]
    },
    {
     "data": {
      "text/plain": [
       "True"
      ]
     },
     "execution_count": 233,
     "metadata": {},
     "output_type": "execute_result"
    }
   ],
   "source": [
    "# import math module\n",
    "import math\n",
    "# using the sqrt function\n",
    "print(math.sqrt(2))\n",
    "print(math.sqrt(2)*math.sqrt(2))\n",
    "import numpy as np\n",
    "print(np.sqrt(2))\n",
    "print(np.sqrt(2)*np.sqrt(2))\n",
    "np.sqrt(2)*np.sqrt(2)==2\n",
    "# just seeing if the numpy and math square roots are the exact same\n",
    "math.sqrt(2) == np.sqrt(2)\n",
    "math.sqrt(2)*math.sqrt(2) == np.sqrt(2)*np.sqrt(2)"
   ]
  },
  {
   "cell_type": "markdown",
   "metadata": {},
   "source": [
    "\n",
    "## Binary representation of integers and floats.\n",
    "\n",
    "#### References used here:\n",
    "- [1][Floating Point Arithmetic: Issues and Limitations](https://docs.python.org/3/tutorial/floatingpoint.html) \n",
    " \n",
    "- [2] Lecture Notes from Machine Learning and Statistics, Lecturer Dr. Ian McLoughlin\n",
    "The lecture on data types of this module looked at the binary representation of integers and floats.\n",
    "\n",
    "\n",
    "Floating point numbers are stored with a finite number of digits so there is a finite limit on how many decimal places they can actually store. \n",
    "- Real numbers such as $\\sqrt{2}$ and $\\pi$ have an infinite number of places after the decimal point. Computers cannot really store such real numbers as there is only a finite number of bits available to store the number.\n",
    "- Floating point numbers are actually stored using integers in two parts, for the whole number part before the decimal point and the part of the whole after the decimal point. (Think it might be called the characteristics for the whole number and the mantissa for the part after the decimal point).\n",
    "\n",
    "- The set of $\\mathbb{N}$ Natural numbers are an infinite set but it is the smallest infinite set there is and is known as countable infinite. The set of measuring numbers are all the numbers on the number line that are used for quantifying and measuring things and there is an infinite amount of such numbers between any two discrete points on the number line.\n",
    " \n",
    "- Computer programs are made up of binary strings of 1's and 0's. Binary strings can be converted into integers. Every computer program can be converted into one of the counting numbers from the set of $\\mathbb{N}$ . According to Turing, all computer programs are countable which means they can be put into one-to-one correspondance with the natural numbers but Turing also realised that not all numbers can be calculated or computed.\n",
    "\n",
    "-  A rational number can be expressed as the ratio of 2 whole numbers. It can be stored as an array of two numbers. A number is rational only if it's decimal expansion becomes periodic.\n",
    "\n",
    "- The square root of two is an irrational number and therefore cannot be expressed in the ratio of two numbers in their most simplified form.\n",
    "\n",
    "- The implications of this for computing is that the square root of two can never be stored. An approximation of its value can be stored though. This is the same for the irrational number $pi$. Irrational numbers are often stored as procedures which are used to calculate but not store the number.\n",
    "- Caution is always required when calculation statistics or performing analytics on irrational numbers. It is possible to work theoretically or to use approximations but rounding errors could interfere will the calculations.\n",
    "\n",
    "### Floating Point Arithmetic: Issues and Limitations\n",
    "This section here is based on the tutorial in the python docs at chapter 15.\n",
    "[Chapter 5 of the Python Tutorial](https://docs.python.org/3/tutorial/floatingpoint.html) looks at the issues and limitations associated with floating point arithmetic. It illustrates how the decimal fraction 0.125 and the binary fraction 0.001 have identical values:\n",
    "\n",
    "- Floating-point numbers are represented in computer hardware as base 2 (binary) fractions\n",
    "- The decimal fraction 0.125 has value $\\frac{1}{10}$ + $\\frac{2}{100}$ + $\\frac{5}{1000}$\n",
    "- The binary fraction 0.001 has value $\\frac{0}{2}$ + $\\frac{0}{4}$ + $\\frac{1}{8}$\n",
    "The only real difference here is that the decimal fraction 0.125 is written in base 10 fractional notation while the binary fraction 0.001 above is written in base 2 notation.\n",
    "\n",
    ">Unfortunately, most decimal fractions cannot be represented exactly as binary fractions. A consequence is that, in general, the decimal floating-point numbers you enter are only approximated by the binary floating-point numbers actually stored in the machine.\n",
    "\n",
    "(It demonstrates how the fraction 1/3 can be approximated as a base 10 fraction as  0.3 or 0.33 or 0.333. No matter how many 3's you use the result will never actually be $\\frac[1}{3}$ but it will be increasingly a better approximation of $\\frac[1}{3}$)\n",
    "\n",
    "The decimal value 0.1 cannot be represented exactly as a base 2 fraction because in base 2, $\\frac{1}{10}$ is the infinitely repeating fraction\n",
    "0.0001100110011001100110011001100110011001100110011...\n",
    "If you stop at any  finite number of bits you get an approximation. \n",
    "On most machines today floats are approximated using a binary fraction. \n",
    "- The numerator uses the first 53 bits starting with the most significant bit\n",
    "- The denominator as a power of 2\n",
    "The binary fraction for the decimal 0.1 is `3602879701896397 / 2 ** 55` which is close to the true value of 1/10 but is not exactly equal to the true value of 0.1.\n",
    "We don't notice that this is not the true value and only an approximation because of the way values are displayed. Python (and other languages) only prints *a decimal approximation to the to the true decimal value of the binary approximation stored by the machine* \n",
    "\n",
    "- The true decimal value of the binary approximation stored for 0.1 is actually `0.1000000000000000055511151231257827021181583404541015625`. It is printed as 0.1 though.\n",
    "- Python displays a rounded value instead of all the digits as in most situations this is enough.\n",
    "- The important point is that even though what we see printed (0.01) looks like the exact value of $\\frac{1}{10}$, the actual value that is stored is the nearest representable binary fraction.\n",
    "\n",
    "- The tutorial here also illustrates how there are many different decimal numbers which actually share the same nearest approximate binary fraction. The numbers `0.1`  and `0.10000000000000001` and `0.1000000000000000055511151231257827021181583404541015625` are all approximated by `3602879701896397 / 2 ** 55` . These decimal values all have the same approximation.\n",
    "\n",
    "- String formatting can be used to produce a limited number of significant digits.\n",
    "For example `format(math.pi, '.12g')` gives 12 significant digits while `format(math.pi, '.2f')` gives 2  digits after the point.\n",
    "However this is simply rounding the **display** of the true machine value.\n",
    "\n",
    "See [The Perils of Floating Point](http://www.lahey.com/float.htm)\n",
    "See [str.format](https://docs.python.org/3/library/stdtypes.html#str.format)\n",
    "\n",
    "The errors in Python float operations come from the floating-point hardware.\n",
    ">The errors in Python float operations are inherited from the floating-point hardware, and on most machines are on the order of no more than 1 part in `2**53` per operation. That’s more than adequate for most tasks, but you do need to keep in mind that it’s not decimal arithmetic and that every float operation can suffer a new rounding error.\n",
    "\n",
    "- The [decimal module](https://docs.python.org/3/library/decimal.html#module-decimal) implements decimal arithmetic suitable for accounting applications and high-precision applications (but not for this task!).\n",
    "- The [fractions module](https://docs.python.org/3/library/fractions.html#module-fractions)  implements arithmetic based on rational numbers (so the numbers like 1/3 can be represented exactly).\n",
    "- NumPy and [scipy](https://scipy.org) packages are recommended for mathematical and statistical operations.\n",
    "- Python also has a [float.as_integer_ratio()](https://docs.python.org/3/library/stdtypes.html#float.as_integer_ratio) method which expresses the value of a float as a fraction. This can help when you want to know the exact value as a float. As the ratio is exact, it can be used to losslessly recreate the original value.\n",
    "\n",
    "\n",
    "- **Representation error** refers to the fact that most decimal fractions cannot be represented exactly as binary (base 2) fractions in Python and other languages and therefore won’t display the exact decimal number you expect.\n",
    "- Most machines use IEEE-754 floating point arithmetic.\n",
    "- Almost all platforms map Python floats to IEEE-754 “double precision”.\n",
    "- 754 doubles contain 53 bits of precision. \n",
    "The computer strives to convert 0.1 to the closest fraction that it can of the form $J/2**N$ where J is an integer containing exactly 53 bits.\n",
    "\n",
    "\n",
    "- See [IEEE 754](https://en.wikipedia.org/wiki/IEEE_754) and [IEEE Standard 754 Floating Point Numbers](https://www.geeksforgeeks.org/ieee-standard-754-floating-point-numbers/) article on <geeksforgeeks.com>.\n",
    "- IEEE 754 has 3 basic components:\n",
    "    * The sign of the mantissa where `0` represents a positive number while `1` represents a negative number.\n",
    "    * The biased exponent\n",
    "    * The Normalised Mantissa\n",
    "   \n",
    "#### Using `float.as_integer_ratio()`.\n",
    "\n",
    "See [float.as_integer_ratio()](https://docs.python.org/3/library/stdtypes.html#float.as_integer_ratio) method which expresses the value of a float as a fraction. This can help when you want to know the exact value as a float. As the ratio is exact, it can be used to losslessly recreate the original value.\n",
    "\n",
    "This function is a built-in Python function. "
   ]
  },
  {
   "cell_type": "code",
   "execution_count": 61,
   "metadata": {},
   "outputs": [
    {
     "data": {
      "text/plain": [
       "(6369051672525773, 4503599627370496)"
      ]
     },
     "execution_count": 61,
     "metadata": {},
     "output_type": "execute_result"
    }
   ],
   "source": [
    "x = np.sqrt(2)\n",
    "x.as_integer_ratio()"
   ]
  },
  {
   "cell_type": "markdown",
   "metadata": {},
   "source": [
    "### Binary representation of numbers\n",
    "The `bin` function can be applied to any integer to get the binary representation of an integer.\n",
    "The `struct` module can be used to get the binary representation of a float."
   ]
  },
  {
   "cell_type": "code",
   "execution_count": 25,
   "metadata": {},
   "outputs": [
    {
     "data": {
      "text/plain": [
       "'0b111110101010101010101010101011'"
      ]
     },
     "execution_count": 25,
     "metadata": {},
     "output_type": "execute_result"
    }
   ],
   "source": [
    "import struct\n",
    "f = 1/3\n",
    "bin(struct.unpack('!i',struct.pack('!f', f))[0])"
   ]
  },
  {
   "cell_type": "code",
   "execution_count": 29,
   "metadata": {},
   "outputs": [
    {
     "data": {
      "text/plain": [
       "'0b111101110011001100110011001101'"
      ]
     },
     "execution_count": 29,
     "metadata": {},
     "output_type": "execute_result"
    }
   ],
   "source": [
    "f = 0.1\n",
    "bin(struct.unpack('!i',struct.pack('!f', f))[0])\n"
   ]
  },
  {
   "cell_type": "code",
   "execution_count": 9,
   "metadata": {},
   "outputs": [
    {
     "data": {
      "text/plain": [
       "Decimal('1.4142135623730951454746218587388284504413604736328125')"
      ]
     },
     "execution_count": 9,
     "metadata": {},
     "output_type": "execute_result"
    }
   ],
   "source": [
    "from decimal import *\n",
    "getcontext().prec = 28\n",
    "Decimal(math.sqrt(2)) "
   ]
  },
  {
   "cell_type": "code",
   "execution_count": 10,
   "metadata": {},
   "outputs": [
    {
     "data": {
      "text/plain": [
       "True"
      ]
     },
     "execution_count": 10,
     "metadata": {},
     "output_type": "execute_result"
    }
   ],
   "source": [
    "#1.4142135623730951454746218587388284504413604736328125\n",
    "num = 1.4142135623730951454746218587388284504413604736328125\n",
    "squared =num*num\n",
    "math.sqrt(squared)==num"
   ]
  },
  {
   "cell_type": "markdown",
   "metadata": {},
   "source": [
    "### Format Strings to print more digits than the default"
   ]
  },
  {
   "cell_type": "code",
   "execution_count": 245,
   "metadata": {},
   "outputs": [
    {
     "name": "stdout",
     "output_type": "stream",
     "text": [
      "3.141592653589793115997963468544185161590576171875\n",
      "3.1415926535897931159979634685441851615905761718750000000\n",
      "3.141592653589793\n"
     ]
    }
   ],
   "source": [
    "print(format(math.pi, '.55g'))\n",
    "print(format(math.pi, '.55f'))\n",
    "print(repr(math.pi))"
   ]
  },
  {
   "cell_type": "code",
   "execution_count": 242,
   "metadata": {},
   "outputs": [
    {
     "name": "stdout",
     "output_type": "stream",
     "text": [
      "0.1000000000000000055511151231257827021181583404541015625\n",
      "0.1000000000000000055511151231257827021181583404541015625\n"
     ]
    }
   ],
   "source": [
    "x = 1/10\n",
    "print(format(x,'.55g'))\n",
    "print(format(x,'.56g'))"
   ]
  },
  {
   "cell_type": "markdown",
   "metadata": {},
   "source": [
    "- The built-in [repr](https://docs.python.org/3/library/functions.html#repr) function returns a string containing a printable representation of the object.\n",
    "- See also the [eval](https://docs.python.org/3/library/functions.html#eval) built-in function."
   ]
  },
  {
   "cell_type": "code",
   "execution_count": 231,
   "metadata": {},
   "outputs": [
    {
     "name": "stdout",
     "output_type": "stream",
     "text": [
      "0.1\n",
      "0.1\n",
      "0.1\n",
      "1.4142135623730951\n"
     ]
    }
   ],
   "source": [
    "print(repr(0.1))\n",
    "print(repr(0.10000000000000001))\n",
    "print(repr(0.1000000000000000055511151231257827021181583404541015625))\n",
    "import math\n",
    "print(repr(math.sqrt(2)))"
   ]
  },
  {
   "cell_type": "code",
   "execution_count": 4,
   "metadata": {},
   "outputs": [
    {
     "name": "stdout",
     "output_type": "stream",
     "text": [
      "True\n",
      "36028797018963968\n",
      "0.1\n",
      "True\n"
     ]
    }
   ],
   "source": [
    "x = 0.1000000000000000055511151231257827021181583404541015625\n",
    "print(eval(repr(x)) == x)\n",
    "# 2 to the power of 55\n",
    "print(2**55)\n",
    "# True\n",
    "print(3602879701896397/ (2**55))\n",
    "print((3602879701896397/ (2**55)) == 0.1)"
   ]
  },
  {
   "cell_type": "markdown",
   "metadata": {},
   "source": [
    "## Methods for Calculating square roots\n",
    "Finding the square root of a number is the inverse of finding the square of a number. The square of a number is the number times itself. The perfect squares are the squares of the whole numbers. The square root of a number is the number that when multiplied by itself gives the number.\n",
    "\n",
    ">*The square roots of the perfect squares (e.g., 0, 1, 4, 9, 16) are integers. In all other cases, the square roots of positive integers are irrational numbers, and hence have non-repeating decimals in their decimal representations.* [2]  <https://en.wikipedia.org/wiki/Square_root>\n",
    "\n",
    "\n",
    "Getting the square root of numbers that are not perfect squares is not as straightforward.\n",
    "You have to look at the square roots of perfect squares that are close to your number in question. So if you are looking at the square root of 5 you would consider the square root of 4 (which is 2) and 9 (which is 3). Therefore the square root of 5 must lie between 2 and 3. Similarly for the square root of 10, look at the square root of the perfect square 9 (which is 3) and 16 (which is 4). So the square root of 10 must lie between 3 and 4.\n",
    "Looking at the square roots of the nearest perfect squares on either side of the number in question will be the starting point for finding the square root of a non-perfect square. It involves some guesswork.\n",
    "\n",
    "As mentioned earlier, the square root of two is considered a geometric number as it refers to the perfect square where each side of the square is of length 1. The length of the diagonal of a perfect square is the square root of the number 2 (Pythagoras theorem). But the number two itself is not a perfect square.\n",
    "\n"
   ]
  },
  {
   "cell_type": "markdown",
   "metadata": {},
   "source": [
    "\n",
    "For the programming and scripting problem set I used Newton's method to get the estimate of the square root of the number, following the tutorial provide in the Tour of Go tutorial. So I'll look there again. \n",
    "Here are some of the resources I used then which may be useful here.\n",
    "- [wikipedia](https://en.wikipedia.org/wiki/Newton%27s_method)\n",
    "- [math.stackexchange](https://math.stackexchange.com/questions/350740/why-does-newtons-method-work)\n",
    "- [mathinsight](https://mathinsight.org/newtons_method_refresher)\n",
    "\n",
    "Newtons Method can be used to get an estimate of the square root of a number. \n",
    "Using Newtons Method, regardless of the starting estimate, once the square of the estimate gets close enough to the actual number itself, then that is a good approximation for the square root. An initial estimate is used for the square root.\n",
    "\n",
    "https://www.math.ubc.ca/~pwalls/math-python/roots-optimization/newton/\n",
    "\n",
    "The post here at https://blogs.sas.com/content/iml/2016/05/18/newtons-method-babylonian-square-root.html explains simply how the algorithm thought in school for calculating the estimating a square root from an arbitrary guess is an iterative procedure. Given any positive number $S$ and any positive number $x_0$, apply the following formula:\n",
    "$$x_{n+1} = \\frac{(x_n + S/x_n)}{2}$$ until the iteration converges to the square root of $S$.\n",
    "It turns out that the \n",
    "\n",
    "The same author has a post on the [Babylonian method for finding square roots by hand](https://blogs.sas.com/content/iml/2016/05/16/babylonian-square-roots.html). (This seems to be the way I was trying to work out below.)\n",
    "Suppose you are given any positive number $S$. To find it's square root do the following:\n",
    "1. Make an initial guess. This guess can be any positive number. This is $x_0$\n",
    "2. Improve the guess by applying the formula $x_1 = \\frac{(x_0 + \\frac{S}{x_0})}{2}$.\n",
    "   The number $x_1$ is a better approximation to the square root of $S$.\n",
    "3. Iterate until convergence. \n",
    "   Apply the formula $x_{n+1}=\\frac{(x_n+\\frac{S}{x_n})}{2}$ until the process converges.\n",
    "\n",
    "    * Convergence is achieved when the  digits of $x_{n+1}$ and $x_n$ agree to as many decimal places as you desire.\n",
    "\n",
    "## Example \n"
   ]
  },
  {
   "cell_type": "markdown",
   "metadata": {},
   "source": [
    "#### Newtons method\n",
    "Here is the code using Newton's Method adapted from the tour of go that I used for the square root in the programming and scripting problem set. (problem 7)\n",
    "It was adapted from the example in the Tour of Go tutorial."
   ]
  },
  {
   "cell_type": "code",
   "execution_count": 204,
   "metadata": {},
   "outputs": [
    {
     "name": "stdout",
     "output_type": "stream",
     "text": [
      "1.5\n",
      "1.4166666666666667\n",
      "1.4142156862745099\n",
      "1.4142135623746899\n"
     ]
    },
    {
     "data": {
      "text/plain": [
       "1.4142135623746899"
      ]
     },
     "execution_count": 204,
     "metadata": {},
     "output_type": "execute_result"
    }
   ],
   "source": [
    "# The code here using Newtons Method is adapted from  https://tour.golang.org/flowcomtrol/8\n",
    "x= 2\n",
    "guess = 1\n",
    "# while the absolute difference between the guess squared and the number in question is greater than 0.01\n",
    "while abs((guess * guess) - x )> 0.000000001:\n",
    "        # update the guess using the formula \n",
    "    guess -=((guess * guess)-x)/(2 * guess) \n",
    "    print(guess)\n",
    "    # the approximation for the square root will be the final value of estimate from the  while loop\n",
    " # assign the final estimate to sqroot   \n",
    "sqroot = guess  \n",
    "sqroot"
   ]
  },
  {
   "cell_type": "markdown",
   "metadata": {},
   "source": [
    "### Putting Newtons code in a function. "
   ]
  },
  {
   "cell_type": "code",
   "execution_count": 1,
   "metadata": {},
   "outputs": [],
   "source": [
    "def newt_sqrt(Num):\n",
    "    # can take the first estimate to be the number itself\n",
    "    Est = Num\n",
    "    # repeat this until the difference between the Estimate Squared minus the number is small enough\n",
    "    while abs(Est*Est - Num) > 0.0000000000001:\n",
    "        # Update the new estimate to be the current estimate minus the Number\n",
    "        # Est = Est - (Est**2 - Num)/(2*Est)\n",
    "        Est -= ((Est*Est)- Num)/ (2 * Est)\n",
    "    return Est\n"
   ]
  },
  {
   "cell_type": "code",
   "execution_count": 7,
   "metadata": {},
   "outputs": [
    {
     "name": "stdout",
     "output_type": "stream",
     "text": [
      "3.0\n",
      "1.4142135623730952e+25\n"
     ]
    }
   ],
   "source": [
    "print(newt_sqrt(9))\n",
    "print(newt_sqrt(2*10**50))"
   ]
  },
  {
   "cell_type": "code",
   "execution_count": null,
   "metadata": {},
   "outputs": [],
   "source": [
    "def sqrt2():\n",
    "    \"\"\"\n",
    "    takes  one input which is the number to calculate the square root of\n",
    "    \n",
    "    \"\"\"\n",
    "    x = 2 # This is the number we want to get the square root of\n",
    "    \n",
    "    bigx = x*(10**200) # 2 times 10^100\n",
    "    \n",
    "    print(bigx)\n",
    "    # can set the precision here or hardcode it in\n",
    "    #prec = 10**-15\n",
    "    prec = 0\n",
    "    #setting the initial guess as bigx or half it, it doesn't matter unless to the timing\n",
    "    \n",
    "    guess = bigx\n",
    "    print(\"The first guess is\",guess)\n",
    "    #while abs(x -(guess * guess)) > 0.0:\n",
    "   \n",
    "    # while the difference between the number and the square of the guess is greater than 0\n",
    "    while abs(bigx -(guess * guess)) > prec:\n",
    "        #print(guess)\n",
    "        \n",
    "        y = bigx // guess\n",
    "        ave = (guess + y)//2\n",
    "        # the new guess is the average\n",
    "        guess = ave\n",
    "    bigxroot = guess\n",
    "    print(\"The root of 2 times 10 to power of 200 is: \",bigxroot)\n",
    "   \n",
    "    format_bigxroot =format(bigxroot,'.100g')\n",
    "    # extract the first 100 digits\n",
    "    print(format_bigxroot)\n",
    "    sqrtoftwo =format_bigxroot[0:101]\n",
    "    print(sqrtoftwo)"
   ]
  },
  {
   "cell_type": "markdown",
   "metadata": {},
   "source": [
    "### How to calculate the square root of number without a computer!\n",
    "There are several websites which show how to get the square roots of numbers in the way I would have learnt back in school. Finding the square root of a number that is not a whole number begins with some guesswork. You begin by looking at the nearest perfect squares on both sides of the number. I will work through an example here to ilustrate.\n",
    "\n",
    "- https://en.wikipedia.org/wiki/Square_root\n",
    "\n",
    "- https://www.homeschoolmath.net/teaching/square-root-algorithm.php\n",
    "\n",
    "- http://www.math.com/school/subject1/lessons/S1U1L9DP.html\n",
    "\n",
    "\n",
    "1. Find two perfect square roots that the number in question lies between. \n",
    "    * For example if you want to find the square root of 10, you are looking at the square root of 9 which is 3 and square root of 16 which is 4.\n",
    "2. Take one of those square roots as an estimate and divide the number in question by it.\n",
    "    * The square root of 10 must lie between 3 and 4\n",
    "    * pick either 3 or 4 as the estimate\n",
    "    * Divide number in question by the starting estimate (3 or 4)\n",
    "        * 10 / 3 = 3.3333\n",
    " \n",
    "3. Take the average of the latest estimate (from the previous step above) and the Number.\n",
    "    *  The average of the number 3 and the starting estimate becomes the next estimate \n",
    "    * (Num + Est) / 2 = new Est\n",
    "    * (3 + 3.3333)/2 = 3.16666667\n",
    "    * new Est = 3.16666667 = (Num + Est)/2\n",
    "    \n",
    "4. Use result from previous step as the new estimate and repeat these two steps until you get your answer.\n",
    "    * new Estimate = 3.166667\n",
    "    * Num / Estimate = 10 / 3.166667 = 3.1578944 = new Estimate\n",
    "    * (3.166667 + 3.1578944)/2 = 3.1622807\n",
    "    \n",
    "    * new Estimate = 3.1622807\n",
    "    * Num / Estimate = 10 / 3.162280 = 3.16227532033849 = new Estimate\n",
    "    * (3.162280 + 3.16227532033849)/2\n",
    "    * 3.162277660169245\n",
    "    \n",
    "\n",
    "- `np.sqrt(10)` will give 3.1622776601683795\n",
    "\n",
    "Make a guess of what the root of the number in question could be based on the square root of the nearest perfect squares on either side.  Add the result of this to the number and question and divide by two to get the average as the new starting guess. Keep repeating\n",
    "\n",
    "- The square root of 10 truncuated to 50 decimal places is 3.16227766016837933199889354443271853371955513932521 \n",
    "\n",
    "- The square root of 5 truncuated to 50 decimal placecs is 2.23606797749978969640917366873127623544061835961152\n",
    "- The square root of 2 truncuated to 50 decimal places is 1.41421356237309504880168872420969807856967187537694\n",
    "See (https://en.wikipedia.org/wiki/Square_root).\n"
   ]
  },
  {
   "cell_type": "markdown",
   "metadata": {},
   "source": [
    "### Applying the above to get the square root of 2.\n",
    "\n",
    "$1^2=1$ and $2^2=4$, therefore the square root of 2 must fall between 1 and 2.\n",
    "Use 1 as the starting guess.  (The square root of two is not two.) "
   ]
  },
  {
   "cell_type": "markdown",
   "metadata": {},
   "source": []
  },
  {
   "cell_type": "markdown",
   "metadata": {},
   "source": [
    "1. Find two perfect square roots that the Number in question lies between. (Number = 2)\n",
    "        * 1 squared is 1\n",
    "        * 2 squared is 4\n",
    "       * Therefore the square root of 2 must lie between 1 and 2\n",
    "2. Take one of those square roots as a starting estimate\n",
    "    \n",
    "    * Selecting `1`  as the starting estimate\n",
    "    * Divide the Number (2) by the estimate (1) to get a new estimate\n",
    "     \n",
    "        * Num / Est =  2 = new estimate\n",
    "       \n",
    "      \n",
    " \n",
    "3. Take the average of the latest Estimate (from the previous step above) and the Number.\n",
    "\n",
    "    * Num = 2\n",
    "    * Est = 1\n",
    "    * (Num + Est) / 2 = (2 + 1)/2 = 1.5 = new Est\n",
    "  \n",
    "    \n",
    "4. Use resulting estimate from previous step as the new estimate and repeat these two steps until you get your answer.\n",
    "    * Est = 1.5\n",
    "    * Num / Est = 2 / 1.5 = 1.33333333 \n",
    "    * Average of Num and new Est = (2 + 1.3333)/2 = \n",
    "    \n",
    "    \n",
    "    \n",
    "    = 1.4166666650000002 = new Est\n",
    "\n",
    "    * Num / Est = 2 / 1.4166666650000002 = 1.4117647075432525  = new Est\n",
    "    * Num / Est = \n",
    "    \n",
    "    - next estimate = 1.4166666650000002\n",
    "        * 2 / 1.4166666650000002 = 1.4117647075432525\n",
    "        * (1.4166666650000002 + 1.4117647075432525)/2 = 1.4142156862716262\n",
    "        \n",
    "    - next estimate = 1.4142156862716262\n",
    "         * 2/ 1.4142156862716262 = 1.4142114384777535\n",
    "         * (1.4142156862716262 + 1.4142114384777535)/2 = 1.4142135623746899\n",
    "         \n",
    "    - next estimate = 1.4142135623746899\n",
    "    \n",
    "    and so on.......\n",
    " \n",
    "### Describing the above steps \n",
    "- Take the number in question as `num` and a starting estimate for the square root of X. Call this `est` for estimate.\n",
    "- Decide on the precision. I am going with zero here. \n",
    "    "
   ]
  },
  {
   "cell_type": "markdown",
   "metadata": {},
   "source": [
    "Putting the above algorithm into code...\n",
    "Use better names instead of guess.\n"
   ]
  },
  {
   "cell_type": "code",
   "execution_count": 186,
   "metadata": {},
   "outputs": [
    {
     "name": "stdout",
     "output_type": "stream",
     "text": [
      "1.414213562373095\n",
      "1.414213562373094923430016933707520365715026855468750000000000\n",
      "<class 'str'>\n",
      "1.41421356237309492343001693370752036571502685546875\n"
     ]
    }
   ],
   "source": [
    "# x is the number 2  that we want the square root of\n",
    "#x = 2**10\n",
    "x = 2\n",
    "# guess is based on the square root of the nearest perfect square\n",
    "#guess = 1**10\n",
    "est =1\n",
    "\n",
    "# while the difference between 2 and the calculated square root is greater than a specified amount\n",
    "while abs(x -(est * est)) > 0.00000000000001:\n",
    "    \n",
    "    y = x / est\n",
    "    ave = (est + y)/2\n",
    "    est = ave\n",
    "print(est)\n",
    "\n",
    "result = ('%.60f' %est)\n",
    "print(result)\n",
    "print(type(result))\n",
    "print('%.60g' %est)"
   ]
  },
  {
   "cell_type": "code",
   "execution_count": 74,
   "metadata": {},
   "outputs": [
    {
     "name": "stdout",
     "output_type": "stream",
     "text": [
      "1.414213562373095e+50\n",
      "141421356237309502300937332480540322869392772694016.000000000000000000000000000000000000000000000000000000000000\n",
      "<class 'str'>\n",
      "141421356237309502300937332480540322869392772694016\n"
     ]
    }
   ],
   "source": [
    "# x is the number 2  that we want the square root of\n",
    "#x = 2**10\n",
    "x = 2 *(10**100)\n",
    "# guess is based on the square root of the nearest perfect square\n",
    "#guess = 1**10\n",
    "guess =1\n",
    "\n",
    "# while the difference between 2 and the calculated square root is greater than a specified amount\n",
    "while abs(x -(guess * guess)) > 0.00000000000001:\n",
    "    \n",
    "    y = x / guess\n",
    "    ave = (guess + y)/2\n",
    "    guess = ave\n",
    "print(guess)\n",
    "\n",
    "result = ('%.60f' %guess)\n",
    "print(result)\n",
    "print(type(result))\n",
    "print('%.60g' %guess)"
   ]
  },
  {
   "cell_type": "code",
   "execution_count": 75,
   "metadata": {},
   "outputs": [
    {
     "name": "stdout",
     "output_type": "stream",
     "text": [
      "141421356237309502300937332480540322869392772694016\n"
     ]
    }
   ],
   "source": [
    "format_guess = format(guess,'.100g')\n",
    "print(format_guess)"
   ]
  },
  {
   "cell_type": "code",
   "execution_count": 2,
   "metadata": {},
   "outputs": [
    {
     "data": {
      "text/plain": [
       "1.9999999999999996"
      ]
     },
     "execution_count": 2,
     "metadata": {},
     "output_type": "execute_result"
    }
   ],
   "source": [
    "guess **2"
   ]
  },
  {
   "cell_type": "code",
   "execution_count": 27,
   "metadata": {},
   "outputs": [
    {
     "name": "stdout",
     "output_type": "stream",
     "text": [
      "1267650600228229401496703205376\n",
      "10000000000000000000000000000000000000000000000000000000000000000000000000000000000000000000000000000\n"
     ]
    },
    {
     "data": {
      "text/plain": [
       "7888609052210118054117285652827862296732064351090230047702789306640625"
      ]
     },
     "execution_count": 27,
     "metadata": {},
     "output_type": "execute_result"
    }
   ],
   "source": [
    "print(2**100)\n",
    "print(10**100)\n",
    "(10**100)//(2**100)"
   ]
  },
  {
   "cell_type": "markdown",
   "metadata": {},
   "source": [
    "### Putting the above into a function.\n",
    "- Write a Python function called sqrt2 that calculates and prints to the screen the square root of 2 to 100 decimal places.\n",
    "- The initial guess can be set to either the number two or 1. \n",
    "- This task is solely about the square root of the number 2. The function should be called `sqrt2`\n",
    "- The printing out of the digits should be part of the function also.\n",
    "- Instead of hardcoding in the precision amount, I could pass it as a parameter. This would help with testing it as I could change the precision to see how the results change.\n",
    "- Converting from one format to another, from a float to a string might not actually be returning the exact answer. See above\n",
    "- My best solution below was getting the square root of a large multiple of 2 and then extracting the digits into a string. I need to incorporate this into the function, both the larger number 2 times 10 to power of 200.\n",
    "- My function is not calculating the correct number compared to Wikipedia. It is rounding down after the first 15 digits. This is the challenge really so I need to modify my function to become more accurate. At least the printing of the digits part is working!\n",
    "- I think the problem is dividing by a float. Yet when I do integer division the function won't finish running\n",
    "- I can take out the in between step of calculating y which will eliminate part of the problem\n",
    "- Here I am modifying the function to return the square root of a perfect square."
   ]
  },
  {
   "cell_type": "code",
   "execution_count": 176,
   "metadata": {},
   "outputs": [],
   "source": [
    "# define the function\n",
    "def mySqrtA(x):\n",
    "    \"\"\"\n",
    "    takes  one input which is the number to calculate the square root of\n",
    "    could also take the \n",
    "    \n",
    "    \"\"\"\n",
    "    \n",
    "    \n",
    "    prec = 10**-10\n",
    "    guess = x \n",
    "    #while abs(x -(guess * guess)) > 0.00000000000001:\n",
    "    while abs(x -(guess * guess)) > prec:\n",
    "        y = x / guess\n",
    "        ave = (guess + y)/2\n",
    "        guess = ave\n",
    "    return(guess)\n",
    "        \n",
    "    "
   ]
  },
  {
   "cell_type": "markdown",
   "metadata": {},
   "source": [
    "### using integer division instead of division by a float"
   ]
  },
  {
   "cell_type": "code",
   "execution_count": 184,
   "metadata": {},
   "outputs": [],
   "source": [
    "# define the function\n",
    "def mySqrtB(x):\n",
    "    \"\"\"\n",
    "    takes  one input which is the number to calculate the square root of\n",
    "    could also take the \n",
    "    \n",
    "    \"\"\"\n",
    "    \n",
    "    \n",
    "    prec = 10**-10\n",
    "    prec =0\n",
    "    guess = x \n",
    "    #while abs(x -(guess * guess)) > 0.00000000000001:\n",
    "    while abs(x -(guess * guess)) > prec:\n",
    "        y = x // guess\n",
    "        ave = (guess + y)/2\n",
    "        guess = ave\n",
    "    return(guess)"
   ]
  },
  {
   "cell_type": "code",
   "execution_count": 185,
   "metadata": {},
   "outputs": [
    {
     "name": "stdout",
     "output_type": "stream",
     "text": [
      "30.00000000000009\n",
      "30.0\n",
      "141.4213562373095\n"
     ]
    },
    {
     "ename": "KeyboardInterrupt",
     "evalue": "",
     "output_type": "error",
     "traceback": [
      "\u001b[0;31m---------------------------------------------------------------------------\u001b[0m",
      "\u001b[0;31mKeyboardInterrupt\u001b[0m                         Traceback (most recent call last)",
      "\u001b[0;32m<ipython-input-185-431f24dfa995>\u001b[0m in \u001b[0;36m<module>\u001b[0;34m\u001b[0m\n\u001b[1;32m      2\u001b[0m \u001b[0mprint\u001b[0m\u001b[0;34m(\u001b[0m\u001b[0mmySqrtB\u001b[0m\u001b[0;34m(\u001b[0m\u001b[0;36m900\u001b[0m\u001b[0;34m)\u001b[0m\u001b[0;34m)\u001b[0m \u001b[0;31m# using division by an integer\u001b[0m\u001b[0;34m\u001b[0m\u001b[0;34m\u001b[0m\u001b[0m\n\u001b[1;32m      3\u001b[0m \u001b[0mprint\u001b[0m\u001b[0;34m(\u001b[0m\u001b[0mmySqrtA\u001b[0m\u001b[0;34m(\u001b[0m\u001b[0;36m20000\u001b[0m\u001b[0;34m)\u001b[0m\u001b[0;34m)\u001b[0m\u001b[0;34m\u001b[0m\u001b[0;34m\u001b[0m\u001b[0m\n\u001b[0;32m----> 4\u001b[0;31m \u001b[0mprint\u001b[0m\u001b[0;34m(\u001b[0m\u001b[0mmySqrtB\u001b[0m\u001b[0;34m(\u001b[0m\u001b[0;36m20000\u001b[0m\u001b[0;34m)\u001b[0m\u001b[0;34m)\u001b[0m\u001b[0;34m\u001b[0m\u001b[0;34m\u001b[0m\u001b[0m\n\u001b[0m",
      "\u001b[0;32m<ipython-input-184-c25dc811511e>\u001b[0m in \u001b[0;36mmySqrtB\u001b[0;34m(x)\u001b[0m\n\u001b[1;32m     13\u001b[0m     \u001b[0;31m#while abs(x -(guess * guess)) > 0.00000000000001:\u001b[0m\u001b[0;34m\u001b[0m\u001b[0;34m\u001b[0m\u001b[0;34m\u001b[0m\u001b[0m\n\u001b[1;32m     14\u001b[0m     \u001b[0;32mwhile\u001b[0m \u001b[0mabs\u001b[0m\u001b[0;34m(\u001b[0m\u001b[0mx\u001b[0m \u001b[0;34m-\u001b[0m\u001b[0;34m(\u001b[0m\u001b[0mguess\u001b[0m \u001b[0;34m*\u001b[0m \u001b[0mguess\u001b[0m\u001b[0;34m)\u001b[0m\u001b[0;34m)\u001b[0m \u001b[0;34m>\u001b[0m \u001b[0mprec\u001b[0m\u001b[0;34m:\u001b[0m\u001b[0;34m\u001b[0m\u001b[0;34m\u001b[0m\u001b[0m\n\u001b[0;32m---> 15\u001b[0;31m         \u001b[0my\u001b[0m \u001b[0;34m=\u001b[0m \u001b[0mx\u001b[0m \u001b[0;34m//\u001b[0m \u001b[0mguess\u001b[0m\u001b[0;34m\u001b[0m\u001b[0;34m\u001b[0m\u001b[0m\n\u001b[0m\u001b[1;32m     16\u001b[0m         \u001b[0mave\u001b[0m \u001b[0;34m=\u001b[0m \u001b[0;34m(\u001b[0m\u001b[0mguess\u001b[0m \u001b[0;34m+\u001b[0m \u001b[0my\u001b[0m\u001b[0;34m)\u001b[0m\u001b[0;34m/\u001b[0m\u001b[0;36m2\u001b[0m\u001b[0;34m\u001b[0m\u001b[0;34m\u001b[0m\u001b[0m\n\u001b[1;32m     17\u001b[0m         \u001b[0mguess\u001b[0m \u001b[0;34m=\u001b[0m \u001b[0mave\u001b[0m\u001b[0;34m\u001b[0m\u001b[0;34m\u001b[0m\u001b[0m\n",
      "\u001b[0;31mKeyboardInterrupt\u001b[0m: "
     ]
    }
   ],
   "source": [
    "print(mySqrtA(900)) # using division by a float\n",
    "print(mySqrtB(900)) # using division by an integer\n",
    "print(mySqrtA(20000))\n",
    "print(mySqrtB(20000))"
   ]
  },
  {
   "cell_type": "markdown",
   "metadata": {},
   "source": [
    "This shows that division by a float is causing a problem. "
   ]
  },
  {
   "cell_type": "markdown",
   "metadata": {},
   "source": [
    "### Modifying my function above\n",
    "Bringing the extra steps into the function instead of being applied to the function after"
   ]
  },
  {
   "cell_type": "code",
   "execution_count": 160,
   "metadata": {},
   "outputs": [],
   "source": [
    "# define the function\n",
    "def sqrt2():\n",
    "    \"\"\"\n",
    "    takes  one input which is the number to calculate the square root of\n",
    "    \n",
    "    \"\"\"\n",
    "    x = 2 # This is the number we want to get the square root of\n",
    "    \n",
    "    bigx = x*(10**200) # 2 times 10^100\n",
    "    \n",
    "    print(bigx)\n",
    "    # can set the precision here or hardcode it in\n",
    "    #prec = 10**-15\n",
    "    prec = 0\n",
    "    #setting the initial guess as bigx or half it, it doesn't matter unless to the timing\n",
    "    \n",
    "    guess = bigx\n",
    "    print(\"The first guess is\",guess)\n",
    "    #while abs(x -(guess * guess)) > 0.0:\n",
    "   \n",
    "    # while the difference between the number and the square of the guess is greater than 0\n",
    "    while abs(bigx -(guess * guess)) > prec:\n",
    "        #print(guess)\n",
    "        \n",
    "        y = bigx // guess\n",
    "        ave = (guess + y)//2\n",
    "        # the new guess is the average\n",
    "        guess = ave\n",
    "    bigxroot = guess\n",
    "    print(\"The root of 2 times 10 to power of 200 is: \",bigxroot)\n",
    "   \n",
    "    format_bigxroot =format(bigxroot,'.100g')\n",
    "    # extract the first 100 digits\n",
    "    print(format_bigxroot)\n",
    "    sqrtoftwo =format_bigxroot[0:101]\n",
    "    print(sqrtoftwo)\n"
   ]
  },
  {
   "cell_type": "code",
   "execution_count": 164,
   "metadata": {},
   "outputs": [],
   "source": []
  },
  {
   "cell_type": "code",
   "execution_count": 127,
   "metadata": {},
   "outputs": [
    {
     "data": {
      "text/plain": [
       "1.4142135623730951"
      ]
     },
     "execution_count": 127,
     "metadata": {},
     "output_type": "execute_result"
    }
   ],
   "source": [
    "import numpy as np\n",
    "np.sqrt(2)\n",
    "import math\n",
    "math.sqrt(2)"
   ]
  },
  {
   "cell_type": "code",
   "execution_count": 52,
   "metadata": {},
   "outputs": [
    {
     "name": "stdout",
     "output_type": "stream",
     "text": [
      "1.0000000000000000364321973154977415791655470655996396089904010295867919921875e-10\n",
      "0.0000000001000000000000000036432197315497741579165547065599639608990401029586791992187500000000000000\n"
     ]
    }
   ],
   "source": [
    "print(format(10**-10,'.100g'))\n",
    "print(format(10**-10,'.100f'))"
   ]
  },
  {
   "cell_type": "code",
   "execution_count": 80,
   "metadata": {},
   "outputs": [
    {
     "data": {
      "text/plain": [
       "1.4142135623746899"
      ]
     },
     "execution_count": 80,
     "metadata": {},
     "output_type": "execute_result"
    }
   ],
   "source": [
    "mySqrt(2)"
   ]
  },
  {
   "cell_type": "code",
   "execution_count": 83,
   "metadata": {},
   "outputs": [
    {
     "data": {
      "text/plain": [
       "1.414213562373095e+50"
      ]
     },
     "execution_count": 83,
     "metadata": {},
     "output_type": "execute_result"
    }
   ],
   "source": [
    "sqrt2(2)"
   ]
  },
  {
   "cell_type": "markdown",
   "metadata": {},
   "source": [
    "## "
   ]
  },
  {
   "cell_type": "code",
   "execution_count": 27,
   "metadata": {},
   "outputs": [
    {
     "data": {
      "text/plain": [
       "'1.00000000000000001999189980260288361964776078853415942018260300593659569925554346761767628861329299e-100'"
      ]
     },
     "execution_count": 27,
     "metadata": {},
     "output_type": "execute_result"
    }
   ],
   "source": [
    "format(10**-100,'.100g')"
   ]
  },
  {
   "cell_type": "code",
   "execution_count": 28,
   "metadata": {},
   "outputs": [
    {
     "data": {
      "text/plain": [
       "'0.0000000000000000000000000000000000000000000000000000000000000000000000000000000000000000000000000001'"
      ]
     },
     "execution_count": 28,
     "metadata": {},
     "output_type": "execute_result"
    }
   ],
   "source": [
    "format(10**-100,'.100f')"
   ]
  },
  {
   "cell_type": "code",
   "execution_count": 5,
   "metadata": {},
   "outputs": [
    {
     "name": "stdout",
     "output_type": "stream",
     "text": [
      "1.414213562373095\n"
     ]
    }
   ],
   "source": [
    "# try the function on the number 2\n",
    "print(my_sqrt(2))"
   ]
  },
  {
   "cell_type": "code",
   "execution_count": 19,
   "metadata": {},
   "outputs": [
    {
     "data": {
      "text/plain": [
       "4.4721359549995795e+22"
      ]
     },
     "execution_count": 19,
     "metadata": {},
     "output_type": "execute_result"
    }
   ],
   "source": [
    "2000000000000000000000000000000000000000000000 **(1/2)"
   ]
  },
  {
   "cell_type": "code",
   "execution_count": 23,
   "metadata": {},
   "outputs": [
    {
     "name": "stdout",
     "output_type": "stream",
     "text": [
      "141421356237309512037433344\n"
     ]
    }
   ],
   "source": [
    "sqr2=20000000000000000000000000000000000000000000000000000 **(1/2)\n",
    "sqrt2x =format(sqr2,'.100g')\n",
    "print(sqrt2x)"
   ]
  },
  {
   "cell_type": "code",
   "execution_count": 24,
   "metadata": {},
   "outputs": [
    {
     "data": {
      "text/plain": [
       "1.4142135623730951"
      ]
     },
     "execution_count": 24,
     "metadata": {},
     "output_type": "execute_result"
    }
   ],
   "source": [
    "import math\n",
    "math.sqrt(2)"
   ]
  },
  {
   "cell_type": "markdown",
   "metadata": {},
   "source": [
    "### Rounding / Accuracy etc\n",
    "\n",
    "At some stage the results gets rounded which is the main problem here! From Wikipedia the square root of 2 to 50 decimal places is `1.41421356237309504880168872420969807856967187537694`\n",
    "The square root of 2 using `np.sqrt` to 50 decimal places is 1.41421356237309514547462185873882845044136047363281.\n",
    "The power of two is the opposite of getting the square root.\n",
    "The `**` operator can be used to get powers in Python.\n"
   ]
  },
  {
   "cell_type": "markdown",
   "metadata": {},
   "source": [
    "## Alternative ways of calculating the square root of two\n",
    "\n",
    "The task calls for writing a function called sqrt2 that calculates and prints to the screen the square root of 2 to 100 decimal places. (without using any modules etc).\n",
    "Another way to calculate the square root is getting the number to the power of 1/2.\n",
    "There is also the Babylonian method."
   ]
  },
  {
   "cell_type": "code",
   "execution_count": null,
   "metadata": {},
   "outputs": [],
   "source": [
    "1.41421356237309514547462185873882845044136047363281**2"
   ]
  },
  {
   "cell_type": "code",
   "execution_count": null,
   "metadata": {},
   "outputs": [],
   "source": [
    "print(2-(1.414213562373095 * 1.414213562373095))\n",
    "print(2-(1.41421356237309514547462185873882845044136047363281 * 1.41421356237309514547462185873882845044136047363281))"
   ]
  },
  {
   "cell_type": "code",
   "execution_count": null,
   "metadata": {},
   "outputs": [],
   "source": [
    "import math\n",
    "root2 = math.sqrt(2)\n",
    "print(\" The square root of two is {:.50f}\".format(root2))\n",
    "\n",
    "root2 = math.sqrt(200)\n",
    "print(\" The square root of two is {:.50f}\".format(root2))"
   ]
  },
  {
   "cell_type": "markdown",
   "metadata": {},
   "source": [
    "### Printing to 100 decimal places ........\n",
    "\n",
    "\n",
    "While the algorithm itself will calculate the square root of two, it will not print out 100 decimal places so easily. The number before the decimal point cannot be rounded though so I decided to try using a large multiple of 2. In the same way that the square root of 4 is 2, square root of 400 is 20, (or square root of 9 is 3 and the square root of 900 is 30). \n",
    "- The square root of 4 times 100 (400) is the same as 100 times the sqaure root of 4.\n",
    "- The square root of 900 is the same as 100 times the square root of 9.\n",
    "\n",
    "If I get the square root of a multiple of two and then divide by that multiple I might be able to increase the number of decimal places by capturing the whole number part of a multiple of 100 and then dividing by 100.\n",
    "(I am using the math module here just to see what the square root of a multiple of 2 would look like)\n",
    "\n",
    "So first try multiplying by 100, then square root of the result and divide by 100.\n",
    "Can use the `**` to raise to power of in Python. See [python docs](https://docs.python.org/3/tutorial/introduction.html#using-python-as-a-calculator)"
   ]
  },
  {
   "cell_type": "code",
   "execution_count": null,
   "metadata": {},
   "outputs": [],
   "source": []
  },
  {
   "cell_type": "code",
   "execution_count": null,
   "metadata": {},
   "outputs": [],
   "source": [
    "print(2**2) # 2 to power of 2\n",
    "print(10**10) # 10 to power of 10 is 10000000000\n",
    "print (10**100)\n",
    "# 10 to power of \n",
    "10**10\n"
   ]
  },
  {
   "cell_type": "markdown",
   "metadata": {},
   "source": [
    "10 to the power of 2 is 100, 10 to the power of 10 is 10000000000\n",
    "10 to the power of 100 is a big number! I can get the length of this by using the length function on a string. First need to convert into a string using the `str` function and then use the `len` function on the result of that or `len(str()` in one go."
   ]
  },
  {
   "cell_type": "code",
   "execution_count": null,
   "metadata": {},
   "outputs": [],
   "source": [
    "print(len(str(10**10)))\n",
    "print(len(str(10**100)))\n",
    "print(len(str(10**1000)))"
   ]
  },
  {
   "cell_type": "code",
   "execution_count": null,
   "metadata": {},
   "outputs": [],
   "source": [
    "print(math.sqrt(2))\n",
    "print(math.sqrt(2*(10**10)))\n",
    "print(math.sqrt(2*(10**100)))\n",
    "print(math.sqrt(2*(10**200))) \n",
    "\n"
   ]
  },
  {
   "cell_type": "markdown",
   "metadata": {},
   "source": [
    "#### Scientific notation\n",
    "The above is returned is scientific notation so somehow need to convert this.\n",
    "its also not long enough!\n",
    "(I cannot use math.sqrt on `2*(10**100)` as I get an overflow error, `int too large to convert`. This is incorrect as I can do it now. I must have tried on a larger number like 2 times 10 to power of a much larger number. I can do it on 2 times `10**400` and even larger.\n",
    "\n",
    "The number 2 multiplied by 10 to the power of 200 is `200000000000000000000000000000000000000000000000000000000000000000000000000000000000000000000000000000000000000000000000000000000000000000000000000000000000000000000000000000000000000000000000000000000`\n"
   ]
  },
  {
   "cell_type": "code",
   "execution_count": null,
   "metadata": {},
   "outputs": [],
   "source": [
    "import math\n",
    "print(2*(10**300))\n",
    "print(math.sqrt(2*(10**300)))\n"
   ]
  },
  {
   "cell_type": "markdown",
   "metadata": {},
   "source": [
    "So this is getting closer to what I want but I don't want to print scientific notation.\n",
    "going with the multiple of 100 theory, the approximate square root of 2 is 1.414213567 so I will multiply this by 10 to power of 100.\n",
    "Taking my function defined previously `my_sqrt` and trying it out a multiple of 2 times 10 to power of 100.\n",
    "This still returns scientific notation. "
   ]
  },
  {
   "cell_type": "code",
   "execution_count": null,
   "metadata": {},
   "outputs": [],
   "source": [
    "x =2*(10**100)\n",
    "print(x)\n",
    "print(len(str(x)))\n",
    "y =1.414213567*(10**100)\n",
    "print(y)"
   ]
  },
  {
   "cell_type": "code",
   "execution_count": null,
   "metadata": {},
   "outputs": [],
   "source": [
    "my_sqrt(2*(10**200))"
   ]
  },
  {
   "cell_type": "markdown",
   "metadata": {},
   "source": [
    "So I can print out a long integer such as `x =2*(10**100)` or even 2 times 10 to power of 1000. I'm sure even more. "
   ]
  },
  {
   "cell_type": "code",
   "execution_count": null,
   "metadata": {},
   "outputs": [],
   "source": [
    "x =2*(10**100)\n",
    "print(x)\n",
    "x =2*(10**1000)\n",
    "print(x)\n",
    "print(len(str(x)))"
   ]
  },
  {
   "cell_type": "markdown",
   "metadata": {},
   "source": [
    "So I still need to find a way of printing the scientific notation to float.\n",
    "Look back again at [python docs on floating points numbers.](https://docs.python.org/3/tutorial/floatingpoint.html) which goes into detail as to why\n",
    ">Unfortunately, most decimal fractions cannot be represented exactly as binary fractions. A consequence is that, in general, the decimal floating-point numbers you enter are only approximated by the binary floating-point numbers actually stored in the machine.\n",
    "\n",
    "The docs do mention using string formatting to print a limited number of significant digits.\n",
    "The example from the python docs shows how `.2f` is used to give 2 digits after the decimal point and `.12g` to give 12 significant digits.\n",
    "I could specify `.100g`or`.100f`\n",
    "\n",
    "### Trying the square root function on a large multiple of 2\n",
    "I did try this earlier on the algorithm to find the square root of 2 but it printed zeros after the first 50 places so I next tried it on the algorithm applied to the multiple of 2 (2 multiplied by 10 to power of 100).\n",
    "This produces the number `1.414213562373095027142412563281858698349164881791987548177900388860130684271654303022821004349852877e+100` which is in scientific notation. So now I have the digits but they are for the square root of a multple of two.\n",
    "It might not even be accurate. Wikipedia gives the square root of 2 to 50 decimal places. (`1.41421356237309504880168872420969807856967187537694` which differs after the first 16 places! Oh dear.\n",
    "The task is to print the square root of 2 to 100 decimal places. My answer here is the square root of 2 times 10 to power of 200. But it is a string and it is over 100 decimal places so I can work with the string.\n"
   ]
  },
  {
   "cell_type": "code",
   "execution_count": null,
   "metadata": {},
   "outputs": [],
   "source": [
    "x = 2*(10**200)\n",
    "result =my_sqrt(x)\n",
    "x100 =format(result,'.100g')\n",
    "print(x100)\n",
    "print(len(str(x100)))\n",
    "print((1.414213562373095027142412563281858698349164881791987548177900388860130684271654303022821004349852877e+100)**2)\n"
   ]
  },
  {
   "cell_type": "markdown",
   "metadata": {},
   "source": [
    "I square the result to see if it returns the original number that was passed to the `my_sqrt()` function and it returns`2e+200`.  `(1.414213562373095027142412563281858698349164881791987548177900388860130684271654303022821004349852877e+100)**2` \n",
    "I thought the last time I did this it returned 1.9999999999999996. See below where\n",
    "`1.414213562373095027142412563281858698349164881791987548177900388860130684271654303022821004349852877**2` returned 1.9999999999999996."
   ]
  },
  {
   "cell_type": "code",
   "execution_count": null,
   "metadata": {},
   "outputs": [],
   "source": [
    "# squaring the result \n",
    "(1.414213562373095027142412563281858698349164881791987548177900388860130684271654303022821004349852877e+100)**2"
   ]
  },
  {
   "cell_type": "code",
   "execution_count": null,
   "metadata": {},
   "outputs": [],
   "source": [
    "## from before.\n",
    "1.414213562373095027142412563281858698349164881791987548177900388860130684271654303022821004349852877**2"
   ]
  },
  {
   "cell_type": "markdown",
   "metadata": {},
   "source": [
    "### Extracting the digits from the string\n",
    "I now need to take away the `e+200` from the end of the string.\n",
    "See [strings tutorial](https://docs.python.org/3/tutorial/introduction.html#strings) from the Python docs. I can just take the first 102 characters including the 1 and the decimal point and not including the `e+200` "
   ]
  },
  {
   "cell_type": "code",
   "execution_count": null,
   "metadata": {},
   "outputs": [],
   "source": [
    "# extracting the first 102 characters from the string `x100`\n",
    "ans =x100[0:101]\n",
    "print(ans)"
   ]
  },
  {
   "cell_type": "code",
   "execution_count": 96,
   "metadata": {
    "scrolled": true
   },
   "outputs": [
    {
     "data": {
      "text/plain": [
       "1.9999999999999996"
      ]
     },
     "execution_count": 96,
     "metadata": {},
     "output_type": "execute_result"
    }
   ],
   "source": [
    "# converting to float and squaring gives 1.9999999999999996\n",
    "float(ans)*float(ans)"
   ]
  },
  {
   "cell_type": "code",
   "execution_count": 101,
   "metadata": {},
   "outputs": [
    {
     "data": {
      "text/plain": [
       "1.9999999999999996"
      ]
     },
     "execution_count": 101,
     "metadata": {},
     "output_type": "execute_result"
    }
   ],
   "source": [
    "# taking out the digits from the string and squaring:\n",
    "1.414213562373095027142412563281858698349164881791987548177900388860130684271654303022821004349852877**2"
   ]
  },
  {
   "cell_type": "code",
   "execution_count": 102,
   "metadata": {},
   "outputs": [
    {
     "data": {
      "text/plain": [
       "2e+200"
      ]
     },
     "execution_count": 102,
     "metadata": {},
     "output_type": "execute_result"
    }
   ],
   "source": [
    "# squaring the actual result from the function:\n",
    "(1.414213562373095027142412563281858698349164881791987548177900388860130684271654303022821004349852877e+100)**2"
   ]
  },
  {
   "cell_type": "code",
   "execution_count": 262,
   "metadata": {},
   "outputs": [
    {
     "data": {
      "text/plain": [
       "2.0000000000000004"
      ]
     },
     "execution_count": 262,
     "metadata": {},
     "output_type": "execute_result"
    }
   ],
   "source": [
    "math.sqrt(2)*math.sqrt(2)"
   ]
  },
  {
   "cell_type": "code",
   "execution_count": 263,
   "metadata": {},
   "outputs": [
    {
     "data": {
      "text/plain": [
       "2.0000000000000004"
      ]
     },
     "execution_count": 263,
     "metadata": {},
     "output_type": "execute_result"
    }
   ],
   "source": [
    "np.sqrt(2)*np.sqrt(2)"
   ]
  },
  {
   "cell_type": "markdown",
   "metadata": {},
   "source": [
    "So it looks like the number itself is correct but when converted to a string to get the decimals and then converted back to a float it gives a different number. Which is to be expected from something I read before!"
   ]
  },
  {
   "cell_type": "code",
   "execution_count": null,
   "metadata": {},
   "outputs": [],
   "source": []
  },
  {
   "cell_type": "markdown",
   "metadata": {},
   "source": [
    "# References\n",
    "- https://www.latex-tutorial.com/tutorials/amsmath/\n",
    "- https://www.math-linux.com/latex-26/faq/latex-faq/article/latex-natural-numbers\n",
    "\n",
    "Read https://kodlogs.com/blog/715/convert-scientific-notation-to-decimal-python"
   ]
  }
 ],
 "metadata": {
  "kernelspec": {
   "display_name": "Python 3",
   "language": "python",
   "name": "python3"
  },
  "language_info": {
   "codemirror_mode": {
    "name": "ipython",
    "version": 3
   },
   "file_extension": ".py",
   "mimetype": "text/x-python",
   "name": "python",
   "nbconvert_exporter": "python",
   "pygments_lexer": "ipython3",
   "version": "3.8.2"
  }
 },
 "nbformat": 4,
 "nbformat_minor": 4
}
