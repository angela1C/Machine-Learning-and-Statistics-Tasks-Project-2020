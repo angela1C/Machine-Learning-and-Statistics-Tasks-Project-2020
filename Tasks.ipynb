{
 "cells": [
  {
   "cell_type": "markdown",
   "metadata": {},
   "source": [
    "# Tasks Assessment\n",
    "\n",
    "This notebook will hold my solutions to the Tasks Assessment for Machine Learning and Statistics 2020.\n",
    "\n",
    "\n",
    "The author is Angela Carpenter\n",
    "\n",
    "# Table of Contents\n",
    "\n",
    "- [Task 1: Calculate the square root of two to 100 decimal places without using any imported module](#task-1)\n",
    "\n",
    "\n",
    "- [Task 2: Chi-squared test for Independence](#task-2)\n",
    "\n",
    "- [Task 3 - Standard Deviation Functions](#task-3)\n",
    "\n",
    "- [Task 4 - Clustering Fisher's Iris dataset using k-means.](#task-4)\n",
    "\n",
    "- [References](#references)\n",
    "***"
   ]
  },
  {
   "cell_type": "markdown",
   "metadata": {},
   "source": [
    "#### Plan\n",
    "\n",
    "- Tidy up references, keep numbering consistent.\n",
    "- Task 3 Standard deviation \n",
    "    \n"
   ]
  },
  {
   "cell_type": "markdown",
   "metadata": {},
   "source": [
    "## Task 1\n",
    "**Write a Python function called sqrt2 that calculates and prints to the screen the square root of 2 to 100 decimal places. Your code should not depend on any module from the standard library or otherwise. You should research the task first and include references and a description of your algorithm.**"
   ]
  },
  {
   "cell_type": "markdown",
   "metadata": {},
   "source": [
    "## The square root of two $\\sqrt{2}$\n",
    "\n",
    "The square root of a number is a value that when multiplied by itself gives the number. \n",
    "In geometrical terms the square root function maps the area of a square to its side length.(Pythagoras theorem)\n",
    "\n",
    ">Square roots of positive numbers are not in general rational numbers, and so cannot be written as a terminating or recurring decimal expression. Therefore in general any attempt to compute a square root expressed in decimal form can only yield an approximation, though a sequence of increasingly accurate approximations can be obtained. [1][Wiki on square roots](https://en.wikipedia.org/wiki/Square_root)\n",
    "\n",
    "The square root of two then is the number that when multiplied by itself gives the number two. Geometrically the square root of 2 is the the length of the diagonal of a square where each side of the square is of length 1.\n",
    "\n",
    ">*The square root of 2, or the one-half power of 2, written in mathematics as \n",
    "$2{\\sqrt {2}}$ or $2^{{1/2}}$ is the positive algebraic number that, when multiplied by itself, equals the number 2.*\n",
    ">Technically, it must be called the principal square root of 2, to distinguish it from the negative number with the same property.\n",
    "[2][Wikipedia](https://en.wikipedia.org/wiki/Square_root_of_2).\n",
    "The square root of two was probably the first number known to be irrational.\n",
    "\n",
    "An **irrational** number is one which cannot be expressed as a ratio of two numbers, i.e. a fraction.\n",
    "Any number that can be expressed as a ratio of two integers, a decimal that either ends or repeats in a recurring manner or a percentage is said to be a rational number. All whole numbers are rational as they can be represented as fractions divided by 1. \n",
    "\n",
    "Greek mathematicians such as Pythagoras had believed that all numbers could be shown to be fractions, believing that the number line was made up entirely of fractions, because for any two fractions we can always find another fraction in between them. Because this process has no end there are infinitely many such points. \n",
    "Hippasus, a Greek scholar is believed to have first identified irrational numbers in the 5th century BCE as he worked on geometrical problems [3][The Maths Book: Big Ideas Simply explained](published by Dorling Kindersley Limited). He applied Pythagoras's theorem which states that the square of the hypothenuse in a triangle is equal to the sum of the squares of the other two sides, to a right-angled triangle with both shorter sides equal to one. Hippasus realised that the length of the hypothesus of such as triangle was equal to the square root of two but that the square root of two could not be expressed as a ratio of two whole numbers, as a fraction. There is no rational number which can be multiplied by itself to give precisely two which means that the square root of two an irrational number. The number two is termed non-square or square free. The numbers 3, 5 and 7 and many others are also non-square with irrational square roots. Numbers such as 4, 9 and 16 are square numbers and do have square roots that are also whole numbers and therefore rational.\n",
    "\n",
    "Another rational number can always be found in between two rational numbers. The average of the two numbers will also be rational. The average of the number and either of the two original numbers will be rational. Irrational numbers can also be found in between any two rational numbers. There are infinite numbers of rational numbers and infinite numbers of irrational numbers but the \n",
    "\n",
    "The square root of 2 is a real number that is not rational.\n",
    "A real number gives a positive result when squared. The square root of two gives a positive result when squared of 2. An irrational number has an infinite number of decimals with no recurring pattern. This is the case for the square root of two.  The square root of 2 truncuated to 50 decimal places is 1.41421356237309504880168872420969807856967187537694\n",
    "See (https://en.wikipedia.org/wiki/Square_root).\n",
    "\n",
    "The square root of $x$ is **rational** if and only if $x$ is a rational number that can be represented as a ratio of two perfect squares.\n",
    "A positive number has two square roots, one positive and one negative which are opposite each other but when talking of the square root of a positive integer it is usually just the positive square root that is meant.\n",
    "The square root of a positive integer is the product of the roots of its prime factors, because the square root of a product is the product of the square roots of the factors.\n",
    "\n",
    "The square roots of perfect squares such as 1, 4, 9 and 16 are integers. In all other cases, the square roots of positive integers are irrational numbers, and therefore have non-repeating digits in any standard positional notation system.\n",
    "\n",
    "The value of the square root of two cannot be determined accurately because it cannot be represented as a fraction in the form a/b where a and b are whole numbers and has an infinite number of decimals.[3][geeksforgeeks](https://www.geeksforgeeks.org/square-root-of-2/)\n",
    "\n",
    "In mathematics, the **natural** numbers are those used for counting and ordering. Some definitions begin the natural numbers at 0 corresponding to non-negative integers 0,1,2,3... collectively denoted by $\\mathbb{N_0}$  while others start with 1, corresponding to the positive integers 1,2,3,... collectively denoted by $\\mathbb{N_1}$. The natural numbers are the basis from which other number sets are built by extension. Natural numbers are often known as the counting numbers (excluding negative integers and zero) and are discrete numbers in contrast to measuring numbers or real numbers where the values are continuous and represent a distance along a line. Real numbers can be represented as an infinite decimal expansion.\n",
    "\n",
    "####  What this means for computing:\n",
    "In terms of computing, computer programs are made up of binary strings of 1's and 0's which can be converted into integers. Every computer program can be converted into one of the counting numbers from the set of $\\mathbb{N}$ . According to Turing, all computer programs are countable which means they can be put into one-to-one correspondance with the natural numbers but Turing also realised that not all numbers can be calculated or computed.[Lectures notes by Ian Mc Loughlin]. The set of $\\mathbb{N}$ Natural numbers are an infinite set but it is the smallest infinite set there is and is known as countable infinite. The set of measuring numbers are all the numbers on the number line that are used for quantifying and measuring things and there is an infinite amount of such numbers between any two discrete points on the number line.\n",
    "\n",
    "A rational number can be expressed as the ratio of 2 whole numbers. It can be stored as an array of two numbers. (A number is rational only if it's decimal expansion becomes periodic).\n",
    "Real numbers such as $\\sqrt{2}$ have an infinite number of places after the decimal point. Computers cannot really store such real numbers as there is only a finite number of bits available to store the number.\n",
    "\n",
    "Floating point numbers are stored on a computer with a finite number of digits so there is a finite limit on how many decimal places they can actually store. Floating point numbers are actually stored using integers in two parts, for the whole number part before the decimal point (the characteristics) and the part of the whole after the decimal point (the mantissa). \n",
    "\n",
    "The square root of two is an irrational number and therefore cannot be expressed in the ratio of two numbers in their most simplified form with the resulting implications being that the square root of two can never be stored in a computer. Instead an approximation of its value can be stored (in the same way an approximation for the irrational number $pi$ is stored). Irrational numbers are often stored as procedures which are used to calculate but not store the number.\n",
    "\n",
    "For this reason caution is always required when calculation statistics or performing analytics on irrational numbers. It is possible to work theoretically or to use approximations but rounding errors could interfere will the calculations.\n",
    "\n",
    "[Chapter 5 of the Python Tutorial](https://docs.python.org/3/tutorial/floatingpoint.html) looks at the issues and limitations associated with floating point arithmetic. It illustrates how the decimal fraction 0.125 and the binary fraction 0.001 have identical values:\n",
    "\n",
    "- Floating-point numbers are represented in computer hardware as base 2 (binary) fractions\n",
    "- The decimal fraction 0.125 has value $\\frac{1}{10}$ + $\\frac{2}{100}$ + $\\frac{5}{1000}$\n",
    "- The binary fraction 0.001 has value $\\frac{0}{2}$ + $\\frac{0}{4}$ + $\\frac{1}{8}$\n",
    "The only real difference here is that the decimal fraction 0.125 is written in base 10 fractional notation while the binary fraction 0.001 above is written in base 2 notation.\n",
    "\n",
    ">Unfortunately, most decimal fractions cannot be represented exactly as binary fractions. A consequence is that, in general, the decimal floating-point numbers you enter are only approximated by the binary floating-point numbers actually stored in the machine.\n",
    "\n",
    "The tutorial demonstrates how the fraction $\\frac{1}{3}$ can be approximated as a base 10 fraction as  0.3 or 0.33 or 0.333. No matter how many 3's you use the result will never actually be $\\frac{1}{3}$ but it will be increasingly a better approximation of $\\frac{1}{3}$)\n",
    "\n",
    "It also demonstrates how the decimal value 0.1 cannot be represented exactly as a base 2 fraction because in base 2, $\\frac{1}{10}$ is the infinitely repeating fraction\n",
    "0.0001100110011001100110011001100110011001100110011... and if you stop at any  finite number of bits you get an approximation. \n",
    "\n",
    "On most machines today floats are approximated using a binary fraction where the numerator uses the first 53 bits starting with the most significant bit and the denominator is as a power of 2\n",
    "They illustrate how the binary fraction for the decimal 0.1 is `3602879701896397 / 2 ** 55` which is close to the true value of 1/10 but it is not exactly equal to the true value of 0.1. However we don't notice that this is not the true value and only an approximation because of the way values are displayed. Python and other programminig languages only prints *a decimal approximation to the to the true decimal value of the binary approximation stored by the machine* \n",
    "\n",
    "The true decimal value of the binary approximation stored for 0.1 is actually `0.1000000000000000055511151231257827021181583404541015625` but it is printed as 0.1. Python displays a rounded value instead of all the digits as in most situations this is enough.\n",
    "\n",
    ">The important point is that even though what we see printed (0.01) looks like the exact value of $\\frac{1}{10}$, the actual value that is stored is the nearest representable binary fraction.\n",
    "\n",
    "The article continues by illustrating how there are many different decimal numbers which actually share the same nearest approximate binary fraction. The numbers `0.1`  and `0.10000000000000001` and `0.1000000000000000055511151231257827021181583404541015625` are all approximated by `3602879701896397 / 2 ** 55` . These decimal values all have the same approximation.\n",
    "\n",
    "The errors in Python float operations come from the floating-point hardware. \n",
    ">The errors in Python float operations are inherited from the floating-point hardware, and on most machines are on the order of no more than 1 part in `2**53` per operation. That’s more than adequate for most tasks, but you do need to keep in mind that it’s not decimal arithmetic and that every float operation can suffer a new rounding error. [Chapter 5 of the Python Tutorial](https://docs.python.org/3/tutorial/floatingpoint.html)\n",
    "\n",
    "\n",
    "We can use string formatting to produce a limited number of significant digits.\n",
    "For example `format(math.pi, '.12g')` gives 12 significant digits while `format(math.pi, '.2f')` gives 2  digits after the point.\n",
    "However it is important to know that this is simply rounding the **display** of the true machine value.\n",
    "\n",
    "**Representation error** refers to the fact that most decimal fractions cannot be represented exactly as binary (base 2) fractions in Python and other languages and therefore won’t display the exact decimal number you expect.\n",
    "Most machines use IEEE-754 floating point arithmetic and almost all platforms map Python floats to IEEE-754 “double precision” which contain 53 bits of precision. The computer strives to convert 0.1 to the closest fraction that it can of the form $J/2**N$ where J is an integer containing exactly 53 bits.\n",
    "\n",
    "IEEE 754 has 3 basic components:\n",
    "    * The sign of the mantissa where `0` represents a positive number while `1` represents a negative number.\n",
    "    * The biased exponent\n",
    "    * The Normalised Mantissa\n",
    "See [IEEE 754](https://en.wikipedia.org/wiki/IEEE_754) and [IEEE Standard 754 Floating Point Numbers](https://www.geeksforgeeks.org/ieee-standard-754-floating-point-numbers/) article on <geeksforgeeks.com>.\n",
    "\n",
    "Python has some solutions for dealing with these issues. It's [decimal module](https://docs.python.org/3/library/decimal.html#module-decimal) implements decimal arithmetic suitable for accounting applications and high-precision applications while the [fractions module](https://docs.python.org/3/library/fractions.html#module-fractions)  implements arithmetic based on rational numbers (so the numbers like $\\frac{1}{3}$ can be represented exactly). [NumPy](https://numpy.org) and [scipy](https://scipy.org) packages are recommended for mathematical and statistical operations.\n",
    "Python also has a [float.as_integer_ratio()](https://docs.python.org/3/library/stdtypes.html#float.as_integer_ratio) method which expresses the value of a float as a fraction. This can help when you want to know the exact value as a float. As the ratio is exact, it can be used to losslessly recreate the original value.\n",
    "\n",
    "\n",
    "Both Python's `math` module and the `numpy` library have a function called `sqrt` for calulating square roots.\n",
    "`math.sqrt(x)` calculates the square root of whatever is passed in as `x`. While this cannot be used for Task 1 itself, it can be used to check the results. If you square the results of either of these functions applied to the number 2, the result will be 2.0000000000000004 which demonstrates exactly the problem with performing calculations on the irrational number square root of two!\n"
   ]
  },
  {
   "cell_type": "markdown",
   "metadata": {},
   "source": [
    "## Methods for Calculating square roots\n",
    "(This section quotes quite a bit from sources referenced such as Wikipedia as otherwise it would be lost in translation!) \n",
    "\n",
    "Finding the square root of a number is the inverse of finding the square of a number. The square of a number is the number times itself. The perfect squares are the squares of the whole numbers. The square root of a number is the number that when multiplied by itself gives the number.\n",
    "\n",
    ">*The square roots of the perfect squares (e.g., 0, 1, 4, 9, 16) are integers. In all other cases, the square roots of positive integers are irrational numbers, and hence have non-repeating decimals in their decimal representations.* [2]  <https://en.wikipedia.org/wiki/Square_root>\n",
    "\n",
    "While getting the square root of the perfect squares is straightforward enough, getting the square root of numbers that are not perfect squares is not so. A manual calculation would start by looking at the square roots of the nearest perfect squares on either side of the number in question and involves some guesswork to begin. \n",
    "The most common iterative method of square root calculation by hand is known as the \"Babylonian method\". This is a \n",
    "guess and divide method which takes a starting estimate to the square root ($x_0$), divides this starting estimate into the number $a$ whose square root you are looking for and then finds the average of the quotient $x_0$ and the divisor $a$ to get the next estimate $x_{0+1}$.\n",
    "\n",
    "**Newtons Method** which is also known as the **Newton–Raphson method**, can be used to get an estimate of the square root of a number.  It is a root-finding algorithm which produces successively better approximations to the roots (or zeroes) of a real-valued function. [Newton's Method](https://en.wikipedia.org/wiki/Newton%27s_method) is one of many methods of computing square roots and is outlined in detail in the Wikipedia article. It outlines how the problem of finding the square root of a number $a$ can be rephrased as finding the zero of $f(x)=x2−a$ where $f$ is a single-variable function defined for a real variable $x$, with an initial guess of $x_0$ for a root of $f$. The derivative of the function $f'(x)=2x$. Rearranging the formula yields the Babylonian method of finding square roots :\n",
    "\n",
    "$$x_{n+1}=x_{n}-{\\frac{f(x_{n})}{f'(x_{n})}}=x_{n}-{\\frac{x_{n}^{2}-a}{2x_{n}}}={\\frac {1}{2}}{\\biggl(}2x_{n}-{\\Bigl(}x_{n}-{\\frac{a}{x_{n}}}{\\Bigr)}{\\biggr)}={\\frac {1}{2}}{\\Bigl(}x_{n}+{\\frac {a}{x_{n}}}{\\Bigr )}$$\n",
    "\n",
    "i.e. the arithmetic mean of the guess, $x_n$ and $\\frac{a}{x_n}$\n",
    "\n",
    "\n",
    "Using Newtons Method, regardless of the starting estimate, once the square of the estimate gets close enough to the actual number itself, then that is considered a good approximation for the square root.\n",
    "\n",
    "https://math.mit.edu/~stevenj/18.335/newton-sqrt.pdf\n",
    "\n",
    "\n",
    "The **Baylonian Method** uses the same iterative scheme as the Newton–Raphson method yields when applied to the function $y = f(x) = x2 − a$, using the fact that its slope at any point is $dy/dx = f′(x) = 2x$. (https://en.wikipedia.org/wiki/Square_root).\n",
    "You consider the  nearest perfect squares on both sides of the number to make a starting guess of what the square root could be.\n",
    "The Babylonian method of guess and divide takes a starting estimate to the square root ($x_0$), divides this starting estimate into the number $a$ whose square root you are looking for and then finds the average of the quotient $x_0$ and the divisor $a$ to get the next estimate $x_{0+1}$.\n",
    "\n",
    "The post here at https://blogs.sas.com/content/iml/2016/05/18/newtons-method-babylonian-square-root.html explains simply how the algorithm taught in school for calculating the estimating a square root from an arbitrary guess is an iterative procedure. Given any positive number $S$ and any positive number $x_0$, apply the following formula:\n",
    "$$x_{n+1} = \\frac{(x_n + S/x_n)}{2}$$ until the iteration converges to the square root of $S$.\n",
    " \n",
    "The same author has a post on the [Babylonian method for finding square roots by hand](https://blogs.sas.com/content/iml/2016/05/16/babylonian-square-roots.html). (This seems to be the way I was trying to work out below.)\n",
    "Suppose you are given any positive number $S$. To find it's square root do the following:\n",
    "1. Make an initial guess. This guess can be any positive number. This is $x_0$\n",
    "2. Improve the guess by applying the formula $x_1 = \\frac{(x_0 + \\frac{S}{x_0})}{2}$.\n",
    "   The number $x_1$ is a better approximation to the square root of $S$.\n",
    "3. Iterate until convergence. \n",
    "   Apply the formula $x_{n+1}=\\frac{(x_n+\\frac{S}{x_n})}{2}$ until the process converges.\n",
    "\n",
    "    * Convergence is achieved when the  digits of $x_{n+1}$ and $x_n$ agree to as many decimal places as you desire.\n",
    "\n",
    "\n",
    "[Wikipedia](https://en.wikipedia.org/wiki/Square_root) similarly describes the process (using $a$ in place of $s$ above).\n",
    "The algorithm is to repeat a simple calculation that results in a number closer to the actual square root each time it is repeated with its result as the new input. The motivation is that if x is an overestimate to the square root of a nonnegative real number a then a/x will be an underestimate and so the average of these two numbers is a better approximation than either of them. However, the inequality of arithmetic and geometric means shows this average is always an overestimate of the square root (as noted below), and so it can serve as a new overestimate with which to repeat the process, which converges as a consequence of the successive overestimates and underestimates being closer to each other after each iteration. To find x:\n",
    "1. Start with an arbitrary positive start value x. The closer to the square root of a, the fewer the iterations that will be needed to achieve the desired precision.\n",
    "2. Replace x by the average (x + a/x) / 2 between x and a/x.\n",
    "3. Repeat from step 2, using this average as the new value of x.\n",
    "\n",
    "That is, if an arbitrary guess for $\\sqrt {a}$ is $x0$, and $x_{n+1} =\\frac{ (x_n + \\frac{a}{x_n})}{2}$, then each $x_n$ is an approximation of $\\sqrt{a}$ which is better for large $n$ than for small $n$. If $a$ is positive, the convergence is quadratic, which means that in approaching the limit, the number of correct digits roughly doubles in each next iteration. If $a = 0$, the convergence is only linear.\n",
    "\n",
    "Using the identity $\\sqrt{a}=2^{-n}{\\sqrt{4^{n}a}}$,\n",
    "the computation of the square root of a positive number can be reduced to that of a number in the range `[1,4)`. This simplifies finding a start value for the iterative method that is close to the square root, for which a polynomial or piecewise-linear approximation can be used.\n",
    "\n",
    "The time complexity for computing a square root with $n$ digits of precision is equivalent to that of multiplying two n-digit numbers.\n",
    "\n"
   ]
  },
  {
   "cell_type": "markdown",
   "metadata": {},
   "source": [
    "    \n",
    "#### Working out the square root of 2 using the above logic.\n",
    "\n",
    "First make a guess of what the root of the number in question could be based on the square root of the nearest perfect squares on either side.  Add the result of this to the number and question and divide by two to get the average as the new starting guess. Keep repeating.\n",
    "\n",
    "1. Find two perfect square roots that the number in question lies between. \n",
    " \n",
    "2. Take one of those square roots as an estimate and divide the number in question by it.\n",
    "    * S = 2\n",
    "    * The square root of 2 must lie between 1 and 2\n",
    "    * Taking 1 here as the estimate $x_0=1$\n",
    "    * Divide number in question by the starting estimate S/x0 = 2/1 = 2 = X1\n",
    "    \n",
    "3. Take the average of the latest estimate x1 (2) and S (from the previous step above) and the Number.\n",
    "\n",
    "    * x1 = (x0 +S/x0)/2 = (2 + 2/1)/2 = 2\n",
    "    * x2 = (x1 + S/x1)/2 = (2 + 2/2)/2 =1.5\n",
    "    * x3 = (x2 + S/x2)/2 = (1.5 + 2/1.5)/2 = 1.4166666666666665\n",
    "    * x4 = (x3 + S/x3)/2 = (1.4166666666666665 + 2/1.4166666666666665)/2 = 1.4142156862745097\n",
    "    * x5 = (x4 + S/x4)/2 = (1.4142156862745097 + 2/1.4142156862745097)/2 = 1.4142135623746899\n",
    "    * x6 = (x5 + S/x5)/2 = (1.4142135623746899 + 2/1.4142135623746899)/2 = 1.414213562373095\n",
    "    * x7 = (x6 + S/x6)/2 = (1.414213562373095 + 2/1.414213562373095)/2   = 1.414213562373095\n",
    "    * x8 = (x7 + S/x7)/2 = (1.414213562373095 + 2/1.414213562373095)/2   = 1.414213562373095\n",
    "    * x9 = (x8 + S/x8)/2 = (1.414213562373095 + 2/1.414213562373095)/2   = 1.414213562373095\n",
    "    \n",
    "    `math.sqrt(10)` gives 3.1622776601683795 \n",
    "\n",
    "As the illustration shows here, once you get to the 5th iteration, the result is truncuated or rounded. (which?)"
   ]
  },
  {
   "cell_type": "code",
   "execution_count": null,
   "metadata": {},
   "outputs": [],
   "source": [
    "#print(f\"{(3.16666667 + (10/3.1666667))/2}\")\n",
    "#print(f\"{(3.162280686800554 +10/3.162280686800554)/2}\")\n",
    "#print(f\"{(3.1622776601698277 + 10/3.1622776601698277)/2}\")\n",
    "#print(f\"{(3.162277660168379 + 10/3.162277660168379)/2 }\")\n",
    "\n",
    "print(f\"{(1.4166666666666665 + 2/1.4166666666666665)/2}\")\n",
    "print(f\"{(1.4142156862745097 + 2/1.4142156862745097)/2}\")\n",
    "print(f\"{(1.4142135623746899 + 2/1.4142135623746899)/2}\")\n",
    "print(f\"{(1.414213562373095 + 2/1.414213562373095)/2}\")\n",
    "print(f\"{(1.414213562373095 + 2/1.414213562373095)/2}\")\n",
    "# and on until you get the required accuracy"
   ]
  },
  {
   "cell_type": "markdown",
   "metadata": {},
   "source": [
    "\n"
   ]
  },
  {
   "cell_type": "markdown",
   "metadata": {},
   "source": [
    "### Coding up the square root function using methods above.\n",
    "\n",
    "The methods describe above can be put into code using an iterative algorithm.\n",
    "\n",
    "- $S$ represents the number whose square root is being sought. ($a$ is used in some formulas.)\n",
    "- $x$ represents the changing estimates ($x_n$, $x_0$, $x_1$, $x_{n+1}$ for the estimates at each step). \n",
    "- The algorithm takes the average of the estimate  $x_n$ and the number  $S$ divided by the estimate $x_n$. This will give a new estimate for the next iteration $x_{n+1}$.\n",
    "- The values of the estimate $x$ is updated at each iteration of a while loop representing the $X_n$ and $x_{n+1}$ estimates.\n",
    "\n",
    "The most digits this function yielded was 15 decimal places. While the algorithm itself will calculate approximately the square root of two (accurate to 15 digits at least), it will not print out 100 decimal places so easily. \n",
    "At some stage the result gets rounded and this is the main issue as outlined earlier when dealing with real numbers. Wikipedia records the square root of 2 to 50 decimal places as `1.41421356237309504880168872420969807856967187537694`.\n",
    "Numpy's `sqrt` function returns the same answer as my function above to 15 decimal places. The square root of 2 using `np.sqrt` to 50 decimal places is 1.41421356237309514547462185873882845044136047363281 which differs from that recorded at Wikipedia.\n",
    "\n",
    "I did try to increase the precision of the while loop to see if this would yield additional digits but the maximum was still  only 15 decimal places. This is as expected given the background of how computers deal with floating point numbers. \n",
    "The[Python docs section on on floating points numbers.](https://docs.python.org/3/tutorial/floatingpoint.html) \n",
    ">Unfortunately, most decimal fractions cannot be represented exactly as binary fractions. A consequence is that, in general, the decimal floating-point numbers you enter are only approximated by the binary floating-point numbers actually stored in the machine.\n",
    "According to the Python Docs section on [numeric types](https://docs.python.org/3/library/stdtypes.html#numeric-types-int-float-complex) integers have unlimited precision.\n",
    "\n",
    "Therefore the next logical step to me was to apply the function to a very large integer multiple of 2 as this would not have the same limitations as floats and then divide the result by the same integer multiple. The whole number before the decimal point cannot be rounded. In the same way that the square root of 4 is 2, the square root of 400 is 20, and so on. In this way the digits of the square root of two could be produced but with the decimal point in the incorrect place. Some string manipulation then to return the correct result.\n",
    "\n",
    "Another option was applying the power of 1/2 to get the square root and applying this to a large multiple of 2 but again this returns scientific notation after the 15th decimal place.\n",
    "\n",
    "Applying either Newtons formula or the equivalent Babylonian guess and divide formula resulted in 1.4142135623730951 being returned as the approximate square root of two (using precision of 0.0000000000001 to stop the while loop.)\n",
    "Applying the function to get the square root of 2e200 gave the result in scientific notation. Therefore the 100 digits cannot be extracted at this stage.\n",
    "Nevertheless I compared the results to math.sqrt to see how they fare and the results are the same.\n",
    "Python only prints a decimal approximation to the true decimal value of the binary approximation stored by the machine. (https://docs.python.org/3/tutorial/floatingpoint.html).  While the printed result might look like the exact value, the actual stored value is the nearest representable binary fraction. While string formatting can be used to produce a limited number of significant digits, you are really just rounding the display of the true machine value. \n",
    ">The errors in Python float operations are inherited from the floating-point hardware, and on most machines are on the order of no more than 1 part in `2**53` per operation. That’s more than adequate for most tasks, but you do need to keep in mind that it’s not decimal arithmetic and that every float operation can suffer a new rounding error."
   ]
  },
  {
   "cell_type": "code",
   "execution_count": null,
   "metadata": {},
   "outputs": [],
   "source": [
    "200000000000000000000000000000000000000**(1/2)"
   ]
  },
  {
   "cell_type": "code",
   "execution_count": null,
   "metadata": {},
   "outputs": [],
   "source": [
    "# S is number to get square root of, S= 2\n",
    "def sqrtn():\n",
    "    \n",
    "    # take the first estimate x to be the number itself\n",
    "    S=2\n",
    "    x = S \n",
    "    \n",
    "    # repeat this until the difference between the Estimate Squared minus the number is small enough\n",
    "    # without setting a stopping value here, the loop will continue for a long time\n",
    "    while abs(x*x - S) > 0.000000000001:\n",
    "        # Update the new estimate to be the current estimate minus the Number using Newtons formula\n",
    "        x -= ((x*x)- S)/ (2 * x)\n",
    "        # or equivalently the babylonian guess and divide formula\n",
    "        #x= (x + S/x)/2\n",
    "   \n",
    "    \n",
    "    print(x)\n",
    "    return x\n",
    "   \n",
    "sqrtn()\n",
    "\n",
    "print(\"done\")"
   ]
  },
  {
   "cell_type": "code",
   "execution_count": null,
   "metadata": {},
   "outputs": [],
   "source": [
    "# define the function\n",
    "def sqrt2():\n",
    "    \n",
    "    S = 2 * 10**200\n",
    "    # first estimate\n",
    "    x = S\n",
    "    # repeat until there is no difference between the squared estimate gives the square back\n",
    "    # while abs(x*x -S) > 0.000000000001:\n",
    "    while abs(x*x -S) > 0:\n",
    "        # update the new estimate to be the mean of the current estimate and the number divided by the estimate\n",
    "        \n",
    "        x= (x + S/x)/2\n",
    "        \n",
    "        #x -= ((x*x)- S)/ (2 * x) # this gives 1 extra digit\n",
    "    return x\n",
    "        \n",
    "    \n",
    "print(sqrt2())"
   ]
  },
  {
   "cell_type": "code",
   "execution_count": null,
   "metadata": {},
   "outputs": [],
   "source": [
    "# string formatting to get 100 significant digits\n",
    "format(sqrtn(),'.100g')\n",
    "format(sqrt2(),'.100g')\n"
   ]
  },
  {
   "cell_type": "code",
   "execution_count": null,
   "metadata": {},
   "outputs": [],
   "source": [
    "import math\n",
    "math_root2 = math.sqrt(2*(10**200))\n",
    "print(math_root2)\n",
    "format(math_root2,'.100g')"
   ]
  },
  {
   "cell_type": "markdown",
   "metadata": {},
   "source": []
  },
  {
   "cell_type": "code",
   "execution_count": null,
   "metadata": {},
   "outputs": [],
   "source": [
    "# define the function\n",
    "def sqrt2():\n",
    "\n",
    "    sqrt_string =\"\"\n",
    "    S = 2 # This is the number we want to get the square root of\n",
    "    \n",
    "    S = S*(10**200) # 2 by 10 to power of 200\n",
    "\n",
    "    x = S\n",
    "   \n",
    "    # while the difference between the number and the square of the guess is greater than 0\n",
    "    while abs(S -(x *x)) > 0.000000000000001:\n",
    "        x= (x + S/x)/2\n",
    "    \n",
    "    str_x = str(x)\n",
    "    \n",
    "    for s in str_x:\n",
    "        sqrt_string += s\n",
    "    \n",
    "    print(sqrt_string)\n",
    "    \n",
    "\n",
    "\n",
    "sqrt2()\n",
    "\n",
    "print(f\"The square root of two using my function sqrt2() is \\n{sqrt2()}\")"
   ]
  },
  {
   "cell_type": "markdown",
   "metadata": {},
   "source": [
    "A further bit of research found this post from [geeksforgeeks.com](https://www.geeksforgeeks.org/square-root-of-an-integer/?ref=rp) which uses a binary search function to find the largest integer *i* whose square is less than or equal to the original number. The values of i * i is monotonically increasing, so the problem can be solved using binary search.\n",
    " \n",
    "The code there uses integer division and defines the lower and upper bounds, the midpoint and the answer at each iteration. The loop runs until the lower bound is less than or equal to the upper bound. Then it checks if the midpoint squared is equal to the number and narrows the search to one half of the search space. \n",
    "\n",
    "If I apply this function below to get the square root of two it returns 1 as it uses integer division. However if I apply it to a very large multiple of two as outlined earlier, the digits do actually match those from Wikipedia for the square root of two. The task however is not to get the square root of 2e200 to 100 decimal places but to get the square root of two so I attempt to do some string manipulation and convert the digits into a string representing the square root of two. \n",
    "\n",
    "(~~When I do perform the conversion from the integer into a string with the decimal point in the right place (for the square root of 2) I actually get the same result as from my own function. This might indicate that my original solution might actually be producing the correct answer after all. Integer division did not work with my earlier code but using lower and upper bounds might reduce the number of iterations required and prevent it from crashing.~~)\n",
    "\n",
    "The code below adapts the binary search code to calculate the square root of 2e200. It then convert the result into a string and performs some string manipulation by first creating an empty string, then iterating through each digit of the string result, extracting each of the digits after the first one and concatenating them to the string \"1.\" This does recreate the first 100 digits of the square root of 2."
   ]
  },
  {
   "cell_type": "code",
   "execution_count": null,
   "metadata": {},
   "outputs": [],
   "source": [
    "# adapted and extended from code on geekforgeeks contributed by Nikita Tiwari. \n",
    "  \n",
    "# Returns floor of square root of x          \n",
    "def sqrt2() : \n",
    "   \n",
    "    # set up an empty string to hold the result\n",
    "    sqrt_string =\"\"\n",
    "    \n",
    "    S = 2 * 10**200\n",
    "    # Base cases is only required for the general case\n",
    "    if (S == 0 or S == 1) : \n",
    "        return S \n",
    "   \n",
    "    # Do Binary Search to find the square root of S \n",
    "    lower = 1\n",
    "    upper = S    \n",
    "    while (lower <= upper) : \n",
    "        x = (lower + upper) // 2\n",
    "          \n",
    "        # If x squared is a perfect square then return x\n",
    "        if (x*x==S) : \n",
    "            return x \n",
    "              \n",
    "        # As we need the floor, update the answer when mid*mid is smaller than x, and move closer to getting the square root of S\n",
    "        if (x*x < S) : \n",
    "            lower = x + 1\n",
    "            ans = x \n",
    "              \n",
    "        else : \n",
    "              \n",
    "            # If mid*mid is greater than x \n",
    "            upper = x-1\n",
    "                          \n",
    "    #return ans \n",
    "\n",
    "    # create a string version of the result\n",
    "    str_ans = str(ans)\n",
    "    \n",
    "    for s in str_ans:\n",
    "        sqrt_string += s\n",
    "      \n",
    "    # concatenate the strings to produce the square root of 2\n",
    "    sqrt_string = \"1.\"  + sqrt_string[1:]\n",
    "    #print(f\"The square root of 2 to 100 decimal places is \\n{sqrt_string}\")\n",
    "      \n",
    "    # this will return an integer for square root of 2e200\n",
    "    #return ans   \n",
    "    \n",
    "    # instead return the string containing the first 100 digits of square root of 2 \n",
    "    print(f\"The first 100 digits of the square root of 2 are \\n{sqrt_string}\")\n",
    "    return sqrt_string\n",
    "    \n",
    "    \n",
    "\n",
    "# call the function to print the first 100 digits of the square root of 2\n",
    "sqrt2()"
   ]
  },
  {
   "cell_type": "markdown",
   "metadata": {},
   "source": [
    "This post [10,000 digits of Square Root of 2](https://nerdparadise.com/math/reference/2sqrt10000) on nerdparadise.com has the digits of the square root of 2 to 10,1000 places:\n",
    "1.\n",
    "4142135623 7309504880 1688724209 6980785696 7187537694 8073176679 7379907324 7846210703 8850387534 3276415727 \n",
    "\n",
    "These are the results of the function above:\n",
    "\n",
    "14142135623 7309504880 1688724209 6980785696 7187537694 8073176679 7379907324 7846210703 8850387534 3276415727\n",
    "\n"
   ]
  },
  {
   "cell_type": "markdown",
   "metadata": {},
   "source": [
    "#### Some notes on the Square root of 2 task.\n",
    "\n",
    "- The final function above does yield the correct digits for the square root of 2. It is a string however and further numerical calculations cannot be performed on the string. Converting from one type to another will not always return results as expected. \n",
    "- My original function using the babylonian guess and divide method does return the exact same result as  `math.sqrt` to 15 decimal places. \n",
    "\n",
    "- This task illustrates the problems with accuracy to high levels of precision and how when converting between types you won't always get what you expect. The lecture on data types and numbers highlighted that there are some irrational numbers that simply cannot be stored on a computer. Procedures can be written to produce the value when needed though. The article from the Python tutorial on the problems with floating point numbers showed an example of how there are many different decimal numbers which actually share the same nearest approximate binary fraction. It demonstrated how the numbers 0.1 and 0.10000000000000001 and 0.1000000000000000055511151231257827021181583404541015625 are all approximated by 3602879701896397 / 2 ** 55.\n",
    "\n",
    "In reality, while we would be concerned with the accuracy of results, other considerations would be the computational cost and time.  When I tried to run some versions of my code, my computer struggled!  Newton's method uses approximations and while it converges towards the actual result, the number of steps to reach this is infinite. This is combined with the problems outlined earlier of computing and storing real numbers on a computer.\n",
    "The post on [Square Roots via Newton’s Method](https://math.mit.edu/~stevenj/18.335/newton-sqrt.pdf) on MIT course 18.335 implements the square root of 2 using the Julia language. It notes that we need to be concerned with the time and computational resources required in addition to the accuracy of the result.\n",
    "As the wikipedia article noted, the time complexity for computing a square root with $n$ digits of precision is equivalent to that of multiplying two n-digit numbers."
   ]
  },
  {
   "cell_type": "markdown",
   "metadata": {},
   "source": []
  },
  {
   "cell_type": "markdown",
   "metadata": {},
   "source": [
    "References. I will fix these up and place them at the bottom of the notebook.\n",
    "Task 1\n",
    "- [1][Wikipedia](https://en.wikipedia.org/wiki/Square_root)\n",
    "- [2][Wikipedia](https://en.wikipedia.org/wiki/Square_root_of_2)\n",
    "- [3][geeksforgeeks](https://www.geeksforgeeks.org/square-root-of-2/)\n",
    "- [4][mathsisfun](https://www.mathsisfun.com/numbers/square-root-2-irrational.html)\n",
    "- [5][The Maths Book: Big Ideas Simply explained](published by Dorling Kindersley Limited)\n",
    "- [6] Lecture Notes from Machine Learning and Statistics, Lecturer Dr. Ian McLoughlin\n",
    "The lecture on data types of this module looked at the binary representation of integers and floats.\n",
    "- [7][Floating Point Arithmetic: Issues and Limitations](https://docs.python.org/3/tutorial/floatingpoint.html) \n",
    "- [8][IEEE 754](https://en.wikipedia.org/wiki/IEEE_754) \n",
    "- [9][IEEE Standard 754 Floating Point Numbers](https://www.geeksforgeeks.org/ieee-standard-754-floating-point-numbers/) article on <geeksforgeeks.com>.\n",
    "- [10][The Perils of Floating Point](http://www.lahey.com/float.htm)\n",
    "- [11][str.format](https://docs.python.org/3/library/stdtypes.html#str.format)\n",
    "- [12][Python `math` module](https://docs.python.org/3/library/math.html?highlight=math#module-math)."
   ]
  },
  {
   "cell_type": "markdown",
   "metadata": {},
   "source": [
    "---\n",
    "# Task 2 \n",
    "**The Chi-squared test for independence is a statistical hypothesis test like a t-test. It is used to analyse whether two categorical variables are independent. The Wikipedia article gives the table below as an example [4], stating the Chi-squared value based on it is approximately 24.6. Use scipy.stats to verify this value and calculate the associated p value. You should include a short note with references justifying your analysis in a markdown cell.**\n",
    "\n",
    "|   | A | B | C | D | Total|\n",
    "| -- | -- | -- | -- | -- | -- |\n",
    "|White Collar|90 | 60 | 104 | 95 | 349 |\n",
    "|Blue Collar |30 |50 |51|20|151\n",
    "|No Collar |30 |40|45|35|150\n",
    "|Total|150 |150|200|150 |650|\n",
    "\n",
    "- [https://en.wikipedia.org/w/index.php?title=Chi-squaredtest&oldid=983024096](https://en.wikipedia.org/w/index.php?title=Chi-squaredtest&oldid=983024096)\n",
    "\n",
    "Wikipedia contributors, “Chi-squared test — Wikipedia, the free encyclopedia,” 2020, [Online; accessed 1-November-2020]. [Online]. Available: https://en.wikipedia. org/w/index.php?title=Chi-squared test&oldid=983024096"
   ]
  },
  {
   "cell_type": "markdown",
   "metadata": {},
   "source": [
    "### Extract from Wikipedia Article in question:\n",
    "\n",
    ">A chi-squared test, also written as $\\chi^2$ test, is a statistical hypothesis test that is valid to perform when the test statistic is chi-squared distributed under the null hypothesis, specifically Pearson's chi-squared test and variants thereof. Pearson's chi-squared test is used to determine whether there is a statistically significant difference between the expected frequencies and the observed frequencies in one or more categories of a contingency table.\n",
    "In the standard applications of this test, the observations are classified into mutually exclusive classes. If the null hypothesis that there are no differences between the classes in the population is true, the test statistic computed from the observations follows a $\\chi^2$ frequency distribution. The purpose of the test is to evaluate how likely the observed frequencies would be assuming the null hypothesis is true.\n",
    "Test statistics that follow a $\\chi^2$ distribution occur when the observations are independent and normally distributed, which assumptions are often justified under the central limit theorem. There are also $\\chi^2$ tests for testing the null hypothesis of independence of a pair of random variables based on observations of the pairs.\n",
    "Chi-squared tests often refers to tests for which the distribution of the test statistic approaches the $\\chi^2$ distribution asymptotically, meaning that the sampling distribution (if the null hypothesis is true) of the test statistic approximates a chi-squared distribution more and more closely as sample sizes increase.\n",
    "\n",
    "[2.1][Chi-squared test](https://en.wikipedia.org/wiki/Chi-squared_test) from which the above table is taken. )"
   ]
  },
  {
   "cell_type": "markdown",
   "metadata": {},
   "source": [
    "In the Wikipedia article from which the above table was taken, the Chi-Squared test is testing the null hypothesis of independence of a pair of random variables based on observations of the pairs, i.e to analyse whether two categorical variables are independent. \n",
    "Hypothesis testing is a decision making process for evaluating a hypothesis. A hypothesis is a claim about a population parameter. Hypothesis testing consists of the following steps:\n",
    "- Define the population under study\n",
    "- State the hypothesis to be investigated\n",
    "- Select a sample from the population and collect the data\n",
    "- Evaluate the evidence contained in the data and reach a conclusion.\n",
    "\n",
    "In a statistical hypothesis problem there are always two and only two contradictory hypotheses. A Null Hypothesis $H_0$ is a claim or statement about population parameters that is assumed to be true until it is declared false.\n",
    "An Alternative Hypothesis $H_A$ or $H_1$ is the competing hypothesis, it is a claim about a population parameter that will be true if the null hypothesis is false. \n",
    "The null hypothesis is that each person's neighbourhood of residence is independent of the person's occupational classification. The decision whether or not to reject a null hypothesis $H_0$ is based on the evidence contained in the sample data.\n",
    "\n",
    "The data here are tabulated on a two-way frequency table. Two-way frequency tables display frequencies or relative frequencies for two categorical variables. (A one-way frequency table refer to a single variable). Categorical data is data where each observation belongs to one of a set of categories. It is often referred to as count data because the number of observations belonging to a particular category are counted.\n",
    "The data here is bivariate as two variables are measured on each member of the sample. The data entries in the table refer to two categories. The two-way frequency table is used to examine the relationship between  two categorical variables, in this case to see if the proportions of residents living in the neighbourhoods (belonging to the categories) A, B, C and D are the same for the occupational categories of White Collar, Blue Collar and No Collar.\n",
    "\n",
    "The city has a population of 1,000,000 residents with four neighbourhoods, A, B ,C and D from which a random sample of 650 residents is taken and their occupation recorded as \"white collar\", \"blue collar\" or \"no collar\".\n",
    "\n",
    "A $\\chi^2$ test is used to determine if there is a statistically significant difference between the expected frequencies and the observed frequencies in one or more categories of a contingency table. If the null hypothesis that there are no differences between the classes in the population is true then the test statistic computed from the observations follows a $\\chi^2$ frequency distribution. The test evaluates how likely the observed frequencies would be assuming the null hypothesis is true, the null hypothesis being that each person's neighborhood of residence is independent of the person's occupational classification."
   ]
  },
  {
   "cell_type": "markdown",
   "metadata": {},
   "source": [
    "\n",
    "\n"
   ]
  },
  {
   "cell_type": "markdown",
   "metadata": {},
   "source": [
    "\n",
    "\n",
    "|   | A | B | C | D | Total|\n",
    "| -- | -- | -- | -- | -- | -- |\n",
    "|White Collar|90 | 60 | 104 | 95 | 349 |\n",
    "|Blue Collar |30 |50 |51|20|151\n",
    "|No Collar |30 |40|45|35|150\n",
    "|Total|150 |150|200|150 |650|\n",
    "\n",
    "The **cell counts** are the numbers in a particular sample that belong to a particular category. They are frequency counts and the table is a frequency table. Relative frequences such as percentages or proportions could also be used to represent the same data in which case it would be a relative frequency table with the table entries showing the conditional distribution.\n",
    "The column and row totals are known as the **marginal totals** or the marginal distribution and and each set of marginal totals adds to a single **grand total**. \n",
    "In this case the row totals are the sizes of the samples selected from the different occuational populations (i.e. white-collar, blue-collar, no-collar). The column totals are the sizes of the samples selected from the different neighbourhood populations A, B, C and D.\n",
    "\n",
    "The null hypothesis is that each person's neighborhood of residence is independent of the person's occupational classification and therefore the neighbourhood category proportions are the same for all occupational classifications. Knowing a person's occupational classification therefore would not tell you anything about where they live.\n",
    "This considers whether the proportion of workers living  in the neighbourhoods \"A\", \"B\",\"C\" and \"D\" (belonging to the categories) are the same for the person's classification as White-Collar, Blue-Collar or No-Collar.\n",
    "\n",
    "\n",
    "- $H_0$ : Category proportions in the different neightbourhoods are the same for all occupational classifications \n",
    "- $H_A: H_0$ not true.\n",
    "\n",
    "\n",
    "150 of the sample live in neighbourhood A. This figure can be used to estimate what proportion of the 1 million residents live in neighbourhood A and similarly estimates can be calculated for neighbourhoods B, C and D.\n",
    "In the same way, 349 of the sample are white-collar workers. This figure can be used to determine what proportion if the 1 million residents are white-collar workers. Again similar estimates can be calculated for blue-collar and no-collar workers. This figure can be used to determine what proportion if the 1 million residents are blue-collar workers. The proportions in each neighbourhood A, B C and D are calculated below based on the sample at 23.08%, 23.08%, 30.77% and 23.08% respectively. The proportions of each occupation type White Collar, Blue Collar and No Collar are 53.69%, 23.23% and 23.08% respectively.\n",
    "\n",
    "We need to calculate the frequencies (cell counts) that would be expected if the null hypothesis was true.\n",
    "Assuming the null hypothesis is true, for a two-way table the expected cell counts for each cell = $\\frac{\\text{row total} \\times \\text{column total}}{Grand Total}$\n",
    "For example, by the assumption of independence under the null hypothesis we should expect the number of White Collar's in neighbourhood A to be: $$150 *\\frac{349}{650} \\approx 80.54$$ This is the value for the expected frequency in the first cell of the first row. The expected frequency for the remaining cells are calculated in a similar fashion to populate the expected frequency table.\n"
   ]
  },
  {
   "cell_type": "code",
   "execution_count": null,
   "metadata": {},
   "outputs": [],
   "source": [
    "A, B, C, D =150, 150, 200,150\n",
    "print(f\"The column totals are {A} in neighbourhood A, {B} in B, {C} in C and {D} in  D \")\n",
    "White, Blue, No = 349,151,150\n",
    "print(f\"The Row totals are {White} for White Collar, {Blue} for Blue Collar and {No} for No Collar. \")\n",
    "Total = A+B+C+D\n",
    "print(f\"The Grand Total in the sample is {Total}.\")\n",
    "print(\"The proportions in each neighbourhood A, B C and D are {:.2%}, {:.2%}, {:.2%} and {:.2%} respectively.\".format(A/Total,B/Total,C/Total,D/Total))\n",
    "print(\"The proportions of each occupation type White Collar, Blue Collar and No Collar  {:.2%}, {:.2%} and {:.2%} respectively.\".format(White/Total,Blue/Total,No/Total))"
   ]
  },
  {
   "cell_type": "code",
   "execution_count": null,
   "metadata": {},
   "outputs": [],
   "source": [
    "print(\"The expected number of White Collars in each of the neighbourhoods are: A: {:.2f}, B: {:.2f}, C: {:.2f} and D: {:.2f}.\".format(A*White/Total,B*White/Total,C*White/Total,D*White/Total))\n",
    "print(\"The expected number of Blue Collars in each of the neighbourhoods are: \\tA: {:.2f}, B: {:.2f}, C: {:.2f} and D: {:.2f}.\".format(A*Blue/Total,B*Blue/Total,C*Blue/Total,D*Blue/Total))\n",
    "print(\"The expected number of No Collars in each of the neighbourhoods are: \\tA: {:.2f}, B: {:.2f}, C: {:.2f} and D: {:.2f} .\".format(A*No/Total,B*No/Total,C*No/Total,D*No/Total))"
   ]
  },
  {
   "cell_type": "markdown",
   "metadata": {},
   "source": [
    "#### Comparing the expected and observed counts to calculate the Chi-Squared Test Statistic:\n",
    "Once you have the expected frequencies or expected cell counts as well as the observed freqeuncies, the next step is to compare them. \n",
    "If the differences between them are so big that they could not be explained by sampling variation then the null hypothesis is rejected in favour of the alternative hypothesis.\n",
    "\n",
    "The comparison of observed and expected cell counts is made by calculating the following for each cell: \n",
    "\n",
    "$$\\frac{(Observed Count - Expected Count)^2}{Expected Count}$$\n",
    "For example the value for the first cell is $\\frac{(90-80.54)^2}{80.54}\\approx1.11$.\n",
    "Next the calculated value for all the cells are added together to get the **chi-square test statistic**. \n",
    "\n",
    "$$\\chi^2=\\sum_{i=1}^{k}\\frac{(O_i-E_i)^2}{E_i}$$\n",
    "\n",
    "\n",
    "The sum of these quantities over all of the cells is the $\\chi^2$ test statistic which is $\\approx24.6$ as per the Wikipedia article. \n",
    "Assuming the null hypothesis to be true, $\\chi^2$ is approximately chi-squared distributed with degrees of freedom being $(\\text{number of rows}-1)({\\text{number of columns}}-1)$ which is $(3-1)(4-1)=6$ in this case.\n",
    "\n",
    ">If the test statistic is improbably large according to that chi-squared distribution, then one rejects the null hypothesis of independence.\n",
    "\n",
    "- Large values of $\\chi^2$ suggest rejection of the Null hypothesis in favour of the alternative hypothesis. \n",
    "- Small values of $\\chi^2$ would support the null hypothesis.\n",
    "\n",
    "If calculated manually the test statistic would be compared to the critical value (from a table such as the New Cambridge Statistical Tables) at a particular alpha level such as 0.05 taking into account the degrees of freedom. \n",
    "\n",
    "- If the chi-squared test statistic is less than the chi-squared critical value with 6 degrees of freedom (at the chosen alpha level such as 0.05) then you would fail to reject the null hypothesis.\n",
    "- If the chi-squared test statistic is greater than the chi-squared critical value, then the null hypothesis would be rejected and you would accept the alternative hypothesis that the data contains sufficient evidence of neighbourhood preference by occupational classification. The proportions of residents in the four neighbourhoods A, B, C and D are not the same for the 3 occupational classifications of white-collar, blue-collar and no-collar.\n",
    " "
   ]
  },
  {
   "cell_type": "markdown",
   "metadata": {},
   "source": [
    "\n",
    "\n"
   ]
  },
  {
   "cell_type": "markdown",
   "metadata": {},
   "source": [
    "Here I will put the data from the contingency table into a pandas dataframe and then create an expected frequency table based on the observed data. The `scipy.stats` package will actually calculate the value of the chi-squared test statistic. This is just for illustration and to verify the results.\n",
    "\n",
    "I first created a dataframe containing the actual observed cell counts and from this created a dataframe with the expected cell counts that would be expected under the null hypothesis. The marginal row and column totals as well as the overall grand total are the same as totals for the observed frequencies tables. From this the formula above is applied to calculate the chi-squared test statistic.  (note there may be some rounding here)\n"
   ]
  },
  {
   "cell_type": "code",
   "execution_count": null,
   "metadata": {},
   "outputs": [],
   "source": [
    "import numpy as np\n",
    "import pandas as pd\n",
    "\n",
    "# create a pandas dataframe and add a row index\n",
    "df=pd.DataFrame({\"A\":[90,30,30], \"B\":[60,50,40],\"C\":[104,51,45],\"D\":[95,20,35]})\n",
    "df.index = ['White_collar', 'Blue_collar', 'No-Collar'] \n",
    "# add a total column to sum across each row\n",
    "df[\"Total\"] = df.sum(axis=1)\n",
    "# add a row to sum across column totals \n",
    "#(https://stackoverflow.com/questions/20804673/appending-column-totals-to-a-pandas-dataframe)\n",
    "df.loc['Total']= df.sum()\n",
    "df.style.format(\"{:.2f}\")"
   ]
  },
  {
   "cell_type": "code",
   "execution_count": null,
   "metadata": {},
   "outputs": [],
   "source": [
    "# get the marginal row totals\n",
    "WhiteCollarTotal =df.iat[0, 4] \n",
    "BlueCollarTotal=df.iat[1,4]\n",
    "NoCollarTotal=df.iat[2,4]\n",
    "# get the marginal column total\n",
    "ATotal=df.iat[3,0]\n",
    "BTotal=df.iat[3,1]\n",
    "CTotal=df.iat[3,2]\n",
    "DTotal=df.iat[3,3]\n",
    "# get the grand total\n",
    "GrandTotal = df.iat[3,4]"
   ]
  },
  {
   "cell_type": "code",
   "execution_count": null,
   "metadata": {},
   "outputs": [],
   "source": [
    "# create a pandas dataframe using dictionaries containing zero values to start\n",
    "dfE =pd.DataFrame({\"A\":[0,0,0], \"B\":[0,0,0],\"C\":[0,0,0],\"D\":[0,0,0]},dtype='float32')\n",
    "# add an index\n",
    "dfE.index = ['White_collar', 'Blue_collar', 'No-Collar'] \n",
    "\n",
    "\n",
    "# Calculate the White collar expected frequencies\n",
    "dfE.iat[0,0]=(WhiteCollarTotal*ATotal)/GrandTotal\n",
    "dfE.iat[0,1]=(WhiteCollarTotal*BTotal)/GrandTotal\n",
    "dfE.iat[0,2]=(WhiteCollarTotal*CTotal)/GrandTotal\n",
    "dfE.iat[0,3]=(WhiteCollarTotal*DTotal)/GrandTotal\n",
    "# Blue collar\n",
    "dfE.iat[1,0]=(BlueCollarTotal*ATotal)/GrandTotal\n",
    "dfE.iat[1,1]=(BlueCollarTotal*BTotal)/GrandTotal\n",
    "dfE.iat[1,2]=(BlueCollarTotal*CTotal)/GrandTotal\n",
    "dfE.iat[1,3]=(BlueCollarTotal*DTotal)/GrandTotal\n",
    "# No Collar\n",
    "dfE.iat[2,0]=(NoCollarTotal*ATotal)/GrandTotal\n",
    "dfE.iat[2,1]=(NoCollarTotal*BTotal)/GrandTotal\n",
    "dfE.iat[2,2]=(NoCollarTotal*CTotal)/GrandTotal\n",
    "dfE.iat[2,3]=(NoCollarTotal*DTotal)/GrandTotal\n",
    "\n",
    "# add a total column to sum across each row\n",
    "dfE[\"Total\"] = dfE.sum(axis=1)\n",
    "# add a row to sum across column totals \n",
    "dfE.loc['Total']= dfE.sum()\n",
    "dfE.round(2)\n",
    "#dfE.style.format(\"{:.2f}\")\n",
    "dfE.style.format(\"{:.2f}\")\n",
    "dfE\n"
   ]
  },
  {
   "cell_type": "code",
   "execution_count": null,
   "metadata": {},
   "outputs": [],
   "source": [
    "# calculate the chi-squared statistic using the formula\n",
    "chi = ((df-dfE)**2)/dfE\n",
    "chi\n",
    "chi[\"Total\"] = chi.sum(axis=1)\n",
    "\n",
    "chi.loc['Total']= chi.sum()\n",
    "chi\n"
   ]
  },
  {
   "cell_type": "code",
   "execution_count": null,
   "metadata": {},
   "outputs": [],
   "source": [
    "print(f\"The Chi-squared test statistical is calculated as {chi['Total']['Total']}\")"
   ]
  },
  {
   "cell_type": "markdown",
   "metadata": {},
   "source": [
    "The Chi-Squared test statistic here is calculated as 24.57120296026715 which when rounded to 1 decimal place is the same as the Chi-squared value in the Wikipedia article of $\\approx24.6$.\n",
    "\n",
    "### Use Scipy.stats to verify this value.\n",
    "The next step is to use the `scipy.stats` to verify this value and calculate the associated $p$ value. \n",
    "Include a short note with references justifying your analysis in a markdown cell."
   ]
  },
  {
   "cell_type": "markdown",
   "metadata": {},
   "source": [
    "## Scipy.stats functions for Chi-Squared tests\n",
    "\n",
    "The [scipy.stats](https://docs.scipy.org/doc/scipy/reference/stats.html) module has a number of [Statistical Tests](https://docs.scipy.org/doc/scipy/reference/stats.html#statistical-tests). There is a [chisquare](https://docs.scipy.org/doc/scipy/reference/generated/scipy.stats.chisquare.html#scipy.stats.chisquare) function which is used to calculate a **one-way** chi-square test. This `chi-square` test function tests the null hypothesis that the categorical data has the given frequencies and takes as parameters an array of observed frequencies in each category, an array of expected frequencies in each category and the degrees of freedom. \n",
    "\n",
    "As we are dealing with a two-way frequency table this function is not suitable.\n",
    "\n",
    "There is another function though, the [Scipy.stats.chi2_contingency](https://docs.scipy.org/doc/scipy/reference/generated/scipy.stats.chi2_contingency.html#scipy.stats.chi2_contingency) function which calculates the chi-square test statistic for a two-way table.\n",
    "This function computes the chi-square statistic and p-value for the hypothesis test of independence of the observed frequencies in a contingency table. It computes the expected frequencies based on the marginal sums under the assumption of independence. \n",
    "It computes the chi-square statistic and the p-value for the hypothesis test of independence of the observed frequencies in the contingency table observed. The number of degrees of freedom is (expressed using numpy functions and attributes).\n",
    "The function takes as parameters the contingency table which contains the observed frequencies  or number of occurences in each category. (In the two-dimensional case, the table is often described as an “R x C table”.)\n",
    "\n",
    "The [scipy.stats.contingency.expected_freq(observed)](https://docs.scipy.org/doc/scipy/reference/generated/scipy.stats.contingency.expected_freq.html#scipy.stats.contingency.expected_freq) function can be used to compute the expected frequencies from a contingency table. It takes as input paramters the n-dimensional contingency table of observed frequency values or counts and then computes the expected frequencies for the table based on the marginal sums, under the assumption that the groups associated with each dimension are independent. In the example here from Wikipedia, the observed values must be passed into the function using a numpy array as follows:\n"
   ]
  },
  {
   "cell_type": "markdown",
   "metadata": {},
   "source": [
    "#### The observed values.\n"
   ]
  },
  {
   "cell_type": "code",
   "execution_count": null,
   "metadata": {},
   "outputs": [],
   "source": [
    "# observed is the multidimensional arrays of values from the original table. \n",
    "observed = np.array([[90,60,104,95],[30,50,51,20],[30,40,45,35]])\n",
    "print(\"The table of observed values: \\n\")\n",
    "observed\n"
   ]
  },
  {
   "cell_type": "markdown",
   "metadata": {},
   "source": [
    "#### The expected frequency values:\n",
    "\n",
    "The `scipy.stats.contingency.expected_freq(observed)` function returns an array of expected frequencies, based on the marginal sums of the table. The expected values returned will be of type `float`. The shape of the expected values will be the same as the observed.\n",
    "The table in the Wikipedia table has 3 rows and 4 columns of observed values. Therefore the array of expected values will be the same. The expected values are calculated in the same way as I showed above behind the scenes using marginal sums of the table."
   ]
  },
  {
   "cell_type": "code",
   "execution_count": null,
   "metadata": {},
   "outputs": [],
   "source": [
    "# to get an array of the expected frequencies as calculated by the function\n",
    "from scipy.stats.contingency import expected_freq\n",
    "print(\"The expected frequency table: \\n\")\n",
    "expected_freq(observed)"
   ]
  },
  {
   "cell_type": "code",
   "execution_count": null,
   "metadata": {},
   "outputs": [],
   "source": [
    "# the shape of the observed array\n",
    "observed.shape"
   ]
  },
  {
   "cell_type": "markdown",
   "metadata": {},
   "source": [
    "See [scipy.stats.chi2_contingency(observed, correction=True, lambda_=None)](https://docs.scipy.org/doc/scipy/reference/generated/scipy.stats.chi2_contingency.html#scipy.stats.chi2_contingency)\n",
    "\n",
    "This chi-squared test statistic is a test for the independence of different categories of a population and should only be used when the dimension of observed is two or more. It computes a chi-square statistic. It first computes the expected frequencies and the degrees of freedom from the given contingency table. The degrees of freedom is calculated as follows:\n",
    "`dof = observed.size - sum(observed.shape) + observed.ndim - 1`.\n",
    "\n",
    "The function returns four pieces of output:\n",
    "1. The chi-squared test statistic as a float\n",
    "2. The p-value of the test as a float\n",
    "3. The degrees of freedom as an integer\n",
    "4. The expected frequencies based on the marginal sum of the table of observed frequencies. This is returned as an ndarray of the same shape as the table of observed values."
   ]
  },
  {
   "cell_type": "code",
   "execution_count": null,
   "metadata": {},
   "outputs": [],
   "source": [
    "# import from scipy.stats\n",
    "from scipy.stats import chi2_contingency\n",
    "# Calculate the chi-squared test statistic, the p-value of the test, the degrees of freedom and the expected frequencies.\n",
    "chi2_contingency(observed)\n",
    "#print(f\"The chi-squared statistic calculated using the scipy stats package is {chi2_contingency(obs)[0]} \")"
   ]
  },
  {
   "cell_type": "code",
   "execution_count": null,
   "metadata": {},
   "outputs": [],
   "source": [
    "print(f\"The degrees of freedom is {observed.size - sum(observed.shape) + observed.ndim - 1}\")"
   ]
  },
  {
   "cell_type": "code",
   "execution_count": null,
   "metadata": {},
   "outputs": [],
   "source": [
    "print(f\"The chi-squared statistic calculated using the scipy stats package is {chi2_contingency(observed)[0]} \\n\")\n",
    "print(f\"The p-value is {chi2_contingency(observed)[1]} \")"
   ]
  },
  {
   "cell_type": "markdown",
   "metadata": {},
   "source": [
    "### Interpreting the results:\n",
    "The Chi-squared statistic calculated by `scipy.stats` returns the same value as I manually calculated above using pandas dataframe and the formula. It also agrees with the value as reported in the Wikipedia article.\n",
    "The null hypothesis as stated in the article with the table is that each person's neighborhood of residence is independent of the person's occupational classification. The decision on whether or not to reject the null hypothesis is based on the evidence in the sample data. The result of the hypothesis test will either be:\n",
    "- Reject the null hypothesis $H_0$ in favour of the alternative hypothesis $H_A$ when the data provides sufficient evidence that the alternative hypothesis is true. In this case the result is said to be **statistically significant**.\n",
    "- Fail to the reject the null hypothesis $H_0$ when there is insufficient evidence that the alternative hypothesis $H_A$ is true. In this case the result is not statistically significant. \n",
    "Failing to reject the the null hypothesis does not mean that there is evidence that it is true. It just means that there is insufficient evidence to reject it.\n",
    "\n",
    "In the example above first the population under study was defined as the hypothetical city of 1,000,000 residents with four neighbourhoods, A, B C and D. \n",
    "A random sample of 650 residents were taken and their occupation recorded as \"white collar\", \"blue collar\", or \"no collar\". \n",
    "The null hypothesis is that each person's neighborhood of residence is independent of the person's occupational classification.\n",
    "The evidence is evaluated using the Chi-squared statistical test which tests for independence of two categorical variables. A sample statistic is based on the a sample taken from a population. It corresponds to the population characteristic under investigation. It was calculated here as 24.5712 which when rounded is the same as the value on the Wikipedia page. The p-value was also calculated by `scipy.stats` as 0.0004098425861096696. How do we use these values to decide if the two categorical variables studied are independent?\n",
    "\n",
    "If the sample statistic is far enough away from the hypothesised value and in the direction of the alternative hypothesis $H_A$ then we can conclude that the null hypothesis $H_0$ is probably false. This would mean that the sample could not have come from a population with the hypothesised value and the null hypothesis is rejected. Otherwise we fail to reject the null hypothesis. \n",
    "\n",
    "Any decision making procedure can lead to wrong decisions being made. A *Type I Error* is where the null hypothesis $H_0$ is rejected when it is true. A *Type II Error* is where we do not reject the null hypothesis when it is false. With statistical hypothesis testing the probabilility of making a Type I or a Type II error can be quantified and controlled.\n",
    "The probability of making a Type I error  is known as the tests significance level and is referred to as $\\alpha$. or *alpha*. The probability of a Type II error is known as $\\beta$. The power of a test is $1-\\beta$.\n",
    " Reducing the $\\alpha$ value increases the $\\beta$ value and vice versa. The only way to reduce $\\beta$ without increasing $\\alpha$ is by increasing the sample size. The value of $\\alpha$ is usually set as 0.05 or 0.01.\n",
    "The null hypothesis is rejected if the sample statistic is far enough away from the hypothesis value.\n",
    "\n",
    "When the observed and expected cell counts are compared, if the differences between them are too big to be explained by sampling variation then the null hypothesis is rejected in favour of the alternative hypothesis. The bigger the difference, the less likely a Type I error will arise. The definition of far is based on $\\alpha$.\n",
    "A test statistic is  calculated which belongs to a known distribution, in this case the $\\chi^2$ frequency distribution.\n",
    "\n",
    "The null hypothesis is rejected if the chi-squared test statistic is greater than some critical value.\n",
    "The critical value is chosen in such as way that the probability of a Type I Error is equal to $\\alpha$ and to do this you need to know the sampling distribution of $\\Chi^2$ when the null hypothesis is true. (The distribution is approximately a chi-squared distribution with k-1 degrees of freedom.)\n",
    "The critical value divides the possible values of the test statistic into a critical rejection region  and a non-critical non-rejection region. If the test statistic lies in the rejection region then the null hypothesis is rejected, otherwise we fail to reject the null hypothesis.\n",
    "\n",
    "Large values of the chi-squared statistic suggest rejection of the null hypothesis in favour of the alternative hypothesis. The overall difference between what was observed and what would have been expected under the null hypothesis is larger. Smaller values of the chi-squared test statistic are compatible with the null hypothesis.\n",
    "\n",
    "The Chi-squared value is compared to the Chi-squared critical value which takes into account the alpha level of significance and the degrees of freedom. If the chi-squared test statistic is greater than the critical value of chi at that alpha level for the number of degrees of freedom, then the null hypothesis of independence is rejected and we can conclude that the data contains sufficient evidence of neighbourhood preference by occupational categories. Without computers you would have to refer to a statistical tables such as the New Cambridge Statistical tables and compare your calculated test statistic with the critical values, using the alpha level and the degrees of freedom. The chi-squared critical value from page 41 of Table 8 in the tables is 12.59 and since the the chi-squared test statistic is greater than the critical value we can reject the null hypothesis and conclude that the data contains sufficient evidence of neighbourhood preference by occupational classification.\n",
    "\n",
    "The `chi2_contingency` function from the scipy stats package calculates and provides all of the information required to make the same decision given the same data. It does not return the critical value but it does return the chi-squared test statistic, the p-value, the degrees of freedom and the expected frequencies. \n",
    "\n",
    "The $\\alpha$ value is the probability of rejecting the null hypothesis when it is true. It is generally chosen as 0.05 but a smaller alpha value of 0.01 can be used where more precision is required.  If the p-value  for the test is greater than the alpha value then the null hypothesis is not rejected.\n",
    "\n",
    "The calculated p-value is 0.0004098425861096696 and this is less than the alpha level of 0.05 which means that the null hypothesis should be rejected in favour of the alternative hypothesis. We can conclude that the data supports the hypothesis that the choice of neighbourhood is not independent of occupational classification. The two categorical variables in this data are not independent. The data contains sufficient evidence of neighbourhood preference by occupational classification.\n",
    "\n",
    "The conditions of the Chi-squared test is that the  approximation is good  when every expected cell count is greater than or equal to 5, and the $n$ observed counts are a random sample from the population of interest."
   ]
  },
  {
   "cell_type": "markdown",
   "metadata": {},
   "source": [
    "# References for Task 2\n",
    "\n",
    "- Wikipedia contributors, “Chi-squared test — Wikipedia, the free encyclopedia,” 2020, [Online; accessed 1-November-2020][Online]. Available: https://en.wikipedia. org/w/index.php?title=Chi-squared test&oldid=983024096\n",
    "\n",
    "- https://en.wikipedia.org/wiki/Pearson%27s_chi-squared_test\n",
    "- [Introduction to Statistics](http://onlinestatbook.com/Online_Statistics_Education.pdf) by David M. Lane. Online Edition\n",
    "\n",
    "Much of the theory here was based on a statistics module I previously took at UCD. I do not have a proper reference for this."
   ]
  },
  {
   "cell_type": "markdown",
   "metadata": {},
   "source": [
    "---\n",
    "#    Task 3\n",
    "**The standard deviation of an array of numbers x is calculated using numpy as $np.sqrt(np.sum((x - np.mean(x))**2)/len(x))$ . However, Microsoft Excel has two different versions of the standard deviation calculation, `STDDEV.P` and `STDDEV.S`.\n",
    "The `STDDEV.P` function performs the above calculation but in the `STDDEV.S` calculation the division is by `len(x)-1` rather than `len(x)`. **\n",
    "- **Research these Excel functions, writing a note in a Markdown cell about the difference between them. Then use numpy to perform a simulation demonstrating that the `STDDEV.S` calculation is a better estimate for the standard deviation of a population when performed on a sample.** \n",
    "Note that part of this task is to figure out the terminology in the previous sentence"
   ]
  },
  {
   "cell_type": "markdown",
   "metadata": {},
   "source": [
    "The aim of statistics is to make statements about the population using a sample. \n",
    "A **parameter** is a population characterestic while a **sample statistic** is any quantity computed from  values in the sample. \n",
    "A sample of size n is just one of many that can be drawn from a population of size N. \n",
    "While the value of a population parameter is fixed, the value of a statistic varies from sample to sample. It is a random variable and it's probability distribution known as its sampling distribution.\n",
    " \n",
    "The population mean takes the sum of every data point in the population and divide by the number of observations ($N$ data points) to get the population mean which is denoted by $\\mu$.\n",
    "The sample mean is the sum of the observations in a sample divided by the number of observations $n$. The sample mean is usually denoted by $\\bar{x}$\n",
    "You can then consider the dispersion of the data points from the mean. The variance is the the sum of the squared distances from the population mean divided by the total number of data points in the population, i.e. the average of the squared difference (of each data point) from the mean.\n",
    "\n",
    "The standard deviation, which is the square root of the variance, is the most commonly used measure of the dispersion of a data set. The larger the standard deviation, the greater the spread of the data. \n",
    "$n-1$ is usually used in the sample variance formula instead of n because using n tends to produce an underestimate of the population variance. For this reason n-1 is used to provide the appropriate correction for this tendency.\n",
    "\n",
    "\n",
    "According to wikipedia,  using $n−1$ instead of $n$ in the formula for the sample variance and sample standard deviation is known as [Bessel's Correction](https://en.wikipedia.org/wiki/Bessel%27s_correction). The technique is named after Friedrick Bessel. $n$ refers to the number of observations in a sample.\n",
    ">This method corrects the bias in the estimation of the population variance. It also partially corrects the bias in the estimation of the population standard deviation. However, the correction often increases the mean squared error in these estimations.\n",
    ">In estimating the population variance from a sample when the population mean is unknown, the uncorrected sample variance is the mean of the squares of deviations of sample values from the sample mean (i.e. using a multiplicative factor 1/n). In this case, the sample variance is a biased estimator of the population variance.\n",
    "Multiplying the uncorrected sample variance by the factor $\\frac{n}{n-1}$ gives an unbiased estimator of the population variance\n",
    "\n",
    "Bessel's correction is the degrees of freedom in the residuals vector \n",
    "$x_1-\\bar{x},...,x_n - \\bar{x}$ where $\\bar{x}$ is the sample mean. There are $n$ independent observations in the sample but only $n-1$ residuals because they sum to one.\n",
    "Generally Bessel's correction is an approach to reduce the bias due to finite sample size.\n",
    "\n",
    "So there is more than one way that the sample variance could be calculated. The **biased** sample variance $S_n$ is a non-unbiased estimator of the population variance. From every one of the $n$ data points in the sample you substract the sample mean $\\bar{x}$ and divide by the number of data points $n$. To get the **unbiased** estimate instead, you divide by $n-1$ instead of $n$. As $n-1$ is a smaller number than $n$, then dividing by the smaller number will give a larger value for the sample variance. This unbiased estimate is usually denoted by $S_{n-1}$.\n",
    "\n",
    "The population variance is calculated using the formula:\n",
    "$$\\sigma^2\\frac{=\\sum(x_i-\\mu)^2}{n}$$\n",
    "\n",
    "The sample variance is calculated using the formula:\n",
    "\n",
    "$$S^2\\frac{=\\sum(x_i-\\bar{x})^2}{n-1}$$\n",
    "\n",
    "\n",
    "A statistic is biased if, in the long run, it consistently over or underestimates the parameter it is estimating.\n",
    "(http://davidmlane.com/hyperstat/A9257.html).\n",
    "\n"
   ]
  },
  {
   "cell_type": "markdown",
   "metadata": {},
   "source": [
    "### The Excel `STDDEV.P` and `STDDEV.S` functions.\n",
    "I refer to the Microsoft documentation here on these two Excel functions.\n",
    "The standard deviation is a measure of how widely values are dispersed from the average value (the mean).\n",
    "According to the Microsoft documentation, the [STDEV function](https://support.microsoft.com/en-us/office/stdev-function-51fecaaa-231e-4bbb-9230-33650a72c9b0) estimates standard deviation based on a sample. This function has been replaced with one or more new functions that may provide improved accuracy and whose names better reflect their usage. These are the `STDDEV.P` and `STDDEV.S` functions.\n",
    "- The [STDDEV.S function](https://support.microsoft.com/en-us/office/stdev-s-function-7d69cf97-0c1f-4acf-be27-f3e83904cc23) estimates standard deviation based on a sample (ignores logical values and text in the sample).\n",
    "`STDEV.S` assumes that its arguments are a sample of the population. The standard deviation is calculated using the \"n-1\" method. If your data represents the entire population, then compute the standard deviation using `STDEV.P`.\n",
    "This ties in with the information in the previous paragraph."
   ]
  },
  {
   "cell_type": "markdown",
   "metadata": {},
   "source": [
    "\n",
    "$\\sqrt{\\frac{\\sum{(x-\\bar{x})^2}}{n}}$"
   ]
  },
  {
   "cell_type": "markdown",
   "metadata": {},
   "source": [
    "### Simulation using Numpy to demonstrate.\n",
    "**The task requires using numpy to perform a simulation demonstrating that the `STDDEV.S` calculation is a better estimate for the standard deviation of a population when performed on a sample.** \n",
    "\n",
    "The standard deviation of an array of numbers x is calculated using `numpy` as $np.sqrt(np.sum((x - np.mean(x))**2)/len(x))$.   The standard deviation is the square root of the variance.\n",
    "\n",
    "$$\\sqrt{\\frac{\\sum{(x-\\bar{x})^2}}{n}}$$\n",
    "\n",
    "The variance calculation for the population uses $n$ while the variance calculation for the sample using $n-1$.\n",
    "The population variance is calculated using the formula:\n",
    "$$\\sigma^2\\frac{=\\sum(x_i-\\mu)^2}{n}$$\n",
    "\n",
    "The sample variance is calculated using the formula:\n",
    "\n",
    "$$S^2\\frac{=\\sum(x_i-\\bar{x})^2}{n-1}$$\n",
    "\n",
    "\n",
    "\n",
    "So the plan is to simulate a population using numpy random and from the population select some samples and calculate the sample statistics. The standard normal distribution can be used as the population, it has a mean of zero and a standard deviation and variance of 1. Alternatively I could take any normal distribution as the population by specifying the $\\mu$ and $\\sigma^2$ and in the same way generate random samples of varying sizes and from the samples calculate the statistics. \n",
    "Depending on the size of the sample, when you calculate the mean from the sample it could be quite close to the population mean with some variation but there could also be some samples whose statistics could vary quite a bit from the population mean.\n",
    "Calculate the sample variance of each of the samples using both $n$ and $n-1$ and then take the mean of the variances calculated using $n$ and $n-1$. Then compare how off they are when you use the population variance formula (using n) instead of the sample variance (using n-1). We should expect to see that when using $n$ instead of $n-1$ that the true variance is still being underestimated. When using $n-1$ the true variance should be closer to the true population variance.\n",
    "\n",
    "The `numpy.random` module has a standard_normal function `np.random.standard_normal` which can give some random values following a standard normal distribution. This can also be used to generate random values from a normal distribution with a mean of $\\mu$ and a variance of $\\sigma^2$.\n",
    "You could take various samples of size n from the population and from the samples calculate their mean and variance statistics and then compare their sample statistics with the population parameters $\\mu$ and $\\sigma$.\n",
    "\n",
    "The population and samples could also come from other probability distributions such as the uniform distribution."
   ]
  },
  {
   "cell_type": "code",
   "execution_count": null,
   "metadata": {},
   "outputs": [],
   "source": [
    "\n",
    "# import libraries using common alias names\n",
    "import numpy as np\n",
    "import pandas as pd\n",
    "import seaborn as sns\n",
    "import matplotlib.pyplot as plt\n",
    "%matplotlib inline\n",
    "plt.rcParams['figure.figsize'] = 12, 8 # makes plots bigger"
   ]
  },
  {
   "cell_type": "markdown",
   "metadata": {},
   "source": [
    "### Standard normal distribution with mean 0 and variance of 1\n",
    "Numpy.random's [standard_normal](https://numpy.org/doc/stable/reference/random/generated/numpy.random.standard_normal.html)\n",
    "`numpy.random.standard_normal(size=None)` function will draw samples from a standard Normal distribution (mean=0, stdev=1). This will return a single value from the standard normal distribution. \n",
    "- A `size` parameter can be provided as an integer to return an array containing a sample of that size. \n",
    "- If a tuple of integers (m,n,k) is provided as a size parameter then will generate m * n * k  samples.\n",
    "\n",
    "The [numpy.random.normal](https://numpy.org/doc/stable/reference/random/generated/numpy.random.normal.html#numpy.random.normal) could be used to generate samples from the normal distribution with the `loc` parameter set to the mean and the `scale` argument set to the standard deviation of the distribution. For now I will look at the standard normal distribution.\n",
    "\n",
    "I will now generate some data to simulate sampling a sample of 10 from the standard normal distribution. This simulation will be repeated 1000 times for now. From each of the samples generated, you can then take the mean and variance and see how they are distributed to get the sampling distribution of the mean. \n",
    "When you calculate the sample statistics for any of the samples and see how they compare to the population parameters, you would expect to find that the mean of the individual samples would be quite close to the population mean but with some variation. If you took all the possible samples of size that you could take and calculate the mean of each the samples (which is impossoble as there is an infinite number of such samples), then take the mean of all the means you would expect this to be (very close to) the mean of the population and therefore a good estimate for the mean of the population. Some of the random samples will have means that randomly quite big or small or even more extreme. It depends on where exactly the samples came from in the population.\n",
    "\n",
    "(In general you could take the average of the sample means from any population distribution and see how they relate to the population that the samples are drawn from.)\n",
    "Below I will generate 1000 samples of size 10 from a standard normal population.\n",
    "\n",
    "In a standard normal distribution, 99.73% of the value fall between -3 and 3.\n",
    "\n",
    "I am amending the number of samples to 10000 to see. "
   ]
  },
  {
   "cell_type": "markdown",
   "metadata": {},
   "source": [
    "Adjusting here to use a normal distribution instead of standard normal"
   ]
  },
  {
   "cell_type": "code",
   "execution_count": null,
   "metadata": {},
   "outputs": [],
   "source": [
    "import numpy as np\n",
    "np.set_printoptions(formatter={'float': lambda x: \"{0:6.3f}\".format(x)})\n",
    "\n",
    "sample_size = 10\n",
    "# 1000\n",
    "no_samples = 1000\n",
    "#size of the sample here is a tuple(m,n) to get m * n samples\n",
    "samp = np.random.standard_normal((no_samples, sample_size))\n",
    "\n",
    "\n",
    "#loc,scale,size = 3,6.25, (1000,30)\n",
    "#loc,scale,size = 3,6.25, 5\n",
    "#samp = np.random.normal(loc,scale,size)\n",
    "#sample_size = 30\n",
    "# 1000\n",
    "\n",
    "#sample_size = 10\n",
    "#no_samples = 1000\n",
    "\n",
    "print(f\"The mean of all the samples is {samp.mean()}\") # is a 50 by 10 array\n",
    "print(samp.ndim)\n",
    "print(f\"The sample has a {samp.size} points\")\n",
    "print(samp.shape)"
   ]
  },
  {
   "cell_type": "markdown",
   "metadata": {},
   "source": [
    "The 10000 data points generated were put into 1000 sub-arrays of size 10 to represent 1000 samples each containing 10 data points in each. The mean of each sample of 10 can be obtained by applying the `mean()` function at axis level 1. Alternatively sum each (sample) array of 10 data points and dividing by the number of data points in the sample (10).\n",
    "\n",
    "Similarly the variances can be calculated using the formula or applying the `var` function. (I need to see what the `var` function actually calculates and see if it uses $n$ or $n-1$). (The population variance formula uses n while the sample variance uses n-1)\n",
    " \n",
    "The sample variance formula:\n",
    "$$S^2\\frac{=\\sum(x_i-\\bar{x})^2}{n-1}$$\n",
    "\n"
   ]
  },
  {
   "cell_type": "code",
   "execution_count": null,
   "metadata": {},
   "outputs": [],
   "source": [
    "\n",
    "sample_means = samp.mean(axis=1)\n",
    "# samp.sum(axis=1) / sample_size\n",
    "#print(sample_means)\n",
    "\n",
    "# the mean of the sample means?\n",
    "print(f\"The mean of the sample means is {sample_means.mean()}\")\n",
    "print(f\"The standard deviation of the sample means is {sample_means.std()}\")"
   ]
  },
  {
   "cell_type": "code",
   "execution_count": null,
   "metadata": {},
   "outputs": [],
   "source": [
    "# all the means of the samples\n",
    "#samp.mean(axis=1)"
   ]
  },
  {
   "cell_type": "code",
   "execution_count": null,
   "metadata": {},
   "outputs": [],
   "source": [
    "\n",
    "#samp.sum(axis=1) / sample_size"
   ]
  },
  {
   "cell_type": "code",
   "execution_count": null,
   "metadata": {},
   "outputs": [],
   "source": [
    "# just manually calculating the mean of each sample\n",
    "mean = samp.sum(axis=1) / sample_size\n",
    "#mean"
   ]
  },
  {
   "cell_type": "markdown",
   "metadata": {},
   "source": [
    "### variances using `var()` function"
   ]
  },
  {
   "cell_type": "code",
   "execution_count": null,
   "metadata": {},
   "outputs": [],
   "source": [
    "vars = samp.var(axis=1)\n",
    "#vars"
   ]
  },
  {
   "cell_type": "markdown",
   "metadata": {},
   "source": [
    "#### Variance using biased formula (divide by n)"
   ]
  },
  {
   "cell_type": "code",
   "execution_count": null,
   "metadata": {},
   "outputs": [],
   "source": [
    "# Calculate the biased variance for each of the samples\n",
    "\n",
    "# newaxis converts the array into column vector \n",
    "diff_from_mean = (samp - mean[:, np.newaxis])**2\n",
    "variances_b = diff_from_mean.sum(axis=1) / (sample_size)\n",
    "#variances_b"
   ]
  },
  {
   "cell_type": "markdown",
   "metadata": {},
   "source": [
    "#### Variance using unbiased formula (divide by n-1)"
   ]
  },
  {
   "cell_type": "code",
   "execution_count": null,
   "metadata": {},
   "outputs": [],
   "source": [
    "# adjusting the variance to divide by n-1\n",
    "variances_unb = diff_from_mean.sum(axis=1) / (sample_size-1)\n",
    "#variances_unb"
   ]
  },
  {
   "cell_type": "markdown",
   "metadata": {},
   "source": [
    "#### Comparing the biased and unbiased variance to the population variance\n",
    "Using the formula for the biased variance gives a mean variance that is the exact same as using the `var()` formula. Adjusting the variance formula to divide the differences from the mean by $n-1$ gives a mean variance that is very close to the true variance of the population which is 1 in this case. \n",
    "\n",
    "Multiplying the uncorrected sample variance by the factor $\\frac{n}{n-1}$ gives an unbiased estimator of the population variance."
   ]
  },
  {
   "cell_type": "code",
   "execution_count": null,
   "metadata": {},
   "outputs": [],
   "source": [
    "# using the var() formula\n",
    "print(f\"The means of the variances using vars() is {vars.mean()}\")\n",
    "# the mean of the biased variance formula\n",
    "print(f\"The mean of the biased variance (variance calculated using n) is {variances_b.mean()}\")\n",
    "# mean of the unbiased formula\n",
    "print(f\"The mean of the unbiased variances (variance calculate using n-1) is {variances_unb.mean()}\")\n",
    "# the actual population variance (if my sample of 10000 points is taken as the full population for this demo)\n",
    "print(f\"The actual population variance is {samp.var()}\")\n",
    "# using Bessel correction by multiplying the biased sample variance by n/n-1\n",
    "print(f\"Using Bessel's correction gives {variances_b.mean() * (sample_size / (sample_size - 1.0))}\")"
   ]
  },
  {
   "cell_type": "markdown",
   "metadata": {},
   "source": [
    "### Display the histogram of the samples, along with the probability density function:\n",
    "\n",
    "See https://numpy.org/doc/stable/reference/random/generated/numpy.random.Generator.normal.html?highlight=random%20normal#numpy.random.Generator.normal\n",
    "\n",
    "In a standard normal distribution, 99.73% of the value fall between -3 and 3."
   ]
  },
  {
   "cell_type": "markdown",
   "metadata": {},
   "source": [
    "import matplotlib.pyplot as plt\n",
    "import numpy as np\n",
    "s = np.random.standard_normal((10000))\n",
    "\n",
    "mu, sigma = 0,1\n",
    "count, bins, ignored = plt.hist(s, 100, density=True)\n",
    "plt.plot(bins, 1/(sigma * np.sqrt(2 * np.pi)) *\n",
    "               np.exp( - (bins - mu)**2 / (2 * sigma**2) ),\n",
    "         linewidth=2, color='r')\n",
    "plt.show()\n",
    "\n"
   ]
  },
  {
   "cell_type": "markdown",
   "metadata": {},
   "source": [
    "### Plotting the sample mean and variances\n",
    "\n",
    "#### Recap and next steps\n",
    "1. Generate a population with a mean and variance (I used the standard normal distribution above)\n",
    "2. Select repeated samples of various sample sizes from the population\n",
    "3. Calculate sample statistics from the samples. Sample mean and sample variances.\n",
    "4. The next step is to plot the sample statistics on a chart\n",
    "This is something I saw on a Khan Academy video. I don't know what application was used for plotting there but I will attempt to do it here using Python numpy and seaborn libraries.\n",
    "    * The population mean on the x-axis with a vertical line representing the population mean.\n",
    "    * The population variance on the y-axis with a horizontal line representing this.\n",
    "    * Calculate the sample mean and sample variance for each of the samples and plot on the graph.\n"
   ]
  },
  {
   "cell_type": "code",
   "execution_count": null,
   "metadata": {},
   "outputs": [],
   "source": [
    "x = sample_means\n",
    "y = variances_b\n",
    "z = variances_unb\n",
    "a = variances_b.mean()\n",
    "# mean of the unbiased formula\n",
    "b = variances_unb.mean()"
   ]
  },
  {
   "cell_type": "code",
   "execution_count": null,
   "metadata": {},
   "outputs": [],
   "source": [
    "%matplotlib inline\n",
    "# set up the subplots and figure sizes\n",
    "f, axes = plt.subplots(1, 2, figsize=(12, 4))\n",
    "sns.scatterplot(x =x,y=y, hue=y, ax=axes[0])\n",
    "sns.scatterplot(x =x,y=z, hue=y, ax=axes[1])\n",
    "axes[0].axvline(samp.mean(), color='blue', linewidth=2, linestyle=\"--\")\n",
    "axes[1].axvline(samp.mean(), color='blue', linewidth=2, linestyle=\"--\")\n",
    "axes[0].axhline(samp.var(), color='red', linewidth=2, linestyle=\":\")\n",
    "axes[0].axhline(variances_b.mean(), color='green', linewidth=2)\n",
    "axes[1].axhline(samp.var(), color='red', linewidth=3, linestyle=\":\")\n",
    "axes[1].axhline(variances_unb.mean(), color='cyan', linewidth=2)\n",
    "axes[0].set(xlabel='Sample Means', ylabel='Sample Variances')\n",
    "axes[1].set(xlabel='Sample Means', ylabel='Sample Variances')\n",
    "axes[0].set_title(\"Using biased variances\")\n",
    "axes[1].set_title(\"Using unbiased variances\")"
   ]
  },
  {
   "cell_type": "markdown",
   "metadata": {},
   "source": [
    "The plots above show that the means are clusted around the population mean of zero which is shown by the vertical blue dashed line. Some sample means are below and some are above. Some are quite a bit away. This would depend on the actual values in each sample.\n",
    "Similarly with the variances. The dashed red horizontal line represents the population variance of 1. Again while the sample variances are clustered around them, some sample variances are above, some below and some more extreme than others. However when the mean of the sample variances are plotted you can see that the mean of the unbiased variances are closer to the actual variance of the population than the mean of the biased sample variances."
   ]
  },
  {
   "cell_type": "markdown",
   "metadata": {},
   "source": [
    "---\n",
    "##### From my numpy.random project...\n",
    "\n",
    "If you are interested in measurements of a population but it is not practical to measure this parameter, you could take representative samples from the population and get the average of the samples instead. \n",
    "A statistic is a good estimator for a population parameter and measures estimates of population parameters in a sample. If you take a sample from a population and calculate the average for the individual sample it is unlikely to be the actual true average for the population. This process can be repeated many times. NumPy random distribution functions can be used to imitate this process by simulating many many samples of a set sample size from a distribution. The mean and standard deviations from the samples can then be used to get the sampling distribution of the mean. While some random samples may have randomly big or randomly small values, overall you could take the average from each of the samples and relate these to the mean of the overall population you took them from.\n",
    "\n",
    "The mean is an estimator of the centre of the distribution. "
   ]
  },
  {
   "cell_type": "markdown",
   "metadata": {},
   "source": [
    "\n",
    "Set the loc, scale and size. Take random samples of varying sizes from this and plot.\n",
    "My population now will be a normal population with population parameters mean of 10 and a standard deviation of 3, variance of 9.\n",
    "\n",
    "I will sample 1000 samples each containing 10 points.\n",
    "Then calculate the sample mean sample variance for each sample.\n",
    "X will hold the 1000 samples of 10 data points. The mean of X will not be exactly 10 as it is 10000 points sampled from the normal distribution with mean 10 but it should be fairly close\n"
   ]
  },
  {
   "cell_type": "code",
   "execution_count": null,
   "metadata": {},
   "outputs": [],
   "source": [
    "import numpy as np\n",
    "np.random.seed(10)\n",
    "no_samples = 1000\n",
    "sample_size = 10\n",
    "np.random.seed(10)\n",
    "\n",
    "# set mean and standard deviation. These are the population parameters\n",
    "loc,scale = 10,3\n",
    "size = (no_samples, sample_size)\n",
    "#size of the sample here is a tuple(m,n) to get m * n samples 1000 by 10 samples\n",
    "# here I am using the no of samples times sample size to get all the points \n",
    "X = np.random.normal(loc,scale,(no_samples*sample_size))\n",
    "\n",
    "print(f\"The mean of the simulated population is {X.mean()}\") #\n",
    "print(f\"The variance of the simulated population is {X.var()}\")\n",
    "print(f\"The standard deviation of the simulated population is {X.std()}\")\n",
    "print(X.ndim)\n",
    "print(f\"The sample has a {X.size} points\")\n",
    "print(X.shape)\n"
   ]
  },
  {
   "cell_type": "markdown",
   "metadata": {},
   "source": [
    "### Plot the population"
   ]
  },
  {
   "cell_type": "code",
   "execution_count": null,
   "metadata": {},
   "outputs": [],
   "source": [
    "plt.rcParams['figure.figsize'] = 12, 8 # makes plots big\n",
    "fig = sns.histplot(X,label=\"$\\mu=10,\\ \\sigma=3$\")\n",
    "#plt.legend(loc=\"best\")\n",
    "plt.xlabel=('mean')\n",
    "plt.ylabel=(\"Standard deviation\")\n",
    "#plt.title(\"Histogram\")\n",
    "plt.suptitle('A Normal Distribution with $\\mu$=10,$\\sigma^2 =9$') \n",
    "plt.show(fig)"
   ]
  },
  {
   "cell_type": "markdown",
   "metadata": {},
   "source": [
    "The histogram above shows that the plot is centred around the mean of 10.\n",
    "Now I will select some samples.\n"
   ]
  },
  {
   "cell_type": "code",
   "execution_count": null,
   "metadata": {},
   "outputs": [],
   "source": [
    "loc, scale, size = 10, 3, 10\n",
    "\n",
    "sample_means=[]\n",
    "sample_stds=[]\n",
    "sample_vars=[]\n",
    "\n",
    "for size in range(2,100):\n",
    "    #print(f\"The size of the sample is {size}\")\n",
    "    sample_s = []\n",
    "    \n",
    "    for i in range(size):\n",
    "        # do this 20 times: get a sample for each sample size 2 to 10\n",
    "        sample = np.random.normal(loc,scale, size)\n",
    "        #print(len(sample))\n",
    "        # add the sample points to an array for each sample\n",
    "        sample_s.append(sample)\n",
    "        #print(f\"The sample mean is {sample.mean()} and sample variance is {sample.var()}\")\n",
    "        #print(len(sample_s))\n",
    "        # calculate the mean, variance and standard deviation for each sample\n",
    "        sample_means.append(sample.mean())\n",
    "        # plot the histogram e\n",
    "        #sns.histplot(sample_means)\n",
    "        #plt.show()\n",
    "        sample_stds.append(sample.std())\n",
    "        sample_vars.append(sample.var())\n",
    "#print(sample_means)\n",
    "#print(sample_vars)\n",
    "\n",
    "\n"
   ]
  },
  {
   "cell_type": "code",
   "execution_count": null,
   "metadata": {},
   "outputs": [],
   "source": [
    "len(sample_means)\n",
    "len(sample_stds)\n",
    "len(sample_s)"
   ]
  },
  {
   "cell_type": "code",
   "execution_count": null,
   "metadata": {},
   "outputs": [],
   "source": [
    "x = sample_means\n",
    "y = sample_vars\n",
    "sns.scatterplot(x=x, y= y, data=None)\n",
    "plt.axvline(loc, color='blue', linewidth=2, linestyle=\"--\")\n",
    "plt.axhline(scale**2, color='red', linewidth=2, linestyle=\":\")\n",
    "plt.xlabel='Sample Means'\n",
    "plt.ylabel='Sample Variances'\n",
    "plt.show()"
   ]
  },
  {
   "cell_type": "markdown",
   "metadata": {},
   "source": [
    " \n",
    " \n",
    "The Khan academy video also looked at the size of the samples. With a smaller sample size, you are much more likely to get a sample mean that is a bad estimate for the population mean than and you are more likely to significantly underestimate the sample variance. (In the tails of the distribution of sample variances and sample means). I will come back to this the next time but here are some relevant notes.\n",
    "\n",
    "- The cases where we are significantly underestimating the sample variance, these are also disproportionately the cases where the means of those samples are way off from the true sample mean. The cases where the mean is way off from the sample mean, you are much more likely to underestimate the sample variance in those situations. The points that are giving the better estimates \n",
    "\n",
    "If you kept taking small samples of say size two from your population, then you would see over many many trials, many many samples of size 2, that the biased sample variance over population variance is approaching half of the true population variance. With a sample size of 3 it is approaching 2/3s of the true population variance. For sample size of 4 it is approaching 3/4 of the true population variance. When we use the biased estimate, we are not approaching the population variance, we are approaching n-1 over n times the population variance $\\frac{n-1}{n}$ times the population variance. So this is giving a biased estimate. To get the best estimate, an unbiased estimate of the true population variance, (not $\\frac{n-1}{n}$ times the population variance) we would multiply by $\\frac{n}{n-1}$ to get an unbiased estimate. $$\\frac{(n-1)\\sigma^2}{n}.\\frac{n}{n-1}=\\sigma^2$$\n",
    "See the rest of this formula\n",
    "See [khan Academy](https://www.khanacademy.org/math/statistics-probability/summarizing-quantitative-data)\n",
    "(Often assume that when people refer to $S^2$ that they are referring to the unbiased estimate).\n",
    "\n",
    "An example of this would be taking a all the data in a population plotted on the number line. If a sample is taken from this then the sample mean of this sample could be very close to the population mean or then again it might not, depending on what sample of data points is taken. When you take a sample, its sample mean value will always fall inside the sample but the population mean could be outside of this. Therefore you could have a much lower estimate than the true variance from the actual population mean. Depending on what the sample values are and if they come from one end or other of the population, then the true population mean might be outside of the sample taken and then you are likely to be underestimating the true population variance.\n",
    "\n",
    "If we had all the data in a population plotted on a number line, if a sample is taken from this.\n",
    "N = 14. take a sample n=3. depending on which 3 points in the sample, the sample mean could be very close to the population mean. There is also a distinct possibility that it won't. The key idea is that when you take a sample, the sample mean will always sit within your sample so there is a real possibility that when you take your sample, the mean could be outside this sample. It could be a much lower estimate than the true variance from the actual population mean. (The sample mean will always sit inside the data but the sample \n",
    "Therefore dividing by $n-1$ instead of $n$ will give a slightly larger sample variance and this  will be an unbiased estimate."
   ]
  },
  {
   "cell_type": "markdown",
   "metadata": {},
   "source": []
  },
  {
   "cell_type": "markdown",
   "metadata": {},
   "source": [
    "## Task 4\n",
    "**Use scikit-learn to apply k-means clustering to Fisher’s famous Iris data set. You will easily obtain a copy of the data set on- line. Explain in a Markdown cell how your code works and how accurate it might be, and then explain how your model could be used to make predictions of species of iris.**"
   ]
  },
  {
   "cell_type": "markdown",
   "metadata": {},
   "source": [
    "I am not going to go into the details of the Iris dataset here and just focus on the the kmeans clustering. I can refer to my https://github.com/angela1C/pands-project project if I need to.\n",
    "\n",
    "The dataset is available from the [UCI Machine Learning repository](https://archive.ics.uci.edu/ml/datasets/iris) \n",
    ">The data set contains 3 classes of 50 instances each, where each class refers to a type of iris plant. One class is linearly separable from the other 2; the latter are NOT linearly separable from each other. \n",
    "\n",
    "It consists of 150 instances with five attributes, with four of these being the measurements of the sepal and petals of each observation in the data set and the fifth being the class or species of Iris that each observation belongs to. It includes 50 plants each of three classes of Iris plant, where each class is a different type or species of Iris plant. \n",
    "\n",
    "- https://scikit-learn.org/stable/modules/clustering.html#k-means.\n",
    "- https://medium.com/@belen.sanchez27/predicting-iris-flower-species-with-k-means-clustering-in-python-f6e46806aaee\n",
    "- https://www.analyticsvidhya.com/blog/2019/08/comprehensive-guide-k-means-clustering/\n",
    "\n",
    "Clustering is an unsupervised learning method that is used to  group sets of objects based on similar characteristics and to find meaningful patterns in the data. It is closely related to classification and can be used to find and classify groups of similar points in a dataset.\n",
    "Cluster analysis involves looking for groups of similar observations in data. \n",
    "The aim is to find clusters where the differences between observations within a cluster is much smaller than the distance between clusters. \n",
    "\n",
    "\n",
    "In Unsupervised learning, the training data usually consists of a set of inputs without any corresponding target values or labels. One of the goals of unsupervised learning is to discover groups or clusters of similar examples within the data. It is also used to determine the distribution of data within the input space, known as density estimation, or to project the data from a high-dimensional space down to two or three dimensions for the purpose of visualization.\n",
    "\n",
    "\n",
    "\n",
    "\n",
    "\n",
    "There are various clustering algorithms, one of which is the k-means algorithm. Kmeans is an iterative process. You begin by picking the number of clusters to use (k), then randomly generate k number of centres, label the points according to which centre it is closest to. The cluster centres which are referred to as centroids are initialised using k random values to begin and the first set of k clusters created based on these random centre points. Every point in the dataset is assigned to a cluster based on its nearest centroid. The mean of all the points assigned to each cluster is calculated and this is used to recalculate the new centroid.\n",
    "\n",
    "The values for the cluster centres are then updated, the points labelled according to the centre it is closest to.  The values for the centres are again updated and the points once again reassigned labels according to which centre it is closest to. This dual process of allocating and updating is repeated until the algorithm converges.\n",
    "- Allocation: for each observation, the distance from the K cluster centers is calculated and the observation moved to the cluster that it is closest to.\n",
    "- Updating: The cluster centres are updated by computing the means of the observations assigned to the cluster.\n",
    "\n",
    "\n",
    "This happens when there is no more points moved between points on each iteration. Once this occur the estimates for the cluster centres will no longer change and no more points will be reallocated from one cluster to another.\n",
    "\n",
    "\n",
    "The [scikit-learn cluster tutorial](https://scikit-learn.org/stable/modules/clustering.html#clustering) explains how the k-means algorithm  clusters data by trying to separate samples in $n$ groups of equal variance, minimizing a criterion known as the *inertia* or *within-cluster sum-of-squares*. \n",
    ">The k-means algorithm divides a set of  $N$ samples $X$ into $K$ disjoint clusters $C$, each described by the mean \n",
    " $\\mu_j$ of the samples in the cluster.\n",
    "The means are commonly called the cluster “centroids” but they are not in general points from $X$ although they live in the same space. \n",
    "\n",
    "The K-means algorithm aims to choose centroids that minimise the inertia or within-cluster sum-of-squares criterion:\n",
    "\n",
    "$$\\sum_{i=0}^{n}{\\min\\limits_{\\mu_j \\in C}(||x_i - \\mu_j||^2)}$$\n",
    "\n",
    "The $||.||^2$ refers to squared Euclidian distances or \"sum of squares\". In mathematics, the Euclidean distance between two points in Euclidean space is the length of a line segment between the two points.[Wikipedia](https://en.wikipedia.org/wiki/Euclidean_distance)\n",
    "\n",
    "The SSE is the sum of the squared error which is calculated after the centroids converge or match the previous iterations assignment. The SSE is  defined as the sum of the squared Euclidean distances of each point to its closest centroid.  The objective of k-means is to try to minimize this value which is a measure of error.\n",
    "\n",
    "Inertia is a measure of how internally coherent clusters are.\n",
    "\n",
    "The initial centroids are chosen randomly and therefore the alogorithm will give different results every time it is run but the differences should be very small. The kmeans algorithm should be run several times to find the best clusters. (`sklearn.cluster.KMeans` takes care of this for us as by default it runs the k-means algorithm 10 times with different centroid seeds and the final results will be the best output of however many consecutive runs in terms of inertia. The default can be changed using the `n_init` parameter.)\n",
    "\n",
    "\n",
    "\n",
    "The number of clusters to use must be decided. While we know the number of classes for the Iris dataset, in reality the number of clusters may not be known. A scatter plot of the data will give a good indication of clusters.\n",
    "The metric used for kmeans is called the within sum of squares. This is plotted against the number of clusters k to give an elbow curve. The optimum number of clusters is where the *elbow* of the curve occurs. I will show this below.\n",
    "\n",
    "\n",
    "Assessing the results of the clustering to see how well it is working.\n",
    "You need to be able to see how  well the clustering is working.\n",
    "\n",
    "\n",
    "\n",
    "\n",
    "https://www.scss.tcd.ie/~munnellg/projects/kmeans.html\n",
    ">Cluster quality can be evaluated by computing the average silhouette score or the within-cluster sum-of-squares.\n",
    "K-means works best on data which can be represented as distinct, spherical, dense groups of points. In “fancy words”, the data can be modelled using a Gaussian Distribution It is also assumed that the clusters are roughly the same size.\n",
    "\n",
    "\n",
    "\n",
    "\n",
    "### Documentation\n",
    "https://scikit-learn.org/stable/modules/generated/sklearn.cluster.KMeans.html#sklearn.cluster.KMeans\n",
    "The documentation includes an example of Kmeans clustering on the Iris dataset which is built into scikit-learn.\n",
    "I will download the csv file as this will be more realistic. Some preprocessing will be required to get it into the format required for using KMeans.\n",
    "\n",
    "While I am going through this the first time, I will not split the data into a train and test set.\n",
    "\n",
    "- We need the data to be an array like sparse matric of shape n_samples, n_features.\n",
    "`X{array-like, sparse matrix} of shape (n_samples, n_features)`\n",
    "The Iris dataset is commonly available in csv format containing 150 rows with 5 columns. The first 4 columns contain measurements for the 4 features while the 5th column contains the Iris class or labels that each observation belongs to.\n"
   ]
  },
  {
   "cell_type": "code",
   "execution_count": 2,
   "metadata": {},
   "outputs": [],
   "source": [
    "# first importing the following libraries\n",
    "# Numerical arrays.\n",
    "import numpy as np\n",
    "import pandas as pd  \n",
    "# plotting\n",
    "import matplotlib.pyplot as plt\n",
    "import seaborn as sns\n",
    "\n",
    "import csv\n",
    "\n",
    "# Machine learning - KMeans.\n",
    "import sklearn.cluster as skcl\n",
    "\n"
   ]
  },
  {
   "cell_type": "code",
   "execution_count": 3,
   "metadata": {},
   "outputs": [],
   "source": [
    "csv_url = 'https://archive.ics.uci.edu/ml/machine-learning-databases/iris/iris.data'\n",
    "      # using the attribute information as the column names\n",
    "col_names = ['Sepal_Length','Sepal_Width','Petal_Length','Petal_Width','Class']\n",
    "iris =  pd.read_csv(csv_url, names = col_names)"
   ]
  },
  {
   "cell_type": "code",
   "execution_count": 4,
   "metadata": {},
   "outputs": [
    {
     "name": "stdout",
     "output_type": "stream",
     "text": [
      "   Sepal_Length  Sepal_Width  Petal_Length  Petal_Width        Class\n",
      "0           5.1          3.5           1.4          0.2  Iris-setosa\n",
      "1           4.9          3.0           1.4          0.2  Iris-setosa\n",
      "2           4.7          3.2           1.3          0.2  Iris-setosa\n",
      "3           4.6          3.1           1.5          0.2  Iris-setosa\n",
      "4           5.0          3.6           1.4          0.2  Iris-setosa\n",
      "     Sepal_Length  Sepal_Width  Petal_Length  Petal_Width           Class\n",
      "145           6.7          3.0           5.2          2.3  Iris-virginica\n",
      "146           6.3          2.5           5.0          1.9  Iris-virginica\n",
      "147           6.5          3.0           5.2          2.0  Iris-virginica\n",
      "148           6.2          3.4           5.4          2.3  Iris-virginica\n",
      "149           5.9          3.0           5.1          1.8  Iris-virginica\n",
      "Sepal_Length    float64\n",
      "Sepal_Width     float64\n",
      "Petal_Length    float64\n",
      "Petal_Width     float64\n",
      "Class            object\n",
      "dtype: object\n"
     ]
    }
   ],
   "source": [
    "print(iris.head())\n",
    "print(iris.tail())\n",
    "print(iris.dtypes)\n",
    "#iris.describe()"
   ]
  },
  {
   "cell_type": "code",
   "execution_count": 5,
   "metadata": {},
   "outputs": [],
   "source": [
    "\n",
    "sns.set_palette(\"colorblind\")"
   ]
  },
  {
   "cell_type": "code",
   "execution_count": 6,
   "metadata": {},
   "outputs": [
    {
     "data": {
      "text/plain": [
       "0         Iris-setosa\n",
       "1         Iris-setosa\n",
       "2         Iris-setosa\n",
       "3         Iris-setosa\n",
       "4         Iris-setosa\n",
       "            ...      \n",
       "145    Iris-virginica\n",
       "146    Iris-virginica\n",
       "147    Iris-virginica\n",
       "148    Iris-virginica\n",
       "149    Iris-virginica\n",
       "Name: Class, Length: 150, dtype: object"
      ]
     },
     "execution_count": 6,
     "metadata": {},
     "output_type": "execute_result"
    }
   ],
   "source": [
    "y = iris['Class']\n",
    "y"
   ]
  },
  {
   "cell_type": "markdown",
   "metadata": {},
   "source": [
    "### Plot the dataset\n",
    "First I will visualise the data using Seaborn pairplot to see the relationship between the 4 features.\n",
    "\n",
    "The dataset contains 50 samples from each of the three species of Iris: Iris Setosa, Iris Virginica and Iris Versicolor. Each sample has 4 features which are the length and width measurements of the petals and sepals of each sample.\n",
    "The points are coloured by the Iris species class that they belong to.\n",
    "As the pairplot shows, the 3 classes of Iris are clearly identifiable when the petal length is plotted against the petal width. The Setosa class is nearly always identifiable by each of the 4 features.\n",
    "The most difficult to identify correctly would be the Versicolor and Virginica based on the sepal length and sepal width features.\n",
    "When sepal length is plotted against petal width, nearly all of the 150 observations can be correctly identified apart from a few Iris Virginicas which are similar to measurements for the Versicolor class."
   ]
  },
  {
   "cell_type": "code",
   "execution_count": 7,
   "metadata": {},
   "outputs": [
    {
     "data": {
      "image/png": "[encoded data removed]",
      "text/plain": [
       "<Figure size 823.25x720 with 20 Axes>"
      ]
     },
     "metadata": {
      "needs_background": "light"
     },
     "output_type": "display_data"
    }
   ],
   "source": [
    "sns.pairplot(iris, hue = \"Class\")\n",
    "plt.show()"
   ]
  },
  {
   "cell_type": "markdown",
   "metadata": {},
   "source": [
    "### Preprocessing the data\n",
    "\n",
    "K-means is a distance-based algorithm and therefore differences in magnitude of values can create a problem.\n",
    "Looking at the Iris data, there is not a huge variation in the magnitude of the values. Although all of the measurements are in single digits, there are still quite a bit of variation between the range of values. Petal width measurements range from 0.1 to 2.5, petal width from 1 to 6.9, sepal width from 2 to 4.4 and sepal length from 4.3 to 7.9. The greatest differences in magnitude are between sepal length and petal width. \n",
    "\n",
    "Feature scaling is the process of transforming numerical features to use the same scale.\n",
    "The scikit-learn preprocessing module can be used  to bring all the variables to the same magnitude.\n",
    "\n",
    "It’s an important data preprocessing step for most distance-based machine learning algorithms because it can have a significant impact on the performance of your algorithm.[real python tutorial](https://realpython.com/k-means-clustering-python/)\n",
    "\n",
    "\n",
    "\n",
    "- The [sklearn.preprocessing](https://scikit-learn.org/stable/modules/preprocessing.html#preprocessing) package can be used to standardise the dataset.\n",
    "\n",
    ">Standardization of datasets is a common requirement for many machine learning estimators implemented in scikit-learn; they might behave badly if the individual features do not more or less look like standard normally distributed data: Gaussian with zero mean and unit variance.\n",
    "\n",
    ">In practice we often ignore the shape of the distribution and just transform the data to center it by removing the mean value of each feature, then scale it by dividing non-constant features by their standard deviation.\n",
    "\n",
    "The Iris class is a categorical variable with 3 possible values, Iris Setosa, Iris Versicolor and Iris Virginica. The `sklearn.preprocessing` package also has functionality for converting these values into integer codes.\n",
    "\n",
    "See [preprocessing.LabelEncoder](https://scikit-learn.org/stable/modules/generated/sklearn.preprocessing.LabelEncoder.html) which encodes target labels with value between 0 and n_classes-1. This transformer should be used to encode target values, i.e. y, and not the input X.\n",
    "\n",
    "\n",
    "\n"
   ]
  },
  {
   "cell_type": "code",
   "execution_count": 8,
   "metadata": {},
   "outputs": [
    {
     "data": {
      "text/html": [
       "<div>\n",
       "<style scoped>\n",
       "    .dataframe tbody tr th:only-of-type {\n",
       "        vertical-align: middle;\n",
       "    }\n",
       "\n",
       "    .dataframe tbody tr th {\n",
       "        vertical-align: top;\n",
       "    }\n",
       "\n",
       "    .dataframe thead th {\n",
       "        text-align: right;\n",
       "    }\n",
       "</style>\n",
       "<table border=\"1\" class=\"dataframe\">\n",
       "  <thead>\n",
       "    <tr style=\"text-align: right;\">\n",
       "      <th></th>\n",
       "      <th>Sepal_Length</th>\n",
       "      <th>Sepal_Width</th>\n",
       "      <th>Petal_Length</th>\n",
       "      <th>Petal_Width</th>\n",
       "    </tr>\n",
       "  </thead>\n",
       "  <tbody>\n",
       "    <tr>\n",
       "      <th>count</th>\n",
       "      <td>150.000000</td>\n",
       "      <td>150.000000</td>\n",
       "      <td>150.000000</td>\n",
       "      <td>150.000000</td>\n",
       "    </tr>\n",
       "    <tr>\n",
       "      <th>mean</th>\n",
       "      <td>5.843333</td>\n",
       "      <td>3.054000</td>\n",
       "      <td>3.758667</td>\n",
       "      <td>1.198667</td>\n",
       "    </tr>\n",
       "    <tr>\n",
       "      <th>std</th>\n",
       "      <td>0.828066</td>\n",
       "      <td>0.433594</td>\n",
       "      <td>1.764420</td>\n",
       "      <td>0.763161</td>\n",
       "    </tr>\n",
       "    <tr>\n",
       "      <th>min</th>\n",
       "      <td>4.300000</td>\n",
       "      <td>2.000000</td>\n",
       "      <td>1.000000</td>\n",
       "      <td>0.100000</td>\n",
       "    </tr>\n",
       "    <tr>\n",
       "      <th>25%</th>\n",
       "      <td>5.100000</td>\n",
       "      <td>2.800000</td>\n",
       "      <td>1.600000</td>\n",
       "      <td>0.300000</td>\n",
       "    </tr>\n",
       "    <tr>\n",
       "      <th>50%</th>\n",
       "      <td>5.800000</td>\n",
       "      <td>3.000000</td>\n",
       "      <td>4.350000</td>\n",
       "      <td>1.300000</td>\n",
       "    </tr>\n",
       "    <tr>\n",
       "      <th>75%</th>\n",
       "      <td>6.400000</td>\n",
       "      <td>3.300000</td>\n",
       "      <td>5.100000</td>\n",
       "      <td>1.800000</td>\n",
       "    </tr>\n",
       "    <tr>\n",
       "      <th>max</th>\n",
       "      <td>7.900000</td>\n",
       "      <td>4.400000</td>\n",
       "      <td>6.900000</td>\n",
       "      <td>2.500000</td>\n",
       "    </tr>\n",
       "  </tbody>\n",
       "</table>\n",
       "</div>"
      ],
      "text/plain": [
       "       Sepal_Length  Sepal_Width  Petal_Length  Petal_Width\n",
       "count    150.000000   150.000000    150.000000   150.000000\n",
       "mean       5.843333     3.054000      3.758667     1.198667\n",
       "std        0.828066     0.433594      1.764420     0.763161\n",
       "min        4.300000     2.000000      1.000000     0.100000\n",
       "25%        5.100000     2.800000      1.600000     0.300000\n",
       "50%        5.800000     3.000000      4.350000     1.300000\n",
       "75%        6.400000     3.300000      5.100000     1.800000\n",
       "max        7.900000     4.400000      6.900000     2.500000"
      ]
     },
     "execution_count": 8,
     "metadata": {},
     "output_type": "execute_result"
    }
   ],
   "source": [
    "# the feature columns of the dataset\n",
    "X = iris.iloc[:, 0:4]\n",
    "X.describe()"
   ]
  },
  {
   "cell_type": "markdown",
   "metadata": {},
   "source": []
  },
  {
   "cell_type": "code",
   "execution_count": 9,
   "metadata": {},
   "outputs": [],
   "source": [
    "# from sklearn import preprocessing\n",
    "import sklearn.preprocessing as pre"
   ]
  },
  {
   "cell_type": "markdown",
   "metadata": {},
   "source": [
    "Scale the data so that it has zero mean and unit variance:"
   ]
  },
  {
   "cell_type": "code",
   "execution_count": 10,
   "metadata": {},
   "outputs": [
    {
     "name": "stdout",
     "output_type": "stream",
     "text": [
      "[-4.73695157e-16 -6.63173220e-16  3.31586610e-16 -2.84217094e-16]\n"
     ]
    },
    {
     "data": {
      "text/plain": [
       "array([1., 1., 1., 1.])"
      ]
     },
     "execution_count": 10,
     "metadata": {},
     "output_type": "execute_result"
    }
   ],
   "source": [
    "X_scaled = pre.scale(X)\n",
    "X_scaled\n",
    "# the mean should be 0\n",
    "print(X_scaled.mean(axis=0))\n",
    "# the standard deviations should be 1\n",
    "X_scaled.std(axis=0)"
   ]
  },
  {
   "cell_type": "markdown",
   "metadata": {},
   "source": [
    ">The preprocessing module further provides a utility class StandardScaler that implements the Transformer API to compute the mean and standard deviation on a training set so as to be able to later reapply the same transformation on the testing set. This class is hence suitable for use in the early steps of a sklearn.pipeline:"
   ]
  },
  {
   "cell_type": "code",
   "execution_count": 11,
   "metadata": {},
   "outputs": [],
   "source": [
    "scaler = pre.StandardScaler().fit(X)\n",
    "scaler\n",
    "scaler.mean_\n",
    "scaler.scale_\n",
    "X_scaled  = scaler.transform(X)"
   ]
  },
  {
   "cell_type": "markdown",
   "metadata": {},
   "source": [
    "#### The scaled data:"
   ]
  },
  {
   "cell_type": "code",
   "execution_count": 12,
   "metadata": {},
   "outputs": [
    {
     "data": {
      "text/plain": [
       "array([[-9.00681170e-01,  1.03205722e+00, -1.34127240e+00,\n",
       "        -1.31297673e+00],\n",
       "       [-1.14301691e+00, -1.24957601e-01, -1.34127240e+00,\n",
       "        -1.31297673e+00],\n",
       "       [-1.38535265e+00,  3.37848329e-01, -1.39813811e+00,\n",
       "        -1.31297673e+00],\n",
       "       [-1.50652052e+00,  1.06445364e-01, -1.28440670e+00,\n",
       "        -1.31297673e+00],\n",
       "       [-1.02184904e+00,  1.26346019e+00, -1.34127240e+00,\n",
       "        -1.31297673e+00],\n",
       "       [-5.37177559e-01,  1.95766909e+00, -1.17067529e+00,\n",
       "        -1.05003079e+00],\n",
       "       [-1.50652052e+00,  8.00654259e-01, -1.34127240e+00,\n",
       "        -1.18150376e+00],\n",
       "       [-1.02184904e+00,  8.00654259e-01, -1.28440670e+00,\n",
       "        -1.31297673e+00],\n",
       "       [-1.74885626e+00, -3.56360566e-01, -1.34127240e+00,\n",
       "        -1.31297673e+00],\n",
       "       [-1.14301691e+00,  1.06445364e-01, -1.28440670e+00,\n",
       "        -1.44444970e+00],\n",
       "       [-5.37177559e-01,  1.49486315e+00, -1.28440670e+00,\n",
       "        -1.31297673e+00],\n",
       "       [-1.26418478e+00,  8.00654259e-01, -1.22754100e+00,\n",
       "        -1.31297673e+00],\n",
       "       [-1.26418478e+00, -1.24957601e-01, -1.34127240e+00,\n",
       "        -1.44444970e+00],\n",
       "       [-1.87002413e+00, -1.24957601e-01, -1.51186952e+00,\n",
       "        -1.44444970e+00],\n",
       "       [-5.25060772e-02,  2.18907205e+00, -1.45500381e+00,\n",
       "        -1.31297673e+00],\n",
       "       [-1.73673948e-01,  3.11468391e+00, -1.28440670e+00,\n",
       "        -1.05003079e+00],\n",
       "       [-5.37177559e-01,  1.95766909e+00, -1.39813811e+00,\n",
       "        -1.05003079e+00],\n",
       "       [-9.00681170e-01,  1.03205722e+00, -1.34127240e+00,\n",
       "        -1.18150376e+00],\n",
       "       [-1.73673948e-01,  1.72626612e+00, -1.17067529e+00,\n",
       "        -1.18150376e+00],\n",
       "       [-9.00681170e-01,  1.72626612e+00, -1.28440670e+00,\n",
       "        -1.18150376e+00],\n",
       "       [-5.37177559e-01,  8.00654259e-01, -1.17067529e+00,\n",
       "        -1.31297673e+00],\n",
       "       [-9.00681170e-01,  1.49486315e+00, -1.28440670e+00,\n",
       "        -1.05003079e+00],\n",
       "       [-1.50652052e+00,  1.26346019e+00, -1.56873522e+00,\n",
       "        -1.31297673e+00],\n",
       "       [-9.00681170e-01,  5.69251294e-01, -1.17067529e+00,\n",
       "        -9.18557817e-01],\n",
       "       [-1.26418478e+00,  8.00654259e-01, -1.05694388e+00,\n",
       "        -1.31297673e+00],\n",
       "       [-1.02184904e+00, -1.24957601e-01, -1.22754100e+00,\n",
       "        -1.31297673e+00],\n",
       "       [-1.02184904e+00,  8.00654259e-01, -1.22754100e+00,\n",
       "        -1.05003079e+00],\n",
       "       [-7.79513300e-01,  1.03205722e+00, -1.28440670e+00,\n",
       "        -1.31297673e+00],\n",
       "       [-7.79513300e-01,  8.00654259e-01, -1.34127240e+00,\n",
       "        -1.31297673e+00],\n",
       "       [-1.38535265e+00,  3.37848329e-01, -1.22754100e+00,\n",
       "        -1.31297673e+00],\n",
       "       [-1.26418478e+00,  1.06445364e-01, -1.22754100e+00,\n",
       "        -1.31297673e+00],\n",
       "       [-5.37177559e-01,  8.00654259e-01, -1.28440670e+00,\n",
       "        -1.05003079e+00],\n",
       "       [-7.79513300e-01,  2.42047502e+00, -1.28440670e+00,\n",
       "        -1.44444970e+00],\n",
       "       [-4.16009689e-01,  2.65187798e+00, -1.34127240e+00,\n",
       "        -1.31297673e+00],\n",
       "       [-1.14301691e+00,  1.06445364e-01, -1.28440670e+00,\n",
       "        -1.44444970e+00],\n",
       "       [-1.02184904e+00,  3.37848329e-01, -1.45500381e+00,\n",
       "        -1.31297673e+00],\n",
       "       [-4.16009689e-01,  1.03205722e+00, -1.39813811e+00,\n",
       "        -1.31297673e+00],\n",
       "       [-1.14301691e+00,  1.06445364e-01, -1.28440670e+00,\n",
       "        -1.44444970e+00],\n",
       "       [-1.74885626e+00, -1.24957601e-01, -1.39813811e+00,\n",
       "        -1.31297673e+00],\n",
       "       [-9.00681170e-01,  8.00654259e-01, -1.28440670e+00,\n",
       "        -1.31297673e+00],\n",
       "       [-1.02184904e+00,  1.03205722e+00, -1.39813811e+00,\n",
       "        -1.18150376e+00],\n",
       "       [-1.62768839e+00, -1.74477836e+00, -1.39813811e+00,\n",
       "        -1.18150376e+00],\n",
       "       [-1.74885626e+00,  3.37848329e-01, -1.39813811e+00,\n",
       "        -1.31297673e+00],\n",
       "       [-1.02184904e+00,  1.03205722e+00, -1.22754100e+00,\n",
       "        -7.87084847e-01],\n",
       "       [-9.00681170e-01,  1.72626612e+00, -1.05694388e+00,\n",
       "        -1.05003079e+00],\n",
       "       [-1.26418478e+00, -1.24957601e-01, -1.34127240e+00,\n",
       "        -1.18150376e+00],\n",
       "       [-9.00681170e-01,  1.72626612e+00, -1.22754100e+00,\n",
       "        -1.31297673e+00],\n",
       "       [-1.50652052e+00,  3.37848329e-01, -1.34127240e+00,\n",
       "        -1.31297673e+00],\n",
       "       [-6.58345429e-01,  1.49486315e+00, -1.28440670e+00,\n",
       "        -1.31297673e+00],\n",
       "       [-1.02184904e+00,  5.69251294e-01, -1.34127240e+00,\n",
       "        -1.31297673e+00],\n",
       "       [ 1.40150837e+00,  3.37848329e-01,  5.35295827e-01,\n",
       "         2.64698913e-01],\n",
       "       [ 6.74501145e-01,  3.37848329e-01,  4.21564419e-01,\n",
       "         3.96171883e-01],\n",
       "       [ 1.28034050e+00,  1.06445364e-01,  6.49027235e-01,\n",
       "         3.96171883e-01],\n",
       "       [-4.16009689e-01, -1.74477836e+00,  1.37235899e-01,\n",
       "         1.33225943e-01],\n",
       "       [ 7.95669016e-01, -5.87763531e-01,  4.78430123e-01,\n",
       "         3.96171883e-01],\n",
       "       [-1.73673948e-01, -5.87763531e-01,  4.21564419e-01,\n",
       "         1.33225943e-01],\n",
       "       [ 5.53333275e-01,  5.69251294e-01,  5.35295827e-01,\n",
       "         5.27644853e-01],\n",
       "       [-1.14301691e+00, -1.51337539e+00, -2.60824029e-01,\n",
       "        -2.61192967e-01],\n",
       "       [ 9.16836886e-01, -3.56360566e-01,  4.78430123e-01,\n",
       "         1.33225943e-01],\n",
       "       [-7.79513300e-01, -8.19166497e-01,  8.03701950e-02,\n",
       "         2.64698913e-01],\n",
       "       [-1.02184904e+00, -2.43898725e+00, -1.47092621e-01,\n",
       "        -2.61192967e-01],\n",
       "       [ 6.86617933e-02, -1.24957601e-01,  2.50967307e-01,\n",
       "         3.96171883e-01],\n",
       "       [ 1.89829664e-01, -1.97618132e+00,  1.37235899e-01,\n",
       "        -2.61192967e-01],\n",
       "       [ 3.10997534e-01, -3.56360566e-01,  5.35295827e-01,\n",
       "         2.64698913e-01],\n",
       "       [-2.94841818e-01, -3.56360566e-01, -9.02269170e-02,\n",
       "         1.33225943e-01],\n",
       "       [ 1.03800476e+00,  1.06445364e-01,  3.64698715e-01,\n",
       "         2.64698913e-01],\n",
       "       [-2.94841818e-01, -1.24957601e-01,  4.21564419e-01,\n",
       "         3.96171883e-01],\n",
       "       [-5.25060772e-02, -8.19166497e-01,  1.94101603e-01,\n",
       "        -2.61192967e-01],\n",
       "       [ 4.32165405e-01, -1.97618132e+00,  4.21564419e-01,\n",
       "         3.96171883e-01],\n",
       "       [-2.94841818e-01, -1.28197243e+00,  8.03701950e-02,\n",
       "        -1.29719997e-01],\n",
       "       [ 6.86617933e-02,  3.37848329e-01,  5.92161531e-01,\n",
       "         7.90590793e-01],\n",
       "       [ 3.10997534e-01, -5.87763531e-01,  1.37235899e-01,\n",
       "         1.33225943e-01],\n",
       "       [ 5.53333275e-01, -1.28197243e+00,  6.49027235e-01,\n",
       "         3.96171883e-01],\n",
       "       [ 3.10997534e-01, -5.87763531e-01,  5.35295827e-01,\n",
       "         1.75297293e-03],\n",
       "       [ 6.74501145e-01, -3.56360566e-01,  3.07833011e-01,\n",
       "         1.33225943e-01],\n",
       "       [ 9.16836886e-01, -1.24957601e-01,  3.64698715e-01,\n",
       "         2.64698913e-01],\n",
       "       [ 1.15917263e+00, -5.87763531e-01,  5.92161531e-01,\n",
       "         2.64698913e-01],\n",
       "       [ 1.03800476e+00, -1.24957601e-01,  7.05892939e-01,\n",
       "         6.59117823e-01],\n",
       "       [ 1.89829664e-01, -3.56360566e-01,  4.21564419e-01,\n",
       "         3.96171883e-01],\n",
       "       [-1.73673948e-01, -1.05056946e+00, -1.47092621e-01,\n",
       "        -2.61192967e-01],\n",
       "       [-4.16009689e-01, -1.51337539e+00,  2.35044910e-02,\n",
       "        -1.29719997e-01],\n",
       "       [-4.16009689e-01, -1.51337539e+00, -3.33612130e-02,\n",
       "        -2.61192967e-01],\n",
       "       [-5.25060772e-02, -8.19166497e-01,  8.03701950e-02,\n",
       "         1.75297293e-03],\n",
       "       [ 1.89829664e-01, -8.19166497e-01,  7.62758643e-01,\n",
       "         5.27644853e-01],\n",
       "       [-5.37177559e-01, -1.24957601e-01,  4.21564419e-01,\n",
       "         3.96171883e-01],\n",
       "       [ 1.89829664e-01,  8.00654259e-01,  4.21564419e-01,\n",
       "         5.27644853e-01],\n",
       "       [ 1.03800476e+00,  1.06445364e-01,  5.35295827e-01,\n",
       "         3.96171883e-01],\n",
       "       [ 5.53333275e-01, -1.74477836e+00,  3.64698715e-01,\n",
       "         1.33225943e-01],\n",
       "       [-2.94841818e-01, -1.24957601e-01,  1.94101603e-01,\n",
       "         1.33225943e-01],\n",
       "       [-4.16009689e-01, -1.28197243e+00,  1.37235899e-01,\n",
       "         1.33225943e-01],\n",
       "       [-4.16009689e-01, -1.05056946e+00,  3.64698715e-01,\n",
       "         1.75297293e-03],\n",
       "       [ 3.10997534e-01, -1.24957601e-01,  4.78430123e-01,\n",
       "         2.64698913e-01],\n",
       "       [-5.25060772e-02, -1.05056946e+00,  1.37235899e-01,\n",
       "         1.75297293e-03],\n",
       "       [-1.02184904e+00, -1.74477836e+00, -2.60824029e-01,\n",
       "        -2.61192967e-01],\n",
       "       [-2.94841818e-01, -8.19166497e-01,  2.50967307e-01,\n",
       "         1.33225943e-01],\n",
       "       [-1.73673948e-01, -1.24957601e-01,  2.50967307e-01,\n",
       "         1.75297293e-03],\n",
       "       [-1.73673948e-01, -3.56360566e-01,  2.50967307e-01,\n",
       "         1.33225943e-01],\n",
       "       [ 4.32165405e-01, -3.56360566e-01,  3.07833011e-01,\n",
       "         1.33225943e-01],\n",
       "       [-9.00681170e-01, -1.28197243e+00, -4.31421141e-01,\n",
       "        -1.29719997e-01],\n",
       "       [-1.73673948e-01, -5.87763531e-01,  1.94101603e-01,\n",
       "         1.33225943e-01],\n",
       "       [ 5.53333275e-01,  5.69251294e-01,  1.27454998e+00,\n",
       "         1.71090158e+00],\n",
       "       [-5.25060772e-02, -8.19166497e-01,  7.62758643e-01,\n",
       "         9.22063763e-01],\n",
       "       [ 1.52267624e+00, -1.24957601e-01,  1.21768427e+00,\n",
       "         1.18500970e+00],\n",
       "       [ 5.53333275e-01, -3.56360566e-01,  1.04708716e+00,\n",
       "         7.90590793e-01],\n",
       "       [ 7.95669016e-01, -1.24957601e-01,  1.16081857e+00,\n",
       "         1.31648267e+00],\n",
       "       [ 2.12851559e+00, -1.24957601e-01,  1.61574420e+00,\n",
       "         1.18500970e+00],\n",
       "       [-1.14301691e+00, -1.28197243e+00,  4.21564419e-01,\n",
       "         6.59117823e-01],\n",
       "       [ 1.76501198e+00, -3.56360566e-01,  1.44514709e+00,\n",
       "         7.90590793e-01],\n",
       "       [ 1.03800476e+00, -1.28197243e+00,  1.16081857e+00,\n",
       "         7.90590793e-01],\n",
       "       [ 1.64384411e+00,  1.26346019e+00,  1.33141568e+00,\n",
       "         1.71090158e+00],\n",
       "       [ 7.95669016e-01,  3.37848329e-01,  7.62758643e-01,\n",
       "         1.05353673e+00],\n",
       "       [ 6.74501145e-01, -8.19166497e-01,  8.76490051e-01,\n",
       "         9.22063763e-01],\n",
       "       [ 1.15917263e+00, -1.24957601e-01,  9.90221459e-01,\n",
       "         1.18500970e+00],\n",
       "       [-1.73673948e-01, -1.28197243e+00,  7.05892939e-01,\n",
       "         1.05353673e+00],\n",
       "       [-5.25060772e-02, -5.87763531e-01,  7.62758643e-01,\n",
       "         1.57942861e+00],\n",
       "       [ 6.74501145e-01,  3.37848329e-01,  8.76490051e-01,\n",
       "         1.44795564e+00],\n",
       "       [ 7.95669016e-01, -1.24957601e-01,  9.90221459e-01,\n",
       "         7.90590793e-01],\n",
       "       [ 2.24968346e+00,  1.72626612e+00,  1.67260991e+00,\n",
       "         1.31648267e+00],\n",
       "       [ 2.24968346e+00, -1.05056946e+00,  1.78634131e+00,\n",
       "         1.44795564e+00],\n",
       "       [ 1.89829664e-01, -1.97618132e+00,  7.05892939e-01,\n",
       "         3.96171883e-01],\n",
       "       [ 1.28034050e+00,  3.37848329e-01,  1.10395287e+00,\n",
       "         1.44795564e+00],\n",
       "       [-2.94841818e-01, -5.87763531e-01,  6.49027235e-01,\n",
       "         1.05353673e+00],\n",
       "       [ 2.24968346e+00, -5.87763531e-01,  1.67260991e+00,\n",
       "         1.05353673e+00],\n",
       "       [ 5.53333275e-01, -8.19166497e-01,  6.49027235e-01,\n",
       "         7.90590793e-01],\n",
       "       [ 1.03800476e+00,  5.69251294e-01,  1.10395287e+00,\n",
       "         1.18500970e+00],\n",
       "       [ 1.64384411e+00,  3.37848329e-01,  1.27454998e+00,\n",
       "         7.90590793e-01],\n",
       "       [ 4.32165405e-01, -5.87763531e-01,  5.92161531e-01,\n",
       "         7.90590793e-01],\n",
       "       [ 3.10997534e-01, -1.24957601e-01,  6.49027235e-01,\n",
       "         7.90590793e-01],\n",
       "       [ 6.74501145e-01, -5.87763531e-01,  1.04708716e+00,\n",
       "         1.18500970e+00],\n",
       "       [ 1.64384411e+00, -1.24957601e-01,  1.16081857e+00,\n",
       "         5.27644853e-01],\n",
       "       [ 1.88617985e+00, -5.87763531e-01,  1.33141568e+00,\n",
       "         9.22063763e-01],\n",
       "       [ 2.49201920e+00,  1.72626612e+00,  1.50201279e+00,\n",
       "         1.05353673e+00],\n",
       "       [ 6.74501145e-01, -5.87763531e-01,  1.04708716e+00,\n",
       "         1.31648267e+00],\n",
       "       [ 5.53333275e-01, -5.87763531e-01,  7.62758643e-01,\n",
       "         3.96171883e-01],\n",
       "       [ 3.10997534e-01, -1.05056946e+00,  1.04708716e+00,\n",
       "         2.64698913e-01],\n",
       "       [ 2.24968346e+00, -1.24957601e-01,  1.33141568e+00,\n",
       "         1.44795564e+00],\n",
       "       [ 5.53333275e-01,  8.00654259e-01,  1.04708716e+00,\n",
       "         1.57942861e+00],\n",
       "       [ 6.74501145e-01,  1.06445364e-01,  9.90221459e-01,\n",
       "         7.90590793e-01],\n",
       "       [ 1.89829664e-01, -1.24957601e-01,  5.92161531e-01,\n",
       "         7.90590793e-01],\n",
       "       [ 1.28034050e+00,  1.06445364e-01,  9.33355755e-01,\n",
       "         1.18500970e+00],\n",
       "       [ 1.03800476e+00,  1.06445364e-01,  1.04708716e+00,\n",
       "         1.57942861e+00],\n",
       "       [ 1.28034050e+00,  1.06445364e-01,  7.62758643e-01,\n",
       "         1.44795564e+00],\n",
       "       [-5.25060772e-02, -8.19166497e-01,  7.62758643e-01,\n",
       "         9.22063763e-01],\n",
       "       [ 1.15917263e+00,  3.37848329e-01,  1.21768427e+00,\n",
       "         1.44795564e+00],\n",
       "       [ 1.03800476e+00,  5.69251294e-01,  1.10395287e+00,\n",
       "         1.71090158e+00],\n",
       "       [ 1.03800476e+00, -1.24957601e-01,  8.19624347e-01,\n",
       "         1.44795564e+00],\n",
       "       [ 5.53333275e-01, -1.28197243e+00,  7.05892939e-01,\n",
       "         9.22063763e-01],\n",
       "       [ 7.95669016e-01, -1.24957601e-01,  8.19624347e-01,\n",
       "         1.05353673e+00],\n",
       "       [ 4.32165405e-01,  8.00654259e-01,  9.33355755e-01,\n",
       "         1.44795564e+00],\n",
       "       [ 6.86617933e-02, -1.24957601e-01,  7.62758643e-01,\n",
       "         7.90590793e-01]])"
      ]
     },
     "execution_count": 12,
     "metadata": {},
     "output_type": "execute_result"
    }
   ],
   "source": [
    "X_scaled"
   ]
  },
  {
   "cell_type": "markdown",
   "metadata": {},
   "source": [
    "### Label encoding\n",
    "Using the `sklearn.preprocessing.LabelEncoder` class to encode the categorical labels as integers 0, 1 and 2."
   ]
  },
  {
   "cell_type": "code",
   "execution_count": 13,
   "metadata": {},
   "outputs": [
    {
     "name": "stdout",
     "output_type": "stream",
     "text": [
      "(150,)\n"
     ]
    },
    {
     "data": {
      "text/plain": [
       "array([0, 0, 0, 0, 0, 0, 0, 0, 0, 0, 0, 0, 0, 0, 0, 0, 0, 0, 0, 0, 0, 0,\n",
       "       0, 0, 0, 0, 0, 0, 0, 0, 0, 0, 0, 0, 0, 0, 0, 0, 0, 0, 0, 0, 0, 0,\n",
       "       0, 0, 0, 0, 0, 0, 1, 1, 1, 1, 1, 1, 1, 1, 1, 1, 1, 1, 1, 1, 1, 1,\n",
       "       1, 1, 1, 1, 1, 1, 1, 1, 1, 1, 1, 1, 1, 1, 1, 1, 1, 1, 1, 1, 1, 1,\n",
       "       1, 1, 1, 1, 1, 1, 1, 1, 1, 1, 1, 1, 2, 2, 2, 2, 2, 2, 2, 2, 2, 2,\n",
       "       2, 2, 2, 2, 2, 2, 2, 2, 2, 2, 2, 2, 2, 2, 2, 2, 2, 2, 2, 2, 2, 2,\n",
       "       2, 2, 2, 2, 2, 2, 2, 2, 2, 2, 2, 2, 2, 2, 2, 2, 2, 2])"
      ]
     },
     "execution_count": 13,
     "metadata": {},
     "output_type": "execute_result"
    }
   ],
   "source": [
    "# get the class labels from the dataset (Versicolor, Setosa and Virginica)\n",
    "# https://stackoverflow.com/questions/34165731/a-column-vector-y-was-passed-when-a-1d-array-was-expected\n",
    "y = np.array(iris[['Class']]).ravel()\n",
    "print(y.shape)\n",
    "# set the label encoder\n",
    "le = pre.LabelEncoder()\n",
    "# fit the label encoder\n",
    "le.fit(y)\n",
    "# Fit label encoder and return encoded labels\n",
    "yencoded=le.transform(y)\n",
    "\n",
    "yencoded"
   ]
  },
  {
   "cell_type": "code",
   "execution_count": 14,
   "metadata": {},
   "outputs": [
    {
     "data": {
      "text/plain": [
       "array(['Iris-setosa', 'Iris-setosa', 'Iris-setosa', 'Iris-setosa',\n",
       "       'Iris-setosa', 'Iris-setosa', 'Iris-setosa', 'Iris-setosa',\n",
       "       'Iris-setosa', 'Iris-setosa', 'Iris-setosa', 'Iris-setosa',\n",
       "       'Iris-setosa', 'Iris-setosa', 'Iris-setosa', 'Iris-setosa',\n",
       "       'Iris-setosa', 'Iris-setosa', 'Iris-setosa', 'Iris-setosa',\n",
       "       'Iris-setosa', 'Iris-setosa', 'Iris-setosa', 'Iris-setosa',\n",
       "       'Iris-setosa', 'Iris-setosa', 'Iris-setosa', 'Iris-setosa',\n",
       "       'Iris-setosa', 'Iris-setosa', 'Iris-setosa', 'Iris-setosa',\n",
       "       'Iris-setosa', 'Iris-setosa', 'Iris-setosa', 'Iris-setosa',\n",
       "       'Iris-setosa', 'Iris-setosa', 'Iris-setosa', 'Iris-setosa',\n",
       "       'Iris-setosa', 'Iris-setosa', 'Iris-setosa', 'Iris-setosa',\n",
       "       'Iris-setosa', 'Iris-setosa', 'Iris-setosa', 'Iris-setosa',\n",
       "       'Iris-setosa', 'Iris-setosa', 'Iris-versicolor', 'Iris-versicolor',\n",
       "       'Iris-versicolor', 'Iris-versicolor', 'Iris-versicolor',\n",
       "       'Iris-versicolor', 'Iris-versicolor', 'Iris-versicolor',\n",
       "       'Iris-versicolor', 'Iris-versicolor', 'Iris-versicolor',\n",
       "       'Iris-versicolor', 'Iris-versicolor', 'Iris-versicolor',\n",
       "       'Iris-versicolor', 'Iris-versicolor', 'Iris-versicolor',\n",
       "       'Iris-versicolor', 'Iris-versicolor', 'Iris-versicolor',\n",
       "       'Iris-versicolor', 'Iris-versicolor', 'Iris-versicolor',\n",
       "       'Iris-versicolor', 'Iris-versicolor', 'Iris-versicolor',\n",
       "       'Iris-versicolor', 'Iris-versicolor', 'Iris-versicolor',\n",
       "       'Iris-versicolor', 'Iris-versicolor', 'Iris-versicolor',\n",
       "       'Iris-versicolor', 'Iris-versicolor', 'Iris-versicolor',\n",
       "       'Iris-versicolor', 'Iris-versicolor', 'Iris-versicolor',\n",
       "       'Iris-versicolor', 'Iris-versicolor', 'Iris-versicolor',\n",
       "       'Iris-versicolor', 'Iris-versicolor', 'Iris-versicolor',\n",
       "       'Iris-versicolor', 'Iris-versicolor', 'Iris-versicolor',\n",
       "       'Iris-versicolor', 'Iris-versicolor', 'Iris-versicolor',\n",
       "       'Iris-virginica', 'Iris-virginica', 'Iris-virginica',\n",
       "       'Iris-virginica', 'Iris-virginica', 'Iris-virginica',\n",
       "       'Iris-virginica', 'Iris-virginica', 'Iris-virginica',\n",
       "       'Iris-virginica', 'Iris-virginica', 'Iris-virginica',\n",
       "       'Iris-virginica', 'Iris-virginica', 'Iris-virginica',\n",
       "       'Iris-virginica', 'Iris-virginica', 'Iris-virginica',\n",
       "       'Iris-virginica', 'Iris-virginica', 'Iris-virginica',\n",
       "       'Iris-virginica', 'Iris-virginica', 'Iris-virginica',\n",
       "       'Iris-virginica', 'Iris-virginica', 'Iris-virginica',\n",
       "       'Iris-virginica', 'Iris-virginica', 'Iris-virginica',\n",
       "       'Iris-virginica', 'Iris-virginica', 'Iris-virginica',\n",
       "       'Iris-virginica', 'Iris-virginica', 'Iris-virginica',\n",
       "       'Iris-virginica', 'Iris-virginica', 'Iris-virginica',\n",
       "       'Iris-virginica', 'Iris-virginica', 'Iris-virginica',\n",
       "       'Iris-virginica', 'Iris-virginica', 'Iris-virginica',\n",
       "       'Iris-virginica', 'Iris-virginica', 'Iris-virginica',\n",
       "       'Iris-virginica', 'Iris-virginica'], dtype=object)"
      ]
     },
     "execution_count": 14,
     "metadata": {},
     "output_type": "execute_result"
    }
   ],
   "source": [
    "#Transform labels back to original encoding.\n",
    "le.inverse_transform(yencoded)"
   ]
  },
  {
   "cell_type": "markdown",
   "metadata": {},
   "source": [
    "### What is the correct number of clusters?\n",
    "\n",
    "https://www.analyticsvidhya.com/blog/2019/08/comprehensive-guide-k-means-clustering/\n",
    "https://www.kaggle.com/tonzowonzo/simple-k-means-clustering-on-the-iris-dataset\n",
    "https://realpython.com/k-means-clustering-python/\n",
    "\n",
    "There are two complementary methods that can be used to evaluate the appropriate number of clusters to use, the elbow method and the sihouette coefficient. To do the elbow method you run the k-means algorithm several times, incrementing the number of clusters `k` with each iteration. The SSE is recorded for each iteration.\n",
    "\n",
    "The elbow curve above can help decide what is the appropriate number of clusters to use. The x-axis represents the number of clusters and the y-axis is an evaluation metric such as inertia. (usually the Within sum of squares) The model is trained using  clusters first, the inertia (within sum of squares) is calculated for that model and then plotted. Next the number of clusters is increased by 1, the model is trained again and the inertia value plotted.\n",
    "There is a clear drop in inertia when the number of clusters goes from 1 to 2. There is a  not so sharp decrease in inertia as we go from 2 to 3 and a small decrease from 3 to 4 clusters and a very small decrease from 4 to 5 clusters. After 5 clusters the decrease in inertia becomes constant. Where the inertia value becomes constant can be chosen as the correct number of clusters for the data. This is because the inertia or \n",
    "\n",
    "The computation cost must also be considered though. Increasing the number of clusters increases the computing cost.\n",
    "\n",
    "Here we can set some of the parameters. \n",
    "-`n_init` is the number of time the k-means algorithm will be run with different centroid seeds. The final results will be the best output of `n_init` consecutive runs in terms of inertia. The default is 10.\n",
    "- `max_iter` is the maximum number of iterations of the k-means algorithm for a single run. The default is 300\n"
   ]
  },
  {
   "cell_type": "markdown",
   "metadata": {},
   "source": [
    "##### The elbow method"
   ]
  },
  {
   "cell_type": "code",
   "execution_count": 15,
   "metadata": {},
   "outputs": [
    {
     "data": {
      "image/png": "[encoded data removed]",
      "text/plain": [
       "<Figure size 864x432 with 1 Axes>"
      ]
     },
     "metadata": {
      "needs_background": "light"
     },
     "output_type": "display_data"
    }
   ],
   "source": [
    "# fitting multiple k-means algorithms and storing the values in an empty list\n",
    "Inertia = []\n",
    "nclust = 8\n",
    "for cluster in range(1,nclust):\n",
    "    kmeans = skcl.KMeans(n_clusters = cluster, init='k-means++', random_state = 0)\n",
    "    kmeans.fit(X_scaled)\n",
    "    Inertia.append(kmeans.inertia_)\n",
    "    \n",
    "# converting the results into a dataframe and plotting them\n",
    "res = pd.DataFrame({'Cluster':range(1,nclust), 'Inertia':Inertia})\n",
    "plt.figure(figsize=(12,6))\n",
    "plt.plot(res['Cluster'], res['Inertia'], marker='o')\n",
    "plt.title(\"Selecting the optimum number of clusters to use\")\n",
    "plt.xlabel= ('Number of clusters')\n",
    "plt.ylabel=('Inertia')\n",
    "plt.show()"
   ]
  },
  {
   "cell_type": "code",
   "execution_count": null,
   "metadata": {},
   "outputs": [],
   "source": []
  },
  {
   "cell_type": "code",
   "execution_count": null,
   "metadata": {
    "scrolled": true
   },
   "outputs": [],
   "source": []
  },
  {
   "cell_type": "markdown",
   "metadata": {},
   "source": [
    "#### The Silhouette coefficient:\n",
    "https://scikit-learn.org/stable/auto_examples/cluster/plot_kmeans_silhouette_analysis.html#sphx-glr-auto-examples-cluster-plot-kmeans-silhouette-analysis-py\n",
    "\n",
    ">Silhouette analysis can be used to study the separation distance between the resulting clusters. The silhouette plot displays a measure of how close each point in one cluster is to points in the neighboring clusters and thus provides a way to assess parameters like number of clusters visually. This measure has a range of `[-1, 1]`.\n",
    "\n",
    "Larger values indicate that the samples are closer to their cluster than to the other clusters.\n",
    "\n",
    "- https://realpython.com/k-means-clustering-python/\n",
    "The silhouette coefficient is a measure of cluster cohesion and separation which quantifies how well a data point fits into its assigned cluster based on how close the data point is to other points in the same cluster, and how far away the data point is from points in the other clusters. \n",
    "\n",
    "https://scikit-learn.org/stable/modules/generated/sklearn.metrics.silhouette_score.html\n",
    "The average silhouette coefficient is summarised into one score.\n",
    "\n",
    "https://rukshanpramoditha.medium.com/k-means-clustering-with-scikit-learn-e2af706450e4\n",
    "\n",
    "I did the elbow curve and the silhouette score on the standardised dataset. They both gave different results. The elbow curve implies that the appropriate number of clusters is 3 while the sihouette scores suggests only two. \n",
    "\n",
    "From the various blog posts there is another library which can be used to plot the silhoutte diagram. This is the yellowbrick.cluster library.\n",
    "\n",
    "https://scikit-learn.org/stable/auto_examples/cluster/plot_kmeans_silhouette_analysis.html#sphx-glr-auto-examples-cluster-plot-kmeans-silhouette-analysis-py does a demo using simulated data using silhouette_samples and silhouette_score imported from sklearn.metrics.\n",
    "I might come back to this. Not sure if it is relevant for this task and I must keep  focused!"
   ]
  },
  {
   "cell_type": "code",
   "execution_count": 16,
   "metadata": {},
   "outputs": [
    {
     "name": "stdout",
     "output_type": "stream",
     "text": [
      "Silhouette score for 2 clusters is 0.580184463257396\n",
      "Silhouette score for 3 clusters is 0.4589717867018717\n",
      "Silhouette score for 4 clusters is 0.3887799827106933\n",
      "Silhouette score for 5 clusters is 0.3497022541354177\n",
      "Silhouette score for 6 clusters is 0.32800245312290494\n",
      "Silhouette score for 7 clusters is 0.3250897228040125\n"
     ]
    },
    {
     "data": {
      "image/png": "[encoded data removed]",
      "text/plain": [
       "<Figure size 864x432 with 1 Axes>"
      ]
     },
     "metadata": {
      "needs_background": "light"
     },
     "output_type": "display_data"
    }
   ],
   "source": [
    "# fitting multiple k-means algorithms and storing the values in an empty list\n",
    "from sklearn.metrics import silhouette_score\n",
    "silhouette_coefficients = []\n",
    "nclust = 8\n",
    "for cluster in range(2,nclust):\n",
    "    Skmeans = skcl.KMeans(n_clusters = cluster, init='k-means++', random_state = 0)\n",
    "    Skmeans.fit(X_scaled)\n",
    "    score = silhouette_score(X_scaled, Skmeans.labels_)\n",
    "    print(f\"Silhouette score for {cluster} clusters is {score}\")\n",
    "    silhouette_coefficients.append(score)\n",
    "\n",
    "# converting the results into a dataframe and plotting them\n",
    "res = pd.DataFrame({'Cluster':range(2,nclust), 'Silhouette':silhouette_coefficients})\n",
    "plt.figure(figsize=(12,6))\n",
    "plt.plot(res['Cluster'], res['Silhouette'], marker='o')\n",
    "plt.title(\"Sihouette Score to chose number of Clusters\")\n",
    "plt.xlabel= ('Number of clusters k')\n",
    "plt.ylabel=('Silhouette Score')\n",
    "plt.show()"
   ]
  },
  {
   "cell_type": "markdown",
   "metadata": {},
   "source": [
    "### Performing Kmeans clustering on the data\n",
    "We can set some parameters for the kmeans algorithm in the `KMeans` estimator class of scikit-learn. They are all outlined in the [sklearn Kmeans](https://scikit-learn.org/stable/modules/generated/sklearn.cluster.KMeans.html#sklearn.cluster.KMeans.score) documents but here are a few.\n",
    "- the number of clusters using `n_clusters` which defaults to 8\n",
    "\n",
    "- `init` is the initialisation method. If it is set to `random` it will choose `n_clusters` observations (rows) at random from data for the initial centroids. Setting to `k-means++’` selects initial cluster centers for k-mean clustering in a smart way to speed up convergence.\n",
    "\n",
    "\n",
    "- `n_init` sets the number of initializations to perform, the number of times the k-means algorithm will run with different centroid seeds. The default is to perform 10 kmeans runs. The final results will be the best output of `n_init` consecutive runs in terms of inertia. \n",
    "\n",
    "- `max_iter` sets the number of maximum iterations for each initialization of the k-means algorithm. The default is 300 iterations of k-means for a single run.\n",
    "\n",
    "The KMeans class is instantiated and then it is fit to the scaled data. Here I initialised using `k-means++` instead of random. Earlier I let it default to random."
   ]
  },
  {
   "cell_type": "code",
   "execution_count": 17,
   "metadata": {},
   "outputs": [],
   "source": [
    "# Perform kmeans fitting - this instantiates the KMeans class with these arguments.\n",
    "kmeans = skcl.KMeans(n_clusters=3, random_state=0, init='k-means++').fit(X_scaled)"
   ]
  },
  {
   "cell_type": "markdown",
   "metadata": {},
   "source": [
    "After calling `.fit()` method we can get the statistics from the initialization run with the lowest SSE  as attributes of kmeans.\n"
   ]
  },
  {
   "cell_type": "markdown",
   "metadata": {},
   "source": [
    "#### Inertia or lowest SSE value"
   ]
  },
  {
   "cell_type": "code",
   "execution_count": 18,
   "metadata": {},
   "outputs": [
    {
     "data": {
      "text/plain": [
       "140.96581663074699"
      ]
     },
     "execution_count": 18,
     "metadata": {},
     "output_type": "execute_result"
    }
   ],
   "source": [
    "kmeans.inertia_"
   ]
  },
  {
   "cell_type": "markdown",
   "metadata": {},
   "source": [
    "#### The cluster centres\n",
    "The cluster centres can be found using the `cluster_centers_` attribute to get the coordinates of the cluster centers. It returns an array with the shape depending on the number of clusters used and the number of features.\n",
    "In this case we have 3 clusters and 4 features. \n",
    "For example the first sub-array represents the coordinates of the cluster centres for cluster 1.\n",
    "The final locations of the centroids are returned."
   ]
  },
  {
   "cell_type": "code",
   "execution_count": 19,
   "metadata": {},
   "outputs": [
    {
     "data": {
      "text/plain": [
       "array([[ 1.13597027,  0.09659843,  0.996271  ,  1.01717187],\n",
       "       [-1.01457897,  0.84230679, -1.30487835, -1.25512862],\n",
       "       [-0.05021989, -0.88029181,  0.34753171,  0.28206327]])"
      ]
     },
     "execution_count": 19,
     "metadata": {},
     "output_type": "execute_result"
    }
   ],
   "source": [
    "# \n",
    "centres = kmeans.cluster_centers_\n",
    "centres"
   ]
  },
  {
   "cell_type": "markdown",
   "metadata": {},
   "source": [
    "#### The number of iterations to converge:"
   ]
  },
  {
   "cell_type": "code",
   "execution_count": 20,
   "metadata": {},
   "outputs": [
    {
     "data": {
      "text/plain": [
       "5"
      ]
     },
     "execution_count": 20,
     "metadata": {},
     "output_type": "execute_result"
    }
   ],
   "source": [
    "kmeans.n_iter_"
   ]
  },
  {
   "cell_type": "markdown",
   "metadata": {},
   "source": [
    "### The labels\n",
    "The `fit` method computes the k-means clustering and returns the fitted estimator. \n",
    "\n",
    "The k-means clustering algorithm assigns each observation to a cluster. The labels attribute can be accessed using `labels_` on the kmeans object. \n",
    "\n",
    "For the Iris dataset we already know that there are 3 classes or species of Iris: the Iris-setosa, the Iris-versicolor and the Iris-virginica. The first 50 observations in the dataset are classified as the Iris-setosa, the next 50 observations are classified as Iris-versicolor and the final 50 are classified as Iris-virginica.\n",
    "These were encoded earlier as labels 0, 1 and 2 respectively. The actual Iris Class / Species labels were not given to the k-means algorithm. \n",
    "The order of the labels assigned to the clusters might not match the actual labels (the encoded labels given earlier). For example the first bunch of labels assigned below are 1 even though the first groups of rows in the dataset were assigned 0 as the label when encoded from Iris-setosa to a number. This is ok as the ordering of the cluster labels depends on the initialisation and the label for the cluster could change between runs. \n",
    "\n"
   ]
  },
  {
   "cell_type": "code",
   "execution_count": 21,
   "metadata": {},
   "outputs": [
    {
     "data": {
      "text/plain": [
       "array([1, 1, 1, 1, 1, 1, 1, 1, 1, 1, 1, 1, 1, 1, 1, 1, 1, 1, 1, 1, 1, 1,\n",
       "       1, 1, 1, 1, 1, 1, 1, 1, 1, 1, 1, 1, 1, 1, 1, 1, 1, 1, 1, 1, 1, 1,\n",
       "       1, 1, 1, 1, 1, 1, 0, 0, 0, 2, 2, 2, 0, 2, 2, 2, 2, 2, 2, 2, 2, 0,\n",
       "       2, 2, 2, 2, 0, 2, 2, 2, 2, 0, 0, 0, 2, 2, 2, 2, 2, 2, 2, 0, 0, 2,\n",
       "       2, 2, 2, 2, 2, 2, 2, 2, 2, 2, 2, 2, 0, 2, 0, 0, 0, 0, 2, 0, 0, 0,\n",
       "       0, 0, 0, 2, 2, 0, 0, 0, 0, 2, 0, 2, 0, 2, 0, 0, 2, 0, 0, 0, 0, 0,\n",
       "       0, 2, 2, 0, 0, 0, 2, 0, 0, 0, 2, 0, 0, 0, 2, 0, 0, 2], dtype=int32)"
      ]
     },
     "execution_count": 21,
     "metadata": {},
     "output_type": "execute_result"
    }
   ],
   "source": [
    "kmeans.labels_"
   ]
  },
  {
   "cell_type": "code",
   "execution_count": 22,
   "metadata": {},
   "outputs": [
    {
     "data": {
      "text/plain": [
       "array(['Sepal_Length', 'Sepal_Width', 'Petal_Length', 'Petal_Width',\n",
       "       'Class'], dtype=object)"
      ]
     },
     "execution_count": 22,
     "metadata": {},
     "output_type": "execute_result"
    }
   ],
   "source": [
    "# as a reminder of the columns of the dataset\n",
    "iris.columns.values"
   ]
  },
  {
   "cell_type": "markdown",
   "metadata": {},
   "source": [
    "Here I am assigning the predicted labels to each observation in the (scaled) dataset. This will assign one of the 3 labels 0, 1 or 2 to each observation.\n",
    "The predicted labels can then be used to subset the dataset to pull out the rows of measurement values or subsetted further to pull out a single measurement variable such as Sepal_Length or Sepal_Width.\n"
   ]
  },
  {
   "cell_type": "markdown",
   "metadata": {},
   "source": [
    "#### The Predicted Class Labels\n",
    "\n",
    "The `predict` method can then be called on the results of `fit` to compute cluster centers and predict cluster index for each sample. It is used to predict the closest cluster each observation belongs to.\n",
    "It returns an ndarray of labels containing the index of the cluster each sample belongs to.\n",
    "The result of calling `predict` on the input data is the predicted labels for the classes each observation might belong to. \n"
   ]
  },
  {
   "cell_type": "code",
   "execution_count": 23,
   "metadata": {},
   "outputs": [],
   "source": [
    "# get the predicted labels for each sample point and store in y_labels\n",
    "y_labels = kmeans.fit_predict(X_scaled)\n"
   ]
  },
  {
   "cell_type": "code",
   "execution_count": 24,
   "metadata": {},
   "outputs": [
    {
     "data": {
      "text/plain": [
       "array([1, 1, 1, 1, 1, 1, 1, 1, 1, 1, 1, 1, 1, 1, 1, 1, 1, 1, 1, 1, 1, 1,\n",
       "       1, 1, 1, 1, 1, 1, 1, 1, 1, 1, 1, 1, 1, 1, 1, 1, 1, 1, 1, 1, 1, 1,\n",
       "       1, 1, 1, 1, 1, 1, 0, 0, 0, 2, 2, 2, 0, 2, 2, 2, 2, 2, 2, 2, 2, 0,\n",
       "       2, 2, 2, 2, 0, 2, 2, 2, 2, 0, 0, 0, 2, 2, 2, 2, 2, 2, 2, 0, 0, 2,\n",
       "       2, 2, 2, 2, 2, 2, 2, 2, 2, 2, 2, 2, 0, 2, 0, 0, 0, 0, 2, 0, 0, 0,\n",
       "       0, 0, 0, 2, 2, 0, 0, 0, 0, 2, 0, 2, 0, 2, 0, 0, 2, 0, 0, 0, 0, 0,\n",
       "       0, 2, 2, 0, 0, 0, 2, 0, 0, 0, 2, 0, 0, 0, 2, 0, 0, 2], dtype=int32)"
      ]
     },
     "execution_count": 24,
     "metadata": {},
     "output_type": "execute_result"
    }
   ],
   "source": [
    "# the predicted y labels (species)\n",
    "y_labels"
   ]
  },
  {
   "cell_type": "code",
   "execution_count": 25,
   "metadata": {},
   "outputs": [],
   "source": [
    "#kmeans.labels_ ==y_labels"
   ]
  },
  {
   "cell_type": "code",
   "execution_count": 26,
   "metadata": {},
   "outputs": [
    {
     "data": {
      "text/plain": [
       "array([ 0.33784833,  0.33784833,  0.10644536,  0.56925129,  0.10644536,\n",
       "        0.33784833, -0.1249576 , -0.58776353, -0.1249576 ,  0.80065426,\n",
       "        0.10644536,  0.56925129, -0.1249576 , -0.35636057, -0.1249576 ,\n",
       "       -0.1249576 , -0.35636057, -1.28197243,  1.26346019,  0.33784833,\n",
       "       -0.8191665 , -0.1249576 ,  0.33784833, -0.1249576 ,  1.72626612,\n",
       "       -1.05056946,  0.33784833, -0.58776353,  0.56925129,  0.33784833,\n",
       "       -0.1249576 , -0.58776353, -0.1249576 , -0.58776353,  1.72626612,\n",
       "       -0.58776353, -0.1249576 ,  0.80065426,  0.10644536,  0.10644536,\n",
       "        0.10644536,  0.10644536,  0.33784833,  0.56925129, -0.1249576 ,\n",
       "       -0.1249576 ,  0.80065426])"
      ]
     },
     "execution_count": 26,
     "metadata": {},
     "output_type": "execute_result"
    }
   ],
   "source": [
    "# this gets the datapoints from the dataset that were assigned to each label\n",
    "X_scaled[kmeans.labels_ == 0] # \n",
    "# this will pull out the first column Sepal_Length for observations as label 0\n",
    "X_scaled[kmeans.labels_ == 0][:,0] \n",
    "# Sepal_Width column for predicted label 1\n",
    "X_scaled[kmeans.labels_ == 0][:,1] # this will pull out the observations for the first column Sepal_Width\n"
   ]
  },
  {
   "cell_type": "code",
   "execution_count": 27,
   "metadata": {},
   "outputs": [
    {
     "data": {
      "text/plain": [
       "array([1.40150837, 0.67450115, 1.2803405 , 0.55333328, 1.03800476,\n",
       "       0.06866179, 0.91683689, 1.15917263, 1.03800476, 0.18982966,\n",
       "       1.03800476, 0.55333328, 1.52267624, 0.55333328, 0.79566902,\n",
       "       2.12851559, 1.76501198, 1.03800476, 1.64384411, 0.79566902,\n",
       "       0.67450115, 1.15917263, 0.67450115, 0.79566902, 2.24968346,\n",
       "       2.24968346, 1.2803405 , 2.24968346, 1.03800476, 1.64384411,\n",
       "       0.31099753, 0.67450115, 1.64384411, 1.88617985, 2.4920192 ,\n",
       "       0.67450115, 2.24968346, 0.55333328, 0.67450115, 1.2803405 ,\n",
       "       1.03800476, 1.2803405 , 1.15917263, 1.03800476, 1.03800476,\n",
       "       0.79566902, 0.4321654 ])"
      ]
     },
     "execution_count": 27,
     "metadata": {},
     "output_type": "execute_result"
    }
   ],
   "source": [
    "# pull out the sepal length measurements for the observations predicted as label 0.\n",
    "#X_scaled[kmeans.labels_ == 0][:,0]\n",
    "X_scaled[y_labels == 0, 0]"
   ]
  },
  {
   "cell_type": "markdown",
   "metadata": {},
   "source": [
    "### Visualising the clusters\n",
    "Next I will visualise the clusters that the observations have been assigned to using scatter plot. A scatter plot shows 2 variables plotted against each other. \n",
    "(Sepal_Length', 'Sepal_Width', 'Petal_Length', 'Petal_Width)\n",
    "\n",
    "The 3 cluster centres are shown here. \n",
    "\n",
    "https://scikit-learn.org/stable/auto_examples/cluster/plot_cluster_iris.html#sphx-glr-auto-examples-cluster-plot-cluster-iris-py shows an example of a 3-d plot with petal width, petal length and sepal length plotted together. I might have a look at this later instead of the 4 separate scatter plots below as I can only plot 2 features in 2 dimensions.\n",
    "\n",
    "Note that the cluster labels 0, 1 and 2 may change when the clustering is rerun although the clusters themselves will not. Therefore the colours on the plot might not stay the same.\n",
    "\n",
    "I need to move the cluster plots to be besides the actual plots to see the comparisons better.\n",
    "I've done this now and removed the other plots. The original dataset plotted has the original scales on the axis whereas the clustered data is using the scaled data but the plots remain the same."
   ]
  },
  {
   "cell_type": "code",
   "execution_count": 28,
   "metadata": {},
   "outputs": [
    {
     "data": {
      "text/plain": [
       "array([[ 1.13597027,  0.09659843,  0.996271  ,  1.01717187],\n",
       "       [-1.01457897,  0.84230679, -1.30487835, -1.25512862],\n",
       "       [-0.05021989, -0.88029181,  0.34753171,  0.28206327]])"
      ]
     },
     "execution_count": 28,
     "metadata": {},
     "output_type": "execute_result"
    }
   ],
   "source": [
    "centres = kmeans.cluster_centers_\n",
    "centres"
   ]
  },
  {
   "cell_type": "markdown",
   "metadata": {},
   "source": [
    "[ 1.13597027,  0.09659843,  0.996271  ,  1.01717187]"
   ]
  },
  {
   "cell_type": "code",
   "execution_count": 29,
   "metadata": {},
   "outputs": [
    {
     "data": {
      "text/plain": [
       "array([ 1.13597027, -1.01457897, -0.05021989])"
      ]
     },
     "execution_count": 29,
     "metadata": {},
     "output_type": "execute_result"
    }
   ],
   "source": [
    "kmeans.cluster_centers_[:, 0]\n",
    "#kmeans.cluster_centers_[:,1]"
   ]
  },
  {
   "cell_type": "markdown",
   "metadata": {},
   "source": []
  },
  {
   "cell_type": "code",
   "execution_count": 32,
   "metadata": {},
   "outputs": [],
   "source": [
    "iris_setosa = iris[iris['Class'] == \"Iris-setosa\"] \n",
    "iris_versicolor = iris[iris['Class'] == \"Iris-versicolor\"] \n",
    "iris_virginica = iris[iris['Class'] == \"Iris-virginica\"] "
   ]
  },
  {
   "cell_type": "markdown",
   "metadata": {},
   "source": [
    "Looking at the scatterplot of the points above for the Iris dataset, for most points the Setosa class can be clearly separated from the other two classes by a straight line. The separation between the other two species is not as clear though. The plane can be partitioned into 3 regions depending on which cluster mean is closest)"
   ]
  },
  {
   "cell_type": "code",
   "execution_count": 90,
   "metadata": {},
   "outputs": [
    {
     "data": {
      "image/png": "[encoded data removed]",
      "text/plain": [
       "<Figure size 1008x432 with 2 Axes>"
      ]
     },
     "metadata": {},
     "output_type": "display_data"
    }
   ],
   "source": [
    "\n",
    "\n",
    "# Plot size.\n",
    "plt.rcParams['figure.figsize'] = (14, 6)\n",
    "plt.figure()\n",
    "\n",
    "plt.subplot(121)\n",
    "plt.scatter(iris_setosa['Sepal_Length'], iris_setosa['Sepal_Width'], s = 15, c = 'red', label = 'Setosa')\n",
    "plt.scatter(iris_versicolor['Sepal_Length'], iris_versicolor['Sepal_Width'], s = 15, c = 'blue', label = 'Versicolor')\n",
    "plt.scatter(iris_virginica['Sepal_Length'], iris_virginica['Sepal_Width'], s = 15, c = 'green', label = 'Virginica')\n",
    "\n",
    "plt.gca().axes.get_yaxis().set_visible(False)\n",
    "plt.gca().axes.get_xaxis().set_visible(False)\n",
    "plt.subplot(122)\n",
    "plt.scatter(X_scaled[y_labels == 0, 0], X_scaled[y_labels == 0, 1], s = 15, c = 'red')\n",
    "plt.scatter(X_scaled[y_labels == 1, 0], X_scaled[y_labels == 1, 1], s = 15, c = 'blue')\n",
    "plt.scatter(X_scaled[y_labels == 2, 0], X_scaled[y_labels == 2, 1], s = 15, c = 'green')\n",
    "plt.scatter(kmeans.cluster_centers_[:, 0], kmeans.cluster_centers_[:,1], s = 30, c = 'black', label = 'Centroids')\n",
    "\n",
    "\n",
    "#plt.axis('off')\n",
    "\n",
    "plt.suptitle(\"Comparison of Iris Species and Clusters for Sepal Length vs Sepal Width\")\n",
    "# https://stackoverflow.com/questions/37039685/hide-axis-values-but-keep-axis-tick-labels-in-matplotlib\n",
    "plt.gca().axes.get_yaxis().set_visible(False)\n",
    "plt.gca().axes.get_xaxis().set_visible(False)\n",
    "plt.show()"
   ]
  },
  {
   "cell_type": "code",
   "execution_count": 91,
   "metadata": {},
   "outputs": [
    {
     "data": {
      "image/png": "[encoded data removed]",
      "text/plain": [
       "<Figure size 1008x432 with 2 Axes>"
      ]
     },
     "metadata": {},
     "output_type": "display_data"
    }
   ],
   "source": [
    "\n",
    "\n",
    "# Plot size.\n",
    "plt.rcParams['figure.figsize'] = (14, 6)\n",
    "plt.figure()\n",
    "\n",
    "plt.subplot(121)\n",
    "plt.scatter(iris_setosa['Sepal_Length'], iris_setosa['Petal_Length'], s = 15, c = 'red', label = 'Setosa')\n",
    "plt.scatter(iris_versicolor['Sepal_Length'], iris_versicolor['Petal_Length'], s = 15, c = 'blue', label = 'Versicolor')\n",
    "plt.scatter(iris_virginica['Sepal_Length'], iris_virginica['Petal_Length'], s = 15, c = 'green', label = 'Virginica')\n",
    "\n",
    "plt.gca().axes.get_yaxis().set_visible(False)\n",
    "plt.gca().axes.get_xaxis().set_visible(False)\n",
    "plt.subplot(122)\n",
    "plt.scatter(X_scaled[y_labels == 0, 0], X_scaled[y_labels == 0, 2], s = 15, c = 'red')\n",
    "plt.scatter(X_scaled[y_labels == 1, 0], X_scaled[y_labels == 1, 2], s = 15, c = 'blue')\n",
    "plt.scatter(X_scaled[y_labels == 2, 0], X_scaled[y_labels == 2, 2], s = 15, c = 'green')\n",
    "plt.scatter(kmeans.cluster_centers_[:, 0], kmeans.cluster_centers_[:,2], s = 30, c = 'black',label = 'Centroids')\n",
    "\n",
    "\n",
    "#plt.axis('off')\n",
    "\n",
    "plt.suptitle(\"Comparison of Iris Species and Clusters for Sepal Length vs Petal_Length\")\n",
    "# https://stackoverflow.com/questions/37039685/hide-axis-values-but-keep-axis-tick-labels-in-matplotlib\n",
    "plt.gca().axes.get_yaxis().set_visible(False)\n",
    "plt.gca().axes.get_xaxis().set_visible(False)\n",
    "plt.show()"
   ]
  },
  {
   "cell_type": "code",
   "execution_count": 92,
   "metadata": {},
   "outputs": [
    {
     "data": {
      "image/png": "[encoded data removed]",
      "text/plain": [
       "<Figure size 1008x432 with 2 Axes>"
      ]
     },
     "metadata": {},
     "output_type": "display_data"
    }
   ],
   "source": [
    "\n",
    "# Plot size.\n",
    "plt.rcParams['figure.figsize'] = (14, 6)\n",
    "plt.figure()\n",
    "\n",
    "plt.subplot(121)\n",
    "plt.scatter(iris_setosa['Sepal_Width'], iris_setosa['Petal_Width'], s = 15, c = 'red', label = 'Setosa')\n",
    "plt.scatter(iris_versicolor['Sepal_Width'], iris_versicolor['Petal_Width'], s = 15, c = 'blue', label = 'Versicolour')\n",
    "plt.scatter(iris_virginica['Sepal_Width'], iris_virginica['Petal_Width'], s = 15, c = 'green', label = 'Virginica')\n",
    "\n",
    "\n",
    "\n",
    "plt.gca().axes.get_yaxis().set_visible(False)\n",
    "plt.gca().axes.get_xaxis().set_visible(False)\n",
    "plt.subplot(122)\n",
    "plt.scatter(X_scaled[y_labels == 0, 1], X_scaled[y_labels == 0, 3], s = 15, c = 'red')\n",
    "plt.scatter(X_scaled[y_labels == 1, 1], X_scaled[y_labels == 1, 3], s = 15, c = 'blue')\n",
    "plt.scatter(X_scaled[y_labels == 2, 1], X_scaled[y_labels == 2, 3], s = 15, c = 'green')\n",
    "plt.scatter(kmeans.cluster_centers_[:, 1], kmeans.cluster_centers_[:,3], s = 30, c = 'black', label = 'Centroids')\n",
    "\n",
    "\n",
    "\n",
    "#plt.axis('off')\n",
    "\n",
    "plt.suptitle(\"Comparison of Iris Species and Clusters for Sepal Width vs Petal Width\")\n",
    "# https://stackoverflow.com/questions/37039685/hide-axis-values-but-keep-axis-tick-labels-in-matplotlib\n",
    "plt.gca().axes.get_yaxis().set_visible(False)\n",
    "plt.gca().axes.get_xaxis().set_visible(False)\n",
    "plt.show()"
   ]
  },
  {
   "cell_type": "code",
   "execution_count": 93,
   "metadata": {},
   "outputs": [
    {
     "data": {
      "image/png": "[encoded data removed]",
      "text/plain": [
       "<Figure size 1008x432 with 2 Axes>"
      ]
     },
     "metadata": {},
     "output_type": "display_data"
    }
   ],
   "source": [
    "\n",
    "# Plot size.\n",
    "plt.rcParams['figure.figsize'] = (14, 6)\n",
    "plt.figure()\n",
    "\n",
    "plt.subplot(121)\n",
    "plt.scatter(iris_setosa['Sepal_Width'], iris_setosa['Petal_Length'], s = 15, c = 'red', label = 'Setosa')\n",
    "plt.scatter(iris_versicolor['Sepal_Width'], iris_versicolor['Petal_Length'], s = 15, c = 'blue', label = 'Versicolour')\n",
    "plt.scatter(iris_virginica['Sepal_Width'], iris_virginica['Petal_Length'], s = 15, c = 'green', label = 'Virginica')\n",
    "\n",
    "\n",
    "\n",
    "\n",
    "plt.gca().axes.get_yaxis().set_visible(False)\n",
    "plt.gca().axes.get_xaxis().set_visible(False)\n",
    "plt.subplot(122)\n",
    "plt.scatter(X_scaled[y_labels == 0, 1], X_scaled[y_labels == 0, 2], s = 15, c = 'red')\n",
    "plt.scatter(X_scaled[y_labels == 1, 1], X_scaled[y_labels == 1, 2], s = 15, c = 'blue')\n",
    "plt.scatter(X_scaled[y_labels == 2, 1], X_scaled[y_labels == 2, 2], s = 15, c = 'green')\n",
    "plt.scatter(kmeans.cluster_centers_[:, 1], kmeans.cluster_centers_[:,2], s = 30, c = 'black', label = 'Centroids')\n",
    "\n",
    "\n",
    "\n",
    "#plt.axis('off')\n",
    "\n",
    "plt.suptitle(\"Comparison of Iris Species and Clusters for Sepal Width vs Petal Length\")\n",
    "# https://stackoverflow.com/questions/37039685/hide-axis-values-but-keep-axis-tick-labels-in-matplotlib\n",
    "plt.gca().axes.get_yaxis().set_visible(False)\n",
    "plt.gca().axes.get_xaxis().set_visible(False)\n",
    "plt.show()"
   ]
  },
  {
   "cell_type": "code",
   "execution_count": null,
   "metadata": {},
   "outputs": [],
   "source": []
  },
  {
   "cell_type": "code",
   "execution_count": 87,
   "metadata": {},
   "outputs": [
    {
     "data": {
      "text/plain": [
       "array([1], dtype=int32)"
      ]
     },
     "execution_count": 87,
     "metadata": {},
     "output_type": "execute_result"
    }
   ],
   "source": [
    "obs5 = iris.iloc[5, 0:4].values # Setosa\n",
    "kmeans.predict(scaler.transform(obs5.reshape(1, -1))) # label 1"
   ]
  },
  {
   "cell_type": "code",
   "execution_count": 88,
   "metadata": {},
   "outputs": [
    {
     "data": {
      "text/plain": [
       "array([2], dtype=int32)"
      ]
     },
     "execution_count": 88,
     "metadata": {},
     "output_type": "execute_result"
    }
   ],
   "source": [
    "obs55 = iris.iloc[55, 0:4].values # Versicolor\n",
    "kmeans.predict(scaler.transform(obs55.reshape(1,-1))) # label 2"
   ]
  },
  {
   "cell_type": "code",
   "execution_count": 89,
   "metadata": {},
   "outputs": [
    {
     "data": {
      "text/plain": [
       "array([0], dtype=int32)"
      ]
     },
     "execution_count": 89,
     "metadata": {},
     "output_type": "execute_result"
    }
   ],
   "source": [
    "obs145 = iris.iloc[145, 0:4].values # Virginica\n",
    "kmeans.predict(scaler.transform(obs145.reshape(1,-1))) # label 2"
   ]
  },
  {
   "cell_type": "code",
   "execution_count": 90,
   "metadata": {},
   "outputs": [
    {
     "data": {
      "text/plain": [
       "array([1], dtype=int32)"
      ]
     },
     "execution_count": 90,
     "metadata": {},
     "output_type": "execute_result"
    }
   ],
   "source": [
    "obs20 = iris.iloc[20, 0:4].values # Setosa\n",
    "kmeans.predict(scaler.transform(obs20.reshape(1,-1))) # label 1"
   ]
  },
  {
   "cell_type": "code",
   "execution_count": 91,
   "metadata": {},
   "outputs": [
    {
     "data": {
      "text/plain": [
       "array([0], dtype=int32)"
      ]
     },
     "execution_count": 91,
     "metadata": {},
     "output_type": "execute_result"
    }
   ],
   "source": [
    "obs120 = iris.iloc[120, 0:4].values # Versicolor\n",
    "kmeans.predict(scaler.transform(obs120.reshape(1,-1))) # label 0"
   ]
  },
  {
   "cell_type": "markdown",
   "metadata": {},
   "source": [
    "It gets the above predictions correct but this one here 70 wrong.\n"
   ]
  },
  {
   "cell_type": "code",
   "execution_count": 92,
   "metadata": {
    "scrolled": true
   },
   "outputs": [
    {
     "data": {
      "text/plain": [
       "array([0], dtype=int32)"
      ]
     },
     "execution_count": 92,
     "metadata": {},
     "output_type": "execute_result"
    }
   ],
   "source": [
    "obs70 = iris.iloc[70, 0:4].values # Versicolor\n",
    "kmeans.predict(scaler.transform(obs70.reshape(1,-1))) # label 2"
   ]
  },
  {
   "cell_type": "code",
   "execution_count": null,
   "metadata": {},
   "outputs": [],
   "source": []
  },
  {
   "cell_type": "markdown",
   "metadata": {},
   "source": [
    "### Transform to a cluster-distance space\n",
    "- [KMeans.transform](https://scikit-learn.org/stable/modules/generated/sklearn.cluster.KMeans.html#sklearn.cluster.KMeans.transform)\n",
    "Transform X to a cluster-distance space.\n",
    "\n",
    ">In the new space, each dimension is the distance to the cluster centers. Note that even if X is sparse, the array returned by transform will typically be dense.\n",
    "\n",
    "`fit_transform(X)` is the equivalent of calling `fit(X).transform(X)` but more efficient.\n",
    "A weight can be assigned for each observation in X but defaults to equal weight.\n",
    "\n"
   ]
  },
  {
   "cell_type": "code",
   "execution_count": 93,
   "metadata": {},
   "outputs": [],
   "source": [
    "#kmeans.fit_transform(X_scaled)"
   ]
  },
  {
   "cell_type": "code",
   "execution_count": 94,
   "metadata": {},
   "outputs": [
    {
     "data": {
      "text/plain": [
       "-140.96581663074699"
      ]
     },
     "execution_count": 94,
     "metadata": {},
     "output_type": "execute_result"
    }
   ],
   "source": [
    "# this seems to be the inertia\n",
    "kmeans.score(X_scaled)"
   ]
  },
  {
   "cell_type": "raw",
   "metadata": {},
   "source": [
    "# for standardising the data  I did this above already\n",
    "from sklearn.preprocessing import StandardScaler\n",
    "scaler = StandardScaler()\n",
    "X_scaled = scaler.fit_transform(X)"
   ]
  },
  {
   "cell_type": "code",
   "execution_count": 95,
   "metadata": {},
   "outputs": [
    {
     "name": "stdout",
     "output_type": "stream",
     "text": [
      "The inertia using 3 clusters is 140.96581663074699\n",
      "The number of iterations was 5.\n"
     ]
    }
   ],
   "source": [
    "\n",
    "\n",
    "print(f\"The inertia using 3 clusters is {kmeans.inertia_}\")\n",
    "print(f\"The number of iterations was {kmeans.n_iter_}.\")"
   ]
  },
  {
   "cell_type": "code",
   "execution_count": 96,
   "metadata": {},
   "outputs": [
    {
     "name": "stdout",
     "output_type": "stream",
     "text": [
      "Cluster 0\n",
      "Cluster 1\n",
      "Cluster 2\n"
     ]
    }
   ],
   "source": [
    "# Cluster 0 labels\n",
    "print(\"Cluster 0\")\n",
    "X[kmeans.labels_ == 0]\n",
    "print(\"Cluster 1\")\n",
    "#X[kmeans.labels_ == 1]\n",
    "print(\"Cluster 2\")\n",
    "#X[kmeans.labels_ == 2]"
   ]
  },
  {
   "cell_type": "code",
   "execution_count": 97,
   "metadata": {},
   "outputs": [
    {
     "data": {
      "text/plain": [
       "array([[-9.00681170e-01,  1.03205722e+00, -1.34127240e+00,\n",
       "        -1.31297673e+00],\n",
       "       [-1.14301691e+00, -1.24957601e-01, -1.34127240e+00,\n",
       "        -1.31297673e+00],\n",
       "       [-1.38535265e+00,  3.37848329e-01, -1.39813811e+00,\n",
       "        -1.31297673e+00],\n",
       "       [-1.50652052e+00,  1.06445364e-01, -1.28440670e+00,\n",
       "        -1.31297673e+00],\n",
       "       [-1.02184904e+00,  1.26346019e+00, -1.34127240e+00,\n",
       "        -1.31297673e+00],\n",
       "       [-5.37177559e-01,  1.95766909e+00, -1.17067529e+00,\n",
       "        -1.05003079e+00],\n",
       "       [-1.50652052e+00,  8.00654259e-01, -1.34127240e+00,\n",
       "        -1.18150376e+00],\n",
       "       [-1.02184904e+00,  8.00654259e-01, -1.28440670e+00,\n",
       "        -1.31297673e+00],\n",
       "       [-1.74885626e+00, -3.56360566e-01, -1.34127240e+00,\n",
       "        -1.31297673e+00],\n",
       "       [-1.14301691e+00,  1.06445364e-01, -1.28440670e+00,\n",
       "        -1.44444970e+00],\n",
       "       [-5.37177559e-01,  1.49486315e+00, -1.28440670e+00,\n",
       "        -1.31297673e+00],\n",
       "       [-1.26418478e+00,  8.00654259e-01, -1.22754100e+00,\n",
       "        -1.31297673e+00],\n",
       "       [-1.26418478e+00, -1.24957601e-01, -1.34127240e+00,\n",
       "        -1.44444970e+00],\n",
       "       [-1.87002413e+00, -1.24957601e-01, -1.51186952e+00,\n",
       "        -1.44444970e+00],\n",
       "       [-5.25060772e-02,  2.18907205e+00, -1.45500381e+00,\n",
       "        -1.31297673e+00],\n",
       "       [-1.73673948e-01,  3.11468391e+00, -1.28440670e+00,\n",
       "        -1.05003079e+00],\n",
       "       [-5.37177559e-01,  1.95766909e+00, -1.39813811e+00,\n",
       "        -1.05003079e+00],\n",
       "       [-9.00681170e-01,  1.03205722e+00, -1.34127240e+00,\n",
       "        -1.18150376e+00],\n",
       "       [-1.73673948e-01,  1.72626612e+00, -1.17067529e+00,\n",
       "        -1.18150376e+00],\n",
       "       [-9.00681170e-01,  1.72626612e+00, -1.28440670e+00,\n",
       "        -1.18150376e+00],\n",
       "       [-5.37177559e-01,  8.00654259e-01, -1.17067529e+00,\n",
       "        -1.31297673e+00],\n",
       "       [-9.00681170e-01,  1.49486315e+00, -1.28440670e+00,\n",
       "        -1.05003079e+00],\n",
       "       [-1.50652052e+00,  1.26346019e+00, -1.56873522e+00,\n",
       "        -1.31297673e+00],\n",
       "       [-9.00681170e-01,  5.69251294e-01, -1.17067529e+00,\n",
       "        -9.18557817e-01],\n",
       "       [-1.26418478e+00,  8.00654259e-01, -1.05694388e+00,\n",
       "        -1.31297673e+00],\n",
       "       [-1.02184904e+00, -1.24957601e-01, -1.22754100e+00,\n",
       "        -1.31297673e+00],\n",
       "       [-1.02184904e+00,  8.00654259e-01, -1.22754100e+00,\n",
       "        -1.05003079e+00],\n",
       "       [-7.79513300e-01,  1.03205722e+00, -1.28440670e+00,\n",
       "        -1.31297673e+00],\n",
       "       [-7.79513300e-01,  8.00654259e-01, -1.34127240e+00,\n",
       "        -1.31297673e+00],\n",
       "       [-1.38535265e+00,  3.37848329e-01, -1.22754100e+00,\n",
       "        -1.31297673e+00],\n",
       "       [-1.26418478e+00,  1.06445364e-01, -1.22754100e+00,\n",
       "        -1.31297673e+00],\n",
       "       [-5.37177559e-01,  8.00654259e-01, -1.28440670e+00,\n",
       "        -1.05003079e+00],\n",
       "       [-7.79513300e-01,  2.42047502e+00, -1.28440670e+00,\n",
       "        -1.44444970e+00],\n",
       "       [-4.16009689e-01,  2.65187798e+00, -1.34127240e+00,\n",
       "        -1.31297673e+00],\n",
       "       [-1.14301691e+00,  1.06445364e-01, -1.28440670e+00,\n",
       "        -1.44444970e+00],\n",
       "       [-1.02184904e+00,  3.37848329e-01, -1.45500381e+00,\n",
       "        -1.31297673e+00],\n",
       "       [-4.16009689e-01,  1.03205722e+00, -1.39813811e+00,\n",
       "        -1.31297673e+00],\n",
       "       [-1.14301691e+00,  1.06445364e-01, -1.28440670e+00,\n",
       "        -1.44444970e+00],\n",
       "       [-1.74885626e+00, -1.24957601e-01, -1.39813811e+00,\n",
       "        -1.31297673e+00],\n",
       "       [-9.00681170e-01,  8.00654259e-01, -1.28440670e+00,\n",
       "        -1.31297673e+00],\n",
       "       [-1.02184904e+00,  1.03205722e+00, -1.39813811e+00,\n",
       "        -1.18150376e+00],\n",
       "       [-1.62768839e+00, -1.74477836e+00, -1.39813811e+00,\n",
       "        -1.18150376e+00],\n",
       "       [-1.74885626e+00,  3.37848329e-01, -1.39813811e+00,\n",
       "        -1.31297673e+00],\n",
       "       [-1.02184904e+00,  1.03205722e+00, -1.22754100e+00,\n",
       "        -7.87084847e-01],\n",
       "       [-9.00681170e-01,  1.72626612e+00, -1.05694388e+00,\n",
       "        -1.05003079e+00],\n",
       "       [-1.26418478e+00, -1.24957601e-01, -1.34127240e+00,\n",
       "        -1.18150376e+00],\n",
       "       [-9.00681170e-01,  1.72626612e+00, -1.22754100e+00,\n",
       "        -1.31297673e+00],\n",
       "       [-1.50652052e+00,  3.37848329e-01, -1.34127240e+00,\n",
       "        -1.31297673e+00],\n",
       "       [-6.58345429e-01,  1.49486315e+00, -1.28440670e+00,\n",
       "        -1.31297673e+00],\n",
       "       [-1.02184904e+00,  5.69251294e-01, -1.34127240e+00,\n",
       "        -1.31297673e+00],\n",
       "       [ 1.40150837e+00,  3.37848329e-01,  5.35295827e-01,\n",
       "         2.64698913e-01],\n",
       "       [ 6.74501145e-01,  3.37848329e-01,  4.21564419e-01,\n",
       "         3.96171883e-01],\n",
       "       [ 1.28034050e+00,  1.06445364e-01,  6.49027235e-01,\n",
       "         3.96171883e-01],\n",
       "       [-4.16009689e-01, -1.74477836e+00,  1.37235899e-01,\n",
       "         1.33225943e-01],\n",
       "       [ 7.95669016e-01, -5.87763531e-01,  4.78430123e-01,\n",
       "         3.96171883e-01],\n",
       "       [-1.73673948e-01, -5.87763531e-01,  4.21564419e-01,\n",
       "         1.33225943e-01],\n",
       "       [ 5.53333275e-01,  5.69251294e-01,  5.35295827e-01,\n",
       "         5.27644853e-01],\n",
       "       [-1.14301691e+00, -1.51337539e+00, -2.60824029e-01,\n",
       "        -2.61192967e-01],\n",
       "       [ 9.16836886e-01, -3.56360566e-01,  4.78430123e-01,\n",
       "         1.33225943e-01],\n",
       "       [-7.79513300e-01, -8.19166497e-01,  8.03701950e-02,\n",
       "         2.64698913e-01],\n",
       "       [-1.02184904e+00, -2.43898725e+00, -1.47092621e-01,\n",
       "        -2.61192967e-01],\n",
       "       [ 6.86617933e-02, -1.24957601e-01,  2.50967307e-01,\n",
       "         3.96171883e-01],\n",
       "       [ 1.89829664e-01, -1.97618132e+00,  1.37235899e-01,\n",
       "        -2.61192967e-01],\n",
       "       [ 3.10997534e-01, -3.56360566e-01,  5.35295827e-01,\n",
       "         2.64698913e-01],\n",
       "       [-2.94841818e-01, -3.56360566e-01, -9.02269170e-02,\n",
       "         1.33225943e-01],\n",
       "       [ 1.03800476e+00,  1.06445364e-01,  3.64698715e-01,\n",
       "         2.64698913e-01],\n",
       "       [-2.94841818e-01, -1.24957601e-01,  4.21564419e-01,\n",
       "         3.96171883e-01],\n",
       "       [-5.25060772e-02, -8.19166497e-01,  1.94101603e-01,\n",
       "        -2.61192967e-01],\n",
       "       [ 4.32165405e-01, -1.97618132e+00,  4.21564419e-01,\n",
       "         3.96171883e-01],\n",
       "       [-2.94841818e-01, -1.28197243e+00,  8.03701950e-02,\n",
       "        -1.29719997e-01],\n",
       "       [ 6.86617933e-02,  3.37848329e-01,  5.92161531e-01,\n",
       "         7.90590793e-01],\n",
       "       [ 3.10997534e-01, -5.87763531e-01,  1.37235899e-01,\n",
       "         1.33225943e-01],\n",
       "       [ 5.53333275e-01, -1.28197243e+00,  6.49027235e-01,\n",
       "         3.96171883e-01],\n",
       "       [ 3.10997534e-01, -5.87763531e-01,  5.35295827e-01,\n",
       "         1.75297293e-03],\n",
       "       [ 6.74501145e-01, -3.56360566e-01,  3.07833011e-01,\n",
       "         1.33225943e-01],\n",
       "       [ 9.16836886e-01, -1.24957601e-01,  3.64698715e-01,\n",
       "         2.64698913e-01],\n",
       "       [ 1.15917263e+00, -5.87763531e-01,  5.92161531e-01,\n",
       "         2.64698913e-01],\n",
       "       [ 1.03800476e+00, -1.24957601e-01,  7.05892939e-01,\n",
       "         6.59117823e-01],\n",
       "       [ 1.89829664e-01, -3.56360566e-01,  4.21564419e-01,\n",
       "         3.96171883e-01],\n",
       "       [-1.73673948e-01, -1.05056946e+00, -1.47092621e-01,\n",
       "        -2.61192967e-01],\n",
       "       [-4.16009689e-01, -1.51337539e+00,  2.35044910e-02,\n",
       "        -1.29719997e-01],\n",
       "       [-4.16009689e-01, -1.51337539e+00, -3.33612130e-02,\n",
       "        -2.61192967e-01],\n",
       "       [-5.25060772e-02, -8.19166497e-01,  8.03701950e-02,\n",
       "         1.75297293e-03],\n",
       "       [ 1.89829664e-01, -8.19166497e-01,  7.62758643e-01,\n",
       "         5.27644853e-01],\n",
       "       [-5.37177559e-01, -1.24957601e-01,  4.21564419e-01,\n",
       "         3.96171883e-01],\n",
       "       [ 1.89829664e-01,  8.00654259e-01,  4.21564419e-01,\n",
       "         5.27644853e-01],\n",
       "       [ 1.03800476e+00,  1.06445364e-01,  5.35295827e-01,\n",
       "         3.96171883e-01],\n",
       "       [ 5.53333275e-01, -1.74477836e+00,  3.64698715e-01,\n",
       "         1.33225943e-01],\n",
       "       [-2.94841818e-01, -1.24957601e-01,  1.94101603e-01,\n",
       "         1.33225943e-01],\n",
       "       [-4.16009689e-01, -1.28197243e+00,  1.37235899e-01,\n",
       "         1.33225943e-01],\n",
       "       [-4.16009689e-01, -1.05056946e+00,  3.64698715e-01,\n",
       "         1.75297293e-03],\n",
       "       [ 3.10997534e-01, -1.24957601e-01,  4.78430123e-01,\n",
       "         2.64698913e-01],\n",
       "       [-5.25060772e-02, -1.05056946e+00,  1.37235899e-01,\n",
       "         1.75297293e-03],\n",
       "       [-1.02184904e+00, -1.74477836e+00, -2.60824029e-01,\n",
       "        -2.61192967e-01],\n",
       "       [-2.94841818e-01, -8.19166497e-01,  2.50967307e-01,\n",
       "         1.33225943e-01],\n",
       "       [-1.73673948e-01, -1.24957601e-01,  2.50967307e-01,\n",
       "         1.75297293e-03],\n",
       "       [-1.73673948e-01, -3.56360566e-01,  2.50967307e-01,\n",
       "         1.33225943e-01],\n",
       "       [ 4.32165405e-01, -3.56360566e-01,  3.07833011e-01,\n",
       "         1.33225943e-01],\n",
       "       [-9.00681170e-01, -1.28197243e+00, -4.31421141e-01,\n",
       "        -1.29719997e-01],\n",
       "       [-1.73673948e-01, -5.87763531e-01,  1.94101603e-01,\n",
       "         1.33225943e-01],\n",
       "       [ 5.53333275e-01,  5.69251294e-01,  1.27454998e+00,\n",
       "         1.71090158e+00],\n",
       "       [-5.25060772e-02, -8.19166497e-01,  7.62758643e-01,\n",
       "         9.22063763e-01],\n",
       "       [ 1.52267624e+00, -1.24957601e-01,  1.21768427e+00,\n",
       "         1.18500970e+00],\n",
       "       [ 5.53333275e-01, -3.56360566e-01,  1.04708716e+00,\n",
       "         7.90590793e-01],\n",
       "       [ 7.95669016e-01, -1.24957601e-01,  1.16081857e+00,\n",
       "         1.31648267e+00],\n",
       "       [ 2.12851559e+00, -1.24957601e-01,  1.61574420e+00,\n",
       "         1.18500970e+00],\n",
       "       [-1.14301691e+00, -1.28197243e+00,  4.21564419e-01,\n",
       "         6.59117823e-01],\n",
       "       [ 1.76501198e+00, -3.56360566e-01,  1.44514709e+00,\n",
       "         7.90590793e-01],\n",
       "       [ 1.03800476e+00, -1.28197243e+00,  1.16081857e+00,\n",
       "         7.90590793e-01],\n",
       "       [ 1.64384411e+00,  1.26346019e+00,  1.33141568e+00,\n",
       "         1.71090158e+00],\n",
       "       [ 7.95669016e-01,  3.37848329e-01,  7.62758643e-01,\n",
       "         1.05353673e+00],\n",
       "       [ 6.74501145e-01, -8.19166497e-01,  8.76490051e-01,\n",
       "         9.22063763e-01],\n",
       "       [ 1.15917263e+00, -1.24957601e-01,  9.90221459e-01,\n",
       "         1.18500970e+00],\n",
       "       [-1.73673948e-01, -1.28197243e+00,  7.05892939e-01,\n",
       "         1.05353673e+00],\n",
       "       [-5.25060772e-02, -5.87763531e-01,  7.62758643e-01,\n",
       "         1.57942861e+00],\n",
       "       [ 6.74501145e-01,  3.37848329e-01,  8.76490051e-01,\n",
       "         1.44795564e+00],\n",
       "       [ 7.95669016e-01, -1.24957601e-01,  9.90221459e-01,\n",
       "         7.90590793e-01],\n",
       "       [ 2.24968346e+00,  1.72626612e+00,  1.67260991e+00,\n",
       "         1.31648267e+00],\n",
       "       [ 2.24968346e+00, -1.05056946e+00,  1.78634131e+00,\n",
       "         1.44795564e+00],\n",
       "       [ 1.89829664e-01, -1.97618132e+00,  7.05892939e-01,\n",
       "         3.96171883e-01],\n",
       "       [ 1.28034050e+00,  3.37848329e-01,  1.10395287e+00,\n",
       "         1.44795564e+00],\n",
       "       [-2.94841818e-01, -5.87763531e-01,  6.49027235e-01,\n",
       "         1.05353673e+00],\n",
       "       [ 2.24968346e+00, -5.87763531e-01,  1.67260991e+00,\n",
       "         1.05353673e+00],\n",
       "       [ 5.53333275e-01, -8.19166497e-01,  6.49027235e-01,\n",
       "         7.90590793e-01],\n",
       "       [ 1.03800476e+00,  5.69251294e-01,  1.10395287e+00,\n",
       "         1.18500970e+00],\n",
       "       [ 1.64384411e+00,  3.37848329e-01,  1.27454998e+00,\n",
       "         7.90590793e-01],\n",
       "       [ 4.32165405e-01, -5.87763531e-01,  5.92161531e-01,\n",
       "         7.90590793e-01],\n",
       "       [ 3.10997534e-01, -1.24957601e-01,  6.49027235e-01,\n",
       "         7.90590793e-01],\n",
       "       [ 6.74501145e-01, -5.87763531e-01,  1.04708716e+00,\n",
       "         1.18500970e+00],\n",
       "       [ 1.64384411e+00, -1.24957601e-01,  1.16081857e+00,\n",
       "         5.27644853e-01],\n",
       "       [ 1.88617985e+00, -5.87763531e-01,  1.33141568e+00,\n",
       "         9.22063763e-01],\n",
       "       [ 2.49201920e+00,  1.72626612e+00,  1.50201279e+00,\n",
       "         1.05353673e+00],\n",
       "       [ 6.74501145e-01, -5.87763531e-01,  1.04708716e+00,\n",
       "         1.31648267e+00],\n",
       "       [ 5.53333275e-01, -5.87763531e-01,  7.62758643e-01,\n",
       "         3.96171883e-01],\n",
       "       [ 3.10997534e-01, -1.05056946e+00,  1.04708716e+00,\n",
       "         2.64698913e-01],\n",
       "       [ 2.24968346e+00, -1.24957601e-01,  1.33141568e+00,\n",
       "         1.44795564e+00],\n",
       "       [ 5.53333275e-01,  8.00654259e-01,  1.04708716e+00,\n",
       "         1.57942861e+00],\n",
       "       [ 6.74501145e-01,  1.06445364e-01,  9.90221459e-01,\n",
       "         7.90590793e-01],\n",
       "       [ 1.89829664e-01, -1.24957601e-01,  5.92161531e-01,\n",
       "         7.90590793e-01],\n",
       "       [ 1.28034050e+00,  1.06445364e-01,  9.33355755e-01,\n",
       "         1.18500970e+00],\n",
       "       [ 1.03800476e+00,  1.06445364e-01,  1.04708716e+00,\n",
       "         1.57942861e+00],\n",
       "       [ 1.28034050e+00,  1.06445364e-01,  7.62758643e-01,\n",
       "         1.44795564e+00],\n",
       "       [-5.25060772e-02, -8.19166497e-01,  7.62758643e-01,\n",
       "         9.22063763e-01],\n",
       "       [ 1.15917263e+00,  3.37848329e-01,  1.21768427e+00,\n",
       "         1.44795564e+00],\n",
       "       [ 1.03800476e+00,  5.69251294e-01,  1.10395287e+00,\n",
       "         1.71090158e+00],\n",
       "       [ 1.03800476e+00, -1.24957601e-01,  8.19624347e-01,\n",
       "         1.44795564e+00],\n",
       "       [ 5.53333275e-01, -1.28197243e+00,  7.05892939e-01,\n",
       "         9.22063763e-01],\n",
       "       [ 7.95669016e-01, -1.24957601e-01,  8.19624347e-01,\n",
       "         1.05353673e+00],\n",
       "       [ 4.32165405e-01,  8.00654259e-01,  9.33355755e-01,\n",
       "         1.44795564e+00],\n",
       "       [ 6.86617933e-02, -1.24957601e-01,  7.62758643e-01,\n",
       "         7.90590793e-01]])"
      ]
     },
     "execution_count": 97,
     "metadata": {},
     "output_type": "execute_result"
    }
   ],
   "source": [
    "X_scaled"
   ]
  },
  {
   "cell_type": "markdown",
   "metadata": {},
   "source": [
    "(If you look at the scatterplot of the points below for the Iris dataset, for most points the Setosa class can be clearly separated from the other two classes by a straight line. The separation between the other two species is not as clear though. The plane can be partitioned into 3 regions depending on which cluster mean is closest)\n",
    "\n",
    "\n",
    "\n",
    "The task calls for an explanation of how the code works and how accurate it might be, and then how the model could be used to make predictions of species of iris.\n",
    "I have outlined as I worked through the code how it works. Maybe clean this up better into a single cell.\n",
    "How accurate it might be. - need to evaluate the results.\n",
    "Then explain how it can be used to make predictions."
   ]
  },
  {
   "cell_type": "markdown",
   "metadata": {},
   "source": [
    "### Evaluating the performance of the clustering model.\n",
    "\n",
    "Clustering is an unsupervised learning method and therefore the data was not split into a training and test set. To evaluate performance of the model we can use the visualisation techniques above. With the Iris data set we have the actual labels and therefore can compare the actual groups to the clusters determined by the kmeans algorithm.\n",
    "However this is not usual for clustering. It is mostly used when the clusters aren't known in advance to find patterns in the data that we might not know about already. The plots above showing the clusters as determined by the k-means clustering can be compared with the actual class species labels. They mostly correspond.\n",
    "I will come back and do a confusion table showing the number of actual labels vs labels assigned by clustering.\n",
    "\n",
    "One of the goals of unsupervised learning is to discover groups or clusters of similar examples within the data. \n",
    "Unsupervised learning tends to be more subjective than supervised learning methods as there is no simple goal for the analysis, such as prediction of a response. Unsupervised learning is often performed as part of an exploratory data analysis. While it is possible to check results from supervised learning and to see how well a model predicts the response variable on observations not included in fitting the model, this is not the case in unsupervised learning and it is not so clear how to assess the results obtained compared to supervised learning.\n",
    "\n",
    "\n",
    "\n",
    "https://scikit-learn.org/stable/modules/model_evaluation.html\n",
    "\n",
    "https://pypi.org/project/yellowbrick/\n",
    "\n",
    ">One of the main challenges in unsupervised learning is to evaluate model performance. An inappropriate choice for k in k-means clustering can result in poor clustering performance. There are some standard methods to determine the optimal number of clusters k. These methods include both graphical and numeric techniques.\n",
    "https://rukshanpramoditha.medium.com/k-means-clustering-with-scikit-learn-e2af706450e4\n",
    "\n",
    "\n",
    "The elbow and silhouette coefficients evaluate the performance of the clustering without the actual real labels. In the case of the Iris dataset this is the species of Iris that each of the 150 observations belongs to.  With the Iris you could compare every predicted label to the actual label to see how accurate the model is. In reality when doing clustering you do not always know the actual labels so there must be another way!\n",
    "\n",
    "Here I refer to https://dzone.com/articles/kmeans-silhouette-score-explained-with-python-exam on using the silhouette score concepts to evaluate the quality of the clusters created using the kmeans algorithm.\n",
    "The silhouette score is calculated for each sample datapoint of the different clusters by finding the following distances for every single data point belonging to all the clusters.\n",
    "\n",
    "- The mean distance between the observation and all other data points in the same cluster $a$.\n",
    "- The mean distance between the observation and all other data points of the next nearest cluster $b$.\n",
    "\n",
    "The silhouette score $S$ is then calculated for each sample using $(S = \\frac{(b - a)}{max(a, b)})$.\n",
    "The values range from -1 to 1. A score of 1 means that the cluster is dense and well separated from other clusters while a value near 0 represents overlapping clusters with samples very close to the decision boundary of the neighbouring clusters. A negative score indicates that the samples might have got assigned to the wrong clusters.\n",
    "\n",
    "The `sklearn.metrics` packages has the following methods for evaluting  the Silhouette scores.\n",
    "The `silhouette_score` for the data set is used for measuring the mean of the Silhouette Coefficient for each sample belonging to different clusters. It shows how dense and well separated the clusters are. It takes into account the intra-cluster distance between the sample and the other datapoints within the same cluster $a$ and the inter-cluster distance between the sample and the next nearest cluster $b$. \n",
    "The `silhouette_samples` provides the Silhouette scores for each sample of different clusters.\n",
    "\n",
    "The Silhouette plots can be used to select the most optimal number of clusters K in k-means clustering.\n",
    "They are interpreted by looking at silhoutte scores below the average silhouette score, wide variations in the size of the clusters and also the thickness of the silhouette plot."
   ]
  },
  {
   "cell_type": "code",
   "execution_count": 98,
   "metadata": {},
   "outputs": [
    {
     "name": "stdout",
     "output_type": "stream",
     "text": [
      "Silhouetter Score: 0.459\n"
     ]
    }
   ],
   "source": [
    "score = silhouette_score(X_scaled, kmeans.labels_, metric='euclidean')\n",
    "print('Silhouetter Score: %.3f' % score)"
   ]
  },
  {
   "cell_type": "markdown",
   "metadata": {},
   "source": [
    "Again following the same tutorial using the YellowBrick machine learning visualisation library. This library extends the Scikit-Learn API to make a model selection and hyperparameter tuning easier. \n",
    "I first installed using `pip install yellowbrick`"
   ]
  },
  {
   "cell_type": "code",
   "execution_count": 99,
   "metadata": {},
   "outputs": [
    {
     "data": {
      "image/png": "[encoded data removed]",
      "text/plain": [
       "<Figure size 1080x576 with 4 Axes>"
      ]
     },
     "metadata": {},
     "output_type": "display_data"
    }
   ],
   "source": [
    "from yellowbrick.cluster import SilhouetteVisualizer\n",
    "fig, ax = plt.subplots(2, 2, figsize=(15,8))\n",
    "for i in [2, 3, 4, 5]:\n",
    "    # Create KMeans instance for different number of clusters\n",
    "    km = skcl.KMeans(n_clusters=i, init='k-means++', n_init=10, max_iter=100, random_state=42)\n",
    "    q, mod = divmod(i, 2)\n",
    "    \n",
    "    # Create SilhouetteVisualizer instance with KMeans instance\n",
    "    visualizer = SilhouetteVisualizer(km, colors='yellowbrick', ax=ax[q-1][mod])\n",
    "     # Fit the visualizer\n",
    "    visualizer.fit(X)"
   ]
  },
  {
   "cell_type": "markdown",
   "metadata": {},
   "source": [
    "### Interpreting the Silhouette scores:\n",
    "\n",
    "Either 2 or 3 clusters appear to be the optimal number. The silhouette score for each cluster is above average silhouette scores and the fluctuations in size are smaller. The thickness of the silhouette plot for each cluster can help choose between 2 and 3 clusters. The thickness of the plot is more uniform with 3 clusters compared to the plot with only 2 clusters where one cluster is much thicker than the other.\n",
    "\n",
    "We can see that k=4 or k=5 are not optimal as some of the clusters have below average silhouette scores and there are wide fluctuations in the thickness of the plots, particularly where k = 5.\n",
    "\n"
   ]
  },
  {
   "cell_type": "code",
   "execution_count": 34,
   "metadata": {},
   "outputs": [
    {
     "data": {
      "text/html": [
       "<div>\n",
       "<style scoped>\n",
       "    .dataframe tbody tr th:only-of-type {\n",
       "        vertical-align: middle;\n",
       "    }\n",
       "\n",
       "    .dataframe tbody tr th {\n",
       "        vertical-align: top;\n",
       "    }\n",
       "\n",
       "    .dataframe thead th {\n",
       "        text-align: right;\n",
       "    }\n",
       "</style>\n",
       "<table border=\"1\" class=\"dataframe\">\n",
       "  <thead>\n",
       "    <tr style=\"text-align: right;\">\n",
       "      <th></th>\n",
       "      <th>Sepal_Length</th>\n",
       "      <th>Sepal_Width</th>\n",
       "      <th>Petal_Length</th>\n",
       "      <th>Petal_Width</th>\n",
       "    </tr>\n",
       "  </thead>\n",
       "  <tbody>\n",
       "    <tr>\n",
       "      <th>count</th>\n",
       "      <td>150.000000</td>\n",
       "      <td>150.000000</td>\n",
       "      <td>150.000000</td>\n",
       "      <td>150.000000</td>\n",
       "    </tr>\n",
       "    <tr>\n",
       "      <th>mean</th>\n",
       "      <td>5.843333</td>\n",
       "      <td>3.054000</td>\n",
       "      <td>3.758667</td>\n",
       "      <td>1.198667</td>\n",
       "    </tr>\n",
       "    <tr>\n",
       "      <th>std</th>\n",
       "      <td>0.828066</td>\n",
       "      <td>0.433594</td>\n",
       "      <td>1.764420</td>\n",
       "      <td>0.763161</td>\n",
       "    </tr>\n",
       "    <tr>\n",
       "      <th>min</th>\n",
       "      <td>4.300000</td>\n",
       "      <td>2.000000</td>\n",
       "      <td>1.000000</td>\n",
       "      <td>0.100000</td>\n",
       "    </tr>\n",
       "    <tr>\n",
       "      <th>25%</th>\n",
       "      <td>5.100000</td>\n",
       "      <td>2.800000</td>\n",
       "      <td>1.600000</td>\n",
       "      <td>0.300000</td>\n",
       "    </tr>\n",
       "    <tr>\n",
       "      <th>50%</th>\n",
       "      <td>5.800000</td>\n",
       "      <td>3.000000</td>\n",
       "      <td>4.350000</td>\n",
       "      <td>1.300000</td>\n",
       "    </tr>\n",
       "    <tr>\n",
       "      <th>75%</th>\n",
       "      <td>6.400000</td>\n",
       "      <td>3.300000</td>\n",
       "      <td>5.100000</td>\n",
       "      <td>1.800000</td>\n",
       "    </tr>\n",
       "    <tr>\n",
       "      <th>max</th>\n",
       "      <td>7.900000</td>\n",
       "      <td>4.400000</td>\n",
       "      <td>6.900000</td>\n",
       "      <td>2.500000</td>\n",
       "    </tr>\n",
       "  </tbody>\n",
       "</table>\n",
       "</div>"
      ],
      "text/plain": [
       "       Sepal_Length  Sepal_Width  Petal_Length  Petal_Width\n",
       "count    150.000000   150.000000    150.000000   150.000000\n",
       "mean       5.843333     3.054000      3.758667     1.198667\n",
       "std        0.828066     0.433594      1.764420     0.763161\n",
       "min        4.300000     2.000000      1.000000     0.100000\n",
       "25%        5.100000     2.800000      1.600000     0.300000\n",
       "50%        5.800000     3.000000      4.350000     1.300000\n",
       "75%        6.400000     3.300000      5.100000     1.800000\n",
       "max        7.900000     4.400000      6.900000     2.500000"
      ]
     },
     "execution_count": 34,
     "metadata": {},
     "output_type": "execute_result"
    }
   ],
   "source": [
    "iris.describe()"
   ]
  },
  {
   "cell_type": "code",
   "execution_count": 36,
   "metadata": {},
   "outputs": [
    {
     "data": {
      "text/plain": [
       "(150, 4)"
      ]
     },
     "execution_count": 36,
     "metadata": {},
     "output_type": "execute_result"
    }
   ],
   "source": [
    "X_scaled.shape"
   ]
  },
  {
   "cell_type": "code",
   "execution_count": 44,
   "metadata": {},
   "outputs": [
    {
     "data": {
      "text/plain": [
       "array([[-9.00681170e-01,  1.03205722e+00, -1.34127240e+00,\n",
       "        -1.31297673e+00],\n",
       "       [-1.14301691e+00, -1.24957601e-01, -1.34127240e+00,\n",
       "        -1.31297673e+00],\n",
       "       [-1.38535265e+00,  3.37848329e-01, -1.39813811e+00,\n",
       "        -1.31297673e+00],\n",
       "       [-1.50652052e+00,  1.06445364e-01, -1.28440670e+00,\n",
       "        -1.31297673e+00],\n",
       "       [-1.02184904e+00,  1.26346019e+00, -1.34127240e+00,\n",
       "        -1.31297673e+00],\n",
       "       [-5.37177559e-01,  1.95766909e+00, -1.17067529e+00,\n",
       "        -1.05003079e+00],\n",
       "       [-1.50652052e+00,  8.00654259e-01, -1.34127240e+00,\n",
       "        -1.18150376e+00],\n",
       "       [-1.02184904e+00,  8.00654259e-01, -1.28440670e+00,\n",
       "        -1.31297673e+00],\n",
       "       [-1.74885626e+00, -3.56360566e-01, -1.34127240e+00,\n",
       "        -1.31297673e+00],\n",
       "       [-1.14301691e+00,  1.06445364e-01, -1.28440670e+00,\n",
       "        -1.44444970e+00],\n",
       "       [-5.37177559e-01,  1.49486315e+00, -1.28440670e+00,\n",
       "        -1.31297673e+00],\n",
       "       [-1.26418478e+00,  8.00654259e-01, -1.22754100e+00,\n",
       "        -1.31297673e+00],\n",
       "       [-1.26418478e+00, -1.24957601e-01, -1.34127240e+00,\n",
       "        -1.44444970e+00],\n",
       "       [-1.87002413e+00, -1.24957601e-01, -1.51186952e+00,\n",
       "        -1.44444970e+00],\n",
       "       [-5.25060772e-02,  2.18907205e+00, -1.45500381e+00,\n",
       "        -1.31297673e+00],\n",
       "       [-1.73673948e-01,  3.11468391e+00, -1.28440670e+00,\n",
       "        -1.05003079e+00],\n",
       "       [-5.37177559e-01,  1.95766909e+00, -1.39813811e+00,\n",
       "        -1.05003079e+00],\n",
       "       [-9.00681170e-01,  1.03205722e+00, -1.34127240e+00,\n",
       "        -1.18150376e+00],\n",
       "       [-1.73673948e-01,  1.72626612e+00, -1.17067529e+00,\n",
       "        -1.18150376e+00],\n",
       "       [-9.00681170e-01,  1.72626612e+00, -1.28440670e+00,\n",
       "        -1.18150376e+00],\n",
       "       [-5.37177559e-01,  8.00654259e-01, -1.17067529e+00,\n",
       "        -1.31297673e+00],\n",
       "       [-9.00681170e-01,  1.49486315e+00, -1.28440670e+00,\n",
       "        -1.05003079e+00],\n",
       "       [-1.50652052e+00,  1.26346019e+00, -1.56873522e+00,\n",
       "        -1.31297673e+00],\n",
       "       [-9.00681170e-01,  5.69251294e-01, -1.17067529e+00,\n",
       "        -9.18557817e-01],\n",
       "       [-1.26418478e+00,  8.00654259e-01, -1.05694388e+00,\n",
       "        -1.31297673e+00],\n",
       "       [-1.02184904e+00, -1.24957601e-01, -1.22754100e+00,\n",
       "        -1.31297673e+00],\n",
       "       [-1.02184904e+00,  8.00654259e-01, -1.22754100e+00,\n",
       "        -1.05003079e+00],\n",
       "       [-7.79513300e-01,  1.03205722e+00, -1.28440670e+00,\n",
       "        -1.31297673e+00],\n",
       "       [-7.79513300e-01,  8.00654259e-01, -1.34127240e+00,\n",
       "        -1.31297673e+00],\n",
       "       [-1.38535265e+00,  3.37848329e-01, -1.22754100e+00,\n",
       "        -1.31297673e+00],\n",
       "       [-1.26418478e+00,  1.06445364e-01, -1.22754100e+00,\n",
       "        -1.31297673e+00],\n",
       "       [-5.37177559e-01,  8.00654259e-01, -1.28440670e+00,\n",
       "        -1.05003079e+00],\n",
       "       [-7.79513300e-01,  2.42047502e+00, -1.28440670e+00,\n",
       "        -1.44444970e+00],\n",
       "       [-4.16009689e-01,  2.65187798e+00, -1.34127240e+00,\n",
       "        -1.31297673e+00],\n",
       "       [-1.14301691e+00,  1.06445364e-01, -1.28440670e+00,\n",
       "        -1.44444970e+00],\n",
       "       [-1.02184904e+00,  3.37848329e-01, -1.45500381e+00,\n",
       "        -1.31297673e+00],\n",
       "       [-4.16009689e-01,  1.03205722e+00, -1.39813811e+00,\n",
       "        -1.31297673e+00],\n",
       "       [-1.14301691e+00,  1.06445364e-01, -1.28440670e+00,\n",
       "        -1.44444970e+00],\n",
       "       [-1.74885626e+00, -1.24957601e-01, -1.39813811e+00,\n",
       "        -1.31297673e+00],\n",
       "       [-9.00681170e-01,  8.00654259e-01, -1.28440670e+00,\n",
       "        -1.31297673e+00],\n",
       "       [-1.02184904e+00,  1.03205722e+00, -1.39813811e+00,\n",
       "        -1.18150376e+00],\n",
       "       [-1.62768839e+00, -1.74477836e+00, -1.39813811e+00,\n",
       "        -1.18150376e+00],\n",
       "       [-1.74885626e+00,  3.37848329e-01, -1.39813811e+00,\n",
       "        -1.31297673e+00],\n",
       "       [-1.02184904e+00,  1.03205722e+00, -1.22754100e+00,\n",
       "        -7.87084847e-01],\n",
       "       [-9.00681170e-01,  1.72626612e+00, -1.05694388e+00,\n",
       "        -1.05003079e+00],\n",
       "       [-1.26418478e+00, -1.24957601e-01, -1.34127240e+00,\n",
       "        -1.18150376e+00],\n",
       "       [-9.00681170e-01,  1.72626612e+00, -1.22754100e+00,\n",
       "        -1.31297673e+00],\n",
       "       [-1.50652052e+00,  3.37848329e-01, -1.34127240e+00,\n",
       "        -1.31297673e+00],\n",
       "       [-6.58345429e-01,  1.49486315e+00, -1.28440670e+00,\n",
       "        -1.31297673e+00],\n",
       "       [-1.02184904e+00,  5.69251294e-01, -1.34127240e+00,\n",
       "        -1.31297673e+00],\n",
       "       [ 1.40150837e+00,  3.37848329e-01,  5.35295827e-01,\n",
       "         2.64698913e-01],\n",
       "       [ 6.74501145e-01,  3.37848329e-01,  4.21564419e-01,\n",
       "         3.96171883e-01],\n",
       "       [ 1.28034050e+00,  1.06445364e-01,  6.49027235e-01,\n",
       "         3.96171883e-01],\n",
       "       [-4.16009689e-01, -1.74477836e+00,  1.37235899e-01,\n",
       "         1.33225943e-01],\n",
       "       [ 7.95669016e-01, -5.87763531e-01,  4.78430123e-01,\n",
       "         3.96171883e-01],\n",
       "       [-1.73673948e-01, -5.87763531e-01,  4.21564419e-01,\n",
       "         1.33225943e-01],\n",
       "       [ 5.53333275e-01,  5.69251294e-01,  5.35295827e-01,\n",
       "         5.27644853e-01],\n",
       "       [-1.14301691e+00, -1.51337539e+00, -2.60824029e-01,\n",
       "        -2.61192967e-01],\n",
       "       [ 9.16836886e-01, -3.56360566e-01,  4.78430123e-01,\n",
       "         1.33225943e-01],\n",
       "       [-7.79513300e-01, -8.19166497e-01,  8.03701950e-02,\n",
       "         2.64698913e-01],\n",
       "       [-1.02184904e+00, -2.43898725e+00, -1.47092621e-01,\n",
       "        -2.61192967e-01],\n",
       "       [ 6.86617933e-02, -1.24957601e-01,  2.50967307e-01,\n",
       "         3.96171883e-01],\n",
       "       [ 1.89829664e-01, -1.97618132e+00,  1.37235899e-01,\n",
       "        -2.61192967e-01],\n",
       "       [ 3.10997534e-01, -3.56360566e-01,  5.35295827e-01,\n",
       "         2.64698913e-01],\n",
       "       [-2.94841818e-01, -3.56360566e-01, -9.02269170e-02,\n",
       "         1.33225943e-01],\n",
       "       [ 1.03800476e+00,  1.06445364e-01,  3.64698715e-01,\n",
       "         2.64698913e-01],\n",
       "       [-2.94841818e-01, -1.24957601e-01,  4.21564419e-01,\n",
       "         3.96171883e-01],\n",
       "       [-5.25060772e-02, -8.19166497e-01,  1.94101603e-01,\n",
       "        -2.61192967e-01],\n",
       "       [ 4.32165405e-01, -1.97618132e+00,  4.21564419e-01,\n",
       "         3.96171883e-01],\n",
       "       [-2.94841818e-01, -1.28197243e+00,  8.03701950e-02,\n",
       "        -1.29719997e-01],\n",
       "       [ 6.86617933e-02,  3.37848329e-01,  5.92161531e-01,\n",
       "         7.90590793e-01],\n",
       "       [ 3.10997534e-01, -5.87763531e-01,  1.37235899e-01,\n",
       "         1.33225943e-01],\n",
       "       [ 5.53333275e-01, -1.28197243e+00,  6.49027235e-01,\n",
       "         3.96171883e-01],\n",
       "       [ 3.10997534e-01, -5.87763531e-01,  5.35295827e-01,\n",
       "         1.75297293e-03],\n",
       "       [ 6.74501145e-01, -3.56360566e-01,  3.07833011e-01,\n",
       "         1.33225943e-01],\n",
       "       [ 9.16836886e-01, -1.24957601e-01,  3.64698715e-01,\n",
       "         2.64698913e-01],\n",
       "       [ 1.15917263e+00, -5.87763531e-01,  5.92161531e-01,\n",
       "         2.64698913e-01],\n",
       "       [ 1.03800476e+00, -1.24957601e-01,  7.05892939e-01,\n",
       "         6.59117823e-01],\n",
       "       [ 1.89829664e-01, -3.56360566e-01,  4.21564419e-01,\n",
       "         3.96171883e-01],\n",
       "       [-1.73673948e-01, -1.05056946e+00, -1.47092621e-01,\n",
       "        -2.61192967e-01],\n",
       "       [-4.16009689e-01, -1.51337539e+00,  2.35044910e-02,\n",
       "        -1.29719997e-01],\n",
       "       [-4.16009689e-01, -1.51337539e+00, -3.33612130e-02,\n",
       "        -2.61192967e-01],\n",
       "       [-5.25060772e-02, -8.19166497e-01,  8.03701950e-02,\n",
       "         1.75297293e-03],\n",
       "       [ 1.89829664e-01, -8.19166497e-01,  7.62758643e-01,\n",
       "         5.27644853e-01],\n",
       "       [-5.37177559e-01, -1.24957601e-01,  4.21564419e-01,\n",
       "         3.96171883e-01],\n",
       "       [ 1.89829664e-01,  8.00654259e-01,  4.21564419e-01,\n",
       "         5.27644853e-01],\n",
       "       [ 1.03800476e+00,  1.06445364e-01,  5.35295827e-01,\n",
       "         3.96171883e-01],\n",
       "       [ 5.53333275e-01, -1.74477836e+00,  3.64698715e-01,\n",
       "         1.33225943e-01],\n",
       "       [-2.94841818e-01, -1.24957601e-01,  1.94101603e-01,\n",
       "         1.33225943e-01],\n",
       "       [-4.16009689e-01, -1.28197243e+00,  1.37235899e-01,\n",
       "         1.33225943e-01],\n",
       "       [-4.16009689e-01, -1.05056946e+00,  3.64698715e-01,\n",
       "         1.75297293e-03],\n",
       "       [ 3.10997534e-01, -1.24957601e-01,  4.78430123e-01,\n",
       "         2.64698913e-01],\n",
       "       [-5.25060772e-02, -1.05056946e+00,  1.37235899e-01,\n",
       "         1.75297293e-03],\n",
       "       [-1.02184904e+00, -1.74477836e+00, -2.60824029e-01,\n",
       "        -2.61192967e-01],\n",
       "       [-2.94841818e-01, -8.19166497e-01,  2.50967307e-01,\n",
       "         1.33225943e-01],\n",
       "       [-1.73673948e-01, -1.24957601e-01,  2.50967307e-01,\n",
       "         1.75297293e-03],\n",
       "       [-1.73673948e-01, -3.56360566e-01,  2.50967307e-01,\n",
       "         1.33225943e-01],\n",
       "       [ 4.32165405e-01, -3.56360566e-01,  3.07833011e-01,\n",
       "         1.33225943e-01],\n",
       "       [-9.00681170e-01, -1.28197243e+00, -4.31421141e-01,\n",
       "        -1.29719997e-01],\n",
       "       [-1.73673948e-01, -5.87763531e-01,  1.94101603e-01,\n",
       "         1.33225943e-01],\n",
       "       [ 5.53333275e-01,  5.69251294e-01,  1.27454998e+00,\n",
       "         1.71090158e+00],\n",
       "       [-5.25060772e-02, -8.19166497e-01,  7.62758643e-01,\n",
       "         9.22063763e-01],\n",
       "       [ 1.52267624e+00, -1.24957601e-01,  1.21768427e+00,\n",
       "         1.18500970e+00],\n",
       "       [ 5.53333275e-01, -3.56360566e-01,  1.04708716e+00,\n",
       "         7.90590793e-01],\n",
       "       [ 7.95669016e-01, -1.24957601e-01,  1.16081857e+00,\n",
       "         1.31648267e+00],\n",
       "       [ 2.12851559e+00, -1.24957601e-01,  1.61574420e+00,\n",
       "         1.18500970e+00],\n",
       "       [-1.14301691e+00, -1.28197243e+00,  4.21564419e-01,\n",
       "         6.59117823e-01],\n",
       "       [ 1.76501198e+00, -3.56360566e-01,  1.44514709e+00,\n",
       "         7.90590793e-01],\n",
       "       [ 1.03800476e+00, -1.28197243e+00,  1.16081857e+00,\n",
       "         7.90590793e-01],\n",
       "       [ 1.64384411e+00,  1.26346019e+00,  1.33141568e+00,\n",
       "         1.71090158e+00],\n",
       "       [ 7.95669016e-01,  3.37848329e-01,  7.62758643e-01,\n",
       "         1.05353673e+00],\n",
       "       [ 6.74501145e-01, -8.19166497e-01,  8.76490051e-01,\n",
       "         9.22063763e-01],\n",
       "       [ 1.15917263e+00, -1.24957601e-01,  9.90221459e-01,\n",
       "         1.18500970e+00],\n",
       "       [-1.73673948e-01, -1.28197243e+00,  7.05892939e-01,\n",
       "         1.05353673e+00],\n",
       "       [-5.25060772e-02, -5.87763531e-01,  7.62758643e-01,\n",
       "         1.57942861e+00],\n",
       "       [ 6.74501145e-01,  3.37848329e-01,  8.76490051e-01,\n",
       "         1.44795564e+00],\n",
       "       [ 7.95669016e-01, -1.24957601e-01,  9.90221459e-01,\n",
       "         7.90590793e-01],\n",
       "       [ 2.24968346e+00,  1.72626612e+00,  1.67260991e+00,\n",
       "         1.31648267e+00],\n",
       "       [ 2.24968346e+00, -1.05056946e+00,  1.78634131e+00,\n",
       "         1.44795564e+00],\n",
       "       [ 1.89829664e-01, -1.97618132e+00,  7.05892939e-01,\n",
       "         3.96171883e-01],\n",
       "       [ 1.28034050e+00,  3.37848329e-01,  1.10395287e+00,\n",
       "         1.44795564e+00],\n",
       "       [-2.94841818e-01, -5.87763531e-01,  6.49027235e-01,\n",
       "         1.05353673e+00],\n",
       "       [ 2.24968346e+00, -5.87763531e-01,  1.67260991e+00,\n",
       "         1.05353673e+00],\n",
       "       [ 5.53333275e-01, -8.19166497e-01,  6.49027235e-01,\n",
       "         7.90590793e-01],\n",
       "       [ 1.03800476e+00,  5.69251294e-01,  1.10395287e+00,\n",
       "         1.18500970e+00],\n",
       "       [ 1.64384411e+00,  3.37848329e-01,  1.27454998e+00,\n",
       "         7.90590793e-01],\n",
       "       [ 4.32165405e-01, -5.87763531e-01,  5.92161531e-01,\n",
       "         7.90590793e-01],\n",
       "       [ 3.10997534e-01, -1.24957601e-01,  6.49027235e-01,\n",
       "         7.90590793e-01],\n",
       "       [ 6.74501145e-01, -5.87763531e-01,  1.04708716e+00,\n",
       "         1.18500970e+00],\n",
       "       [ 1.64384411e+00, -1.24957601e-01,  1.16081857e+00,\n",
       "         5.27644853e-01],\n",
       "       [ 1.88617985e+00, -5.87763531e-01,  1.33141568e+00,\n",
       "         9.22063763e-01],\n",
       "       [ 2.49201920e+00,  1.72626612e+00,  1.50201279e+00,\n",
       "         1.05353673e+00],\n",
       "       [ 6.74501145e-01, -5.87763531e-01,  1.04708716e+00,\n",
       "         1.31648267e+00],\n",
       "       [ 5.53333275e-01, -5.87763531e-01,  7.62758643e-01,\n",
       "         3.96171883e-01],\n",
       "       [ 3.10997534e-01, -1.05056946e+00,  1.04708716e+00,\n",
       "         2.64698913e-01],\n",
       "       [ 2.24968346e+00, -1.24957601e-01,  1.33141568e+00,\n",
       "         1.44795564e+00],\n",
       "       [ 5.53333275e-01,  8.00654259e-01,  1.04708716e+00,\n",
       "         1.57942861e+00],\n",
       "       [ 6.74501145e-01,  1.06445364e-01,  9.90221459e-01,\n",
       "         7.90590793e-01],\n",
       "       [ 1.89829664e-01, -1.24957601e-01,  5.92161531e-01,\n",
       "         7.90590793e-01],\n",
       "       [ 1.28034050e+00,  1.06445364e-01,  9.33355755e-01,\n",
       "         1.18500970e+00],\n",
       "       [ 1.03800476e+00,  1.06445364e-01,  1.04708716e+00,\n",
       "         1.57942861e+00],\n",
       "       [ 1.28034050e+00,  1.06445364e-01,  7.62758643e-01,\n",
       "         1.44795564e+00],\n",
       "       [-5.25060772e-02, -8.19166497e-01,  7.62758643e-01,\n",
       "         9.22063763e-01],\n",
       "       [ 1.15917263e+00,  3.37848329e-01,  1.21768427e+00,\n",
       "         1.44795564e+00],\n",
       "       [ 1.03800476e+00,  5.69251294e-01,  1.10395287e+00,\n",
       "         1.71090158e+00],\n",
       "       [ 1.03800476e+00, -1.24957601e-01,  8.19624347e-01,\n",
       "         1.44795564e+00],\n",
       "       [ 5.53333275e-01, -1.28197243e+00,  7.05892939e-01,\n",
       "         9.22063763e-01],\n",
       "       [ 7.95669016e-01, -1.24957601e-01,  8.19624347e-01,\n",
       "         1.05353673e+00],\n",
       "       [ 4.32165405e-01,  8.00654259e-01,  9.33355755e-01,\n",
       "         1.44795564e+00],\n",
       "       [ 6.86617933e-02, -1.24957601e-01,  7.62758643e-01,\n",
       "         7.90590793e-01]])"
      ]
     },
     "execution_count": 44,
     "metadata": {},
     "output_type": "execute_result"
    }
   ],
   "source": [
    "X_scaled"
   ]
  },
  {
   "cell_type": "code",
   "execution_count": 47,
   "metadata": {},
   "outputs": [
    {
     "data": {
      "text/plain": [
       "0    150\n",
       "1    150\n",
       "2    150\n",
       "3    150\n",
       "dtype: int64"
      ]
     },
     "execution_count": 47,
     "metadata": {},
     "output_type": "execute_result"
    }
   ],
   "source": [
    "clusts = pd.DataFrame(X_scaled)\n",
    "clusts.count()"
   ]
  },
  {
   "cell_type": "code",
   "execution_count": 48,
   "metadata": {},
   "outputs": [
    {
     "data": {
      "text/html": [
       "<div>\n",
       "<style scoped>\n",
       "    .dataframe tbody tr th:only-of-type {\n",
       "        vertical-align: middle;\n",
       "    }\n",
       "\n",
       "    .dataframe tbody tr th {\n",
       "        vertical-align: top;\n",
       "    }\n",
       "\n",
       "    .dataframe thead th {\n",
       "        text-align: right;\n",
       "    }\n",
       "</style>\n",
       "<table border=\"1\" class=\"dataframe\">\n",
       "  <thead>\n",
       "    <tr style=\"text-align: right;\">\n",
       "      <th></th>\n",
       "      <th>0</th>\n",
       "      <th>1</th>\n",
       "      <th>2</th>\n",
       "      <th>3</th>\n",
       "    </tr>\n",
       "  </thead>\n",
       "  <tbody>\n",
       "    <tr>\n",
       "      <th>0</th>\n",
       "      <td>-0.900681</td>\n",
       "      <td>1.032057</td>\n",
       "      <td>-1.341272</td>\n",
       "      <td>-1.312977</td>\n",
       "    </tr>\n",
       "    <tr>\n",
       "      <th>1</th>\n",
       "      <td>-1.143017</td>\n",
       "      <td>-0.124958</td>\n",
       "      <td>-1.341272</td>\n",
       "      <td>-1.312977</td>\n",
       "    </tr>\n",
       "    <tr>\n",
       "      <th>2</th>\n",
       "      <td>-1.385353</td>\n",
       "      <td>0.337848</td>\n",
       "      <td>-1.398138</td>\n",
       "      <td>-1.312977</td>\n",
       "    </tr>\n",
       "    <tr>\n",
       "      <th>3</th>\n",
       "      <td>-1.506521</td>\n",
       "      <td>0.106445</td>\n",
       "      <td>-1.284407</td>\n",
       "      <td>-1.312977</td>\n",
       "    </tr>\n",
       "    <tr>\n",
       "      <th>4</th>\n",
       "      <td>-1.021849</td>\n",
       "      <td>1.263460</td>\n",
       "      <td>-1.341272</td>\n",
       "      <td>-1.312977</td>\n",
       "    </tr>\n",
       "    <tr>\n",
       "      <th>...</th>\n",
       "      <td>...</td>\n",
       "      <td>...</td>\n",
       "      <td>...</td>\n",
       "      <td>...</td>\n",
       "    </tr>\n",
       "    <tr>\n",
       "      <th>145</th>\n",
       "      <td>1.038005</td>\n",
       "      <td>-0.124958</td>\n",
       "      <td>0.819624</td>\n",
       "      <td>1.447956</td>\n",
       "    </tr>\n",
       "    <tr>\n",
       "      <th>146</th>\n",
       "      <td>0.553333</td>\n",
       "      <td>-1.281972</td>\n",
       "      <td>0.705893</td>\n",
       "      <td>0.922064</td>\n",
       "    </tr>\n",
       "    <tr>\n",
       "      <th>147</th>\n",
       "      <td>0.795669</td>\n",
       "      <td>-0.124958</td>\n",
       "      <td>0.819624</td>\n",
       "      <td>1.053537</td>\n",
       "    </tr>\n",
       "    <tr>\n",
       "      <th>148</th>\n",
       "      <td>0.432165</td>\n",
       "      <td>0.800654</td>\n",
       "      <td>0.933356</td>\n",
       "      <td>1.447956</td>\n",
       "    </tr>\n",
       "    <tr>\n",
       "      <th>149</th>\n",
       "      <td>0.068662</td>\n",
       "      <td>-0.124958</td>\n",
       "      <td>0.762759</td>\n",
       "      <td>0.790591</td>\n",
       "    </tr>\n",
       "  </tbody>\n",
       "</table>\n",
       "<p>150 rows × 4 columns</p>\n",
       "</div>"
      ],
      "text/plain": [
       "            0         1         2         3\n",
       "0   -0.900681  1.032057 -1.341272 -1.312977\n",
       "1   -1.143017 -0.124958 -1.341272 -1.312977\n",
       "2   -1.385353  0.337848 -1.398138 -1.312977\n",
       "3   -1.506521  0.106445 -1.284407 -1.312977\n",
       "4   -1.021849  1.263460 -1.341272 -1.312977\n",
       "..        ...       ...       ...       ...\n",
       "145  1.038005 -0.124958  0.819624  1.447956\n",
       "146  0.553333 -1.281972  0.705893  0.922064\n",
       "147  0.795669 -0.124958  0.819624  1.053537\n",
       "148  0.432165  0.800654  0.933356  1.447956\n",
       "149  0.068662 -0.124958  0.762759  0.790591\n",
       "\n",
       "[150 rows x 4 columns]"
      ]
     },
     "execution_count": 48,
     "metadata": {},
     "output_type": "execute_result"
    }
   ],
   "source": [
    "clusts"
   ]
  },
  {
   "cell_type": "markdown",
   "metadata": {},
   "source": [
    "### Task 4 References:\n",
    "\n",
    "- [sklearn-clustering](https://scikit-learn.org/stable/modules/clustering.html#k-means).\n",
    "- [Medium article](https://medium.com/@belen.sanchez27/predicting-iris-flower-species-with-k-means-clustering-in-python-f6e46806aaee)\n",
    "- [analyticsvidhya blogpost](https://www.analyticsvidhya.com/blog/2019/08/comprehensive-guide-k-means-clustering/)\n",
    "- [scikit-learn cluster tutorial](https://scikit-learn.org/stable/modules/clustering.html#clustering)\n",
    "\n",
    "- [kaggle](https://www.kaggle.com/tonzowonzo/simple-k-means-clustering-on-the-iris-dataset \n",
    "\n",
    "- https://realpython.com/k-means-clustering-python/)\n",
    "\n",
    "- [sklearn Model Evaluation](https://scikit-learn.org/stable/modules/model_evaluation.html)\n",
    "\n",
    "- [YellowBrick Visualisation library](https://pypi.org/project/yellowbrick/)\n",
    "\n",
    "- [Medium article by Rukshan Pramoditha](https://rukshanpramoditha.medium.com/k-means-clustering-with-scikit-learn-e2af706450e4)\n",
    "\n",
    "- [KMeans Silhouette Score Explained With Python Example](https://dzone.com/articles/kmeans-silhouette-score-explained-with-python-exam) on <dzone.com> by Ajitesh Kumar\n",
    "\n",
    "- [sklearn.metrics.silhouette_score](https://scikit-learn.org/stable/modules/generated/sklearn.metrics.silhouette_score.html)\n",
    "\n",
    "- [K-Means Clustering in Python: A Practical Guide](https://realpython.com/k-means-clustering-python/) by Kevin Arvai.\n",
    "- https://www.freecodecamp.org/news/how-to-build-and-train-k-nearest-neighbors-ml-models-in-python/\n",
    "\n",
    "- https://scikit-learn.org/stable/auto_examples/cluster/plot_kmeans_silhouette_analysis.html#sphx-glr-auto-examples-cluster-plot-kmeans-silhouette-analysis-py\n",
    "\n",
    "- https://www.scss.tcd.ie/~munnellg/projects/kmeans.html"
   ]
  },
  {
   "cell_type": "markdown",
   "metadata": {},
   "source": [
    "### Task 3 References\n",
    "\n",
    "- [Wikipedia on Bessels Correction](https://en.wikipedia.org/wiki/Bessel%27s_correction)\n",
    "- Some old statistics notes from UCD\n",
    "- [Khan Academy]"
   ]
  },
  {
   "cell_type": "markdown",
   "metadata": {},
   "source": [
    "# References\n",
    "\n",
    "More reference above to bring down and include here\n",
    "- https://www.latex-tutorial.com/tutorials/amsmath/\n",
    "- https://www.math-linux.com/latex-26/faq/latex-faq/article/latex-natural-numbers\n",
    "- https://en.wikibooks.org/wiki/LaTeX/Mathematics\n",
    "\n",
    "Read https://kodlogs.com/blog/715/convert-scientific-notation-to-decimal-python\n"
   ]
  },
  {
   "cell_type": "markdown",
   "metadata": {},
   "source": [
    "---\n",
    "\n",
    "\n",
    "\n"
   ]
  },
  {
   "cell_type": "code",
   "execution_count": null,
   "metadata": {},
   "outputs": [],
   "source": [
    "# Plots styles.\n",
    "plt.style.use('ggplot')\n",
    "\n",
    "# Plot size.\n",
    "plt.rcParams['figure.figsize'] = (14, 10)"
   ]
  }
 ],
 "metadata": {
  "kernelspec": {
   "display_name": "Python 3",
   "language": "python",
   "name": "python3"
  },
  "language_info": {
   "codemirror_mode": {
    "name": "ipython",
    "version": 3
   },
   "file_extension": ".py",
   "mimetype": "text/x-python",
   "name": "python",
   "nbconvert_exporter": "python",
   "pygments_lexer": "ipython3",
   "version": "3.8.2"
  }
 },
 "nbformat": 4,
 "nbformat_minor": 4
}
