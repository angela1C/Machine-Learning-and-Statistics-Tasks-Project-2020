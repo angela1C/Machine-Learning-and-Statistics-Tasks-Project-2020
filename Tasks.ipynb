{
 "cells": [
  {
   "cell_type": "markdown",
   "metadata": {},
   "source": [
    "# Tasks\n",
    "\n",
    "This notebook will hold my solutions to the Tasks Assessment for Machine Learning and Statistics 2020.\n",
    "(Task 1 is the only task currently available.)\n",
    "\n",
    "## Task 1:\n",
    "Write a Python function called sqrt2 that calculates and prints to the screen the square root of 2 to 100 decimal places. Your code should not depend on any module from the standard library or otherwise. You should research the task first and include references and a description of your algorithm.\n",
    "***\n",
    "\n",
    "I do recall looking up square roots for problem 7 of the Problem set of Programming and Scripting module. This problem involved writing a program to take a positive floating point number as input and to output an approximation of it's square root.\n",
    "\n",
    "The square root of two is the number that when multiplied by itself gives the number two.\n",
    "First to Wikipedia for any information on why this particular number is noteworthy.\n",
    "\n",
    "According to [1][Wikipedia](https://en.wikipedia.org/wiki/Square_root_of_2)., the square root of two was probably the first number known to be irrational.\n",
    "*The square root of 2, or the one-half power of 2, written in mathematics as \n",
    "$2{\\sqrt {2}}$ or $2^{{1/2}}$ is the positive algebraic number that, when multiplied by itself, equals the number 2.*\n",
    "\n",
    "Technically, it must be called the principal square root of 2, to distinguish it from the negative number with the same property.\n",
    "[1][Wikipedia](https://en.wikipedia.org/wiki/Square_root_of_2).\n",
    "There is a lot on the Wikipedia page so I will come back to it.\n",
    "\n",
    "The square root of two is geometric and refers to the perfect square where each side of the square is of length 1. The length of the diagonal of a perfect square is the square root of the number 2 (Pythagoras theorem).\n",
    "\n",
    "[2][mathsisfun](https://www.mathsisfun.com/numbers/square-root-2-irrational.html) has a nice easy explanation of why the the square root of two is an irrational number and can never be written as a fraction.\n",
    "\n",
    "\n",
    "\n",
    "\n",
    "\n",
    "Here I will have a look at what the square root of two should look like.\n",
    "\n",
    "There is a Python function for calculating square roots in the maths module which is part of the Python Standard Library. See [math module](https://docs.python.org/3/library/math.html?highlight=math#module-math).\n",
    "This task should not use any libraries but the [math.sqrt](https://docs.python.org/3/library/math.html?highlight=math#math.sqrt) function could be used to check the results of my code.\n",
    "`math.sqrt(x)` calculates the square root of whatever is passed in as `x`.\n",
    "This task however is to calculate the square root of the number 2 to 100 decimal places. \n",
    "\n",
    "$\\sqrt{2}$"
   ]
  },
  {
   "cell_type": "code",
   "execution_count": 1,
   "metadata": {},
   "outputs": [
    {
     "data": {
      "text/plain": [
       "1.4142135623730951"
      ]
     },
     "execution_count": 1,
     "metadata": {},
     "output_type": "execute_result"
    }
   ],
   "source": [
    "# import math module\n",
    "import math\n",
    "# using the sqrt function\n",
    "math.sqrt(2)"
   ]
  },
  {
   "cell_type": "markdown",
   "metadata": {},
   "source": [
    "The square root of a number when multiplied by itself should give the number so lets check that here by multiplying the result of `math.sqrt(2)` by `math.sqrt(2)`."
   ]
  },
  {
   "cell_type": "code",
   "execution_count": 2,
   "metadata": {},
   "outputs": [
    {
     "data": {
      "text/plain": [
       "2.0000000000000004"
      ]
     },
     "execution_count": 2,
     "metadata": {},
     "output_type": "execute_result"
    }
   ],
   "source": [
    "math.sqrt(2)*math.sqrt(2)\n"
   ]
  },
  {
   "cell_type": "markdown",
   "metadata": {},
   "source": [
    "The result above is 2.0000000000000004 which I guess demonatrates the problem with performing calculations on the irrational number square root of two!\n",
    "\n",
    "The lecture on data types of this module looked at the binary representation of integers and floats. Here are some of the relevant notes from the lecture in relation to the square root of two.\n",
    "- Floating point numbers are stored with a finite number of digits so there is a finite limit on how many decimal places they can store. Therefore computers cannot really store real numbers such as $\\sqrt{2}$ and $\\pi$ which have an infinite number of places after the decimal point as there is only a finite number of bits available.\n",
    "- Floating point numbers are actually stored using integers in two parts, for the  part before the decimal point and the part after the decimal point.\n",
    "- The lecture also looked at the set of Natural numbers $Nopf;$(counting numbers) and compared them to the measuring numbers. There are an infinite amount of numbers between any two discrete numbers on the number line. There are less counting numbers than measuring numbers although there is an infinite number of numbers in each set. The Natural numbers N are an infinite set but it is the smallest infinite set there is and known as countable infinite. \n",
    "- Computer programs are made up of binary strings of 1's and 0's. Binary strings can be converted into integers. Every computer program can be converted into one of the counting numbers from the set of N. According to Turing, all computer programs are countable which means they can be put into one-to-one correspondance with the natural numbers but Turing also realised that not all numbers can be calculated or computed.\n",
    "- There are more measuring numbers than counting numbers which has implications for computing and data.\n",
    "\n",
    "-  A rational number can be expressed as the ratio of 2 whole numbers. It can be stored as an array of two numbers. A number is rational only if it's decimal expansion becomes periodic.\n",
    "\n",
    "- The square root of two is an irrational number and therefore cannot be expressed in the ratio of two numbers in their most simplified form.\n",
    "\n",
    "- The implications of this for computing is that the square root of two can never be stored. An approximation of its value can be stored though. This is the same for the irrational number $pi$. Irrational numbers are often stored as procedures which are used to calculate but not store the number.\n",
    "- Caution is always required when calculation statistics or performing analytics on irrational numbers. It is possible to work theoretically or to use approximations but rounding errors could interfere will the calculations.\n",
    "\n",
    "***\n",
    "For the programming and scripting problem set I used Newton's method to get the estimate of the square root of the number, following the tutorial provide in the Tour of Go tutorial. So I'll look there again. \n",
    "Here are some of the resources I used then which may be useful here.\n",
    "- [wikipedia](https://en.wikipedia.org/wiki/Newton%27s_method)\n",
    "- [math.stackexchange](https://math.stackexchange.com/questions/350740/why-does-newtons-method-work)\n",
    "- [mathinsight](https://mathinsight.org/newtons_method_refresher)\n",
    "\n",
    "Newtons Method can be used to get an estimate of the square root of a number. \n",
    "Using Newtons Method, regardless of the starting estimate, once the square of the estimate gets close enough to the actual number itself, then that is a good approximation for the square root. An initial estimate is used for the square root.\n",
    "\n",
    "The task here though involves specifically the square root of two so I'll have to look into this number in more detail\n",
    "\n",
    "Here I will look at what squares and square roots of various numbers would look like when plotted. x will be the number to be squared, y will be the number squared, z will be the square root of the squared number which should be the same as x. The square root of two is approximately 1.4142135623730951 using the `np.sqrt()` function. Therefore I will just look at the numbers between 0 and 5"
   ]
  },
  {
   "cell_type": "markdown",
   "metadata": {},
   "source": [
    "### Looking at some numbers between 1 and 2\n",
    "The square root of two is approximately 1.4142135623730951. Therefore here I will look at plotting numbers in this range.\n",
    "- X is 100 evenly spaced numbers between 1 and 2.\n",
    "- Y is the square of x so x times x\n",
    "- Z is the square root of y which should be the same as x\n",
    "\n",
    "Below I plot X vs Y and then Z vs X which should look the same."
   ]
  },
  {
   "cell_type": "code",
   "execution_count": 3,
   "metadata": {},
   "outputs": [
    {
     "name": "stdout",
     "output_type": "stream",
     "text": [
      "x: 100 evenly spaced numbers between 1 and 2:\n",
      "\n",
      "[1.         1.01010101 1.02020202 1.03030303 1.04040404 1.05050505\n",
      " 1.06060606 1.07070707 1.08080808 1.09090909 1.1010101  1.11111111\n",
      " 1.12121212 1.13131313 1.14141414 1.15151515 1.16161616 1.17171717\n",
      " 1.18181818 1.19191919 1.2020202  1.21212121 1.22222222 1.23232323\n",
      " 1.24242424 1.25252525 1.26262626 1.27272727 1.28282828 1.29292929\n",
      " 1.3030303  1.31313131 1.32323232 1.33333333 1.34343434 1.35353535\n",
      " 1.36363636 1.37373737 1.38383838 1.39393939 1.4040404  1.41414141\n",
      " 1.42424242 1.43434343 1.44444444 1.45454545 1.46464646 1.47474747\n",
      " 1.48484848 1.49494949 1.50505051 1.51515152 1.52525253 1.53535354\n",
      " 1.54545455 1.55555556 1.56565657 1.57575758 1.58585859 1.5959596\n",
      " 1.60606061 1.61616162 1.62626263 1.63636364 1.64646465 1.65656566\n",
      " 1.66666667 1.67676768 1.68686869 1.6969697  1.70707071 1.71717172\n",
      " 1.72727273 1.73737374 1.74747475 1.75757576 1.76767677 1.77777778\n",
      " 1.78787879 1.7979798  1.80808081 1.81818182 1.82828283 1.83838384\n",
      " 1.84848485 1.85858586 1.86868687 1.87878788 1.88888889 1.8989899\n",
      " 1.90909091 1.91919192 1.92929293 1.93939394 1.94949495 1.95959596\n",
      " 1.96969697 1.97979798 1.98989899 2.        ]\n",
      "\n",
      "y: The square of x:\n",
      "\n",
      "[1.         1.02030405 1.04081216 1.06152433 1.08244057 1.10356086\n",
      " 1.12488522 1.14641363 1.16814611 1.19008264 1.21222324 1.2345679\n",
      " 1.25711662 1.2798694  1.30282624 1.32598714 1.34935211 1.37292113\n",
      " 1.39669421 1.42067136 1.44485257 1.46923783 1.49382716 1.51862055\n",
      " 1.543618   1.56881951 1.59422508 1.61983471 1.6456484  1.67166616\n",
      " 1.69788797 1.72431385 1.75094378 1.77777778 1.80481584 1.83205795\n",
      " 1.85950413 1.88715437 1.91500867 1.94306703 1.97132946 1.99979594\n",
      " 2.02846648 2.05734109 2.08641975 2.11570248 2.14518927 2.17488011\n",
      " 2.20477502 2.23487399 2.26517702 2.29568411 2.32639527 2.35731048\n",
      " 2.38842975 2.41975309 2.45128048 2.48301194 2.51494745 2.54708703\n",
      " 2.57943067 2.61197837 2.64473013 2.67768595 2.71084583 2.74420977\n",
      " 2.77777778 2.81154984 2.84552597 2.87970615 2.9140904  2.94867871\n",
      " 2.98347107 3.0184675  3.05366799 3.08907254 3.12468115 3.16049383\n",
      " 3.19651056 3.23273135 3.26915621 3.30578512 3.3426181  3.37965514\n",
      " 3.41689624 3.45434139 3.49199061 3.52984389 3.56790123 3.60616264\n",
      " 3.6446281  3.68329762 3.72217121 3.76124885 3.80053056 3.84001632\n",
      " 3.87970615 3.91960004 3.95969799 4.        ]\n",
      "\n",
      "z: The square root of y:\n",
      "\n",
      "[1.         1.01010101 1.02020202 1.03030303 1.04040404 1.05050505\n",
      " 1.06060606 1.07070707 1.08080808 1.09090909 1.1010101  1.11111111\n",
      " 1.12121212 1.13131313 1.14141414 1.15151515 1.16161616 1.17171717\n",
      " 1.18181818 1.19191919 1.2020202  1.21212121 1.22222222 1.23232323\n",
      " 1.24242424 1.25252525 1.26262626 1.27272727 1.28282828 1.29292929\n",
      " 1.3030303  1.31313131 1.32323232 1.33333333 1.34343434 1.35353535\n",
      " 1.36363636 1.37373737 1.38383838 1.39393939 1.4040404  1.41414141\n",
      " 1.42424242 1.43434343 1.44444444 1.45454545 1.46464646 1.47474747\n",
      " 1.48484848 1.49494949 1.50505051 1.51515152 1.52525253 1.53535354\n",
      " 1.54545455 1.55555556 1.56565657 1.57575758 1.58585859 1.5959596\n",
      " 1.60606061 1.61616162 1.62626263 1.63636364 1.64646465 1.65656566\n",
      " 1.66666667 1.67676768 1.68686869 1.6969697  1.70707071 1.71717172\n",
      " 1.72727273 1.73737374 1.74747475 1.75757576 1.76767677 1.77777778\n",
      " 1.78787879 1.7979798  1.80808081 1.81818182 1.82828283 1.83838384\n",
      " 1.84848485 1.85858586 1.86868687 1.87878788 1.88888889 1.8989899\n",
      " 1.90909091 1.91919192 1.92929293 1.93939394 1.94949495 1.95959596\n",
      " 1.96969697 1.97979798 1.98989899 2.        ]\n"
     ]
    }
   ],
   "source": [
    "# import numpy and matplotlib.pyplot libraries\n",
    "import numpy as np\n",
    "import matplotlib.pyplot as plt\n",
    "\n",
    "# x will be 100 points evenly spaced between 1 and 2\n",
    "x = np.linspace(1, 2, 100)\n",
    "# Y will be x squared\n",
    "y = x * x\n",
    "# z will be the square root of y which should give back x\n",
    "z= np.sqrt(y)\n",
    "\n",
    "print(\"x: 100 evenly spaced numbers between 1 and 2:\\n\")\n",
    "print(x)\n",
    "print(\"\\ny: The square of x:\\n\")\n",
    "print(y)\n",
    "print(\"\\nz: The square root of y:\\n\")\n",
    "print(z)\n",
    "\n"
   ]
  },
  {
   "cell_type": "code",
   "execution_count": 4,
   "metadata": {},
   "outputs": [
    {
     "data": {
      "text/plain": [
       "array([], dtype=float64)"
      ]
     },
     "execution_count": 4,
     "metadata": {},
     "output_type": "execute_result"
    }
   ],
   "source": [
    "# Checking whether z is the same as x.\n",
    "x == z\n",
    "# check if any x which is not the same as z\n",
    "x[x!=z]"
   ]
  },
  {
   "cell_type": "markdown",
   "metadata": {},
   "source": [
    "### Checking if the square root of two squared is equal to two.\n",
    "Using `numpy.sqrt` function I am checking whether the square root of two times the square root of two is the exact same as 2. "
   ]
  },
  {
   "cell_type": "code",
   "execution_count": 5,
   "metadata": {},
   "outputs": [
    {
     "data": {
      "text/plain": [
       "False"
      ]
     },
     "execution_count": 5,
     "metadata": {},
     "output_type": "execute_result"
    }
   ],
   "source": [
    "np.sqrt(2)*np.sqrt(2)==2"
   ]
  },
  {
   "cell_type": "markdown",
   "metadata": {},
   "source": [
    "### Plotting the squares of numbers between 1 and 2"
   ]
  },
  {
   "cell_type": "code",
   "execution_count": 6,
   "metadata": {},
   "outputs": [
    {
     "data": {
      "image/png": "[encoded data removed]",
      "text/plain": [
       "<Figure size 432x288 with 2 Axes>"
      ]
     },
     "metadata": {},
     "output_type": "display_data"
    }
   ],
   "source": [
    "# setting up the figure\n",
    "plt.figure()\n",
    "# subplot for x vs y \n",
    "plt.subplot(211)\n",
    "plt.plot(x,y)\n",
    "plt.xlabel('x')\n",
    "plt.ylabel('$y=x^2$')\n",
    "# remove the x and y ticks\n",
    "plt.xticks([])\n",
    "plt.yticks([])\n",
    "\n",
    "# subplot for z vs y\n",
    "plt.subplot(212)\n",
    "plt.xlabel('$z=\\sqrt{y}$')\n",
    "plt.ylabel('$y=x^2$')\n",
    "# remove the x and y ticks\n",
    "plt.xticks([])\n",
    "plt.yticks([])\n",
    "#plt.plot(z)\n",
    "plt.plot(z,y)\n",
    "\n",
    "\n",
    "plt.suptitle(\"\")\n",
    "\n",
    "plt.show()\n",
    "\n"
   ]
  },
  {
   "cell_type": "markdown",
   "metadata": {},
   "source": [
    "After this I looked at many many more points between 1 and 2 but I had far too many points and crashed the computer!\n",
    "The square root of 2 is approximately 1.4142135623730951 so here I am narrowing the range of x to between 1.41421 and 1.41422 and looking at the square of 10,000,000 points in this range (y) and then the square roots of y as z.\n",
    "At this level of accuracy the square root of x squared is still equating to x.\n",
    "At some stage as many many more points are added in between I would \n"
   ]
  },
  {
   "cell_type": "code",
   "execution_count": 7,
   "metadata": {},
   "outputs": [
    {
     "data": {
      "text/plain": [
       "array([], dtype=float64)"
      ]
     },
     "execution_count": 7,
     "metadata": {},
     "output_type": "execute_result"
    }
   ],
   "source": [
    "# x will be 10000 points evenly spaced between 1.414213 and 1.4142135\n",
    "x = np.linspace(1.414213, 1.4142135, 10000000)\n",
    "# Y will be x squared\n",
    "y = x * x\n",
    "# z will be the square root of y which should give back x\n",
    "z= np.sqrt(y)\n",
    "# checking if the square root times the square root gives the original number back\n",
    "x == z\n",
    "# checking if any values at all\n",
    "x[x!=z]"
   ]
  },
  {
   "cell_type": "code",
   "execution_count": 8,
   "metadata": {},
   "outputs": [
    {
     "data": {
      "text/plain": [
       "True"
      ]
     },
     "execution_count": 8,
     "metadata": {},
     "output_type": "execute_result"
    }
   ],
   "source": [
    "#1.4142135623730951\n",
    "num = 1.4142135623730951\n",
    "squared =num*num\n",
    "math.sqrt(squared)==num"
   ]
  },
  {
   "cell_type": "markdown",
   "metadata": {},
   "source": [
    "This is where I leave it for now.\n",
    "I need to see how to change the number of decimal points that python will use so I can see what the square root of 2 looks like to 100 decimal places.\n",
    "The [decimal](https://docs.python.org/3/library/decimal.html) module might be helful here.\n",
    "I need to look up algorithms used for calulating the square root of 2 and refresh on Newtons method.\n",
    "The point of the task is not to just print the square root of two to 100 decimal places but to actually calculate the square root of 2."
   ]
  },
  {
   "cell_type": "code",
   "execution_count": 9,
   "metadata": {},
   "outputs": [
    {
     "data": {
      "text/plain": [
       "Decimal('1.4142135623730951454746218587388284504413604736328125')"
      ]
     },
     "execution_count": 9,
     "metadata": {},
     "output_type": "execute_result"
    }
   ],
   "source": [
    "from decimal import *\n",
    "getcontext().prec = 28\n",
    "Decimal(math.sqrt(2)) "
   ]
  },
  {
   "cell_type": "code",
   "execution_count": 10,
   "metadata": {},
   "outputs": [
    {
     "data": {
      "text/plain": [
       "True"
      ]
     },
     "execution_count": 10,
     "metadata": {},
     "output_type": "execute_result"
    }
   ],
   "source": [
    "#1.4142135623730951454746218587388284504413604736328125\n",
    "num = 1.4142135623730951454746218587388284504413604736328125\n",
    "squared =num*num\n",
    "math.sqrt(squared)==num"
   ]
  },
  {
   "cell_type": "code",
   "execution_count": 11,
   "metadata": {},
   "outputs": [
    {
     "name": "stdout",
     "output_type": "stream",
     "text": [
      "[1.414      1.41400202 1.41400404 1.41400606 1.41400808 1.4140101\n",
      " 1.41401212 1.41401414 1.41401616 1.41401818 1.4140202  1.41402222\n",
      " 1.41402424 1.41402626 1.41402828 1.4140303  1.41403232 1.41403434\n",
      " 1.41403636 1.41403838 1.4140404  1.41404242 1.41404444 1.41404646\n",
      " 1.41404848 1.41405051 1.41405253 1.41405455 1.41405657 1.41405859\n",
      " 1.41406061 1.41406263 1.41406465 1.41406667 1.41406869 1.41407071\n",
      " 1.41407273 1.41407475 1.41407677 1.41407879 1.41408081 1.41408283\n",
      " 1.41408485 1.41408687 1.41408889 1.41409091 1.41409293 1.41409495\n",
      " 1.41409697 1.41409899 1.41410101 1.41410303 1.41410505 1.41410707\n",
      " 1.41410909 1.41411111 1.41411313 1.41411515 1.41411717 1.41411919\n",
      " 1.41412121 1.41412323 1.41412525 1.41412727 1.41412929 1.41413131\n",
      " 1.41413333 1.41413535 1.41413737 1.41413939 1.41414141 1.41414343\n",
      " 1.41414545 1.41414747 1.41414949 1.41415152 1.41415354 1.41415556\n",
      " 1.41415758 1.4141596  1.41416162 1.41416364 1.41416566 1.41416768\n",
      " 1.4141697  1.41417172 1.41417374 1.41417576 1.41417778 1.4141798\n",
      " 1.41418182 1.41418384 1.41418586 1.41418788 1.4141899  1.41419192\n",
      " 1.41419394 1.41419596 1.41419798 1.4142    ]\n"
     ]
    },
    {
     "data": {
      "text/plain": [
       "array([], dtype=float64)"
      ]
     },
     "execution_count": 11,
     "metadata": {},
     "output_type": "execute_result"
    }
   ],
   "source": [
    "# x will be 10000 points evenly spaced between 1.4142135623730951454746218587388284504413604736328124 and \n",
    "x = np.linspace(1.414, 1.4142, 100)\n",
    "# Y will be x squared\n",
    "print(x)\n",
    "y = x * x\n",
    "# z will be the square root of y which should give back x\n",
    "z= np.sqrt(y)\n",
    "# checking if the square root times the square root gives the original number back\n",
    "x == z\n",
    "# checking if any values at all\n",
    "x[x!=z]"
   ]
  },
  {
   "cell_type": "code",
   "execution_count": 12,
   "metadata": {},
   "outputs": [
    {
     "data": {
      "image/png": "[encoded data removed]",
      "text/plain": [
       "<Figure size 432x288 with 2 Axes>"
      ]
     },
     "metadata": {},
     "output_type": "display_data"
    }
   ],
   "source": [
    "# setting up the figure\n",
    "plt.figure()\n",
    "# subplot for x vs y \n",
    "plt.subplot(211)\n",
    "plt.xlim(1.414, 1.4142)\n",
    "plt.ylim(1.999,2.000001)\n",
    "# remove the x and y ticks\n",
    "plt.xticks([])\n",
    "plt.yticks([])\n",
    "plt.plot(x,y)\n",
    "\n",
    "\n",
    "plt.xlabel('x')\n",
    "plt.ylabel('$y=x^2$')\n",
    "\n",
    "\n",
    "# subplot for z vs y\n",
    "plt.subplot(212)\n",
    "plt.ylabel('$z=\\sqrt{y}$')\n",
    "#plt.plot(z)\n",
    "plt.xlim(1.414, 1.4142)\n",
    "plt.ylim(1.999,2.000001)\n",
    "plt.plot(z,y)\n",
    "\n",
    "plt.xlabel('$z=\\sqrt{y}$')\n",
    "plt.ylabel('$y=x^2$')\n",
    "\n",
    "plt.xticks([])\n",
    "plt.yticks([])\n",
    "plt.suptitle(\"\")\n",
    "\n",
    "plt.show()\n",
    "\n"
   ]
  },
  {
   "cell_type": "markdown",
   "metadata": {},
   "source": [
    "## Methods for Calculating square roots\n",
    "Finding the square root of a number is the inverse of finding the square of a number. The square of a number is the number times itself. The perfect squares are the squares of the whole numbers. The square root of a number is the number that when multiplied by itself gives the number.\n",
    "\n",
    ">*The square roots of the perfect squares (e.g., 0, 1, 4, 9, 16) are integers. In all other cases, the square roots of positive integers are irrational numbers, and hence have non-repeating decimals in their decimal representations.* [2]  <https://en.wikipedia.org/wiki/Square_root>\n",
    "\n",
    "\n",
    "Getting the square root of numbers that are not perfect squares is not as straightforward.\n",
    "You have to look at the square roots of perfect squares that are close to your number in question. So if you are looking at the square root of 5 you would consider the square root of 4 (which is 2) and 9 (which is 3). Therefore the square root of 5 would lie between 2 and 3. Similarly for the square root of 10, look at the square root of the perfect square 9 (3) and 16 (4). So the square root of 10 would be between 3 and 4.\n",
    "Looking at the square roots of the nearest perfect squares on either side of the number in question will be the starting point for finding the square root of a non-perfect square. It involves some guesswork."
   ]
  },
  {
   "cell_type": "code",
   "execution_count": 13,
   "metadata": {},
   "outputs": [
    {
     "name": "stdout",
     "output_type": "stream",
     "text": [
      "Looking for square root of 5:\n",
      "2.0\n",
      "2.23606797749979\n",
      "3.0\n",
      "\n",
      "Looking for square root of 10:\n",
      "3.0\n",
      "3.1622776601683795\n",
      "4.0\n"
     ]
    }
   ],
   "source": [
    "print(\"Looking for square root of 5:\")\n",
    "print(np.sqrt(4))\n",
    "print(np.sqrt(5))\n",
    "print(np.sqrt(9))\n",
    "print(\"\\nLooking for square root of 10:\")\n",
    "print(np.sqrt(9))\n",
    "print(np.sqrt(10))\n",
    "print(np.sqrt(16))"
   ]
  },
  {
   "cell_type": "markdown",
   "metadata": {},
   "source": [
    "Here is the code using Newton's Method adapted from the tour of go that I used for the square root in the programming and scripting problem set. (problem 7)\n",
    "It was adapted from the example in the Tour of Go tutorial."
   ]
  },
  {
   "cell_type": "code",
   "execution_count": 14,
   "metadata": {},
   "outputs": [
    {
     "name": "stdout",
     "output_type": "stream",
     "text": [
      "1.5\n",
      "1.4166666666666667\n",
      "1.4142156862745099\n",
      "1.4142135623746899\n"
     ]
    },
    {
     "data": {
      "text/plain": [
       "1.4142135623746899"
      ]
     },
     "execution_count": 14,
     "metadata": {},
     "output_type": "execute_result"
    }
   ],
   "source": [
    "# The code here using Newtons Method is adapted from  https://tour.golang.org/flowcomtrol/8\n",
    "x= 2\n",
    "guess = 1\n",
    "# while the absolute difference between the guess squared and the number in question is greater than 0.01\n",
    "while abs((guess * guess) - x )> 0.000000001:\n",
    "        # update the guess using the formula \n",
    "    guess -=((guess * guess)-x)/(2 * guess) \n",
    "    print(guess)\n",
    "    # the approximation for the square root will be the final value of estimate from the  while loop\n",
    " # assign the final estimate to sqroot   \n",
    "sqroot = guess  \n",
    "sqroot"
   ]
  },
  {
   "cell_type": "markdown",
   "metadata": {},
   "source": [
    "There are several websites which show how to get the square roots of numbers in the way I would have learnt back in school.\n",
    "\n",
    "- https://en.wikipedia.org/wiki/Square_root\n",
    "\n",
    "- https://www.homeschoolmath.net/teaching/square-root-algorithm.php\n",
    "\n",
    "- http://www.math.com/school/subject1/lessons/S1U1L9DP.html\n",
    "\n",
    "\n",
    "To find the square root of a number that is not a whole number involves some guesswork \n",
    "\n",
    "1. Find two perfect square roots that the number in question lies between. \n",
    "    * For example if you want to find the square root of 10, you are looking at the square root of 9 which is 3 and square root of 16 which is 4.\n",
    "2. Take one of those square roots as an estimate and divide the number in question by it.\n",
    "    * The square root of 10 must lie between 3 and 4\n",
    "    * pick either 3 or 4 as the estimate\n",
    "    * Divide number in question by the starting estimate (3 or 4)\n",
    "        * 10 / 3 = 3.3333\n",
    "        * 10 / 4 = 2.5\n",
    " \n",
    "3. Take the average of the result of step 2 above and the current guess\n",
    "\n",
    "    *  (3 + 3.3333)/2 = 3.16666667\n",
    "    \n",
    "4. Use result from previous step as the new estimate and repeat these two steps until you get your answer.\n",
    "    * new guess = 3.166667\n",
    "    * 10 / 3.166667 = 3.1578944\n",
    "    * (3.166667 + 3.1578944)/2 = 3.1622807\n",
    "    \n",
    "    * next guess. = 3.1622807\n",
    "    * 10 / 3.162280 = 3.16227532033849\n",
    "    * (3.162280 + 3.16227532033849)/2\n",
    "    * 3.162277660169245\n",
    "    \n",
    "\n",
    "- `np.sqrt(10)` will give 3.1622776601683795\n",
    "\n",
    "Make a guess of what the root of the number in question could be based on the square root of the nearest perfect squares on either side.  Add the result of this to the number and question and divide by two to get the average as the new starting guess. Keep repeating\n",
    "\n",
    "- The square root of 10 truncuated to 50 decimal places is 3.16227766016837933199889354443271853371955513932521 \n",
    "\n",
    "- The square root of 5 truncuated to 50 decimal placecs is 2.23606797749978969640917366873127623544061835961152\n",
    "- The square root of 2 truncuated to 50 decimal places is 1.41421356237309504880168872420969807856967187537694\n",
    "See (https://en.wikipedia.org/wiki/Square_root).\n"
   ]
  },
  {
   "cell_type": "markdown",
   "metadata": {},
   "source": [
    "### Applying the above to get the square root of 2.\n",
    "\n",
    "$1^2=1$ and $2^2=4$, therefore the square root of 2 must fall between 1 and 2.\n",
    "Use 1 as the starting guess."
   ]
  },
  {
   "cell_type": "markdown",
   "metadata": {},
   "source": [
    "1. Find two perfect square roots that the number in question lies between. \n",
    "       * 1 or 2\n",
    "2. Take one of those square roots as an estimate and divide the number in question by it.\n",
    "    * The square root of 2 must lie between 1 and 2\n",
    "    * pick either 1 or 2 as the estimate\n",
    "    * Divide number in question by the chosen estimate (1 or 2)\n",
    "        * 2 / 1 = 2\n",
    "        * (or 2 / 2 = 1)\n",
    " \n",
    "3. Take the average of the result of step 2 above and the current guess\n",
    "\n",
    "    *  (2 + 1)/2 = 1.5\n",
    "    \n",
    "4. Use result from previous step as the new estimate and repeat these two steps until you get your answer.\n",
    "    - new guess = 1.5\n",
    "        * 2 / 1.5 = 1.33333333\n",
    "        * (1.5 +1.33333333 )/2 = 1.4166666650000002\n",
    "    \n",
    "    - next guess = 1.4166666650000002\n",
    "        * 2 / 1.4166666650000002 = 1.4117647075432525\n",
    "        * (1.4166666650000002 + 1.4117647075432525)/2 = 1.4142156862716262\n",
    "        \n",
    "    - next guess = 1.4142156862716262\n",
    "         * 2/ 1.4142156862716262 = 1.4142114384777535\n",
    "         * (1.4142156862716262 + 1.4142114384777535)/2 = 1.4142135623746899\n",
    "         \n",
    "    - next guess = 1.4142135623746899\n",
    "    \n",
    "    and so on.......\n",
    "    \n",
    "    "
   ]
  },
  {
   "cell_type": "markdown",
   "metadata": {},
   "source": [
    "Putting the above algorithm into code..."
   ]
  },
  {
   "cell_type": "code",
   "execution_count": 15,
   "metadata": {},
   "outputs": [
    {
     "name": "stdout",
     "output_type": "stream",
     "text": [
      "2.0\n",
      "1.5\n"
     ]
    }
   ],
   "source": [
    "x = 2\n",
    "guess = 1\n",
    "y = x / guess\n",
    "ave = (guess +y)/2\n",
    "print(y)\n",
    "print(ave)"
   ]
  },
  {
   "cell_type": "code",
   "execution_count": 16,
   "metadata": {},
   "outputs": [
    {
     "name": "stdout",
     "output_type": "stream",
     "text": [
      "1.5\n",
      "1.4166666666666665\n",
      "1.4142156862745097\n",
      "1.4142135623746899\n",
      "1.414213562373095\n"
     ]
    }
   ],
   "source": [
    "# x is the number 2  that we want the square root of\n",
    "x = 2\n",
    "# guess is based on the square root of the nearest perfect square\n",
    "guess = 1\n",
    "\n",
    "# while the difference between 2 and the calculated square root is greater than a specified amount\n",
    "while abs(x -(guess * guess)) > 0.0000000000001:\n",
    "    \n",
    "    y = x / guess\n",
    "    ave = (guess + y)/2\n",
    "    guess = ave\n",
    "    print(guess)"
   ]
  },
  {
   "cell_type": "markdown",
   "metadata": {},
   "source": [
    "## Rounding / Accuracy etc\n",
    "\n",
    "At some stage the results gets rounded.\n",
    "This is the main problem to be solved here I suppose!\n",
    "\n",
    "See [python docs](https://docs.python.org/3/tutorial/floatingpoint.html) tutorial on floating point numbers.\n",
    "\n",
    "#### square root of 2 to 50 decimal places. \n",
    "1.41421356237309504880168872420969807856967187537694\n",
    "(from wikipedia)\n",
    "#### square root of 2 using np.sqrt to 50 decimal places\n",
    "1.41421356237309514547462185873882845044136047363281"
   ]
  },
  {
   "cell_type": "code",
   "execution_count": 17,
   "metadata": {},
   "outputs": [
    {
     "data": {
      "text/plain": [
       "4.440892098500626e-16"
      ]
     },
     "execution_count": 17,
     "metadata": {},
     "output_type": "execute_result"
    }
   ],
   "source": [
    "2-(1.414213562373095 * 1.414213562373095)"
   ]
  },
  {
   "cell_type": "code",
   "execution_count": 18,
   "metadata": {},
   "outputs": [
    {
     "name": "stdout",
     "output_type": "stream",
     "text": [
      " The square root of two is 1.41421356237309514547462185873882845044136047363281\n"
     ]
    }
   ],
   "source": [
    "root2 = np.sqrt(2)\n",
    "print(\" The square root of two is {:.50f}\".format(root2))"
   ]
  },
  {
   "cell_type": "code",
   "execution_count": 19,
   "metadata": {},
   "outputs": [
    {
     "name": "stdout",
     "output_type": "stream",
     "text": [
      " The square root of two is 14.14213562373095101065700873732566833496093750000000\n"
     ]
    }
   ],
   "source": [
    "root2 = np.sqrt(200)\n",
    "print(\" The square root of two is {:.50f}\".format(root2))"
   ]
  },
  {
   "cell_type": "code",
   "execution_count": null,
   "metadata": {},
   "outputs": [],
   "source": []
  }
 ],
 "metadata": {
  "kernelspec": {
   "display_name": "Python 3",
   "language": "python",
   "name": "python3"
  },
  "language_info": {
   "codemirror_mode": {
    "name": "ipython",
    "version": 3
   },
   "file_extension": ".py",
   "mimetype": "text/x-python",
   "name": "python",
   "nbconvert_exporter": "python",
   "pygments_lexer": "ipython3",
   "version": "3.8.3"
  }
 },
 "nbformat": 4,
 "nbformat_minor": 4
}
